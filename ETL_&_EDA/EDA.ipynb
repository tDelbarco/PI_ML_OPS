{
 "cells": [
  {
   "cell_type": "markdown",
   "metadata": {},
   "source": [
    "# !IMPORTANTE: \n",
    "    debido a que muchos datos no se encuentran en condiciones de ser graficados se contara  con un  segundo archivo EDA_Parte2 donde se realizara tanto el analisis estadistico como el analisis de correlacion bi y multivariado"
   ]
  },
  {
   "cell_type": "code",
   "execution_count": 109,
   "metadata": {},
   "outputs": [],
   "source": [
    "import numpy as np\n",
    "import pandas as pd\n",
    "import seaborn as sns\n",
    "from matplotlib import pyplot as plt\n",
    "import ETL_functions as etf"
   ]
  },
  {
   "cell_type": "markdown",
   "metadata": {},
   "source": [
    "<hr>"
   ]
  },
  {
   "cell_type": "markdown",
   "metadata": {},
   "source": [
    "## EDA \"steam_games\""
   ]
  },
  {
   "cell_type": "markdown",
   "metadata": {},
   "source": [
    "<hr>"
   ]
  },
  {
   "cell_type": "markdown",
   "metadata": {},
   "source": [
    "### cargando datos y primeras observaciones"
   ]
  },
  {
   "cell_type": "code",
   "execution_count": 74,
   "metadata": {},
   "outputs": [],
   "source": [
    "df_sg = pd.read_json(r\"../Datasets/steam_games.json/output_steam_games.json\", lines=True)#cargando el archivo"
   ]
  },
  {
   "cell_type": "code",
   "execution_count": 75,
   "metadata": {},
   "outputs": [
    {
     "data": {
      "text/plain": [
       "(120445, 13)"
      ]
     },
     "execution_count": 75,
     "metadata": {},
     "output_type": "execute_result"
    }
   ],
   "source": [
    "df_sg.shape # dimensiones (filas,columnas) "
   ]
  },
  {
   "cell_type": "code",
   "execution_count": 88,
   "metadata": {},
   "outputs": [
    {
     "data": {
      "text/html": [
       "<div>\n",
       "<style scoped>\n",
       "    .dataframe tbody tr th:only-of-type {\n",
       "        vertical-align: middle;\n",
       "    }\n",
       "\n",
       "    .dataframe tbody tr th {\n",
       "        vertical-align: top;\n",
       "    }\n",
       "\n",
       "    .dataframe thead th {\n",
       "        text-align: right;\n",
       "    }\n",
       "</style>\n",
       "<table border=\"1\" class=\"dataframe\">\n",
       "  <thead>\n",
       "    <tr style=\"text-align: right;\">\n",
       "      <th></th>\n",
       "      <th>publisher</th>\n",
       "      <th>genres</th>\n",
       "      <th>app_name</th>\n",
       "      <th>title</th>\n",
       "      <th>url</th>\n",
       "      <th>release_date</th>\n",
       "      <th>tags</th>\n",
       "      <th>reviews_url</th>\n",
       "      <th>specs</th>\n",
       "      <th>price</th>\n",
       "      <th>early_access</th>\n",
       "      <th>id</th>\n",
       "      <th>developer</th>\n",
       "    </tr>\n",
       "  </thead>\n",
       "  <tbody>\n",
       "    <tr>\n",
       "      <th>108902</th>\n",
       "      <td>Big Fish Games</td>\n",
       "      <td>[Adventure, Casual]</td>\n",
       "      <td>Rite of Passage: The Perfect Show Collector's ...</td>\n",
       "      <td>Rite of Passage: The Perfect Show Collector's ...</td>\n",
       "      <td>http://store.steampowered.com/app/552670/Rite_...</td>\n",
       "      <td>2016-11-11</td>\n",
       "      <td>[Adventure, Casual, Hidden Object]</td>\n",
       "      <td>http://steamcommunity.com/app/552670/reviews/?...</td>\n",
       "      <td>[Single-player]</td>\n",
       "      <td>9.99</td>\n",
       "      <td>0.0</td>\n",
       "      <td>552670.0</td>\n",
       "      <td>Mad Head Games</td>\n",
       "    </tr>\n",
       "    <tr>\n",
       "      <th>109805</th>\n",
       "      <td>Good Games</td>\n",
       "      <td>[Free to Play, Strategy]</td>\n",
       "      <td>Galaxy Reavers: Cruiser DLC</td>\n",
       "      <td>Galaxy Reavers: Cruiser DLC</td>\n",
       "      <td>http://store.steampowered.com/app/505650/Galax...</td>\n",
       "      <td>2016-09-19</td>\n",
       "      <td>[Free to Play, Strategy]</td>\n",
       "      <td>http://steamcommunity.com/app/505650/reviews/?...</td>\n",
       "      <td>[Single-player, Downloadable Content, Steam Ac...</td>\n",
       "      <td>Free To Play</td>\n",
       "      <td>0.0</td>\n",
       "      <td>505650.0</td>\n",
       "      <td>Good Games</td>\n",
       "    </tr>\n",
       "    <tr>\n",
       "      <th>76926</th>\n",
       "      <td>None</td>\n",
       "      <td>None</td>\n",
       "      <td>None</td>\n",
       "      <td>None</td>\n",
       "      <td>None</td>\n",
       "      <td>None</td>\n",
       "      <td>None</td>\n",
       "      <td>None</td>\n",
       "      <td>None</td>\n",
       "      <td>None</td>\n",
       "      <td>NaN</td>\n",
       "      <td>NaN</td>\n",
       "      <td>None</td>\n",
       "    </tr>\n",
       "    <tr>\n",
       "      <th>63484</th>\n",
       "      <td>None</td>\n",
       "      <td>None</td>\n",
       "      <td>None</td>\n",
       "      <td>None</td>\n",
       "      <td>None</td>\n",
       "      <td>None</td>\n",
       "      <td>None</td>\n",
       "      <td>None</td>\n",
       "      <td>None</td>\n",
       "      <td>None</td>\n",
       "      <td>NaN</td>\n",
       "      <td>NaN</td>\n",
       "      <td>None</td>\n",
       "    </tr>\n",
       "    <tr>\n",
       "      <th>107254</th>\n",
       "      <td>Degica</td>\n",
       "      <td>[Design &amp;amp; Illustration, Web Publishing]</td>\n",
       "      <td>RPG Maker MV - Hiroki Kikuta music pack: The Calm</td>\n",
       "      <td>RPG Maker MV - Hiroki Kikuta music pack: The Calm</td>\n",
       "      <td>http://store.steampowered.com/app/599441/RPG_M...</td>\n",
       "      <td>2017-02-27</td>\n",
       "      <td>[Design &amp; Illustration, Web Publishing]</td>\n",
       "      <td>http://steamcommunity.com/app/599441/reviews/?...</td>\n",
       "      <td>[Downloadable Content, Steam Trading Cards, Pa...</td>\n",
       "      <td>14.99</td>\n",
       "      <td>0.0</td>\n",
       "      <td>599441.0</td>\n",
       "      <td>KADOKAWA,Yoji Ojima,Hiroki Kikuta</td>\n",
       "    </tr>\n",
       "  </tbody>\n",
       "</table>\n",
       "</div>"
      ],
      "text/plain": [
       "             publisher                                       genres  \\\n",
       "108902  Big Fish Games                          [Adventure, Casual]   \n",
       "109805      Good Games                     [Free to Play, Strategy]   \n",
       "76926             None                                         None   \n",
       "63484             None                                         None   \n",
       "107254          Degica  [Design &amp; Illustration, Web Publishing]   \n",
       "\n",
       "                                                 app_name  \\\n",
       "108902  Rite of Passage: The Perfect Show Collector's ...   \n",
       "109805                        Galaxy Reavers: Cruiser DLC   \n",
       "76926                                                None   \n",
       "63484                                                None   \n",
       "107254  RPG Maker MV - Hiroki Kikuta music pack: The Calm   \n",
       "\n",
       "                                                    title  \\\n",
       "108902  Rite of Passage: The Perfect Show Collector's ...   \n",
       "109805                        Galaxy Reavers: Cruiser DLC   \n",
       "76926                                                None   \n",
       "63484                                                None   \n",
       "107254  RPG Maker MV - Hiroki Kikuta music pack: The Calm   \n",
       "\n",
       "                                                      url release_date  \\\n",
       "108902  http://store.steampowered.com/app/552670/Rite_...   2016-11-11   \n",
       "109805  http://store.steampowered.com/app/505650/Galax...   2016-09-19   \n",
       "76926                                                None         None   \n",
       "63484                                                None         None   \n",
       "107254  http://store.steampowered.com/app/599441/RPG_M...   2017-02-27   \n",
       "\n",
       "                                           tags  \\\n",
       "108902       [Adventure, Casual, Hidden Object]   \n",
       "109805                 [Free to Play, Strategy]   \n",
       "76926                                      None   \n",
       "63484                                      None   \n",
       "107254  [Design & Illustration, Web Publishing]   \n",
       "\n",
       "                                              reviews_url  \\\n",
       "108902  http://steamcommunity.com/app/552670/reviews/?...   \n",
       "109805  http://steamcommunity.com/app/505650/reviews/?...   \n",
       "76926                                                None   \n",
       "63484                                                None   \n",
       "107254  http://steamcommunity.com/app/599441/reviews/?...   \n",
       "\n",
       "                                                    specs         price  \\\n",
       "108902                                    [Single-player]          9.99   \n",
       "109805  [Single-player, Downloadable Content, Steam Ac...  Free To Play   \n",
       "76926                                                None          None   \n",
       "63484                                                None          None   \n",
       "107254  [Downloadable Content, Steam Trading Cards, Pa...         14.99   \n",
       "\n",
       "        early_access        id                          developer  \n",
       "108902           0.0  552670.0                     Mad Head Games  \n",
       "109805           0.0  505650.0                         Good Games  \n",
       "76926            NaN       NaN                               None  \n",
       "63484            NaN       NaN                               None  \n",
       "107254           0.0  599441.0  KADOKAWA,Yoji Ojima,Hiroki Kikuta  "
      ]
     },
     "execution_count": 88,
     "metadata": {},
     "output_type": "execute_result"
    }
   ],
   "source": [
    "df_sg.sample(5)#ejecute esta linea aprox(5) veces para tener una vision mas amplia de algunos datos aleatorios del df \n",
    "               #notando que hay muchas filas llenas de valores None o NaN\n",
    "               #a demas hay columnas que contienen listas como valores"
   ]
  },
  {
   "cell_type": "markdown",
   "metadata": {},
   "source": [
    "### tipos de datos"
   ]
  },
  {
   "cell_type": "code",
   "execution_count": 102,
   "metadata": {},
   "outputs": [
    {
     "name": "stdout",
     "output_type": "stream",
     "text": [
      "<class 'pandas.core.frame.DataFrame'>\n",
      "RangeIndex: 120445 entries, 0 to 120444\n",
      "Data columns (total 13 columns):\n",
      " #   Column        Non-Null Count   Dtype  \n",
      "---  ------        --------------   -----  \n",
      " 0   publisher     24083 non-null   object \n",
      " 1   genres        120445 non-null  object \n",
      " 2   app_name      32133 non-null   object \n",
      " 3   title         30085 non-null   object \n",
      " 4   url           32135 non-null   object \n",
      " 5   release_date  30068 non-null   object \n",
      " 6   tags          120445 non-null  object \n",
      " 7   reviews_url   32133 non-null   object \n",
      " 8   specs         120445 non-null  object \n",
      " 9   price         30758 non-null   object \n",
      " 10  early_access  32135 non-null   float64\n",
      " 11  id            32133 non-null   float64\n",
      " 12  developer     28836 non-null   object \n",
      "dtypes: float64(2), object(11)\n",
      "memory usage: 11.9+ MB\n"
     ]
    }
   ],
   "source": [
    "df_sg.info()#podemos notar que solo contamos con 2 columnas numericas (id,early_access) siendo inecesario analizar con un describe estas\n",
    "            #podemos ver ademas que early access es float cuando deberia ser un bool(true o false){aclarado en el diccionario} o int (0 o 1)"
   ]
  },
  {
   "cell_type": "code",
   "execution_count": 110,
   "metadata": {},
   "outputs": [
    {
     "data": {
      "text/plain": [
       "['Free To Play',\n",
       " 'Free to Play',\n",
       " 'Free',\n",
       " 'Free Demo',\n",
       " 'Play for Free!',\n",
       " 'Install Now',\n",
       " 'Play WARMACHINE: Tactics Demo',\n",
       " 'Free Mod',\n",
       " 'Install Theme',\n",
       " 'Third-party',\n",
       " 'Play Now',\n",
       " 'Free HITMAN™ Holiday Pack',\n",
       " 'Play the Demo',\n",
       " 'Starting at $499.00',\n",
       " 'Starting at $449.00',\n",
       " 'Free to Try',\n",
       " 'Free Movie',\n",
       " 'Free to Use']"
      ]
     },
     "execution_count": 110,
     "metadata": {},
     "output_type": "execute_result"
    }
   ],
   "source": [
    "# podemos notar que la columna price no se encuentra en float esto puede deberse a que hay valores no convertibles\n",
    "# para verificar esto e creado una funcion que me ayudara cuando deba corregir esto en un archivo llamado ETL_functions.py el cual importe como etf\n",
    "etf.valores_no_numericos(df_sg[\"price\"])"
   ]
  },
  {
   "cell_type": "markdown",
   "metadata": {},
   "source": [
    "### valores nulos"
   ]
  },
  {
   "cell_type": "code",
   "execution_count": 107,
   "metadata": {},
   "outputs": [
    {
     "data": {
      "text/plain": [
       "publisher       96362\n",
       "genres              0\n",
       "app_name        88312\n",
       "title           90360\n",
       "url             88310\n",
       "release_date    90377\n",
       "tags                0\n",
       "reviews_url     88312\n",
       "specs               0\n",
       "price           89687\n",
       "early_access    88310\n",
       "id              88312\n",
       "developer       91609\n",
       "dtype: int64"
      ]
     },
     "execution_count": 107,
     "metadata": {},
     "output_type": "execute_result"
    }
   ],
   "source": [
    "df_sg.isna().sum() #estos son los campos con valores nulos y su cantidad de nulos"
   ]
  },
  {
   "cell_type": "markdown",
   "metadata": {},
   "source": [
    "### valores duplicados"
   ]
  },
  {
   "cell_type": "code",
   "execution_count": 98,
   "metadata": {},
   "outputs": [],
   "source": [
    "#tuve que cambiar el tipo de datos a str por que tenian listas como valor  y no me permitian validar duplicados\n",
    "df_sg[\"genres\"] = df_sg[\"genres\"].astype(str)\n",
    "df_sg[\"tags\"] = df_sg[\"tags\"].astype(str)\n",
    "df_sg[\"specs\"] = df_sg[\"specs\"].astype(str)"
   ]
  },
  {
   "cell_type": "code",
   "execution_count": 99,
   "metadata": {},
   "outputs": [
    {
     "data": {
      "text/plain": [
       "88309"
      ]
     },
     "execution_count": 99,
     "metadata": {},
     "output_type": "execute_result"
    }
   ],
   "source": [
    "df_sg.duplicated().sum()# cantidad de registros duplicados"
   ]
  },
  {
   "cell_type": "code",
   "execution_count": 100,
   "metadata": {},
   "outputs": [
    {
     "data": {
      "text/plain": [
       "32136"
      ]
     },
     "execution_count": 100,
     "metadata": {},
     "output_type": "execute_result"
    }
   ],
   "source": [
    "120445 - 88309 # filas totales - filas duplicadas = aproximacion de (datos a trabajar)\n",
    "               # tener en cuenta que al borrar duplicados aun asi nos quedara un registro\n",
    "               # unico de las filas que tenian todos sus valores en null la cual deberemos retirar"
   ]
  },
  {
   "cell_type": "markdown",
   "metadata": {},
   "source": [
    "### conclucion EDA_parte_1(steam_games)"
   ]
  },
  {
   "cell_type": "markdown",
   "metadata": {},
   "source": []
  },
  {
   "cell_type": "markdown",
   "metadata": {},
   "source": [
    "<hr>"
   ]
  },
  {
   "cell_type": "markdown",
   "metadata": {},
   "source": [
    "## EDA \"user_reviews\""
   ]
  },
  {
   "cell_type": "code",
   "execution_count": null,
   "metadata": {},
   "outputs": [],
   "source": []
  },
  {
   "cell_type": "markdown",
   "metadata": {},
   "source": [
    "### conclucion EDA_parte_1(user_reviews)"
   ]
  },
  {
   "cell_type": "markdown",
   "metadata": {},
   "source": [
    "<hr>"
   ]
  },
  {
   "cell_type": "markdown",
   "metadata": {},
   "source": [
    "## EDA \"users_items\""
   ]
  },
  {
   "cell_type": "markdown",
   "metadata": {},
   "source": []
  },
  {
   "cell_type": "markdown",
   "metadata": {},
   "source": [
    "### conclucion EDA_parte_1(user_items)"
   ]
  }
 ],
 "metadata": {
  "kernelspec": {
   "display_name": "Python 3",
   "language": "python",
   "name": "python3"
  },
  "language_info": {
   "codemirror_mode": {
    "name": "ipython",
    "version": 3
   },
   "file_extension": ".py",
   "mimetype": "text/x-python",
   "name": "python",
   "nbconvert_exporter": "python",
   "pygments_lexer": "ipython3",
   "version": "3.11.5"
  }
 },
 "nbformat": 4,
 "nbformat_minor": 2
}
