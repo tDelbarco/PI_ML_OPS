{
 "cells": [
  {
   "cell_type": "code",
   "execution_count": 81,
   "metadata": {},
   "outputs": [],
   "source": [
    "import numpy as np\n",
    "import pandas as pd\n",
    "import seaborn as sns\n",
    "import ast\n",
    "from matplotlib import pyplot as plt\n",
    "import ETL_functions as etf"
   ]
  },
  {
   "cell_type": "markdown",
   "metadata": {},
   "source": [
    "<hr>"
   ]
  },
  {
   "cell_type": "markdown",
   "metadata": {},
   "source": [
    "## EDA \"steam_games\""
   ]
  },
  {
   "cell_type": "markdown",
   "metadata": {},
   "source": [
    "<hr>"
   ]
  },
  {
   "cell_type": "markdown",
   "metadata": {},
   "source": [
    "### cargando datos y primeras observaciones"
   ]
  },
  {
   "cell_type": "code",
   "execution_count": 82,
   "metadata": {},
   "outputs": [],
   "source": [
    "df_sg = pd.read_json(r\"../Datasets/steam_games.json/output_steam_games.json\", lines=True)#cargando el archivo"
   ]
  },
  {
   "cell_type": "code",
   "execution_count": 83,
   "metadata": {},
   "outputs": [
    {
     "data": {
      "text/plain": [
       "(120445, 13)"
      ]
     },
     "execution_count": 83,
     "metadata": {},
     "output_type": "execute_result"
    }
   ],
   "source": [
    "df_sg.shape # dimensiones (filas,columnas) "
   ]
  },
  {
   "cell_type": "code",
   "execution_count": 84,
   "metadata": {},
   "outputs": [
    {
     "data": {
      "text/html": [
       "<div>\n",
       "<style scoped>\n",
       "    .dataframe tbody tr th:only-of-type {\n",
       "        vertical-align: middle;\n",
       "    }\n",
       "\n",
       "    .dataframe tbody tr th {\n",
       "        vertical-align: top;\n",
       "    }\n",
       "\n",
       "    .dataframe thead th {\n",
       "        text-align: right;\n",
       "    }\n",
       "</style>\n",
       "<table border=\"1\" class=\"dataframe\">\n",
       "  <thead>\n",
       "    <tr style=\"text-align: right;\">\n",
       "      <th></th>\n",
       "      <th>publisher</th>\n",
       "      <th>genres</th>\n",
       "      <th>app_name</th>\n",
       "      <th>title</th>\n",
       "      <th>url</th>\n",
       "      <th>release_date</th>\n",
       "      <th>tags</th>\n",
       "      <th>reviews_url</th>\n",
       "      <th>specs</th>\n",
       "      <th>price</th>\n",
       "      <th>early_access</th>\n",
       "      <th>id</th>\n",
       "      <th>developer</th>\n",
       "    </tr>\n",
       "  </thead>\n",
       "  <tbody>\n",
       "    <tr>\n",
       "      <th>88859</th>\n",
       "      <td>Sonic Boom Games</td>\n",
       "      <td>[Indie, Casual]</td>\n",
       "      <td>Rhythm Zone Tornado Visualizer DLC</td>\n",
       "      <td>Rhythm Zone Tornado Visualizer DLC</td>\n",
       "      <td>http://store.steampowered.com/app/38923/Rhythm...</td>\n",
       "      <td>2010-11-09</td>\n",
       "      <td>[Indie, Casual]</td>\n",
       "      <td>http://steamcommunity.com/app/38923/reviews/?b...</td>\n",
       "      <td>[Single-player, Multi-player, Downloadable Con...</td>\n",
       "      <td>0.99</td>\n",
       "      <td>0.0</td>\n",
       "      <td>38923.0</td>\n",
       "      <td>Sonic Boom Games</td>\n",
       "    </tr>\n",
       "    <tr>\n",
       "      <th>48394</th>\n",
       "      <td>None</td>\n",
       "      <td>None</td>\n",
       "      <td>None</td>\n",
       "      <td>None</td>\n",
       "      <td>None</td>\n",
       "      <td>None</td>\n",
       "      <td>None</td>\n",
       "      <td>None</td>\n",
       "      <td>None</td>\n",
       "      <td>None</td>\n",
       "      <td>NaN</td>\n",
       "      <td>NaN</td>\n",
       "      <td>None</td>\n",
       "    </tr>\n",
       "    <tr>\n",
       "      <th>118278</th>\n",
       "      <td>Square Enix</td>\n",
       "      <td>None</td>\n",
       "      <td>Pandemonium</td>\n",
       "      <td>Pandemonium</td>\n",
       "      <td>http://store.steampowered.com/app/243020/Pande...</td>\n",
       "      <td>1996-10-31</td>\n",
       "      <td>[Platformer, Classic]</td>\n",
       "      <td>http://steamcommunity.com/app/243020/reviews/?...</td>\n",
       "      <td>[Single-player]</td>\n",
       "      <td>6.99</td>\n",
       "      <td>0.0</td>\n",
       "      <td>243020.0</td>\n",
       "      <td>Crystal Dynamics</td>\n",
       "    </tr>\n",
       "    <tr>\n",
       "      <th>17649</th>\n",
       "      <td>None</td>\n",
       "      <td>None</td>\n",
       "      <td>None</td>\n",
       "      <td>None</td>\n",
       "      <td>None</td>\n",
       "      <td>None</td>\n",
       "      <td>None</td>\n",
       "      <td>None</td>\n",
       "      <td>None</td>\n",
       "      <td>None</td>\n",
       "      <td>NaN</td>\n",
       "      <td>NaN</td>\n",
       "      <td>None</td>\n",
       "    </tr>\n",
       "    <tr>\n",
       "      <th>279</th>\n",
       "      <td>None</td>\n",
       "      <td>None</td>\n",
       "      <td>None</td>\n",
       "      <td>None</td>\n",
       "      <td>None</td>\n",
       "      <td>None</td>\n",
       "      <td>None</td>\n",
       "      <td>None</td>\n",
       "      <td>None</td>\n",
       "      <td>None</td>\n",
       "      <td>NaN</td>\n",
       "      <td>NaN</td>\n",
       "      <td>None</td>\n",
       "    </tr>\n",
       "  </tbody>\n",
       "</table>\n",
       "</div>"
      ],
      "text/plain": [
       "               publisher           genres                            app_name  \\\n",
       "88859   Sonic Boom Games  [Indie, Casual]  Rhythm Zone Tornado Visualizer DLC   \n",
       "48394               None             None                                None   \n",
       "118278       Square Enix             None                         Pandemonium   \n",
       "17649               None             None                                None   \n",
       "279                 None             None                                None   \n",
       "\n",
       "                                     title  \\\n",
       "88859   Rhythm Zone Tornado Visualizer DLC   \n",
       "48394                                 None   \n",
       "118278                         Pandemonium   \n",
       "17649                                 None   \n",
       "279                                   None   \n",
       "\n",
       "                                                      url release_date  \\\n",
       "88859   http://store.steampowered.com/app/38923/Rhythm...   2010-11-09   \n",
       "48394                                                None         None   \n",
       "118278  http://store.steampowered.com/app/243020/Pande...   1996-10-31   \n",
       "17649                                                None         None   \n",
       "279                                                  None         None   \n",
       "\n",
       "                         tags  \\\n",
       "88859         [Indie, Casual]   \n",
       "48394                    None   \n",
       "118278  [Platformer, Classic]   \n",
       "17649                    None   \n",
       "279                      None   \n",
       "\n",
       "                                              reviews_url  \\\n",
       "88859   http://steamcommunity.com/app/38923/reviews/?b...   \n",
       "48394                                                None   \n",
       "118278  http://steamcommunity.com/app/243020/reviews/?...   \n",
       "17649                                                None   \n",
       "279                                                  None   \n",
       "\n",
       "                                                    specs price  early_access  \\\n",
       "88859   [Single-player, Multi-player, Downloadable Con...  0.99           0.0   \n",
       "48394                                                None  None           NaN   \n",
       "118278                                    [Single-player]  6.99           0.0   \n",
       "17649                                                None  None           NaN   \n",
       "279                                                  None  None           NaN   \n",
       "\n",
       "              id         developer  \n",
       "88859    38923.0  Sonic Boom Games  \n",
       "48394        NaN              None  \n",
       "118278  243020.0  Crystal Dynamics  \n",
       "17649        NaN              None  \n",
       "279          NaN              None  "
      ]
     },
     "execution_count": 84,
     "metadata": {},
     "output_type": "execute_result"
    }
   ],
   "source": [
    "df_sg.sample(5)#ejecute esta linea aprox(5) veces para tener una vision mas amplia de algunos datos aleatorios del df \n",
    "               #notando que hay muchas filas llenas de valores None o NaN\n",
    "               #a demas hay columnas que contienen listas como valores"
   ]
  },
  {
   "cell_type": "markdown",
   "metadata": {},
   "source": [
    "    en un primer vistaso podemos notar:\n",
    "* una gran cantidad de nulos\n",
    "* registros duplicados \n",
    "* contamos con 3 campos de listas"
   ]
  },
  {
   "cell_type": "markdown",
   "metadata": {},
   "source": [
    "    transformare las columnas listas a str para poder trabajar el dataset ya que pandas no me deja tratarlos en estado listas"
   ]
  },
  {
   "cell_type": "code",
   "execution_count": 85,
   "metadata": {},
   "outputs": [],
   "source": [
    "df_sg[\"genres\"] = df_sg[\"genres\"].astype(str)\n",
    "df_sg[\"tags\"] = df_sg[\"tags\"].astype(str)\n",
    "df_sg[\"specs\"] = df_sg[\"specs\"].astype(str)"
   ]
  },
  {
   "cell_type": "markdown",
   "metadata": {},
   "source": [
    "    ahora procedo a ver duplicados y nulos con esta funcion de el archivo ETL_functions"
   ]
  },
  {
   "cell_type": "code",
   "execution_count": 86,
   "metadata": {},
   "outputs": [
    {
     "name": "stdout",
     "output_type": "stream",
     "text": [
      "\n",
      "Total rows:  120445\n",
      "\n",
      "Total full null rows:  0\n",
      "\n",
      "Total duplicated rows: 88309\n"
     ]
    },
    {
     "data": {
      "text/html": [
       "<div>\n",
       "<style scoped>\n",
       "    .dataframe tbody tr th:only-of-type {\n",
       "        vertical-align: middle;\n",
       "    }\n",
       "\n",
       "    .dataframe tbody tr th {\n",
       "        vertical-align: top;\n",
       "    }\n",
       "\n",
       "    .dataframe thead th {\n",
       "        text-align: right;\n",
       "    }\n",
       "</style>\n",
       "<table border=\"1\" class=\"dataframe\">\n",
       "  <thead>\n",
       "    <tr style=\"text-align: right;\">\n",
       "      <th></th>\n",
       "      <th>Column</th>\n",
       "      <th>dType</th>\n",
       "      <th>No_Null_%</th>\n",
       "      <th>No_Null_Qty</th>\n",
       "      <th>Null_%</th>\n",
       "      <th>Null_Qty</th>\n",
       "    </tr>\n",
       "  </thead>\n",
       "  <tbody>\n",
       "    <tr>\n",
       "      <th>0</th>\n",
       "      <td>publisher</td>\n",
       "      <td>[&lt;class 'NoneType'&gt;, &lt;class 'str'&gt;]</td>\n",
       "      <td>20.00</td>\n",
       "      <td>24083</td>\n",
       "      <td>80.00</td>\n",
       "      <td>96362</td>\n",
       "    </tr>\n",
       "    <tr>\n",
       "      <th>1</th>\n",
       "      <td>genres</td>\n",
       "      <td>[&lt;class 'str'&gt;]</td>\n",
       "      <td>100.00</td>\n",
       "      <td>120445</td>\n",
       "      <td>0.00</td>\n",
       "      <td>0</td>\n",
       "    </tr>\n",
       "    <tr>\n",
       "      <th>2</th>\n",
       "      <td>app_name</td>\n",
       "      <td>[&lt;class 'NoneType'&gt;, &lt;class 'str'&gt;]</td>\n",
       "      <td>26.68</td>\n",
       "      <td>32133</td>\n",
       "      <td>73.32</td>\n",
       "      <td>88312</td>\n",
       "    </tr>\n",
       "    <tr>\n",
       "      <th>3</th>\n",
       "      <td>title</td>\n",
       "      <td>[&lt;class 'NoneType'&gt;, &lt;class 'str'&gt;]</td>\n",
       "      <td>24.98</td>\n",
       "      <td>30085</td>\n",
       "      <td>75.02</td>\n",
       "      <td>90360</td>\n",
       "    </tr>\n",
       "    <tr>\n",
       "      <th>4</th>\n",
       "      <td>url</td>\n",
       "      <td>[&lt;class 'NoneType'&gt;, &lt;class 'str'&gt;]</td>\n",
       "      <td>26.68</td>\n",
       "      <td>32135</td>\n",
       "      <td>73.32</td>\n",
       "      <td>88310</td>\n",
       "    </tr>\n",
       "    <tr>\n",
       "      <th>5</th>\n",
       "      <td>release_date</td>\n",
       "      <td>[&lt;class 'NoneType'&gt;, &lt;class 'str'&gt;]</td>\n",
       "      <td>24.96</td>\n",
       "      <td>30068</td>\n",
       "      <td>75.04</td>\n",
       "      <td>90377</td>\n",
       "    </tr>\n",
       "    <tr>\n",
       "      <th>6</th>\n",
       "      <td>tags</td>\n",
       "      <td>[&lt;class 'str'&gt;]</td>\n",
       "      <td>100.00</td>\n",
       "      <td>120445</td>\n",
       "      <td>0.00</td>\n",
       "      <td>0</td>\n",
       "    </tr>\n",
       "    <tr>\n",
       "      <th>7</th>\n",
       "      <td>reviews_url</td>\n",
       "      <td>[&lt;class 'NoneType'&gt;, &lt;class 'str'&gt;]</td>\n",
       "      <td>26.68</td>\n",
       "      <td>32133</td>\n",
       "      <td>73.32</td>\n",
       "      <td>88312</td>\n",
       "    </tr>\n",
       "    <tr>\n",
       "      <th>8</th>\n",
       "      <td>specs</td>\n",
       "      <td>[&lt;class 'str'&gt;]</td>\n",
       "      <td>100.00</td>\n",
       "      <td>120445</td>\n",
       "      <td>0.00</td>\n",
       "      <td>0</td>\n",
       "    </tr>\n",
       "    <tr>\n",
       "      <th>9</th>\n",
       "      <td>price</td>\n",
       "      <td>[&lt;class 'NoneType'&gt;, &lt;class 'float'&gt;, &lt;class '...</td>\n",
       "      <td>25.54</td>\n",
       "      <td>30758</td>\n",
       "      <td>74.46</td>\n",
       "      <td>89687</td>\n",
       "    </tr>\n",
       "    <tr>\n",
       "      <th>10</th>\n",
       "      <td>early_access</td>\n",
       "      <td>[&lt;class 'float'&gt;]</td>\n",
       "      <td>26.68</td>\n",
       "      <td>32135</td>\n",
       "      <td>73.32</td>\n",
       "      <td>88310</td>\n",
       "    </tr>\n",
       "    <tr>\n",
       "      <th>11</th>\n",
       "      <td>id</td>\n",
       "      <td>[&lt;class 'float'&gt;]</td>\n",
       "      <td>26.68</td>\n",
       "      <td>32133</td>\n",
       "      <td>73.32</td>\n",
       "      <td>88312</td>\n",
       "    </tr>\n",
       "    <tr>\n",
       "      <th>12</th>\n",
       "      <td>developer</td>\n",
       "      <td>[&lt;class 'NoneType'&gt;, &lt;class 'str'&gt;]</td>\n",
       "      <td>23.94</td>\n",
       "      <td>28836</td>\n",
       "      <td>76.06</td>\n",
       "      <td>91609</td>\n",
       "    </tr>\n",
       "  </tbody>\n",
       "</table>\n",
       "</div>"
      ],
      "text/plain": [
       "          Column                                              dType  \\\n",
       "0      publisher                [<class 'NoneType'>, <class 'str'>]   \n",
       "1         genres                                    [<class 'str'>]   \n",
       "2       app_name                [<class 'NoneType'>, <class 'str'>]   \n",
       "3          title                [<class 'NoneType'>, <class 'str'>]   \n",
       "4            url                [<class 'NoneType'>, <class 'str'>]   \n",
       "5   release_date                [<class 'NoneType'>, <class 'str'>]   \n",
       "6           tags                                    [<class 'str'>]   \n",
       "7    reviews_url                [<class 'NoneType'>, <class 'str'>]   \n",
       "8          specs                                    [<class 'str'>]   \n",
       "9          price  [<class 'NoneType'>, <class 'float'>, <class '...   \n",
       "10  early_access                                  [<class 'float'>]   \n",
       "11            id                                  [<class 'float'>]   \n",
       "12     developer                [<class 'NoneType'>, <class 'str'>]   \n",
       "\n",
       "    No_Null_%  No_Null_Qty  Null_%  Null_Qty  \n",
       "0       20.00        24083   80.00     96362  \n",
       "1      100.00       120445    0.00         0  \n",
       "2       26.68        32133   73.32     88312  \n",
       "3       24.98        30085   75.02     90360  \n",
       "4       26.68        32135   73.32     88310  \n",
       "5       24.96        30068   75.04     90377  \n",
       "6      100.00       120445    0.00         0  \n",
       "7       26.68        32133   73.32     88312  \n",
       "8      100.00       120445    0.00         0  \n",
       "9       25.54        30758   74.46     89687  \n",
       "10      26.68        32135   73.32     88310  \n",
       "11      26.68        32133   73.32     88312  \n",
       "12      23.94        28836   76.06     91609  "
      ]
     },
     "execution_count": 86,
     "metadata": {},
     "output_type": "execute_result"
    }
   ],
   "source": [
    "etf.data_review(df_sg)"
   ]
  },
  {
   "cell_type": "markdown",
   "metadata": {},
   "source": [
    "    lo que nos dice basicamente es que hay 88309 registros duplicados de 120445 filas y nos devuelve un dataframe que nos muestra cantidad de nulos y que porcentaje dela columna son nulos "
   ]
  },
  {
   "cell_type": "markdown",
   "metadata": {},
   "source": [
    "voy a hacer un drop_duplicated solo para ver que si borramos los duplicados cunta cantidad de nulos nos queda"
   ]
  },
  {
   "cell_type": "code",
   "execution_count": 87,
   "metadata": {},
   "outputs": [],
   "source": [
    "df_sg.drop_duplicates(inplace=True)"
   ]
  },
  {
   "cell_type": "code",
   "execution_count": 88,
   "metadata": {},
   "outputs": [
    {
     "data": {
      "text/html": [
       "<div>\n",
       "<style scoped>\n",
       "    .dataframe tbody tr th:only-of-type {\n",
       "        vertical-align: middle;\n",
       "    }\n",
       "\n",
       "    .dataframe tbody tr th {\n",
       "        vertical-align: top;\n",
       "    }\n",
       "\n",
       "    .dataframe thead th {\n",
       "        text-align: right;\n",
       "    }\n",
       "</style>\n",
       "<table border=\"1\" class=\"dataframe\">\n",
       "  <thead>\n",
       "    <tr style=\"text-align: right;\">\n",
       "      <th></th>\n",
       "      <th>publisher</th>\n",
       "      <th>genres</th>\n",
       "      <th>app_name</th>\n",
       "      <th>title</th>\n",
       "      <th>url</th>\n",
       "      <th>release_date</th>\n",
       "      <th>tags</th>\n",
       "      <th>reviews_url</th>\n",
       "      <th>specs</th>\n",
       "      <th>price</th>\n",
       "      <th>early_access</th>\n",
       "      <th>id</th>\n",
       "      <th>developer</th>\n",
       "    </tr>\n",
       "  </thead>\n",
       "  <tbody>\n",
       "    <tr>\n",
       "      <th>0</th>\n",
       "      <td>None</td>\n",
       "      <td>None</td>\n",
       "      <td>None</td>\n",
       "      <td>None</td>\n",
       "      <td>None</td>\n",
       "      <td>None</td>\n",
       "      <td>None</td>\n",
       "      <td>None</td>\n",
       "      <td>None</td>\n",
       "      <td>None</td>\n",
       "      <td>NaN</td>\n",
       "      <td>NaN</td>\n",
       "      <td>None</td>\n",
       "    </tr>\n",
       "    <tr>\n",
       "      <th>88310</th>\n",
       "      <td>Kotoshiro</td>\n",
       "      <td>['Action', 'Casual', 'Indie', 'Simulation', 'S...</td>\n",
       "      <td>Lost Summoner Kitty</td>\n",
       "      <td>Lost Summoner Kitty</td>\n",
       "      <td>http://store.steampowered.com/app/761140/Lost_...</td>\n",
       "      <td>2018-01-04</td>\n",
       "      <td>['Strategy', 'Action', 'Indie', 'Casual', 'Sim...</td>\n",
       "      <td>http://steamcommunity.com/app/761140/reviews/?...</td>\n",
       "      <td>['Single-player']</td>\n",
       "      <td>4.99</td>\n",
       "      <td>0.0</td>\n",
       "      <td>761140.0</td>\n",
       "      <td>Kotoshiro</td>\n",
       "    </tr>\n",
       "    <tr>\n",
       "      <th>88311</th>\n",
       "      <td>Making Fun, Inc.</td>\n",
       "      <td>['Free to Play', 'Indie', 'RPG', 'Strategy']</td>\n",
       "      <td>Ironbound</td>\n",
       "      <td>Ironbound</td>\n",
       "      <td>http://store.steampowered.com/app/643980/Ironb...</td>\n",
       "      <td>2018-01-04</td>\n",
       "      <td>['Free to Play', 'Strategy', 'Indie', 'RPG', '...</td>\n",
       "      <td>http://steamcommunity.com/app/643980/reviews/?...</td>\n",
       "      <td>['Single-player', 'Multi-player', 'Online Mult...</td>\n",
       "      <td>Free To Play</td>\n",
       "      <td>0.0</td>\n",
       "      <td>643980.0</td>\n",
       "      <td>Secret Level SRL</td>\n",
       "    </tr>\n",
       "  </tbody>\n",
       "</table>\n",
       "</div>"
      ],
      "text/plain": [
       "              publisher                                             genres  \\\n",
       "0                  None                                               None   \n",
       "88310         Kotoshiro  ['Action', 'Casual', 'Indie', 'Simulation', 'S...   \n",
       "88311  Making Fun, Inc.       ['Free to Play', 'Indie', 'RPG', 'Strategy']   \n",
       "\n",
       "                  app_name                title  \\\n",
       "0                     None                 None   \n",
       "88310  Lost Summoner Kitty  Lost Summoner Kitty   \n",
       "88311            Ironbound            Ironbound   \n",
       "\n",
       "                                                     url release_date  \\\n",
       "0                                                   None         None   \n",
       "88310  http://store.steampowered.com/app/761140/Lost_...   2018-01-04   \n",
       "88311  http://store.steampowered.com/app/643980/Ironb...   2018-01-04   \n",
       "\n",
       "                                                    tags  \\\n",
       "0                                                   None   \n",
       "88310  ['Strategy', 'Action', 'Indie', 'Casual', 'Sim...   \n",
       "88311  ['Free to Play', 'Strategy', 'Indie', 'RPG', '...   \n",
       "\n",
       "                                             reviews_url  \\\n",
       "0                                                   None   \n",
       "88310  http://steamcommunity.com/app/761140/reviews/?...   \n",
       "88311  http://steamcommunity.com/app/643980/reviews/?...   \n",
       "\n",
       "                                                   specs         price  \\\n",
       "0                                                   None          None   \n",
       "88310                                  ['Single-player']          4.99   \n",
       "88311  ['Single-player', 'Multi-player', 'Online Mult...  Free To Play   \n",
       "\n",
       "       early_access        id         developer  \n",
       "0               NaN       NaN              None  \n",
       "88310           0.0  761140.0         Kotoshiro  \n",
       "88311           0.0  643980.0  Secret Level SRL  "
      ]
     },
     "execution_count": 88,
     "metadata": {},
     "output_type": "execute_result"
    }
   ],
   "source": [
    "df_sg.head(3)"
   ]
  },
  {
   "cell_type": "markdown",
   "metadata": {},
   "source": [
    "tambien borro el unico registro que quedo de todos los que habia de filas completamente llenas de valores nulos"
   ]
  },
  {
   "cell_type": "code",
   "execution_count": 89,
   "metadata": {},
   "outputs": [],
   "source": [
    "df_sg.drop(0,inplace=True)"
   ]
  },
  {
   "cell_type": "code",
   "execution_count": 90,
   "metadata": {},
   "outputs": [
    {
     "data": {
      "text/html": [
       "<div>\n",
       "<style scoped>\n",
       "    .dataframe tbody tr th:only-of-type {\n",
       "        vertical-align: middle;\n",
       "    }\n",
       "\n",
       "    .dataframe tbody tr th {\n",
       "        vertical-align: top;\n",
       "    }\n",
       "\n",
       "    .dataframe thead th {\n",
       "        text-align: right;\n",
       "    }\n",
       "</style>\n",
       "<table border=\"1\" class=\"dataframe\">\n",
       "  <thead>\n",
       "    <tr style=\"text-align: right;\">\n",
       "      <th></th>\n",
       "      <th>publisher</th>\n",
       "      <th>genres</th>\n",
       "      <th>app_name</th>\n",
       "      <th>title</th>\n",
       "      <th>url</th>\n",
       "      <th>release_date</th>\n",
       "      <th>tags</th>\n",
       "      <th>reviews_url</th>\n",
       "      <th>specs</th>\n",
       "      <th>price</th>\n",
       "      <th>early_access</th>\n",
       "      <th>id</th>\n",
       "      <th>developer</th>\n",
       "    </tr>\n",
       "  </thead>\n",
       "  <tbody>\n",
       "    <tr>\n",
       "      <th>88310</th>\n",
       "      <td>Kotoshiro</td>\n",
       "      <td>['Action', 'Casual', 'Indie', 'Simulation', 'S...</td>\n",
       "      <td>Lost Summoner Kitty</td>\n",
       "      <td>Lost Summoner Kitty</td>\n",
       "      <td>http://store.steampowered.com/app/761140/Lost_...</td>\n",
       "      <td>2018-01-04</td>\n",
       "      <td>['Strategy', 'Action', 'Indie', 'Casual', 'Sim...</td>\n",
       "      <td>http://steamcommunity.com/app/761140/reviews/?...</td>\n",
       "      <td>['Single-player']</td>\n",
       "      <td>4.99</td>\n",
       "      <td>0.0</td>\n",
       "      <td>761140.0</td>\n",
       "      <td>Kotoshiro</td>\n",
       "    </tr>\n",
       "    <tr>\n",
       "      <th>88311</th>\n",
       "      <td>Making Fun, Inc.</td>\n",
       "      <td>['Free to Play', 'Indie', 'RPG', 'Strategy']</td>\n",
       "      <td>Ironbound</td>\n",
       "      <td>Ironbound</td>\n",
       "      <td>http://store.steampowered.com/app/643980/Ironb...</td>\n",
       "      <td>2018-01-04</td>\n",
       "      <td>['Free to Play', 'Strategy', 'Indie', 'RPG', '...</td>\n",
       "      <td>http://steamcommunity.com/app/643980/reviews/?...</td>\n",
       "      <td>['Single-player', 'Multi-player', 'Online Mult...</td>\n",
       "      <td>Free To Play</td>\n",
       "      <td>0.0</td>\n",
       "      <td>643980.0</td>\n",
       "      <td>Secret Level SRL</td>\n",
       "    </tr>\n",
       "    <tr>\n",
       "      <th>88312</th>\n",
       "      <td>Poolians.com</td>\n",
       "      <td>['Casual', 'Free to Play', 'Indie', 'Simulatio...</td>\n",
       "      <td>Real Pool 3D - Poolians</td>\n",
       "      <td>Real Pool 3D - Poolians</td>\n",
       "      <td>http://store.steampowered.com/app/670290/Real_...</td>\n",
       "      <td>2017-07-24</td>\n",
       "      <td>['Free to Play', 'Simulation', 'Sports', 'Casu...</td>\n",
       "      <td>http://steamcommunity.com/app/670290/reviews/?...</td>\n",
       "      <td>['Single-player', 'Multi-player', 'Online Mult...</td>\n",
       "      <td>Free to Play</td>\n",
       "      <td>0.0</td>\n",
       "      <td>670290.0</td>\n",
       "      <td>Poolians.com</td>\n",
       "    </tr>\n",
       "  </tbody>\n",
       "</table>\n",
       "</div>"
      ],
      "text/plain": [
       "              publisher                                             genres  \\\n",
       "88310         Kotoshiro  ['Action', 'Casual', 'Indie', 'Simulation', 'S...   \n",
       "88311  Making Fun, Inc.       ['Free to Play', 'Indie', 'RPG', 'Strategy']   \n",
       "88312      Poolians.com  ['Casual', 'Free to Play', 'Indie', 'Simulatio...   \n",
       "\n",
       "                      app_name                    title  \\\n",
       "88310      Lost Summoner Kitty      Lost Summoner Kitty   \n",
       "88311                Ironbound                Ironbound   \n",
       "88312  Real Pool 3D - Poolians  Real Pool 3D - Poolians   \n",
       "\n",
       "                                                     url release_date  \\\n",
       "88310  http://store.steampowered.com/app/761140/Lost_...   2018-01-04   \n",
       "88311  http://store.steampowered.com/app/643980/Ironb...   2018-01-04   \n",
       "88312  http://store.steampowered.com/app/670290/Real_...   2017-07-24   \n",
       "\n",
       "                                                    tags  \\\n",
       "88310  ['Strategy', 'Action', 'Indie', 'Casual', 'Sim...   \n",
       "88311  ['Free to Play', 'Strategy', 'Indie', 'RPG', '...   \n",
       "88312  ['Free to Play', 'Simulation', 'Sports', 'Casu...   \n",
       "\n",
       "                                             reviews_url  \\\n",
       "88310  http://steamcommunity.com/app/761140/reviews/?...   \n",
       "88311  http://steamcommunity.com/app/643980/reviews/?...   \n",
       "88312  http://steamcommunity.com/app/670290/reviews/?...   \n",
       "\n",
       "                                                   specs         price  \\\n",
       "88310                                  ['Single-player']          4.99   \n",
       "88311  ['Single-player', 'Multi-player', 'Online Mult...  Free To Play   \n",
       "88312  ['Single-player', 'Multi-player', 'Online Mult...  Free to Play   \n",
       "\n",
       "       early_access        id         developer  \n",
       "88310           0.0  761140.0         Kotoshiro  \n",
       "88311           0.0  643980.0  Secret Level SRL  \n",
       "88312           0.0  670290.0      Poolians.com  "
      ]
     },
     "execution_count": 90,
     "metadata": {},
     "output_type": "execute_result"
    }
   ],
   "source": [
    "df_sg.head(3)"
   ]
  },
  {
   "cell_type": "markdown",
   "metadata": {},
   "source": [
    "ahora que nuestro datasets no tiene duplicados veamos cuantos valores nulos tiene en realidad"
   ]
  },
  {
   "cell_type": "code",
   "execution_count": 91,
   "metadata": {},
   "outputs": [
    {
     "name": "stdout",
     "output_type": "stream",
     "text": [
      "\n",
      "Total rows:  32135\n",
      "\n",
      "Total full null rows:  0\n",
      "\n",
      "Total duplicated rows: 0\n"
     ]
    },
    {
     "data": {
      "text/html": [
       "<div>\n",
       "<style scoped>\n",
       "    .dataframe tbody tr th:only-of-type {\n",
       "        vertical-align: middle;\n",
       "    }\n",
       "\n",
       "    .dataframe tbody tr th {\n",
       "        vertical-align: top;\n",
       "    }\n",
       "\n",
       "    .dataframe thead th {\n",
       "        text-align: right;\n",
       "    }\n",
       "</style>\n",
       "<table border=\"1\" class=\"dataframe\">\n",
       "  <thead>\n",
       "    <tr style=\"text-align: right;\">\n",
       "      <th></th>\n",
       "      <th>Column</th>\n",
       "      <th>dType</th>\n",
       "      <th>No_Null_%</th>\n",
       "      <th>No_Null_Qty</th>\n",
       "      <th>Null_%</th>\n",
       "      <th>Null_Qty</th>\n",
       "    </tr>\n",
       "  </thead>\n",
       "  <tbody>\n",
       "    <tr>\n",
       "      <th>0</th>\n",
       "      <td>publisher</td>\n",
       "      <td>[&lt;class 'str'&gt;, &lt;class 'NoneType'&gt;]</td>\n",
       "      <td>74.94</td>\n",
       "      <td>24083</td>\n",
       "      <td>25.06</td>\n",
       "      <td>8052</td>\n",
       "    </tr>\n",
       "    <tr>\n",
       "      <th>1</th>\n",
       "      <td>genres</td>\n",
       "      <td>[&lt;class 'str'&gt;]</td>\n",
       "      <td>100.00</td>\n",
       "      <td>32135</td>\n",
       "      <td>0.00</td>\n",
       "      <td>0</td>\n",
       "    </tr>\n",
       "    <tr>\n",
       "      <th>2</th>\n",
       "      <td>app_name</td>\n",
       "      <td>[&lt;class 'str'&gt;, &lt;class 'NoneType'&gt;]</td>\n",
       "      <td>99.99</td>\n",
       "      <td>32133</td>\n",
       "      <td>0.01</td>\n",
       "      <td>2</td>\n",
       "    </tr>\n",
       "    <tr>\n",
       "      <th>3</th>\n",
       "      <td>title</td>\n",
       "      <td>[&lt;class 'str'&gt;, &lt;class 'NoneType'&gt;]</td>\n",
       "      <td>93.62</td>\n",
       "      <td>30085</td>\n",
       "      <td>6.38</td>\n",
       "      <td>2050</td>\n",
       "    </tr>\n",
       "    <tr>\n",
       "      <th>4</th>\n",
       "      <td>url</td>\n",
       "      <td>[&lt;class 'str'&gt;]</td>\n",
       "      <td>100.00</td>\n",
       "      <td>32135</td>\n",
       "      <td>0.00</td>\n",
       "      <td>0</td>\n",
       "    </tr>\n",
       "    <tr>\n",
       "      <th>5</th>\n",
       "      <td>release_date</td>\n",
       "      <td>[&lt;class 'str'&gt;, &lt;class 'NoneType'&gt;]</td>\n",
       "      <td>93.57</td>\n",
       "      <td>30068</td>\n",
       "      <td>6.43</td>\n",
       "      <td>2067</td>\n",
       "    </tr>\n",
       "    <tr>\n",
       "      <th>6</th>\n",
       "      <td>tags</td>\n",
       "      <td>[&lt;class 'str'&gt;]</td>\n",
       "      <td>100.00</td>\n",
       "      <td>32135</td>\n",
       "      <td>0.00</td>\n",
       "      <td>0</td>\n",
       "    </tr>\n",
       "    <tr>\n",
       "      <th>7</th>\n",
       "      <td>reviews_url</td>\n",
       "      <td>[&lt;class 'str'&gt;, &lt;class 'NoneType'&gt;]</td>\n",
       "      <td>99.99</td>\n",
       "      <td>32133</td>\n",
       "      <td>0.01</td>\n",
       "      <td>2</td>\n",
       "    </tr>\n",
       "    <tr>\n",
       "      <th>8</th>\n",
       "      <td>specs</td>\n",
       "      <td>[&lt;class 'str'&gt;]</td>\n",
       "      <td>100.00</td>\n",
       "      <td>32135</td>\n",
       "      <td>0.00</td>\n",
       "      <td>0</td>\n",
       "    </tr>\n",
       "    <tr>\n",
       "      <th>9</th>\n",
       "      <td>price</td>\n",
       "      <td>[&lt;class 'float'&gt;, &lt;class 'str'&gt;, &lt;class 'NoneT...</td>\n",
       "      <td>95.71</td>\n",
       "      <td>30758</td>\n",
       "      <td>4.29</td>\n",
       "      <td>1377</td>\n",
       "    </tr>\n",
       "    <tr>\n",
       "      <th>10</th>\n",
       "      <td>early_access</td>\n",
       "      <td>[&lt;class 'float'&gt;]</td>\n",
       "      <td>100.00</td>\n",
       "      <td>32135</td>\n",
       "      <td>0.00</td>\n",
       "      <td>0</td>\n",
       "    </tr>\n",
       "    <tr>\n",
       "      <th>11</th>\n",
       "      <td>id</td>\n",
       "      <td>[&lt;class 'float'&gt;]</td>\n",
       "      <td>99.99</td>\n",
       "      <td>32133</td>\n",
       "      <td>0.01</td>\n",
       "      <td>2</td>\n",
       "    </tr>\n",
       "    <tr>\n",
       "      <th>12</th>\n",
       "      <td>developer</td>\n",
       "      <td>[&lt;class 'str'&gt;, &lt;class 'NoneType'&gt;]</td>\n",
       "      <td>89.73</td>\n",
       "      <td>28836</td>\n",
       "      <td>10.27</td>\n",
       "      <td>3299</td>\n",
       "    </tr>\n",
       "  </tbody>\n",
       "</table>\n",
       "</div>"
      ],
      "text/plain": [
       "          Column                                              dType  \\\n",
       "0      publisher                [<class 'str'>, <class 'NoneType'>]   \n",
       "1         genres                                    [<class 'str'>]   \n",
       "2       app_name                [<class 'str'>, <class 'NoneType'>]   \n",
       "3          title                [<class 'str'>, <class 'NoneType'>]   \n",
       "4            url                                    [<class 'str'>]   \n",
       "5   release_date                [<class 'str'>, <class 'NoneType'>]   \n",
       "6           tags                                    [<class 'str'>]   \n",
       "7    reviews_url                [<class 'str'>, <class 'NoneType'>]   \n",
       "8          specs                                    [<class 'str'>]   \n",
       "9          price  [<class 'float'>, <class 'str'>, <class 'NoneT...   \n",
       "10  early_access                                  [<class 'float'>]   \n",
       "11            id                                  [<class 'float'>]   \n",
       "12     developer                [<class 'str'>, <class 'NoneType'>]   \n",
       "\n",
       "    No_Null_%  No_Null_Qty  Null_%  Null_Qty  \n",
       "0       74.94        24083   25.06      8052  \n",
       "1      100.00        32135    0.00         0  \n",
       "2       99.99        32133    0.01         2  \n",
       "3       93.62        30085    6.38      2050  \n",
       "4      100.00        32135    0.00         0  \n",
       "5       93.57        30068    6.43      2067  \n",
       "6      100.00        32135    0.00         0  \n",
       "7       99.99        32133    0.01         2  \n",
       "8      100.00        32135    0.00         0  \n",
       "9       95.71        30758    4.29      1377  \n",
       "10     100.00        32135    0.00         0  \n",
       "11      99.99        32133    0.01         2  \n",
       "12      89.73        28836   10.27      3299  "
      ]
     },
     "execution_count": 91,
     "metadata": {},
     "output_type": "execute_result"
    }
   ],
   "source": [
    "etf.data_review(df_sg)"
   ]
  },
  {
   "cell_type": "markdown",
   "metadata": {},
   "source": [
    "    aahora vemos que nos quedan 32125 registros unicos  y la cantidad de nulos no es tanta como cuando tenia duplicados con los duplicados llegaba a 80 mil valores nulos encada columna ahora la que mas tiene es 8000 y otras 4 que tienen en promedio alrededor de 2000 nulos"
   ]
  },
  {
   "cell_type": "markdown",
   "metadata": {},
   "source": [
    "tambien podemos obserbar diferentes tipos de datos como por ejemplo:\n",
    "\n",
    "* price que contiene floats,str,y nulos\n",
    "*  id que tiene float"
   ]
  },
  {
   "cell_type": "markdown",
   "metadata": {},
   "source": [
    "    voy a guardar la columna de el dataframe en una variable para asi manipularla mejor individualmente"
   ]
  },
  {
   "cell_type": "code",
   "execution_count": 92,
   "metadata": {},
   "outputs": [],
   "source": [
    "precio = df_sg[\"price\"]\n",
    "identificador = df_sg[\"id\"] "
   ]
  },
  {
   "cell_type": "markdown",
   "metadata": {},
   "source": [
    "llamamos la columna precio"
   ]
  },
  {
   "cell_type": "code",
   "execution_count": 93,
   "metadata": {},
   "outputs": [
    {
     "data": {
      "text/plain": [
       "88310             4.99\n",
       "88311     Free To Play\n",
       "88312     Free to Play\n",
       "88313             0.99\n",
       "88314             2.99\n",
       "              ...     \n",
       "120440            1.99\n",
       "120441            4.99\n",
       "120442            1.99\n",
       "120443            4.99\n",
       "120444            4.99\n",
       "Name: price, Length: 32135, dtype: object"
      ]
     },
     "execution_count": 93,
     "metadata": {},
     "output_type": "execute_result"
    }
   ],
   "source": [
    "precio"
   ]
  },
  {
   "cell_type": "markdown",
   "metadata": {},
   "source": [
    "a  simple vista podemos ver que lo que nos decia la funcion era cierto tenia falores de texto por lo cual el campo estaba en str"
   ]
  },
  {
   "cell_type": "markdown",
   "metadata": {},
   "source": [
    "    llamo a una funcion que hice para casos como este y nos devuelve lo  siguiente una lista con los valores que no pueden convertirse a numerico"
   ]
  },
  {
   "cell_type": "code",
   "execution_count": 94,
   "metadata": {},
   "outputs": [
    {
     "data": {
      "text/plain": [
       "['Free To Play',\n",
       " 'Free to Play',\n",
       " 'Free',\n",
       " 'Free Demo',\n",
       " 'Play for Free!',\n",
       " 'Install Now',\n",
       " 'Play WARMACHINE: Tactics Demo',\n",
       " 'Free Mod',\n",
       " 'Install Theme',\n",
       " 'Third-party',\n",
       " 'Play Now',\n",
       " 'Free HITMAN™ Holiday Pack',\n",
       " 'Play the Demo',\n",
       " 'Starting at $499.00',\n",
       " 'Starting at $449.00',\n",
       " 'Free to Try',\n",
       " 'Free Movie',\n",
       " 'Free to Use']"
      ]
     },
     "execution_count": 94,
     "metadata": {},
     "output_type": "execute_result"
    }
   ],
   "source": [
    "etf.valores_no_numericos(precio)"
   ]
  },
  {
   "cell_type": "markdown",
   "metadata": {},
   "source": [
    "    pero podemos notar que si puede haber una relacion entre la cadena y el precio por ej:\n",
    "\n",
    "* starting at $499.00  se podria cambiar a 499.00\n",
    "* starting at $449.00  se podria cambiar a 449.00\n",
    "\n",
    "    y el resto de valorees podria cambiarlos por 00.00\n",
    "    ya que pareciera que todos hacen referncia a que el precio como tal es 0 (gratis)\n",
    "    (third-party podria ser una excepcion pero aun asi se puede remplazar a 0) "
   ]
  },
  {
   "cell_type": "markdown",
   "metadata": {},
   "source": [
    "    voy a proceder a hacer las transformaciones para poder graficar la distribucion de los precios y frecuencia mas tarde"
   ]
  },
  {
   "cell_type": "code",
   "execution_count": 95,
   "metadata": {},
   "outputs": [],
   "source": [
    "no_num = etf.valores_no_numericos(precio)"
   ]
  },
  {
   "cell_type": "code",
   "execution_count": 96,
   "metadata": {},
   "outputs": [
    {
     "name": "stderr",
     "output_type": "stream",
     "text": [
      "C:\\Users\\delba\\AppData\\Local\\Temp\\ipykernel_14100\\3995794199.py:1: SettingWithCopyWarning: \n",
      "A value is trying to be set on a copy of a slice from a DataFrame\n",
      "\n",
      "See the caveats in the documentation: https://pandas.pydata.org/pandas-docs/stable/user_guide/indexing.html#returning-a-view-versus-a-copy\n",
      "  precio[precio == 'Starting at $499.00'] = 499.00\n"
     ]
    }
   ],
   "source": [
    "precio[precio == 'Starting at $499.00'] = 499.00"
   ]
  },
  {
   "cell_type": "code",
   "execution_count": 97,
   "metadata": {},
   "outputs": [
    {
     "name": "stderr",
     "output_type": "stream",
     "text": [
      "C:\\Users\\delba\\AppData\\Local\\Temp\\ipykernel_14100\\2224725509.py:1: SettingWithCopyWarning: \n",
      "A value is trying to be set on a copy of a slice from a DataFrame\n",
      "\n",
      "See the caveats in the documentation: https://pandas.pydata.org/pandas-docs/stable/user_guide/indexing.html#returning-a-view-versus-a-copy\n",
      "  precio[precio == 'Starting at $449.00'] = 449.00\n"
     ]
    }
   ],
   "source": [
    "precio[precio == 'Starting at $449.00'] = 449.00"
   ]
  },
  {
   "cell_type": "markdown",
   "metadata": {},
   "source": [
    "podemos verificar que esas cadenas ya no se encuentran"
   ]
  },
  {
   "cell_type": "code",
   "execution_count": 98,
   "metadata": {},
   "outputs": [
    {
     "data": {
      "text/plain": [
       "Series([], Name: price, dtype: object)"
      ]
     },
     "execution_count": 98,
     "metadata": {},
     "output_type": "execute_result"
    }
   ],
   "source": [
    "precio[precio == 'Starting at $499.00']"
   ]
  },
  {
   "cell_type": "code",
   "execution_count": 99,
   "metadata": {},
   "outputs": [
    {
     "data": {
      "text/plain": [
       "Series([], Name: price, dtype: object)"
      ]
     },
     "execution_count": 99,
     "metadata": {},
     "output_type": "execute_result"
    }
   ],
   "source": [
    "precio[precio == 'Starting at $449.00']"
   ]
  },
  {
   "cell_type": "markdown",
   "metadata": {},
   "source": [
    "ahora quitare estos elementos de no_num(lista con los valores que no se pueden transformar a numericos de la columna precios)"
   ]
  },
  {
   "cell_type": "code",
   "execution_count": 100,
   "metadata": {},
   "outputs": [],
   "source": [
    "no_num.remove('Starting at $499.00')\n",
    "no_num.remove('Starting at $449.00')"
   ]
  },
  {
   "cell_type": "markdown",
   "metadata": {},
   "source": [
    "llamamos a la lista y vemos que efectivamente ya no se encuentran en la lista"
   ]
  },
  {
   "cell_type": "code",
   "execution_count": 101,
   "metadata": {},
   "outputs": [
    {
     "data": {
      "text/plain": [
       "['Free To Play',\n",
       " 'Free to Play',\n",
       " 'Free',\n",
       " 'Free Demo',\n",
       " 'Play for Free!',\n",
       " 'Install Now',\n",
       " 'Play WARMACHINE: Tactics Demo',\n",
       " 'Free Mod',\n",
       " 'Install Theme',\n",
       " 'Third-party',\n",
       " 'Play Now',\n",
       " 'Free HITMAN™ Holiday Pack',\n",
       " 'Play the Demo',\n",
       " 'Free to Try',\n",
       " 'Free Movie',\n",
       " 'Free to Use']"
      ]
     },
     "execution_count": 101,
     "metadata": {},
     "output_type": "execute_result"
    }
   ],
   "source": [
    "no_num"
   ]
  },
  {
   "cell_type": "markdown",
   "metadata": {},
   "source": [
    "ahora cambiaremos todas las considencias con estos valores a 0.00"
   ]
  },
  {
   "cell_type": "code",
   "execution_count": 102,
   "metadata": {},
   "outputs": [
    {
     "data": {
      "text/plain": [
       "88311     Free To Play\n",
       "88312     Free to Play\n",
       "88321             Free\n",
       "88370             Free\n",
       "88501             Free\n",
       "              ...     \n",
       "120317            Free\n",
       "120387            Free\n",
       "120410    Free To Play\n",
       "120411            Free\n",
       "120431            Free\n",
       "Name: price, Length: 1908, dtype: object"
      ]
     },
     "execution_count": 102,
     "metadata": {},
     "output_type": "execute_result"
    }
   ],
   "source": [
    "precio[precio.isin(no_num)]"
   ]
  },
  {
   "cell_type": "code",
   "execution_count": 103,
   "metadata": {},
   "outputs": [
    {
     "name": "stderr",
     "output_type": "stream",
     "text": [
      "C:\\Users\\delba\\AppData\\Local\\Temp\\ipykernel_14100\\2798624370.py:1: SettingWithCopyWarning: \n",
      "A value is trying to be set on a copy of a slice from a DataFrame\n",
      "\n",
      "See the caveats in the documentation: https://pandas.pydata.org/pandas-docs/stable/user_guide/indexing.html#returning-a-view-versus-a-copy\n",
      "  precio[precio.isin(no_num)] = 0.00\n"
     ]
    }
   ],
   "source": [
    "precio[precio.isin(no_num)] = 0.00"
   ]
  },
  {
   "cell_type": "markdown",
   "metadata": {},
   "source": [
    "volvemos a filtrar y notamos que ya no nos devuelve registros con los valores de la lista"
   ]
  },
  {
   "cell_type": "code",
   "execution_count": 104,
   "metadata": {},
   "outputs": [
    {
     "data": {
      "text/plain": [
       "Series([], Name: price, dtype: object)"
      ]
     },
     "execution_count": 104,
     "metadata": {},
     "output_type": "execute_result"
    }
   ],
   "source": [
    "precio[precio.isin(no_num)]"
   ]
  },
  {
   "cell_type": "markdown",
   "metadata": {},
   "source": [
    "cambiamos el tipo a float"
   ]
  },
  {
   "cell_type": "code",
   "execution_count": 105,
   "metadata": {},
   "outputs": [],
   "source": [
    "precio =  precio.astype(float)"
   ]
  },
  {
   "cell_type": "markdown",
   "metadata": {},
   "source": [
    "lo cambio sin problemas lo que quiere decir que ya tenemos todos los precios en formato numerico"
   ]
  },
  {
   "cell_type": "code",
   "execution_count": 106,
   "metadata": {},
   "outputs": [
    {
     "data": {
      "text/plain": [
       "113519     NaN\n",
       "111598    4.99\n",
       "113288    0.99\n",
       "94446     3.99\n",
       "93476     1.99\n",
       "106290    4.99\n",
       "113543    9.99\n",
       "Name: price, dtype: float64"
      ]
     },
     "execution_count": 106,
     "metadata": {},
     "output_type": "execute_result"
    }
   ],
   "source": [
    "precio.sample(7)# llamamos esta instrucion y vemos que ya no poseemos los valores de cadena pero si poseemos NaN´s ya que puede que haya valores que estaban en numerico y aun  asi se transformaro mal"
   ]
  },
  {
   "cell_type": "markdown",
   "metadata": {},
   "source": [
    "voy a dropear todos esos NaN ya que la idea es solo tener una columna para graficar y no tener una columna util para otro proposito en especifico"
   ]
  },
  {
   "cell_type": "code",
   "execution_count": 107,
   "metadata": {},
   "outputs": [
    {
     "data": {
      "text/plain": [
       "88310     4.99\n",
       "88311     0.00\n",
       "88312     0.00\n",
       "88313     0.99\n",
       "88314     2.99\n",
       "          ... \n",
       "120440    1.99\n",
       "120441    4.99\n",
       "120442    1.99\n",
       "120443    4.99\n",
       "120444    4.99\n",
       "Name: price, Length: 32135, dtype: float64"
      ]
     },
     "execution_count": 107,
     "metadata": {},
     "output_type": "execute_result"
    }
   ],
   "source": [
    "precio"
   ]
  },
  {
   "cell_type": "code",
   "execution_count": 108,
   "metadata": {},
   "outputs": [
    {
     "data": {
      "text/plain": [
       "1377"
      ]
     },
     "execution_count": 108,
     "metadata": {},
     "output_type": "execute_result"
    }
   ],
   "source": [
    "precio.isna().sum()#1377 NaN"
   ]
  },
  {
   "cell_type": "code",
   "execution_count": 109,
   "metadata": {},
   "outputs": [],
   "source": [
    "precio.dropna(inplace=True)"
   ]
  },
  {
   "cell_type": "code",
   "execution_count": 110,
   "metadata": {},
   "outputs": [
    {
     "data": {
      "text/plain": [
       "0"
      ]
     },
     "execution_count": 110,
     "metadata": {},
     "output_type": "execute_result"
    }
   ],
   "source": [
    "precio.isna().sum()# 0 NaN"
   ]
  },
  {
   "cell_type": "markdown",
   "metadata": {},
   "source": [
    "    ahora analizare la columna id que guarde en la variable identificador"
   ]
  },
  {
   "cell_type": "code",
   "execution_count": 111,
   "metadata": {},
   "outputs": [
    {
     "data": {
      "text/plain": [
       "2"
      ]
     },
     "execution_count": 111,
     "metadata": {},
     "output_type": "execute_result"
    }
   ],
   "source": [
    "identificador.duplicated().sum()#tenemos 2 id repetidos lo que es raro ya que dropeamos duplicados en df_sg(dataframe de steam_games)"
   ]
  },
  {
   "cell_type": "code",
   "execution_count": 112,
   "metadata": {},
   "outputs": [
    {
     "data": {
      "text/plain": [
       "2"
      ]
     },
     "execution_count": 112,
     "metadata": {},
     "output_type": "execute_result"
    }
   ],
   "source": [
    "identificador.isna().sum()#tambien contamos con 2 nulos por lo que deberian ser los nulos los duplicados"
   ]
  },
  {
   "cell_type": "markdown",
   "metadata": {},
   "source": [
    "dropeo los nulos y reviso los duplicados nuevamente"
   ]
  },
  {
   "cell_type": "code",
   "execution_count": 113,
   "metadata": {},
   "outputs": [],
   "source": [
    "identificador.dropna(inplace=True)"
   ]
  },
  {
   "cell_type": "code",
   "execution_count": 114,
   "metadata": {},
   "outputs": [
    {
     "data": {
      "text/plain": [
       "0"
      ]
     },
     "execution_count": 114,
     "metadata": {},
     "output_type": "execute_result"
    }
   ],
   "source": [
    "identificador.isna().sum()#dropeamos los nulos y ahora contamos con 0"
   ]
  },
  {
   "cell_type": "code",
   "execution_count": 115,
   "metadata": {},
   "outputs": [
    {
     "data": {
      "text/plain": [
       "1"
      ]
     },
     "execution_count": 115,
     "metadata": {},
     "output_type": "execute_result"
    }
   ],
   "source": [
    "identificador.duplicated().sum()#pero aun contamos con 1 duplicado al dropera los con NaN nos desasimos de 1 duplicado este duplicado debe deberse a que en df_sg tenemos 2 registros iguales pero que se diferencian en alguna columna por lo que no fue borrado en el drop_duplicated"
   ]
  },
  {
   "cell_type": "code",
   "execution_count": 116,
   "metadata": {},
   "outputs": [],
   "source": [
    "identificador.drop_duplicates(inplace=True)"
   ]
  },
  {
   "cell_type": "markdown",
   "metadata": {},
   "source": [
    "ahora que ya no tengo duplicados puedo hacer un count de cuantos juegos diferentes hay aunque podria hacer lo mismo contando las filas"
   ]
  },
  {
   "cell_type": "code",
   "execution_count": 117,
   "metadata": {},
   "outputs": [
    {
     "data": {
      "text/plain": [
       "32132"
      ]
     },
     "execution_count": 117,
     "metadata": {},
     "output_type": "execute_result"
    }
   ],
   "source": [
    "identificador.count()#32132 juegos diferentes tenemos"
   ]
  },
  {
   "cell_type": "markdown",
   "metadata": {},
   "source": [
    "    tambien podemos analizar la columnaa title y app_name para ver en que se diferenciany url"
   ]
  },
  {
   "cell_type": "code",
   "execution_count": 118,
   "metadata": {},
   "outputs": [
    {
     "data": {
      "text/html": [
       "<div>\n",
       "<style scoped>\n",
       "    .dataframe tbody tr th:only-of-type {\n",
       "        vertical-align: middle;\n",
       "    }\n",
       "\n",
       "    .dataframe tbody tr th {\n",
       "        vertical-align: top;\n",
       "    }\n",
       "\n",
       "    .dataframe thead th {\n",
       "        text-align: right;\n",
       "    }\n",
       "</style>\n",
       "<table border=\"1\" class=\"dataframe\">\n",
       "  <thead>\n",
       "    <tr style=\"text-align: right;\">\n",
       "      <th></th>\n",
       "      <th>app_name</th>\n",
       "      <th>title</th>\n",
       "      <th>url</th>\n",
       "    </tr>\n",
       "  </thead>\n",
       "  <tbody>\n",
       "    <tr>\n",
       "      <th>88310</th>\n",
       "      <td>Lost Summoner Kitty</td>\n",
       "      <td>Lost Summoner Kitty</td>\n",
       "      <td>http://store.steampowered.com/app/761140/Lost_...</td>\n",
       "    </tr>\n",
       "    <tr>\n",
       "      <th>88311</th>\n",
       "      <td>Ironbound</td>\n",
       "      <td>Ironbound</td>\n",
       "      <td>http://store.steampowered.com/app/643980/Ironb...</td>\n",
       "    </tr>\n",
       "    <tr>\n",
       "      <th>88312</th>\n",
       "      <td>Real Pool 3D - Poolians</td>\n",
       "      <td>Real Pool 3D - Poolians</td>\n",
       "      <td>http://store.steampowered.com/app/670290/Real_...</td>\n",
       "    </tr>\n",
       "    <tr>\n",
       "      <th>88313</th>\n",
       "      <td>弹炸人2222</td>\n",
       "      <td>弹炸人2222</td>\n",
       "      <td>http://store.steampowered.com/app/767400/2222/</td>\n",
       "    </tr>\n",
       "    <tr>\n",
       "      <th>88314</th>\n",
       "      <td>Log Challenge</td>\n",
       "      <td>None</td>\n",
       "      <td>http://store.steampowered.com/app/773570/Log_C...</td>\n",
       "    </tr>\n",
       "    <tr>\n",
       "      <th>...</th>\n",
       "      <td>...</td>\n",
       "      <td>...</td>\n",
       "      <td>...</td>\n",
       "    </tr>\n",
       "    <tr>\n",
       "      <th>120440</th>\n",
       "      <td>Colony On Mars</td>\n",
       "      <td>Colony On Mars</td>\n",
       "      <td>http://store.steampowered.com/app/773640/Colon...</td>\n",
       "    </tr>\n",
       "    <tr>\n",
       "      <th>120441</th>\n",
       "      <td>LOGistICAL: South Africa</td>\n",
       "      <td>LOGistICAL: South Africa</td>\n",
       "      <td>http://store.steampowered.com/app/733530/LOGis...</td>\n",
       "    </tr>\n",
       "    <tr>\n",
       "      <th>120442</th>\n",
       "      <td>Russian Roads</td>\n",
       "      <td>Russian Roads</td>\n",
       "      <td>http://store.steampowered.com/app/610660/Russi...</td>\n",
       "    </tr>\n",
       "    <tr>\n",
       "      <th>120443</th>\n",
       "      <td>EXIT 2 - Directions</td>\n",
       "      <td>EXIT 2 - Directions</td>\n",
       "      <td>http://store.steampowered.com/app/658870/EXIT_...</td>\n",
       "    </tr>\n",
       "    <tr>\n",
       "      <th>120444</th>\n",
       "      <td>Maze Run VR</td>\n",
       "      <td>None</td>\n",
       "      <td>http://store.steampowered.com/app/681550/Maze_...</td>\n",
       "    </tr>\n",
       "  </tbody>\n",
       "</table>\n",
       "<p>32135 rows × 3 columns</p>\n",
       "</div>"
      ],
      "text/plain": [
       "                        app_name                     title  \\\n",
       "88310        Lost Summoner Kitty       Lost Summoner Kitty   \n",
       "88311                  Ironbound                 Ironbound   \n",
       "88312    Real Pool 3D - Poolians   Real Pool 3D - Poolians   \n",
       "88313                    弹炸人2222                   弹炸人2222   \n",
       "88314              Log Challenge                      None   \n",
       "...                          ...                       ...   \n",
       "120440            Colony On Mars            Colony On Mars   \n",
       "120441  LOGistICAL: South Africa  LOGistICAL: South Africa   \n",
       "120442             Russian Roads             Russian Roads   \n",
       "120443       EXIT 2 - Directions       EXIT 2 - Directions   \n",
       "120444               Maze Run VR                      None   \n",
       "\n",
       "                                                      url  \n",
       "88310   http://store.steampowered.com/app/761140/Lost_...  \n",
       "88311   http://store.steampowered.com/app/643980/Ironb...  \n",
       "88312   http://store.steampowered.com/app/670290/Real_...  \n",
       "88313      http://store.steampowered.com/app/767400/2222/  \n",
       "88314   http://store.steampowered.com/app/773570/Log_C...  \n",
       "...                                                   ...  \n",
       "120440  http://store.steampowered.com/app/773640/Colon...  \n",
       "120441  http://store.steampowered.com/app/733530/LOGis...  \n",
       "120442  http://store.steampowered.com/app/610660/Russi...  \n",
       "120443  http://store.steampowered.com/app/658870/EXIT_...  \n",
       "120444  http://store.steampowered.com/app/681550/Maze_...  \n",
       "\n",
       "[32135 rows x 3 columns]"
      ]
     },
     "execution_count": 118,
     "metadata": {},
     "output_type": "execute_result"
    }
   ],
   "source": [
    "df_sg[[\"app_name\",\"title\",\"url\"]]"
   ]
  },
  {
   "cell_type": "markdown",
   "metadata": {},
   "source": [
    "    podemos decir que:\n",
    "\n",
    "* la columnaa app_name y title tienen los mismos valores\n",
    "* por lo tanto app_name sirve para rellenar donde title tenga nulo y viceversa\n",
    "* en caso de trabajar con alguna de estas columnas solo necesitariamos una pudiendo rellenar con los valores de laa otra de ser necesario\n",
    "\n",
    "tambien podemos afirmar cierta similitud con la columna url ya que al final de la url se posee el nombre y posiblemente:\n",
    "\n",
    "* se puede extraer con una expresion regular\n",
    "* reemplazar los _ por espacios y con eso podriamos conseguir el nombre"
   ]
  },
  {
   "cell_type": "markdown",
   "metadata": {},
   "source": [
    "    ahora analizemos genres tags y specs"
   ]
  },
  {
   "cell_type": "code",
   "execution_count": 119,
   "metadata": {},
   "outputs": [],
   "source": [
    "gen_tag_spec = df_sg[[\"genres\",\"tags\",\"specs\"]]"
   ]
  },
  {
   "cell_type": "code",
   "execution_count": 120,
   "metadata": {},
   "outputs": [
    {
     "data": {
      "text/html": [
       "<div>\n",
       "<style scoped>\n",
       "    .dataframe tbody tr th:only-of-type {\n",
       "        vertical-align: middle;\n",
       "    }\n",
       "\n",
       "    .dataframe tbody tr th {\n",
       "        vertical-align: top;\n",
       "    }\n",
       "\n",
       "    .dataframe thead th {\n",
       "        text-align: right;\n",
       "    }\n",
       "</style>\n",
       "<table border=\"1\" class=\"dataframe\">\n",
       "  <thead>\n",
       "    <tr style=\"text-align: right;\">\n",
       "      <th></th>\n",
       "      <th>genres</th>\n",
       "      <th>tags</th>\n",
       "      <th>specs</th>\n",
       "    </tr>\n",
       "  </thead>\n",
       "  <tbody>\n",
       "    <tr>\n",
       "      <th>88310</th>\n",
       "      <td>['Action', 'Casual', 'Indie', 'Simulation', 'S...</td>\n",
       "      <td>['Strategy', 'Action', 'Indie', 'Casual', 'Sim...</td>\n",
       "      <td>['Single-player']</td>\n",
       "    </tr>\n",
       "    <tr>\n",
       "      <th>88311</th>\n",
       "      <td>['Free to Play', 'Indie', 'RPG', 'Strategy']</td>\n",
       "      <td>['Free to Play', 'Strategy', 'Indie', 'RPG', '...</td>\n",
       "      <td>['Single-player', 'Multi-player', 'Online Mult...</td>\n",
       "    </tr>\n",
       "    <tr>\n",
       "      <th>88312</th>\n",
       "      <td>['Casual', 'Free to Play', 'Indie', 'Simulatio...</td>\n",
       "      <td>['Free to Play', 'Simulation', 'Sports', 'Casu...</td>\n",
       "      <td>['Single-player', 'Multi-player', 'Online Mult...</td>\n",
       "    </tr>\n",
       "    <tr>\n",
       "      <th>88313</th>\n",
       "      <td>['Action', 'Adventure', 'Casual']</td>\n",
       "      <td>['Action', 'Adventure', 'Casual']</td>\n",
       "      <td>['Single-player']</td>\n",
       "    </tr>\n",
       "    <tr>\n",
       "      <th>88314</th>\n",
       "      <td>None</td>\n",
       "      <td>['Action', 'Indie', 'Casual', 'Sports']</td>\n",
       "      <td>['Single-player', 'Full controller support', '...</td>\n",
       "    </tr>\n",
       "    <tr>\n",
       "      <th>...</th>\n",
       "      <td>...</td>\n",
       "      <td>...</td>\n",
       "      <td>...</td>\n",
       "    </tr>\n",
       "    <tr>\n",
       "      <th>120440</th>\n",
       "      <td>['Casual', 'Indie', 'Simulation', 'Strategy']</td>\n",
       "      <td>['Strategy', 'Indie', 'Casual', 'Simulation']</td>\n",
       "      <td>['Single-player', 'Steam Achievements']</td>\n",
       "    </tr>\n",
       "    <tr>\n",
       "      <th>120441</th>\n",
       "      <td>['Casual', 'Indie', 'Strategy']</td>\n",
       "      <td>['Strategy', 'Indie', 'Casual']</td>\n",
       "      <td>['Single-player', 'Steam Achievements', 'Steam...</td>\n",
       "    </tr>\n",
       "    <tr>\n",
       "      <th>120442</th>\n",
       "      <td>['Indie', 'Racing', 'Simulation']</td>\n",
       "      <td>['Indie', 'Simulation', 'Racing']</td>\n",
       "      <td>['Single-player', 'Steam Achievements', 'Steam...</td>\n",
       "    </tr>\n",
       "    <tr>\n",
       "      <th>120443</th>\n",
       "      <td>['Casual', 'Indie']</td>\n",
       "      <td>['Indie', 'Casual', 'Puzzle', 'Singleplayer', ...</td>\n",
       "      <td>['Single-player', 'Steam Achievements', 'Steam...</td>\n",
       "    </tr>\n",
       "    <tr>\n",
       "      <th>120444</th>\n",
       "      <td>None</td>\n",
       "      <td>['Early Access', 'Adventure', 'Indie', 'Action...</td>\n",
       "      <td>['Single-player', 'Stats', 'Steam Leaderboards...</td>\n",
       "    </tr>\n",
       "  </tbody>\n",
       "</table>\n",
       "<p>32135 rows × 3 columns</p>\n",
       "</div>"
      ],
      "text/plain": [
       "                                                   genres  \\\n",
       "88310   ['Action', 'Casual', 'Indie', 'Simulation', 'S...   \n",
       "88311        ['Free to Play', 'Indie', 'RPG', 'Strategy']   \n",
       "88312   ['Casual', 'Free to Play', 'Indie', 'Simulatio...   \n",
       "88313                   ['Action', 'Adventure', 'Casual']   \n",
       "88314                                                None   \n",
       "...                                                   ...   \n",
       "120440      ['Casual', 'Indie', 'Simulation', 'Strategy']   \n",
       "120441                    ['Casual', 'Indie', 'Strategy']   \n",
       "120442                  ['Indie', 'Racing', 'Simulation']   \n",
       "120443                                ['Casual', 'Indie']   \n",
       "120444                                               None   \n",
       "\n",
       "                                                     tags  \\\n",
       "88310   ['Strategy', 'Action', 'Indie', 'Casual', 'Sim...   \n",
       "88311   ['Free to Play', 'Strategy', 'Indie', 'RPG', '...   \n",
       "88312   ['Free to Play', 'Simulation', 'Sports', 'Casu...   \n",
       "88313                   ['Action', 'Adventure', 'Casual']   \n",
       "88314             ['Action', 'Indie', 'Casual', 'Sports']   \n",
       "...                                                   ...   \n",
       "120440      ['Strategy', 'Indie', 'Casual', 'Simulation']   \n",
       "120441                    ['Strategy', 'Indie', 'Casual']   \n",
       "120442                  ['Indie', 'Simulation', 'Racing']   \n",
       "120443  ['Indie', 'Casual', 'Puzzle', 'Singleplayer', ...   \n",
       "120444  ['Early Access', 'Adventure', 'Indie', 'Action...   \n",
       "\n",
       "                                                    specs  \n",
       "88310                                   ['Single-player']  \n",
       "88311   ['Single-player', 'Multi-player', 'Online Mult...  \n",
       "88312   ['Single-player', 'Multi-player', 'Online Mult...  \n",
       "88313                                   ['Single-player']  \n",
       "88314   ['Single-player', 'Full controller support', '...  \n",
       "...                                                   ...  \n",
       "120440            ['Single-player', 'Steam Achievements']  \n",
       "120441  ['Single-player', 'Steam Achievements', 'Steam...  \n",
       "120442  ['Single-player', 'Steam Achievements', 'Steam...  \n",
       "120443  ['Single-player', 'Steam Achievements', 'Steam...  \n",
       "120444  ['Single-player', 'Stats', 'Steam Leaderboards...  \n",
       "\n",
       "[32135 rows x 3 columns]"
      ]
     },
     "execution_count": 120,
     "metadata": {},
     "output_type": "execute_result"
    }
   ],
   "source": [
    "gen_tag_spec"
   ]
  },
  {
   "cell_type": "markdown",
   "metadata": {},
   "source": [
    "    podemos notar:\n",
    "* valores None pero que no cuentan como tales debido a que fueron convertidos a string\n",
    "* que hay algunos campos que se comparten entre genres y tags (lo que no quiere decir que todos los tags sean generos)\n",
    "* valores muy parecidos entre tags y specs pero a su vez distintos por la cadena en si\n",
    "\n",
    "    sabiendo esto podemos obtener las categorias unicas de cada columna y ver que relaciones tienen entre si\n",
    "* la interseccion  entre los valores unicos de cada columna para saber que valores de una se pueden ingresaar en otra en caso de estar faltantes"
   ]
  },
  {
   "cell_type": "markdown",
   "metadata": {},
   "source": [
    "    esto lo verifique en el etl y la columna specs no la vamos a usar tiene 1 solo elemento en comun con tags \n",
    "    mientras que tags  si tiene una buena cantidad de elementos en comun con genres\n",
    "    y en caso de ser necesario podemos rellenar genres con los valores de tags en la misma columna que esten en la interseccion entre genero y tags"
   ]
  },
  {
   "cell_type": "markdown",
   "metadata": {},
   "source": [
    "<hr>"
   ]
  },
  {
   "cell_type": "markdown",
   "metadata": {},
   "source": [
    "# ETL \"user_reviews\""
   ]
  },
  {
   "cell_type": "markdown",
   "metadata": {},
   "source": [
    "    este archivo se encontraba mal estructurado por lo que tuve que abrirlo de la siguiente manera"
   ]
  },
  {
   "cell_type": "code",
   "execution_count": 121,
   "metadata": {},
   "outputs": [],
   "source": [
    "reviews = []\n",
    "\n",
    "with open(r\"../Datasets/user_reviews.json/australian_user_reviews.json\", encoding='utf-8') as f:\n",
    "    for line in f.readlines():\n",
    "        reviews.append(ast.literal_eval(line))\n",
    "df_ur = pd.DataFrame(reviews)"
   ]
  },
  {
   "cell_type": "markdown",
   "metadata": {},
   "source": [
    "miramos el dataframe resultante"
   ]
  },
  {
   "cell_type": "code",
   "execution_count": 122,
   "metadata": {},
   "outputs": [
    {
     "data": {
      "text/html": [
       "<div>\n",
       "<style scoped>\n",
       "    .dataframe tbody tr th:only-of-type {\n",
       "        vertical-align: middle;\n",
       "    }\n",
       "\n",
       "    .dataframe tbody tr th {\n",
       "        vertical-align: top;\n",
       "    }\n",
       "\n",
       "    .dataframe thead th {\n",
       "        text-align: right;\n",
       "    }\n",
       "</style>\n",
       "<table border=\"1\" class=\"dataframe\">\n",
       "  <thead>\n",
       "    <tr style=\"text-align: right;\">\n",
       "      <th></th>\n",
       "      <th>user_id</th>\n",
       "      <th>user_url</th>\n",
       "      <th>reviews</th>\n",
       "    </tr>\n",
       "  </thead>\n",
       "  <tbody>\n",
       "    <tr>\n",
       "      <th>0</th>\n",
       "      <td>76561197970982479</td>\n",
       "      <td>http://steamcommunity.com/profiles/76561197970...</td>\n",
       "      <td>[{'funny': '', 'posted': 'Posted November 5, 2...</td>\n",
       "    </tr>\n",
       "    <tr>\n",
       "      <th>1</th>\n",
       "      <td>js41637</td>\n",
       "      <td>http://steamcommunity.com/id/js41637</td>\n",
       "      <td>[{'funny': '', 'posted': 'Posted June 24, 2014...</td>\n",
       "    </tr>\n",
       "    <tr>\n",
       "      <th>2</th>\n",
       "      <td>evcentric</td>\n",
       "      <td>http://steamcommunity.com/id/evcentric</td>\n",
       "      <td>[{'funny': '', 'posted': 'Posted February 3.',...</td>\n",
       "    </tr>\n",
       "    <tr>\n",
       "      <th>3</th>\n",
       "      <td>doctr</td>\n",
       "      <td>http://steamcommunity.com/id/doctr</td>\n",
       "      <td>[{'funny': '', 'posted': 'Posted October 14, 2...</td>\n",
       "    </tr>\n",
       "    <tr>\n",
       "      <th>4</th>\n",
       "      <td>maplemage</td>\n",
       "      <td>http://steamcommunity.com/id/maplemage</td>\n",
       "      <td>[{'funny': '3 people found this review funny',...</td>\n",
       "    </tr>\n",
       "    <tr>\n",
       "      <th>...</th>\n",
       "      <td>...</td>\n",
       "      <td>...</td>\n",
       "      <td>...</td>\n",
       "    </tr>\n",
       "    <tr>\n",
       "      <th>25794</th>\n",
       "      <td>76561198306599751</td>\n",
       "      <td>http://steamcommunity.com/profiles/76561198306...</td>\n",
       "      <td>[{'funny': '', 'posted': 'Posted May 31.', 'la...</td>\n",
       "    </tr>\n",
       "    <tr>\n",
       "      <th>25795</th>\n",
       "      <td>Ghoustik</td>\n",
       "      <td>http://steamcommunity.com/id/Ghoustik</td>\n",
       "      <td>[{'funny': '', 'posted': 'Posted June 17.', 'l...</td>\n",
       "    </tr>\n",
       "    <tr>\n",
       "      <th>25796</th>\n",
       "      <td>76561198310819422</td>\n",
       "      <td>http://steamcommunity.com/profiles/76561198310...</td>\n",
       "      <td>[{'funny': '1 person found this review funny',...</td>\n",
       "    </tr>\n",
       "    <tr>\n",
       "      <th>25797</th>\n",
       "      <td>76561198312638244</td>\n",
       "      <td>http://steamcommunity.com/profiles/76561198312...</td>\n",
       "      <td>[{'funny': '', 'posted': 'Posted July 21.', 'l...</td>\n",
       "    </tr>\n",
       "    <tr>\n",
       "      <th>25798</th>\n",
       "      <td>LydiaMorley</td>\n",
       "      <td>http://steamcommunity.com/id/LydiaMorley</td>\n",
       "      <td>[{'funny': '1 person found this review funny',...</td>\n",
       "    </tr>\n",
       "  </tbody>\n",
       "</table>\n",
       "<p>25799 rows × 3 columns</p>\n",
       "</div>"
      ],
      "text/plain": [
       "                 user_id                                           user_url  \\\n",
       "0      76561197970982479  http://steamcommunity.com/profiles/76561197970...   \n",
       "1                js41637               http://steamcommunity.com/id/js41637   \n",
       "2              evcentric             http://steamcommunity.com/id/evcentric   \n",
       "3                  doctr                 http://steamcommunity.com/id/doctr   \n",
       "4              maplemage             http://steamcommunity.com/id/maplemage   \n",
       "...                  ...                                                ...   \n",
       "25794  76561198306599751  http://steamcommunity.com/profiles/76561198306...   \n",
       "25795           Ghoustik              http://steamcommunity.com/id/Ghoustik   \n",
       "25796  76561198310819422  http://steamcommunity.com/profiles/76561198310...   \n",
       "25797  76561198312638244  http://steamcommunity.com/profiles/76561198312...   \n",
       "25798        LydiaMorley           http://steamcommunity.com/id/LydiaMorley   \n",
       "\n",
       "                                                 reviews  \n",
       "0      [{'funny': '', 'posted': 'Posted November 5, 2...  \n",
       "1      [{'funny': '', 'posted': 'Posted June 24, 2014...  \n",
       "2      [{'funny': '', 'posted': 'Posted February 3.',...  \n",
       "3      [{'funny': '', 'posted': 'Posted October 14, 2...  \n",
       "4      [{'funny': '3 people found this review funny',...  \n",
       "...                                                  ...  \n",
       "25794  [{'funny': '', 'posted': 'Posted May 31.', 'la...  \n",
       "25795  [{'funny': '', 'posted': 'Posted June 17.', 'l...  \n",
       "25796  [{'funny': '1 person found this review funny',...  \n",
       "25797  [{'funny': '', 'posted': 'Posted July 21.', 'l...  \n",
       "25798  [{'funny': '1 person found this review funny',...  \n",
       "\n",
       "[25799 rows x 3 columns]"
      ]
     },
     "execution_count": 122,
     "metadata": {},
     "output_type": "execute_result"
    }
   ],
   "source": [
    "df_ur"
   ]
  },
  {
   "cell_type": "markdown",
   "metadata": {},
   "source": [
    "donde notamos la siguiente estructura\n",
    "|columna |tipo|\n",
    "|--------|----|\n",
    "|user_id | str|\n",
    "|user_url| str|\n",
    "|reviews |list|\n",
    "\n",
    "reviews contiene una lista  con jsons anidados"
   ]
  },
  {
   "cell_type": "markdown",
   "metadata": {},
   "source": [
    "    para acceder a los valores de esta podriamos usar el metodo de pandas pd.json_normalize()"
   ]
  },
  {
   "cell_type": "code",
   "execution_count": 123,
   "metadata": {},
   "outputs": [
    {
     "data": {
      "text/html": [
       "<div>\n",
       "<style scoped>\n",
       "    .dataframe tbody tr th:only-of-type {\n",
       "        vertical-align: middle;\n",
       "    }\n",
       "\n",
       "    .dataframe tbody tr th {\n",
       "        vertical-align: top;\n",
       "    }\n",
       "\n",
       "    .dataframe thead th {\n",
       "        text-align: right;\n",
       "    }\n",
       "</style>\n",
       "<table border=\"1\" class=\"dataframe\">\n",
       "  <thead>\n",
       "    <tr style=\"text-align: right;\">\n",
       "      <th></th>\n",
       "      <th>0</th>\n",
       "      <th>1</th>\n",
       "      <th>2</th>\n",
       "      <th>3</th>\n",
       "      <th>4</th>\n",
       "      <th>5</th>\n",
       "      <th>6</th>\n",
       "      <th>7</th>\n",
       "      <th>8</th>\n",
       "      <th>9</th>\n",
       "    </tr>\n",
       "  </thead>\n",
       "  <tbody>\n",
       "    <tr>\n",
       "      <th>0</th>\n",
       "      <td>{'funny': '', 'posted': 'Posted November 5, 20...</td>\n",
       "      <td>{'funny': '', 'posted': 'Posted July 15, 2011....</td>\n",
       "      <td>{'funny': '', 'posted': 'Posted April 21, 2011...</td>\n",
       "      <td>None</td>\n",
       "      <td>None</td>\n",
       "      <td>None</td>\n",
       "      <td>None</td>\n",
       "      <td>None</td>\n",
       "      <td>None</td>\n",
       "      <td>None</td>\n",
       "    </tr>\n",
       "    <tr>\n",
       "      <th>1</th>\n",
       "      <td>{'funny': '', 'posted': 'Posted June 24, 2014....</td>\n",
       "      <td>{'funny': '', 'posted': 'Posted September 8, 2...</td>\n",
       "      <td>{'funny': '', 'posted': 'Posted November 29, 2...</td>\n",
       "      <td>None</td>\n",
       "      <td>None</td>\n",
       "      <td>None</td>\n",
       "      <td>None</td>\n",
       "      <td>None</td>\n",
       "      <td>None</td>\n",
       "      <td>None</td>\n",
       "    </tr>\n",
       "    <tr>\n",
       "      <th>2</th>\n",
       "      <td>{'funny': '', 'posted': 'Posted February 3.', ...</td>\n",
       "      <td>{'funny': '', 'posted': 'Posted December 4, 20...</td>\n",
       "      <td>{'funny': '', 'posted': 'Posted November 3, 20...</td>\n",
       "      <td>{'funny': '', 'posted': 'Posted October 15, 20...</td>\n",
       "      <td>{'funny': '', 'posted': 'Posted October 15, 20...</td>\n",
       "      <td>{'funny': '', 'posted': 'Posted October 15, 20...</td>\n",
       "      <td>None</td>\n",
       "      <td>None</td>\n",
       "      <td>None</td>\n",
       "      <td>None</td>\n",
       "    </tr>\n",
       "    <tr>\n",
       "      <th>3</th>\n",
       "      <td>{'funny': '', 'posted': 'Posted October 14, 20...</td>\n",
       "      <td>{'funny': '', 'posted': 'Posted July 28, 2012....</td>\n",
       "      <td>{'funny': '', 'posted': 'Posted June 2, 2012.'...</td>\n",
       "      <td>{'funny': '', 'posted': 'Posted June 29, 2014....</td>\n",
       "      <td>{'funny': '', 'posted': 'Posted November 22, 2...</td>\n",
       "      <td>{'funny': '', 'posted': 'Posted February 23, 2...</td>\n",
       "      <td>None</td>\n",
       "      <td>None</td>\n",
       "      <td>None</td>\n",
       "      <td>None</td>\n",
       "    </tr>\n",
       "    <tr>\n",
       "      <th>4</th>\n",
       "      <td>{'funny': '3 people found this review funny', ...</td>\n",
       "      <td>{'funny': '1 person found this review funny', ...</td>\n",
       "      <td>{'funny': '2 people found this review funny', ...</td>\n",
       "      <td>{'funny': '', 'posted': 'Posted July 11, 2013....</td>\n",
       "      <td>None</td>\n",
       "      <td>None</td>\n",
       "      <td>None</td>\n",
       "      <td>None</td>\n",
       "      <td>None</td>\n",
       "      <td>None</td>\n",
       "    </tr>\n",
       "    <tr>\n",
       "      <th>...</th>\n",
       "      <td>...</td>\n",
       "      <td>...</td>\n",
       "      <td>...</td>\n",
       "      <td>...</td>\n",
       "      <td>...</td>\n",
       "      <td>...</td>\n",
       "      <td>...</td>\n",
       "      <td>...</td>\n",
       "      <td>...</td>\n",
       "      <td>...</td>\n",
       "    </tr>\n",
       "    <tr>\n",
       "      <th>25794</th>\n",
       "      <td>{'funny': '', 'posted': 'Posted May 31.', 'las...</td>\n",
       "      <td>None</td>\n",
       "      <td>None</td>\n",
       "      <td>None</td>\n",
       "      <td>None</td>\n",
       "      <td>None</td>\n",
       "      <td>None</td>\n",
       "      <td>None</td>\n",
       "      <td>None</td>\n",
       "      <td>None</td>\n",
       "    </tr>\n",
       "    <tr>\n",
       "      <th>25795</th>\n",
       "      <td>{'funny': '', 'posted': 'Posted June 17.', 'la...</td>\n",
       "      <td>None</td>\n",
       "      <td>None</td>\n",
       "      <td>None</td>\n",
       "      <td>None</td>\n",
       "      <td>None</td>\n",
       "      <td>None</td>\n",
       "      <td>None</td>\n",
       "      <td>None</td>\n",
       "      <td>None</td>\n",
       "    </tr>\n",
       "    <tr>\n",
       "      <th>25796</th>\n",
       "      <td>{'funny': '1 person found this review funny', ...</td>\n",
       "      <td>None</td>\n",
       "      <td>None</td>\n",
       "      <td>None</td>\n",
       "      <td>None</td>\n",
       "      <td>None</td>\n",
       "      <td>None</td>\n",
       "      <td>None</td>\n",
       "      <td>None</td>\n",
       "      <td>None</td>\n",
       "    </tr>\n",
       "    <tr>\n",
       "      <th>25797</th>\n",
       "      <td>{'funny': '', 'posted': 'Posted July 21.', 'la...</td>\n",
       "      <td>{'funny': '', 'posted': 'Posted July 10.', 'la...</td>\n",
       "      <td>{'funny': '', 'posted': 'Posted July 10.', 'la...</td>\n",
       "      <td>{'funny': '', 'posted': 'Posted July 8.', 'las...</td>\n",
       "      <td>None</td>\n",
       "      <td>None</td>\n",
       "      <td>None</td>\n",
       "      <td>None</td>\n",
       "      <td>None</td>\n",
       "      <td>None</td>\n",
       "    </tr>\n",
       "    <tr>\n",
       "      <th>25798</th>\n",
       "      <td>{'funny': '1 person found this review funny', ...</td>\n",
       "      <td>{'funny': '', 'posted': 'Posted July 20.', 'la...</td>\n",
       "      <td>{'funny': '', 'posted': 'Posted July 2.', 'las...</td>\n",
       "      <td>None</td>\n",
       "      <td>None</td>\n",
       "      <td>None</td>\n",
       "      <td>None</td>\n",
       "      <td>None</td>\n",
       "      <td>None</td>\n",
       "      <td>None</td>\n",
       "    </tr>\n",
       "  </tbody>\n",
       "</table>\n",
       "<p>25799 rows × 10 columns</p>\n",
       "</div>"
      ],
      "text/plain": [
       "                                                       0  \\\n",
       "0      {'funny': '', 'posted': 'Posted November 5, 20...   \n",
       "1      {'funny': '', 'posted': 'Posted June 24, 2014....   \n",
       "2      {'funny': '', 'posted': 'Posted February 3.', ...   \n",
       "3      {'funny': '', 'posted': 'Posted October 14, 20...   \n",
       "4      {'funny': '3 people found this review funny', ...   \n",
       "...                                                  ...   \n",
       "25794  {'funny': '', 'posted': 'Posted May 31.', 'las...   \n",
       "25795  {'funny': '', 'posted': 'Posted June 17.', 'la...   \n",
       "25796  {'funny': '1 person found this review funny', ...   \n",
       "25797  {'funny': '', 'posted': 'Posted July 21.', 'la...   \n",
       "25798  {'funny': '1 person found this review funny', ...   \n",
       "\n",
       "                                                       1  \\\n",
       "0      {'funny': '', 'posted': 'Posted July 15, 2011....   \n",
       "1      {'funny': '', 'posted': 'Posted September 8, 2...   \n",
       "2      {'funny': '', 'posted': 'Posted December 4, 20...   \n",
       "3      {'funny': '', 'posted': 'Posted July 28, 2012....   \n",
       "4      {'funny': '1 person found this review funny', ...   \n",
       "...                                                  ...   \n",
       "25794                                               None   \n",
       "25795                                               None   \n",
       "25796                                               None   \n",
       "25797  {'funny': '', 'posted': 'Posted July 10.', 'la...   \n",
       "25798  {'funny': '', 'posted': 'Posted July 20.', 'la...   \n",
       "\n",
       "                                                       2  \\\n",
       "0      {'funny': '', 'posted': 'Posted April 21, 2011...   \n",
       "1      {'funny': '', 'posted': 'Posted November 29, 2...   \n",
       "2      {'funny': '', 'posted': 'Posted November 3, 20...   \n",
       "3      {'funny': '', 'posted': 'Posted June 2, 2012.'...   \n",
       "4      {'funny': '2 people found this review funny', ...   \n",
       "...                                                  ...   \n",
       "25794                                               None   \n",
       "25795                                               None   \n",
       "25796                                               None   \n",
       "25797  {'funny': '', 'posted': 'Posted July 10.', 'la...   \n",
       "25798  {'funny': '', 'posted': 'Posted July 2.', 'las...   \n",
       "\n",
       "                                                       3  \\\n",
       "0                                                   None   \n",
       "1                                                   None   \n",
       "2      {'funny': '', 'posted': 'Posted October 15, 20...   \n",
       "3      {'funny': '', 'posted': 'Posted June 29, 2014....   \n",
       "4      {'funny': '', 'posted': 'Posted July 11, 2013....   \n",
       "...                                                  ...   \n",
       "25794                                               None   \n",
       "25795                                               None   \n",
       "25796                                               None   \n",
       "25797  {'funny': '', 'posted': 'Posted July 8.', 'las...   \n",
       "25798                                               None   \n",
       "\n",
       "                                                       4  \\\n",
       "0                                                   None   \n",
       "1                                                   None   \n",
       "2      {'funny': '', 'posted': 'Posted October 15, 20...   \n",
       "3      {'funny': '', 'posted': 'Posted November 22, 2...   \n",
       "4                                                   None   \n",
       "...                                                  ...   \n",
       "25794                                               None   \n",
       "25795                                               None   \n",
       "25796                                               None   \n",
       "25797                                               None   \n",
       "25798                                               None   \n",
       "\n",
       "                                                       5     6     7     8  \\\n",
       "0                                                   None  None  None  None   \n",
       "1                                                   None  None  None  None   \n",
       "2      {'funny': '', 'posted': 'Posted October 15, 20...  None  None  None   \n",
       "3      {'funny': '', 'posted': 'Posted February 23, 2...  None  None  None   \n",
       "4                                                   None  None  None  None   \n",
       "...                                                  ...   ...   ...   ...   \n",
       "25794                                               None  None  None  None   \n",
       "25795                                               None  None  None  None   \n",
       "25796                                               None  None  None  None   \n",
       "25797                                               None  None  None  None   \n",
       "25798                                               None  None  None  None   \n",
       "\n",
       "          9  \n",
       "0      None  \n",
       "1      None  \n",
       "2      None  \n",
       "3      None  \n",
       "4      None  \n",
       "...     ...  \n",
       "25794  None  \n",
       "25795  None  \n",
       "25796  None  \n",
       "25797  None  \n",
       "25798  None  \n",
       "\n",
       "[25799 rows x 10 columns]"
      ]
     },
     "execution_count": 123,
     "metadata": {},
     "output_type": "execute_result"
    }
   ],
   "source": [
    "pd.json_normalize(df_ur[\"reviews\"])# si lo hacemos de esta forma obtendremos un dataframe de jsons"
   ]
  },
  {
   "cell_type": "code",
   "execution_count": 124,
   "metadata": {},
   "outputs": [
    {
     "data": {
      "text/html": [
       "<div>\n",
       "<style scoped>\n",
       "    .dataframe tbody tr th:only-of-type {\n",
       "        vertical-align: middle;\n",
       "    }\n",
       "\n",
       "    .dataframe tbody tr th {\n",
       "        vertical-align: top;\n",
       "    }\n",
       "\n",
       "    .dataframe thead th {\n",
       "        text-align: right;\n",
       "    }\n",
       "</style>\n",
       "<table border=\"1\" class=\"dataframe\">\n",
       "  <thead>\n",
       "    <tr style=\"text-align: right;\">\n",
       "      <th></th>\n",
       "      <th>funny</th>\n",
       "      <th>posted</th>\n",
       "      <th>last_edited</th>\n",
       "      <th>item_id</th>\n",
       "      <th>helpful</th>\n",
       "      <th>recommend</th>\n",
       "      <th>review</th>\n",
       "    </tr>\n",
       "  </thead>\n",
       "  <tbody>\n",
       "    <tr>\n",
       "      <th>0</th>\n",
       "      <td></td>\n",
       "      <td>Posted November 5, 2011.</td>\n",
       "      <td></td>\n",
       "      <td>1250</td>\n",
       "      <td>No ratings yet</td>\n",
       "      <td>True</td>\n",
       "      <td>Simple yet with great replayability. In my opi...</td>\n",
       "    </tr>\n",
       "    <tr>\n",
       "      <th>1</th>\n",
       "      <td></td>\n",
       "      <td>Posted July 15, 2011.</td>\n",
       "      <td></td>\n",
       "      <td>22200</td>\n",
       "      <td>No ratings yet</td>\n",
       "      <td>True</td>\n",
       "      <td>It's unique and worth a playthrough.</td>\n",
       "    </tr>\n",
       "    <tr>\n",
       "      <th>2</th>\n",
       "      <td></td>\n",
       "      <td>Posted April 21, 2011.</td>\n",
       "      <td></td>\n",
       "      <td>43110</td>\n",
       "      <td>No ratings yet</td>\n",
       "      <td>True</td>\n",
       "      <td>Great atmosphere. The gunplay can be a bit chu...</td>\n",
       "    </tr>\n",
       "  </tbody>\n",
       "</table>\n",
       "</div>"
      ],
      "text/plain": [
       "  funny                    posted last_edited item_id         helpful  \\\n",
       "0        Posted November 5, 2011.                1250  No ratings yet   \n",
       "1           Posted July 15, 2011.               22200  No ratings yet   \n",
       "2          Posted April 21, 2011.               43110  No ratings yet   \n",
       "\n",
       "   recommend                                             review  \n",
       "0       True  Simple yet with great replayability. In my opi...  \n",
       "1       True               It's unique and worth a playthrough.  \n",
       "2       True  Great atmosphere. The gunplay can be a bit chu...  "
      ]
     },
     "execution_count": 124,
     "metadata": {},
     "output_type": "execute_result"
    }
   ],
   "source": [
    "pd.json_normalize(df_ur[\"reviews\"][0])# si lo hacemos de esta forma obtenemos un dataframe con los valores de los json de la columna en el indice que accedemos"
   ]
  },
  {
   "cell_type": "markdown",
   "metadata": {},
   "source": [
    "    viendo que no era necesario conservar la relacion entre usuario que hace la review y la mismaa decidi separar esta columna de el archivo y crear un archivo nuevo donde tenga todos los registros en un solo datafrane"
   ]
  },
  {
   "cell_type": "markdown",
   "metadata": {},
   "source": [
    "en cuanto a user_id y iser_url los guarde en otro archivo por si fuera necesario ultilizarlos"
   ]
  },
  {
   "cell_type": "markdown",
   "metadata": {},
   "source": [
    "<hr>"
   ]
  },
  {
   "cell_type": "markdown",
   "metadata": {},
   "source": [
    "## ETL \"users_items\""
   ]
  },
  {
   "cell_type": "markdown",
   "metadata": {},
   "source": [
    "    otra vez el archivo contava con problemas de estructura y hizo falta abrirlo de esta manera"
   ]
  },
  {
   "cell_type": "code",
   "execution_count": 125,
   "metadata": {},
   "outputs": [],
   "source": [
    "items = []\n",
    "\n",
    "with open(r'../Datasets/users_items.json/australian_users_items.json', 'r', encoding='utf-8') as f:\n",
    "    for line in f.readlines():\n",
    "        items.append(ast.literal_eval(line))\n",
    "\n",
    "df_ui = pd.DataFrame(items)"
   ]
  },
  {
   "cell_type": "code",
   "execution_count": 126,
   "metadata": {},
   "outputs": [
    {
     "data": {
      "text/html": [
       "<div>\n",
       "<style scoped>\n",
       "    .dataframe tbody tr th:only-of-type {\n",
       "        vertical-align: middle;\n",
       "    }\n",
       "\n",
       "    .dataframe tbody tr th {\n",
       "        vertical-align: top;\n",
       "    }\n",
       "\n",
       "    .dataframe thead th {\n",
       "        text-align: right;\n",
       "    }\n",
       "</style>\n",
       "<table border=\"1\" class=\"dataframe\">\n",
       "  <thead>\n",
       "    <tr style=\"text-align: right;\">\n",
       "      <th></th>\n",
       "      <th>user_id</th>\n",
       "      <th>items_count</th>\n",
       "      <th>steam_id</th>\n",
       "      <th>user_url</th>\n",
       "      <th>items</th>\n",
       "    </tr>\n",
       "  </thead>\n",
       "  <tbody>\n",
       "    <tr>\n",
       "      <th>39741</th>\n",
       "      <td>Conan83</td>\n",
       "      <td>20</td>\n",
       "      <td>76561198061122121</td>\n",
       "      <td>http://steamcommunity.com/id/Conan83</td>\n",
       "      <td>[{'item_id': '10', 'item_name': 'Counter-Strik...</td>\n",
       "    </tr>\n",
       "    <tr>\n",
       "      <th>47963</th>\n",
       "      <td>meepersjeepers</td>\n",
       "      <td>10</td>\n",
       "      <td>76561198028340055</td>\n",
       "      <td>http://steamcommunity.com/id/meepersjeepers</td>\n",
       "      <td>[{'item_id': '205790', 'item_name': 'Dota 2 Te...</td>\n",
       "    </tr>\n",
       "    <tr>\n",
       "      <th>37190</th>\n",
       "      <td>sea_storm</td>\n",
       "      <td>24</td>\n",
       "      <td>76561198145331641</td>\n",
       "      <td>http://steamcommunity.com/id/sea_storm</td>\n",
       "      <td>[{'item_id': '4000', 'item_name': 'Garry's Mod...</td>\n",
       "    </tr>\n",
       "    <tr>\n",
       "      <th>82340</th>\n",
       "      <td>76561198095150825</td>\n",
       "      <td>28</td>\n",
       "      <td>76561198095150825</td>\n",
       "      <td>http://steamcommunity.com/profiles/76561198095...</td>\n",
       "      <td>[{'item_id': '4000', 'item_name': 'Garry's Mod...</td>\n",
       "    </tr>\n",
       "    <tr>\n",
       "      <th>52733</th>\n",
       "      <td>76561198046730804</td>\n",
       "      <td>6</td>\n",
       "      <td>76561198046730804</td>\n",
       "      <td>http://steamcommunity.com/profiles/76561198046...</td>\n",
       "      <td>[{'item_id': '4000', 'item_name': 'Garry's Mod...</td>\n",
       "    </tr>\n",
       "  </tbody>\n",
       "</table>\n",
       "</div>"
      ],
      "text/plain": [
       "                 user_id  items_count           steam_id  \\\n",
       "39741            Conan83           20  76561198061122121   \n",
       "47963     meepersjeepers           10  76561198028340055   \n",
       "37190          sea_storm           24  76561198145331641   \n",
       "82340  76561198095150825           28  76561198095150825   \n",
       "52733  76561198046730804            6  76561198046730804   \n",
       "\n",
       "                                                user_url  \\\n",
       "39741               http://steamcommunity.com/id/Conan83   \n",
       "47963        http://steamcommunity.com/id/meepersjeepers   \n",
       "37190             http://steamcommunity.com/id/sea_storm   \n",
       "82340  http://steamcommunity.com/profiles/76561198095...   \n",
       "52733  http://steamcommunity.com/profiles/76561198046...   \n",
       "\n",
       "                                                   items  \n",
       "39741  [{'item_id': '10', 'item_name': 'Counter-Strik...  \n",
       "47963  [{'item_id': '205790', 'item_name': 'Dota 2 Te...  \n",
       "37190  [{'item_id': '4000', 'item_name': 'Garry's Mod...  \n",
       "82340  [{'item_id': '4000', 'item_name': 'Garry's Mod...  \n",
       "52733  [{'item_id': '4000', 'item_name': 'Garry's Mod...  "
      ]
     },
     "execution_count": 126,
     "metadata": {},
     "output_type": "execute_result"
    }
   ],
   "source": [
    "df_ui.sample(5)#repetimos el sample varias veces"
   ]
  },
  {
   "cell_type": "markdown",
   "metadata": {},
   "source": []
  },
  {
   "cell_type": "markdown",
   "metadata": {},
   "source": [
    "## tipos de datos\n",
    "\n",
    "|columna|tipo|\n",
    "|-------|----|\n",
    "|user_id|str|\n",
    "|item_counts|int|\n",
    "|steam_id|int|\n",
    "|user_url|str|\n",
    "|item|list|"
   ]
  },
  {
   "cell_type": "markdown",
   "metadata": {},
   "source": [
    "en este caso como puede que si sea importante mantener la relacion entre las demas columnas y la lista  de jsons anidados tuvimos que desanidarlo de la siguiente manera:"
   ]
  },
  {
   "cell_type": "code",
   "execution_count": 127,
   "metadata": {},
   "outputs": [],
   "source": [
    "# Desanidamos la columna items\n",
    "\n",
    "desanidado = []\n",
    "for index, row in df_ui.iterrows():#este primer bucle recorre las filas y guarda los valores user_id ,user_url, y items_count en variables\n",
    "    user_id = row['user_id']\n",
    "    user_url = row['user_url']\n",
    "    user_items_count = row['items_count']\n",
    "    for df_items_dict in row['items']:# este segundo bucle itera sobre la lista de items en la columna items de la filaa de el primer bucley agrega estos campos a el diccionario de items\n",
    "        df_items_dict['user_id'] = user_id\n",
    "        df_items_dict['user_url'] = user_url\n",
    "        df_items_dict['items_count'] = user_items_count\n",
    "        desanidado.append(df_items_dict)#se agrega el diccionario de item desanidado a la lista y ahora posee esas columnas que guardan el valor relacionado a la fila en la que se encontraba el items anidado\n",
    "\n",
    "df_ui = pd.DataFrame(desanidado)#creo un dataframe con los elementos que se guardaron en la lista desanidado"
   ]
  },
  {
   "cell_type": "code",
   "execution_count": 128,
   "metadata": {},
   "outputs": [
    {
     "data": {
      "text/html": [
       "<div>\n",
       "<style scoped>\n",
       "    .dataframe tbody tr th:only-of-type {\n",
       "        vertical-align: middle;\n",
       "    }\n",
       "\n",
       "    .dataframe tbody tr th {\n",
       "        vertical-align: top;\n",
       "    }\n",
       "\n",
       "    .dataframe thead th {\n",
       "        text-align: right;\n",
       "    }\n",
       "</style>\n",
       "<table border=\"1\" class=\"dataframe\">\n",
       "  <thead>\n",
       "    <tr style=\"text-align: right;\">\n",
       "      <th></th>\n",
       "      <th>item_id</th>\n",
       "      <th>item_name</th>\n",
       "      <th>playtime_forever</th>\n",
       "      <th>playtime_2weeks</th>\n",
       "      <th>user_id</th>\n",
       "      <th>user_url</th>\n",
       "      <th>items_count</th>\n",
       "    </tr>\n",
       "  </thead>\n",
       "  <tbody>\n",
       "    <tr>\n",
       "      <th>0</th>\n",
       "      <td>10</td>\n",
       "      <td>Counter-Strike</td>\n",
       "      <td>6</td>\n",
       "      <td>0</td>\n",
       "      <td>76561197970982479</td>\n",
       "      <td>http://steamcommunity.com/profiles/76561197970...</td>\n",
       "      <td>277</td>\n",
       "    </tr>\n",
       "    <tr>\n",
       "      <th>1</th>\n",
       "      <td>20</td>\n",
       "      <td>Team Fortress Classic</td>\n",
       "      <td>0</td>\n",
       "      <td>0</td>\n",
       "      <td>76561197970982479</td>\n",
       "      <td>http://steamcommunity.com/profiles/76561197970...</td>\n",
       "      <td>277</td>\n",
       "    </tr>\n",
       "    <tr>\n",
       "      <th>2</th>\n",
       "      <td>30</td>\n",
       "      <td>Day of Defeat</td>\n",
       "      <td>7</td>\n",
       "      <td>0</td>\n",
       "      <td>76561197970982479</td>\n",
       "      <td>http://steamcommunity.com/profiles/76561197970...</td>\n",
       "      <td>277</td>\n",
       "    </tr>\n",
       "    <tr>\n",
       "      <th>3</th>\n",
       "      <td>40</td>\n",
       "      <td>Deathmatch Classic</td>\n",
       "      <td>0</td>\n",
       "      <td>0</td>\n",
       "      <td>76561197970982479</td>\n",
       "      <td>http://steamcommunity.com/profiles/76561197970...</td>\n",
       "      <td>277</td>\n",
       "    </tr>\n",
       "    <tr>\n",
       "      <th>4</th>\n",
       "      <td>50</td>\n",
       "      <td>Half-Life: Opposing Force</td>\n",
       "      <td>0</td>\n",
       "      <td>0</td>\n",
       "      <td>76561197970982479</td>\n",
       "      <td>http://steamcommunity.com/profiles/76561197970...</td>\n",
       "      <td>277</td>\n",
       "    </tr>\n",
       "    <tr>\n",
       "      <th>...</th>\n",
       "      <td>...</td>\n",
       "      <td>...</td>\n",
       "      <td>...</td>\n",
       "      <td>...</td>\n",
       "      <td>...</td>\n",
       "      <td>...</td>\n",
       "      <td>...</td>\n",
       "    </tr>\n",
       "    <tr>\n",
       "      <th>5153204</th>\n",
       "      <td>346330</td>\n",
       "      <td>BrainBread 2</td>\n",
       "      <td>0</td>\n",
       "      <td>0</td>\n",
       "      <td>76561198329548331</td>\n",
       "      <td>http://steamcommunity.com/profiles/76561198329...</td>\n",
       "      <td>7</td>\n",
       "    </tr>\n",
       "    <tr>\n",
       "      <th>5153205</th>\n",
       "      <td>373330</td>\n",
       "      <td>All Is Dust</td>\n",
       "      <td>0</td>\n",
       "      <td>0</td>\n",
       "      <td>76561198329548331</td>\n",
       "      <td>http://steamcommunity.com/profiles/76561198329...</td>\n",
       "      <td>7</td>\n",
       "    </tr>\n",
       "    <tr>\n",
       "      <th>5153206</th>\n",
       "      <td>388490</td>\n",
       "      <td>One Way To Die: Steam Edition</td>\n",
       "      <td>3</td>\n",
       "      <td>3</td>\n",
       "      <td>76561198329548331</td>\n",
       "      <td>http://steamcommunity.com/profiles/76561198329...</td>\n",
       "      <td>7</td>\n",
       "    </tr>\n",
       "    <tr>\n",
       "      <th>5153207</th>\n",
       "      <td>521570</td>\n",
       "      <td>You Have 10 Seconds 2</td>\n",
       "      <td>4</td>\n",
       "      <td>4</td>\n",
       "      <td>76561198329548331</td>\n",
       "      <td>http://steamcommunity.com/profiles/76561198329...</td>\n",
       "      <td>7</td>\n",
       "    </tr>\n",
       "    <tr>\n",
       "      <th>5153208</th>\n",
       "      <td>519140</td>\n",
       "      <td>Minds Eyes</td>\n",
       "      <td>3</td>\n",
       "      <td>3</td>\n",
       "      <td>76561198329548331</td>\n",
       "      <td>http://steamcommunity.com/profiles/76561198329...</td>\n",
       "      <td>7</td>\n",
       "    </tr>\n",
       "  </tbody>\n",
       "</table>\n",
       "<p>5153209 rows × 7 columns</p>\n",
       "</div>"
      ],
      "text/plain": [
       "        item_id                      item_name  playtime_forever  \\\n",
       "0            10                 Counter-Strike                 6   \n",
       "1            20          Team Fortress Classic                 0   \n",
       "2            30                  Day of Defeat                 7   \n",
       "3            40             Deathmatch Classic                 0   \n",
       "4            50      Half-Life: Opposing Force                 0   \n",
       "...         ...                            ...               ...   \n",
       "5153204  346330                   BrainBread 2                 0   \n",
       "5153205  373330                    All Is Dust                 0   \n",
       "5153206  388490  One Way To Die: Steam Edition                 3   \n",
       "5153207  521570          You Have 10 Seconds 2                 4   \n",
       "5153208  519140                     Minds Eyes                 3   \n",
       "\n",
       "         playtime_2weeks            user_id  \\\n",
       "0                      0  76561197970982479   \n",
       "1                      0  76561197970982479   \n",
       "2                      0  76561197970982479   \n",
       "3                      0  76561197970982479   \n",
       "4                      0  76561197970982479   \n",
       "...                  ...                ...   \n",
       "5153204                0  76561198329548331   \n",
       "5153205                0  76561198329548331   \n",
       "5153206                3  76561198329548331   \n",
       "5153207                4  76561198329548331   \n",
       "5153208                3  76561198329548331   \n",
       "\n",
       "                                                  user_url  items_count  \n",
       "0        http://steamcommunity.com/profiles/76561197970...          277  \n",
       "1        http://steamcommunity.com/profiles/76561197970...          277  \n",
       "2        http://steamcommunity.com/profiles/76561197970...          277  \n",
       "3        http://steamcommunity.com/profiles/76561197970...          277  \n",
       "4        http://steamcommunity.com/profiles/76561197970...          277  \n",
       "...                                                    ...          ...  \n",
       "5153204  http://steamcommunity.com/profiles/76561198329...            7  \n",
       "5153205  http://steamcommunity.com/profiles/76561198329...            7  \n",
       "5153206  http://steamcommunity.com/profiles/76561198329...            7  \n",
       "5153207  http://steamcommunity.com/profiles/76561198329...            7  \n",
       "5153208  http://steamcommunity.com/profiles/76561198329...            7  \n",
       "\n",
       "[5153209 rows x 7 columns]"
      ]
     },
     "execution_count": 128,
     "metadata": {},
     "output_type": "execute_result"
    }
   ],
   "source": [
    "df_ui"
   ]
  },
  {
   "cell_type": "markdown",
   "metadata": {},
   "source": [
    "    ahora tenemos este dataframe con 5153208 filas y 7 columnas que limpiamos en etl y guardamos en  un archivo pero aqui lo que queremos hacer es solo analisar diferentes cosas"
   ]
  },
  {
   "cell_type": "markdown",
   "metadata": {},
   "source": [
    "en este caso solo hay 3 columnas que nos serviria analizar las cuales seria playtime_forever , playtime_2weeks y items count\n",
    "\n",
    "el resto no por que son solo referecias a el juego que tiene en biblioteca o jugo y la cantidad de items que tiene items_count(que es igual a contar cuantas veces se repite un user_id  en el dataframe)"
   ]
  },
  {
   "cell_type": "code",
   "execution_count": 129,
   "metadata": {},
   "outputs": [],
   "source": [
    "playtime = df_ui[[\"playtime_forever\",\"playtime_2weeks\"]]"
   ]
  },
  {
   "cell_type": "code",
   "execution_count": 130,
   "metadata": {},
   "outputs": [
    {
     "data": {
      "text/html": [
       "<div>\n",
       "<style scoped>\n",
       "    .dataframe tbody tr th:only-of-type {\n",
       "        vertical-align: middle;\n",
       "    }\n",
       "\n",
       "    .dataframe tbody tr th {\n",
       "        vertical-align: top;\n",
       "    }\n",
       "\n",
       "    .dataframe thead th {\n",
       "        text-align: right;\n",
       "    }\n",
       "</style>\n",
       "<table border=\"1\" class=\"dataframe\">\n",
       "  <thead>\n",
       "    <tr style=\"text-align: right;\">\n",
       "      <th></th>\n",
       "      <th>playtime_forever</th>\n",
       "      <th>playtime_2weeks</th>\n",
       "    </tr>\n",
       "  </thead>\n",
       "  <tbody>\n",
       "    <tr>\n",
       "      <th>0</th>\n",
       "      <td>6</td>\n",
       "      <td>0</td>\n",
       "    </tr>\n",
       "    <tr>\n",
       "      <th>1</th>\n",
       "      <td>0</td>\n",
       "      <td>0</td>\n",
       "    </tr>\n",
       "    <tr>\n",
       "      <th>2</th>\n",
       "      <td>7</td>\n",
       "      <td>0</td>\n",
       "    </tr>\n",
       "    <tr>\n",
       "      <th>3</th>\n",
       "      <td>0</td>\n",
       "      <td>0</td>\n",
       "    </tr>\n",
       "    <tr>\n",
       "      <th>4</th>\n",
       "      <td>0</td>\n",
       "      <td>0</td>\n",
       "    </tr>\n",
       "    <tr>\n",
       "      <th>...</th>\n",
       "      <td>...</td>\n",
       "      <td>...</td>\n",
       "    </tr>\n",
       "    <tr>\n",
       "      <th>5153204</th>\n",
       "      <td>0</td>\n",
       "      <td>0</td>\n",
       "    </tr>\n",
       "    <tr>\n",
       "      <th>5153205</th>\n",
       "      <td>0</td>\n",
       "      <td>0</td>\n",
       "    </tr>\n",
       "    <tr>\n",
       "      <th>5153206</th>\n",
       "      <td>3</td>\n",
       "      <td>3</td>\n",
       "    </tr>\n",
       "    <tr>\n",
       "      <th>5153207</th>\n",
       "      <td>4</td>\n",
       "      <td>4</td>\n",
       "    </tr>\n",
       "    <tr>\n",
       "      <th>5153208</th>\n",
       "      <td>3</td>\n",
       "      <td>3</td>\n",
       "    </tr>\n",
       "  </tbody>\n",
       "</table>\n",
       "<p>5153209 rows × 2 columns</p>\n",
       "</div>"
      ],
      "text/plain": [
       "         playtime_forever  playtime_2weeks\n",
       "0                       6                0\n",
       "1                       0                0\n",
       "2                       7                0\n",
       "3                       0                0\n",
       "4                       0                0\n",
       "...                   ...              ...\n",
       "5153204                 0                0\n",
       "5153205                 0                0\n",
       "5153206                 3                3\n",
       "5153207                 4                4\n",
       "5153208                 3                3\n",
       "\n",
       "[5153209 rows x 2 columns]"
      ]
     },
     "execution_count": 130,
     "metadata": {},
     "output_type": "execute_result"
    }
   ],
   "source": [
    "playtime"
   ]
  },
  {
   "cell_type": "markdown",
   "metadata": {},
   "source": [
    "    podemos observar:\n",
    "* muchos valores 0  lo que indica que ese usuario no jugo nada\n",
    "* la columna playtime forever pareciera estar representada en minutos\n",
    "* playtime_2weeks hace referencia a el tiempo jugado en las ultimas 2 semanas\n",
    "\n",
    "sabiendo esto ignorare playtime_2weeks y me enfocare en play time forever"
   ]
  },
  {
   "cell_type": "code",
   "execution_count": 131,
   "metadata": {},
   "outputs": [],
   "source": [
    "del playtime[\"playtime_2weeks\"]"
   ]
  },
  {
   "cell_type": "code",
   "execution_count": 132,
   "metadata": {},
   "outputs": [
    {
     "data": {
      "text/html": [
       "<div>\n",
       "<style scoped>\n",
       "    .dataframe tbody tr th:only-of-type {\n",
       "        vertical-align: middle;\n",
       "    }\n",
       "\n",
       "    .dataframe tbody tr th {\n",
       "        vertical-align: top;\n",
       "    }\n",
       "\n",
       "    .dataframe thead th {\n",
       "        text-align: right;\n",
       "    }\n",
       "</style>\n",
       "<table border=\"1\" class=\"dataframe\">\n",
       "  <thead>\n",
       "    <tr style=\"text-align: right;\">\n",
       "      <th></th>\n",
       "      <th>playtime_forever</th>\n",
       "    </tr>\n",
       "  </thead>\n",
       "  <tbody>\n",
       "    <tr>\n",
       "      <th>0</th>\n",
       "      <td>6</td>\n",
       "    </tr>\n",
       "    <tr>\n",
       "      <th>1</th>\n",
       "      <td>0</td>\n",
       "    </tr>\n",
       "    <tr>\n",
       "      <th>2</th>\n",
       "      <td>7</td>\n",
       "    </tr>\n",
       "    <tr>\n",
       "      <th>3</th>\n",
       "      <td>0</td>\n",
       "    </tr>\n",
       "    <tr>\n",
       "      <th>4</th>\n",
       "      <td>0</td>\n",
       "    </tr>\n",
       "    <tr>\n",
       "      <th>...</th>\n",
       "      <td>...</td>\n",
       "    </tr>\n",
       "    <tr>\n",
       "      <th>5153204</th>\n",
       "      <td>0</td>\n",
       "    </tr>\n",
       "    <tr>\n",
       "      <th>5153205</th>\n",
       "      <td>0</td>\n",
       "    </tr>\n",
       "    <tr>\n",
       "      <th>5153206</th>\n",
       "      <td>3</td>\n",
       "    </tr>\n",
       "    <tr>\n",
       "      <th>5153207</th>\n",
       "      <td>4</td>\n",
       "    </tr>\n",
       "    <tr>\n",
       "      <th>5153208</th>\n",
       "      <td>3</td>\n",
       "    </tr>\n",
       "  </tbody>\n",
       "</table>\n",
       "<p>5153209 rows × 1 columns</p>\n",
       "</div>"
      ],
      "text/plain": [
       "         playtime_forever\n",
       "0                       6\n",
       "1                       0\n",
       "2                       7\n",
       "3                       0\n",
       "4                       0\n",
       "...                   ...\n",
       "5153204                 0\n",
       "5153205                 0\n",
       "5153206                 3\n",
       "5153207                 4\n",
       "5153208                 3\n",
       "\n",
       "[5153209 rows x 1 columns]"
      ]
     },
     "execution_count": 132,
     "metadata": {},
     "output_type": "execute_result"
    }
   ],
   "source": [
    "playtime"
   ]
  },
  {
   "cell_type": "code",
   "execution_count": 165,
   "metadata": {},
   "outputs": [
    {
     "data": {
      "text/plain": [
       "Text(0, 0.5, 'cantidad de usuarios')"
      ]
     },
     "execution_count": 165,
     "metadata": {},
     "output_type": "execute_result"
    },
    {
     "data": {
      "image/png": "[encoded data removed]",
      "text/plain": [
       "<Figure size 1200x800 with 1 Axes>"
      ]
     },
     "metadata": {},
     "output_type": "display_data"
    }
   ],
   "source": [
    "plt.figure(figsize=(12, 8))\n",
    "plt.hist(playtime[\"playtime_forever\"],bins=np.logspace(0, np.log10(playtime[\"playtime_forever\"].max()+1), 20))\n",
    "plt.title('Frecuencia de tiempo total jugado')\n",
    "plt.xlabel('Tiempo de juego')\n",
    "plt.ylabel('cantidad de usuarios')"
   ]
  },
  {
   "cell_type": "code",
   "execution_count": 134,
   "metadata": {},
   "outputs": [
    {
     "name": "stdout",
     "output_type": "stream",
     "text": [
      "la media es:991.4951407947941\n",
      "la mediana es:34.0\n",
      "la moda es:0\n"
     ]
    }
   ],
   "source": [
    "print(f'la media es:{np.mean(playtime[\"playtime_forever\"])}')\n",
    "print(f'la mediana es:{np.median(playtime[\"playtime_forever\"])}')\n",
    "print(f'la moda es:{playtime.mode().values[0][0]}')"
   ]
  },
  {
   "cell_type": "markdown",
   "metadata": {},
   "source": [
    "    con este grafico podemos:\n",
    "* que la distribucion esta sesgada a la  derecha ya que la moda es 0 la mediana se encuentra a la derecha (la media es mayor que la mediana)\n",
    "* ver que hay mayor cantidad de registros con pocas horas jugadas que con mayor cantidad de horas jugadas"
   ]
  },
  {
   "cell_type": "code",
   "execution_count": 166,
   "metadata": {},
   "outputs": [
    {
     "data": {
      "image/png": "[encoded data removed]",
      "text/plain": [
       "<Figure size 1200x800 with 1 Axes>"
      ]
     },
     "metadata": {},
     "output_type": "display_data"
    }
   ],
   "source": [
    "plt.figure(figsize=(12, 8))\n",
    "plt.boxplot(playtime, vert=False)\n",
    "plt.title('grafico de caja de tiempo total jugado')\n",
    "plt.xlabel('Tiempo de juego')\n",
    "plt.show()"
   ]
  },
  {
   "cell_type": "code",
   "execution_count": 136,
   "metadata": {},
   "outputs": [
    {
     "data": {
      "text/plain": [
       "642773"
      ]
     },
     "execution_count": 136,
     "metadata": {},
     "output_type": "execute_result"
    }
   ],
   "source": [
    "playtime[\"playtime_forever\"].sort_values(ascending=False).head(1).values[0]#este es el valor mas alto que hay en playtime"
   ]
  },
  {
   "cell_type": "markdown",
   "metadata": {},
   "source": [
    "    al graficar el boxplot podemos notar:\n",
    "* que al estar la maayoria de registros en 0 nos toma como que la mayoria de valores son outliers\n",
    "* cuando esto puede que no sea asi ya que es el tiempo total que se jugo y puede ser la acumulacion de varios años\n",
    "* siendo incluso el valor mas alto 642773 un valor posible para esta categoria siendo 1 año entero que puede haber acumulado durante cada tiempo de juego durante años"
   ]
  },
  {
   "cell_type": "markdown",
   "metadata": {},
   "source": [
    "    ahora analizare cantidad de item"
   ]
  },
  {
   "cell_type": "code",
   "execution_count": 137,
   "metadata": {},
   "outputs": [],
   "source": [
    "cantidad_items = df_ui[\"items_count\"]"
   ]
  },
  {
   "cell_type": "code",
   "execution_count": 138,
   "metadata": {},
   "outputs": [
    {
     "data": {
      "text/plain": [
       "0          277\n",
       "1          277\n",
       "2          277\n",
       "3          277\n",
       "4          277\n",
       "          ... \n",
       "5153204      7\n",
       "5153205      7\n",
       "5153206      7\n",
       "5153207      7\n",
       "5153208      7\n",
       "Name: items_count, Length: 5153209, dtype: int64"
      ]
     },
     "execution_count": 138,
     "metadata": {},
     "output_type": "execute_result"
    }
   ],
   "source": [
    "cantidad_items"
   ]
  },
  {
   "cell_type": "code",
   "execution_count": 167,
   "metadata": {},
   "outputs": [
    {
     "data": {
      "text/plain": [
       "Text(0, 0.5, 'cantidad de usuarios')"
      ]
     },
     "execution_count": 167,
     "metadata": {},
     "output_type": "execute_result"
    },
    {
     "data": {
      "image/png": "[encoded data removed]",
      "text/plain": [
       "<Figure size 1200x800 with 1 Axes>"
      ]
     },
     "metadata": {},
     "output_type": "display_data"
    }
   ],
   "source": [
    "plt.figure(figsize=(12, 8))\n",
    "plt.hist(cantidad_items,bins=np.logspace(0, np.log10(cantidad_items.max()+1), 20))\n",
    "plt.title('distribucion de usuarios con X cantidad de items')\n",
    "plt.xlabel('cantidad de items')\n",
    "plt.ylabel('cantidad de usuarios')"
   ]
  },
  {
   "cell_type": "code",
   "execution_count": 140,
   "metadata": {},
   "outputs": [
    {
     "name": "stdout",
     "output_type": "stream",
     "text": [
      "la media es:314.7229326425534\n",
      "la mediana es:138.0\n",
      "la moda es:51\n"
     ]
    }
   ],
   "source": [
    "print(f'la media es:{np.mean(cantidad_items)}')\n",
    "print(f'la mediana es:{np.median(cantidad_items)}')\n",
    "print(f'la moda es:{cantidad_items.mode().values[0]}')"
   ]
  },
  {
   "cell_type": "markdown",
   "metadata": {},
   "source": [
    "    esta distribucion tambien se encuentra sesgada a la derecha\n",
    "* la media es mayor a la mediana pero no por tanta diferencia como en playtime_forever\n",
    "* en este caso la moda es 51 lo que quiere decir que la mayor parte de los usuarios estan alrededor de ese numero de items(\"juegos\")en la biblioteca"
   ]
  },
  {
   "cell_type": "code",
   "execution_count": 168,
   "metadata": {},
   "outputs": [
    {
     "data": {
      "image/png": "[encoded data removed]",
      "text/plain": [
       "<Figure size 1200x800 with 1 Axes>"
      ]
     },
     "metadata": {},
     "output_type": "display_data"
    }
   ],
   "source": [
    "plt.figure(figsize=(12, 8))\n",
    "plt.boxplot(cantidad_items, vert=False)\n",
    "plt.title(\"grafico de caja de cantidad de items\")\n",
    "plt.xlabel(\"cantidad de items\")\n",
    "plt.show()"
   ]
  },
  {
   "cell_type": "markdown",
   "metadata": {},
   "source": [
    "    podemos notar:\n",
    "* que el boxplot marca una gran cantidad de valores que se consideran outliers\n",
    "* podemos notar que el 50% de los datos se encuentran por debajo de 500 (lo que puede ser logico ya que jugar muchos mas juegos seria bastante raro ya que muchos hay que pagar precios para tenerlos)\n",
    "* teniendo que de 700 items para arriba son valores atipicos"
   ]
  },
  {
   "cell_type": "code",
   "execution_count": 142,
   "metadata": {},
   "outputs": [
    {
     "data": {
      "text/plain": [
       "88310     4.99\n",
       "88311     0.00\n",
       "88312     0.00\n",
       "88313     0.99\n",
       "88314     2.99\n",
       "          ... \n",
       "120440    1.99\n",
       "120441    4.99\n",
       "120442    1.99\n",
       "120443    4.99\n",
       "120444    4.99\n",
       "Name: price, Length: 30758, dtype: float64"
      ]
     },
     "execution_count": 142,
     "metadata": {},
     "output_type": "execute_result"
    }
   ],
   "source": [
    "precio"
   ]
  },
  {
   "cell_type": "code",
   "execution_count": 170,
   "metadata": {},
   "outputs": [
    {
     "data": {
      "text/plain": [
       "Text(0, 0.5, 'cantidad de juegos')"
      ]
     },
     "execution_count": 170,
     "metadata": {},
     "output_type": "execute_result"
    },
    {
     "data": {
      "image/png": "[encoded data removed]",
      "text/plain": [
       "<Figure size 1200x800 with 1 Axes>"
      ]
     },
     "metadata": {},
     "output_type": "display_data"
    }
   ],
   "source": [
    "plt.figure(figsize=(12, 8))\n",
    "sns.histplot(precio, bins=20, kde=True, color=\"red\")\n",
    "plt.title(\"cantidad de juegos con X precios\")\n",
    "plt.xlabel(\"Precio\")\n",
    "plt.ylabel(\"cantidad de juegos\")"
   ]
  },
  {
   "cell_type": "code",
   "execution_count": 144,
   "metadata": {},
   "outputs": [
    {
     "name": "stdout",
     "output_type": "stream",
     "text": [
      "la media es:8.897676051758893\n",
      "la mediana es:4.99\n",
      "la moda es:4.99\n"
     ]
    }
   ],
   "source": [
    "print(f'la media es:{np.mean(precio)}')\n",
    "print(f'la mediana es:{np.median(precio)}')\n",
    "print(f'la moda es:{precio.mode().values[0]}')"
   ]
  },
  {
   "cell_type": "markdown",
   "metadata": {},
   "source": [
    "    con esto podemos observar:\n",
    "* esta sesgada a la derecha (la media es mayor a la mediaaanaa)\n",
    "* la mayoria de valores estan cercanos a 0 y mientras mas se alejan mas se reduce su frecuencia\n",
    "* la maayor distribucion se encuentra entre 0 y 50"
   ]
  },
  {
   "cell_type": "code",
   "execution_count": 171,
   "metadata": {},
   "outputs": [
    {
     "data": {
      "text/plain": [
       "Text(0.5, 0, 'Precio')"
      ]
     },
     "execution_count": 171,
     "metadata": {},
     "output_type": "execute_result"
    },
    {
     "data": {
      "image/png": "[encoded data removed]",
      "text/plain": [
       "<Figure size 1200x800 with 1 Axes>"
      ]
     },
     "metadata": {},
     "output_type": "display_data"
    }
   ],
   "source": [
    "plt.figure(figsize=(12, 8))\n",
    "sns.boxplot(x=precio)\n",
    "plt.title('Boxplot de Precios')\n",
    "plt.xlabel('Precio')"
   ]
  },
  {
   "cell_type": "markdown",
   "metadata": {},
   "source": [
    "    podemos notar:\n",
    "* la media y la mediana son muy ceranas a 0 \n",
    "* el boxplot nos dice que a partir de aaproximadamente 25 empieza a tomarlos como outliers"
   ]
  },
  {
   "cell_type": "markdown",
   "metadata": {},
   "source": [
    "<hr>"
   ]
  },
  {
   "cell_type": "code",
   "execution_count": 146,
   "metadata": {},
   "outputs": [],
   "source": [
    "df_recommend = pd.read_parquet(r\"../app/df_recommend.parquet\")"
   ]
  },
  {
   "cell_type": "code",
   "execution_count": 147,
   "metadata": {},
   "outputs": [],
   "source": [
    "    # Cuenta la cantidad de sentimientos 0, 1 y 2\n",
    "count0 = df_recommend[df_recommend['sentimiento'] == 0].count()\n",
    "count1 = df_recommend[df_recommend['sentimiento'] == 1].count()\n",
    "count2 = df_recommend[df_recommend['sentimiento'] == 2].count()"
   ]
  },
  {
   "cell_type": "code",
   "execution_count": 173,
   "metadata": {},
   "outputs": [
    {
     "data": {
      "text/plain": [
       "Text(0.5, 1.0, 'Distribución de Sentimientos')"
      ]
     },
     "execution_count": 173,
     "metadata": {},
     "output_type": "execute_result"
    },
    {
     "data": {
      "image/png": "[encoded data removed]",
      "text/plain": [
       "<Figure size 1200x800 with 1 Axes>"
      ]
     },
     "metadata": {},
     "output_type": "display_data"
    }
   ],
   "source": [
    "plt.figure(figsize=(12, 8))\n",
    "plt.bar([\"negativas\",\"neutrales\",\"positivas\"],[count0[\"sentimiento\"],count1[\"sentimiento\"],count2[\"sentimiento\"]],color=[\"red\",\"grey\",\"green\"])\n",
    "plt.xlabel('polaridad')\n",
    "plt.ylabel('Cantidad')\n",
    "plt.title('Distribución de Sentimientos')"
   ]
  },
  {
   "cell_type": "code",
   "execution_count": 149,
   "metadata": {},
   "outputs": [
    {
     "name": "stdout",
     "output_type": "stream",
     "text": [
      "la cantidad de comentarios negativos a juegos es:11255\n",
      "la cantidad de comentarios neutrales a juegos es:11631\n",
      "la cantidad de comentarios positivos a juegos es 30304\n"
     ]
    }
   ],
   "source": [
    "print(f'la cantidad de comentarios negativos a juegos es:{count0[\"sentimiento\"]}')\n",
    "print(f'la cantidad de comentarios neutrales a juegos es:{count1[\"sentimiento\"]}')\n",
    "print(f'la cantidad de comentarios positivos a juegos es {count2[\"sentimiento\"]}')"
   ]
  },
  {
   "cell_type": "code",
   "execution_count": 150,
   "metadata": {},
   "outputs": [],
   "source": [
    "#cuenta las recomendaciones True y false\n",
    "reco_true = df_recommend[df_recommend['recommend'] == True].count()\n",
    "reco_false = df_recommend[df_recommend['recommend'] == False].count()"
   ]
  },
  {
   "cell_type": "code",
   "execution_count": 174,
   "metadata": {},
   "outputs": [
    {
     "data": {
      "text/plain": [
       "Text(0.5, 1.0, 'cantidad de recomendaciones')"
      ]
     },
     "execution_count": 174,
     "metadata": {},
     "output_type": "execute_result"
    },
    {
     "data": {
      "image/png": "[encoded data removed]",
      "text/plain": [
       "<Figure size 1200x800 with 1 Axes>"
      ]
     },
     "metadata": {},
     "output_type": "display_data"
    }
   ],
   "source": [
    "plt.figure(figsize=(12, 8))\n",
    "plt.bar([\"se recomendo\",\"NO se recomendo\"],[reco_true[\"recommend\"],reco_false[\"recommend\"]],color=[\"green\", \"grey\"])\n",
    "plt.ylabel('Cantidad')\n",
    "plt.title('cantidad de recomendaciones')"
   ]
  },
  {
   "cell_type": "code",
   "execution_count": 152,
   "metadata": {},
   "outputs": [
    {
     "name": "stdout",
     "output_type": "stream",
     "text": [
      "la cantidad de veces que un usuario recomendo un juego:47485\n",
      "la cantidad de veces que un usuario NO recomendo un juego:5705\n"
     ]
    }
   ],
   "source": [
    "print(f'la cantidad de veces que un usuario recomendo un juego:{reco_true[\"recommend\"]}')\n",
    "print(f'la cantidad de veces que un usuario NO recomendo un juego:{reco_false[\"recommend\"]}')"
   ]
  },
  {
   "cell_type": "code",
   "execution_count": 153,
   "metadata": {},
   "outputs": [],
   "source": [
    "#cantidad juegos acceso anticipado\n",
    "eacces = df_sg[\"early_access\"]\n",
    "eaccessT = eacces[eacces == True].count()\n",
    "eaccessF = eacces[eacces == False].count()"
   ]
  },
  {
   "cell_type": "code",
   "execution_count": 154,
   "metadata": {},
   "outputs": [
    {
     "data": {
      "text/plain": [
       "Text(0.5, 1.0, 'acceso anticipado en juegos')"
      ]
     },
     "execution_count": 154,
     "metadata": {},
     "output_type": "execute_result"
    },
    {
     "data": {
      "image/png": "[encoded data removed]",
      "text/plain": [
       "<Figure size 1200x800 with 1 Axes>"
      ]
     },
     "metadata": {},
     "output_type": "display_data"
    }
   ],
   "source": [
    "plt.figure(figsize=(12, 8))\n",
    "plt.bar([\"acceso-anticipado\",\"acceso no anticipado\"],[eaccessT,eaccessF],color=[\"green\", \"grey\"])\n",
    "plt.ylabel('Cantidad')\n",
    "plt.title('acceso anticipado en juegos')"
   ]
  },
  {
   "cell_type": "code",
   "execution_count": 155,
   "metadata": {},
   "outputs": [
    {
     "name": "stdout",
     "output_type": "stream",
     "text": [
      "la cantidad de juegos que son acceso anticipado:1947\n",
      "la cantidad de juegos que no son un acceso anticipado :30188\n"
     ]
    }
   ],
   "source": [
    "print(f'la cantidad de juegos que son acceso anticipado:{eaccessT}')\n",
    "print(f'la cantidad de juegos que no son un acceso anticipado :{eaccessF}')"
   ]
  },
  {
   "cell_type": "code",
   "execution_count": 156,
   "metadata": {},
   "outputs": [],
   "source": [
    "#cargando columnas developer y publisher\n",
    "desarrollador = df_sg[\"developer\"]\n",
    "publicador = df_sg[\"publisher\"]"
   ]
  },
  {
   "cell_type": "code",
   "execution_count": 157,
   "metadata": {},
   "outputs": [],
   "source": [
    "desarrollador.dropna(inplace=True)"
   ]
  },
  {
   "cell_type": "code",
   "execution_count": 158,
   "metadata": {},
   "outputs": [],
   "source": [
    "publicador.dropna(inplace=True)"
   ]
  },
  {
   "cell_type": "code",
   "execution_count": 159,
   "metadata": {},
   "outputs": [],
   "source": [
    "#top 10 desarrolladores y publicadores que mas se repiten\n",
    "cantidad_Desarrollador = desarrollador.value_counts()\n",
    "top_desarrollador = cantidad_Desarrollador[0:10]#tomo de el elemento de el indice 0 al 9\n",
    "\n",
    "cantidad_publicador = publicador.value_counts()\n",
    "top_publicador = cantidad_publicador[0:10]#tomo de el elemento de el indice 0 al 9"
   ]
  },
  {
   "cell_type": "code",
   "execution_count": 160,
   "metadata": {},
   "outputs": [
    {
     "data": {
      "text/plain": [
       "Text(0.5, 1.0, 'top 10 desarrolladoras con mas participacion')"
      ]
     },
     "execution_count": 160,
     "metadata": {},
     "output_type": "execute_result"
    },
    {
     "data": {
      "image/png": "[encoded data removed]",
      "text/plain": [
       "<Figure size 1200x800 with 1 Axes>"
      ]
     },
     "metadata": {},
     "output_type": "display_data"
    }
   ],
   "source": [
    "plt.figure(figsize=(12, 8))\n",
    "top_desarrollador.plot(kind=\"barh\")\n",
    "plt.ylabel('desarrolladora')\n",
    "plt.xlabel('cantidad de juegos')\n",
    "plt.title('top 10 desarrolladoras con mas participacion')"
   ]
  },
  {
   "cell_type": "code",
   "execution_count": 161,
   "metadata": {},
   "outputs": [
    {
     "data": {
      "text/plain": [
       "Text(0.5, 1.0, 'publicadoras con mas participacion')"
      ]
     },
     "execution_count": 161,
     "metadata": {},
     "output_type": "execute_result"
    },
    {
     "data": {
      "image/png": "[encoded data removed]",
      "text/plain": [
       "<Figure size 1200x800 with 1 Axes>"
      ]
     },
     "metadata": {},
     "output_type": "display_data"
    }
   ],
   "source": [
    "plt.figure(figsize=(12, 8))\n",
    "top_publicador.plot(kind=\"barh\")\n",
    "plt.ylabel('publicadora')\n",
    "plt.xlabel(\"cantidad de juegos\")\n",
    "plt.title('publicadoras con mas participacion')"
   ]
  },
  {
   "cell_type": "code",
   "execution_count": 162,
   "metadata": {},
   "outputs": [
    {
     "ename": "SyntaxError",
     "evalue": "invalid syntax (2066620821.py, line 1)",
     "output_type": "error",
     "traceback": [
      "\u001b[1;36m  Cell \u001b[1;32mIn[162], line 1\u001b[1;36m\u001b[0m\n\u001b[1;33m    top juegos con mayor precio\u001b[0m\n\u001b[1;37m        ^\u001b[0m\n\u001b[1;31mSyntaxError\u001b[0m\u001b[1;31m:\u001b[0m invalid syntax\n"
     ]
    }
   ],
   "source": [
    "top juegos con mayor precio"
   ]
  },
  {
   "cell_type": "code",
   "execution_count": null,
   "metadata": {},
   "outputs": [],
   "source": [
    "#columnas juego y nombre\n",
    "jnombre_precio = df_sg[[\"app_name\",\"price\"]]"
   ]
  },
  {
   "cell_type": "code",
   "execution_count": null,
   "metadata": {},
   "outputs": [
    {
     "name": "stderr",
     "output_type": "stream",
     "text": [
      "C:\\Users\\delba\\AppData\\Local\\Temp\\ipykernel_14100\\1851988753.py:5: SettingWithCopyWarning: \n",
      "A value is trying to be set on a copy of a slice from a DataFrame\n",
      "\n",
      "See the caveats in the documentation: https://pandas.pydata.org/pandas-docs/stable/user_guide/indexing.html#returning-a-view-versus-a-copy\n",
      "  precio[precio == 'Starting at $499.00'] = 499.00\n",
      "C:\\Users\\delba\\AppData\\Local\\Temp\\ipykernel_14100\\1851988753.py:7: SettingWithCopyWarning: \n",
      "A value is trying to be set on a copy of a slice from a DataFrame\n",
      "\n",
      "See the caveats in the documentation: https://pandas.pydata.org/pandas-docs/stable/user_guide/indexing.html#returning-a-view-versus-a-copy\n",
      "  precio[precio == 'Starting at $449.00'] = 449.00\n",
      "C:\\Users\\delba\\AppData\\Local\\Temp\\ipykernel_14100\\1851988753.py:12: SettingWithCopyWarning: \n",
      "A value is trying to be set on a copy of a slice from a DataFrame\n",
      "\n",
      "See the caveats in the documentation: https://pandas.pydata.org/pandas-docs/stable/user_guide/indexing.html#returning-a-view-versus-a-copy\n",
      "  precio[precio.isin(no_num)] = 0.00\n",
      "C:\\Users\\delba\\AppData\\Local\\Temp\\ipykernel_14100\\1851988753.py:16: SettingWithCopyWarning: \n",
      "A value is trying to be set on a copy of a slice from a DataFrame.\n",
      "Try using .loc[row_indexer,col_indexer] = value instead\n",
      "\n",
      "See the caveats in the documentation: https://pandas.pydata.org/pandas-docs/stable/user_guide/indexing.html#returning-a-view-versus-a-copy\n",
      "  jnombre_precio[\"price\"] = precio\n",
      "C:\\Users\\delba\\AppData\\Local\\Temp\\ipykernel_14100\\1851988753.py:18: SettingWithCopyWarning: \n",
      "A value is trying to be set on a copy of a slice from a DataFrame\n",
      "\n",
      "See the caveats in the documentation: https://pandas.pydata.org/pandas-docs/stable/user_guide/indexing.html#returning-a-view-versus-a-copy\n",
      "  jnombre_precio.dropna(inplace=True)\n"
     ]
    }
   ],
   "source": [
    "# rellenando  valores de precio para poder graficar\n",
    "precio = jnombre_precio[\"price\"]\n",
    "\n",
    "no_num = etf.valores_no_numericos(precio)\n",
    "\n",
    "precio[precio == 'Starting at $499.00'] = 499.00\n",
    "\n",
    "precio[precio == 'Starting at $449.00'] = 449.00\n",
    "\n",
    "no_num.remove('Starting at $499.00')\n",
    "no_num.remove('Starting at $449.00')\n",
    "\n",
    "precio[precio.isin(no_num)] = 0.00\n",
    "\n",
    "precio =  precio.astype(float)\n",
    "\n",
    "jnombre_precio[\"price\"] = precio\n",
    "\n",
    "jnombre_precio.dropna(inplace=True)\n",
    "\n"
   ]
  },
  {
   "cell_type": "code",
   "execution_count": null,
   "metadata": {},
   "outputs": [],
   "source": [
    "top_15_juegos = jnombre_precio.sort_values(by=\"price\",ascending=False)[0:15]#tomo de el 0 al 14"
   ]
  },
  {
   "cell_type": "code",
   "execution_count": null,
   "metadata": {},
   "outputs": [
    {
     "data": {
      "text/plain": [
       "Text(0.5, 1.0, 'top 15 juegos mas caros')"
      ]
     },
     "execution_count": 77,
     "metadata": {},
     "output_type": "execute_result"
    },
    {
     "data": {
      "image/png": "[encoded data removed]",
      "text/plain": [
       "<Figure size 1200x800 with 1 Axes>"
      ]
     },
     "metadata": {},
     "output_type": "display_data"
    }
   ],
   "source": [
    "plt.figure(figsize=(12, 8))\n",
    "plt.barh(top_15_juegos[\"app_name\"],top_15_juegos[\"price\"])\n",
    "plt.xlabel('precio')\n",
    "plt.ylabel(\"nombre de juego\")\n",
    "plt.title('top 15 juegos mas caros')"
   ]
  },
  {
   "cell_type": "code",
   "execution_count": null,
   "metadata": {},
   "outputs": [],
   "source": [
    "# release date(año)\n",
    "import re\n",
    "juegosporaño = juegosporaño[[\"id\",\"release_date\"]]\n",
    "\n",
    "juegosporaño.dropna(inplace=True)\n",
    "juegosporaño.drop_duplicates(inplace=True)\n",
    "\n",
    "pattern = r'\\b\\d{4}\\b'#expresion regular donde  haya 4 numeros juntos \n",
    "\n",
    "# Función para aplicar la expresión regular\n",
    "def obtener_año(value):\n",
    "    match = re.search(pattern, str(value))\n",
    "    if match:\n",
    "        return match.group()\n",
    "    else:\n",
    "        return value\n",
    "\n",
    "# Aplicar la función a la columna 'release_date'\n",
    "juegosporaño['release_date'] = juegosporaño['release_date'].apply(obtener_año)\n",
    "\n",
    "no_anio = etf.valores_no_numericos(juegosporaño[\"release_date\"])#la funcion devuelveuna lista y la guardo en una variable\n",
    "\n",
    "juegosporaño = juegosporaño[~juegosporaño['release_date'].isin(no_anio)]# filtrando el df en donde release_date NO tiene los valores que obtuvimos que no se podian pasar a numerico y sobrescribimos el dataframe con este sin esos valores\n",
    "\n",
    "juegosporaño['release_date'] = pd.to_datetime(juegosporaño['release_date'], errors='coerce').dt.year"
   ]
  },
  {
   "cell_type": "code",
   "execution_count": null,
   "metadata": {},
   "outputs": [],
   "source": [
    "juegosporaño = juegosporaño.groupby('release_date')['id'].count()"
   ]
  },
  {
   "cell_type": "code",
   "execution_count": 176,
   "metadata": {},
   "outputs": [
    {
     "data": {
      "text/plain": [
       "Text(0.5, 1.0, 'lanzamiento de juegos por año')"
      ]
     },
     "execution_count": 176,
     "metadata": {},
     "output_type": "execute_result"
    },
    {
     "data": {
      "image/png": "[encoded data removed]",
      "text/plain": [
       "<Figure size 1400x1000 with 1 Axes>"
      ]
     },
     "metadata": {},
     "output_type": "display_data"
    }
   ],
   "source": [
    "plt.figure(figsize=(14, 10))\n",
    "juegosporaño.plot(kind=\"line\")\n",
    "plt.xlabel('año de salida')\n",
    "plt.ylabel(\"cantidad de juegos\")\n",
    "plt.title('lanzamiento de juegos por año')"
   ]
  }
 ],
 "metadata": {
  "kernelspec": {
   "display_name": "Python 3",
   "language": "python",
   "name": "python3"
  },
  "language_info": {
   "codemirror_mode": {
    "name": "ipython",
    "version": 3
   },
   "file_extension": ".py",
   "mimetype": "text/x-python",
   "name": "python",
   "nbconvert_exporter": "python",
   "pygments_lexer": "ipython3",
   "version": "3.11.5"
  }
 },
 "nbformat": 4,
 "nbformat_minor": 2
}
