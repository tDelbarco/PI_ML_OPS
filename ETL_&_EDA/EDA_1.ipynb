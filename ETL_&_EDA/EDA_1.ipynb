{
 "cells": [
  {
   "cell_type": "markdown",
   "metadata": {},
   "source": [
    "# !IMPORTANTE: \n",
    "    debido a que muchos datos no se encuentran en condiciones de ser graficados se contara  con un  segundo archivo EDA_Parte2 donde se realizara tanto el analisis estadistico como el analisis de correlacion bi y multivariado"
   ]
  },
  {
   "cell_type": "code",
   "execution_count": 1,
   "metadata": {},
   "outputs": [],
   "source": [
    "import numpy as np\n",
    "import pandas as pd\n",
    "import seaborn as sns\n",
    "import ast\n",
    "from matplotlib import pyplot as plt\n",
    "import ETL_functions as etf"
   ]
  },
  {
   "cell_type": "markdown",
   "metadata": {},
   "source": [
    "<hr>"
   ]
  },
  {
   "cell_type": "markdown",
   "metadata": {},
   "source": [
    "## EDA \"steam_games\""
   ]
  },
  {
   "cell_type": "markdown",
   "metadata": {},
   "source": [
    "<hr>"
   ]
  },
  {
   "cell_type": "markdown",
   "metadata": {},
   "source": [
    "### cargando datos y primeras observaciones"
   ]
  },
  {
   "cell_type": "code",
   "execution_count": 2,
   "metadata": {},
   "outputs": [],
   "source": [
    "df_sg = pd.read_json(r\"../Datasets/steam_games.json/output_steam_games.json\", lines=True)#cargando el archivo"
   ]
  },
  {
   "cell_type": "code",
   "execution_count": 3,
   "metadata": {},
   "outputs": [
    {
     "data": {
      "text/plain": [
       "(120445, 13)"
      ]
     },
     "execution_count": 3,
     "metadata": {},
     "output_type": "execute_result"
    }
   ],
   "source": [
    "df_sg.shape # dimensiones (filas,columnas) "
   ]
  },
  {
   "cell_type": "code",
   "execution_count": 4,
   "metadata": {},
   "outputs": [
    {
     "data": {
      "text/html": [
       "<div>\n",
       "<style scoped>\n",
       "    .dataframe tbody tr th:only-of-type {\n",
       "        vertical-align: middle;\n",
       "    }\n",
       "\n",
       "    .dataframe tbody tr th {\n",
       "        vertical-align: top;\n",
       "    }\n",
       "\n",
       "    .dataframe thead th {\n",
       "        text-align: right;\n",
       "    }\n",
       "</style>\n",
       "<table border=\"1\" class=\"dataframe\">\n",
       "  <thead>\n",
       "    <tr style=\"text-align: right;\">\n",
       "      <th></th>\n",
       "      <th>publisher</th>\n",
       "      <th>genres</th>\n",
       "      <th>app_name</th>\n",
       "      <th>title</th>\n",
       "      <th>url</th>\n",
       "      <th>release_date</th>\n",
       "      <th>tags</th>\n",
       "      <th>reviews_url</th>\n",
       "      <th>specs</th>\n",
       "      <th>price</th>\n",
       "      <th>early_access</th>\n",
       "      <th>id</th>\n",
       "      <th>developer</th>\n",
       "    </tr>\n",
       "  </thead>\n",
       "  <tbody>\n",
       "    <tr>\n",
       "      <th>36460</th>\n",
       "      <td>None</td>\n",
       "      <td>None</td>\n",
       "      <td>None</td>\n",
       "      <td>None</td>\n",
       "      <td>None</td>\n",
       "      <td>None</td>\n",
       "      <td>None</td>\n",
       "      <td>None</td>\n",
       "      <td>None</td>\n",
       "      <td>None</td>\n",
       "      <td>NaN</td>\n",
       "      <td>NaN</td>\n",
       "      <td>None</td>\n",
       "    </tr>\n",
       "    <tr>\n",
       "      <th>68670</th>\n",
       "      <td>None</td>\n",
       "      <td>None</td>\n",
       "      <td>None</td>\n",
       "      <td>None</td>\n",
       "      <td>None</td>\n",
       "      <td>None</td>\n",
       "      <td>None</td>\n",
       "      <td>None</td>\n",
       "      <td>None</td>\n",
       "      <td>None</td>\n",
       "      <td>NaN</td>\n",
       "      <td>NaN</td>\n",
       "      <td>None</td>\n",
       "    </tr>\n",
       "    <tr>\n",
       "      <th>113682</th>\n",
       "      <td>None</td>\n",
       "      <td>[Casual, Simulation]</td>\n",
       "      <td>Rocksmith® 2014 – Kiss - “Love Gun”</td>\n",
       "      <td>Rocksmith® 2014 – Kiss - “Love Gun”</td>\n",
       "      <td>http://store.steampowered.com/app/390366/Rocks...</td>\n",
       "      <td>2015-10-13</td>\n",
       "      <td>[Casual, Simulation]</td>\n",
       "      <td>http://steamcommunity.com/app/390366/reviews/?...</td>\n",
       "      <td>[Single-player, Shared/Split Screen, Downloada...</td>\n",
       "      <td>2.99</td>\n",
       "      <td>0.0</td>\n",
       "      <td>390366.0</td>\n",
       "      <td>Ubisoft - San Francisco</td>\n",
       "    </tr>\n",
       "    <tr>\n",
       "      <th>29050</th>\n",
       "      <td>None</td>\n",
       "      <td>None</td>\n",
       "      <td>None</td>\n",
       "      <td>None</td>\n",
       "      <td>None</td>\n",
       "      <td>None</td>\n",
       "      <td>None</td>\n",
       "      <td>None</td>\n",
       "      <td>None</td>\n",
       "      <td>None</td>\n",
       "      <td>NaN</td>\n",
       "      <td>NaN</td>\n",
       "      <td>None</td>\n",
       "    </tr>\n",
       "    <tr>\n",
       "      <th>91241</th>\n",
       "      <td>Dovetail Games - Trains</td>\n",
       "      <td>[Simulation]</td>\n",
       "      <td>Train Simulator: GWR Small Prairies Loco Add-On</td>\n",
       "      <td>Train Simulator: GWR Small Prairies Loco Add-On</td>\n",
       "      <td>http://store.steampowered.com/app/277753/Train...</td>\n",
       "      <td>2014-12-10</td>\n",
       "      <td>[Simulation, Trains, Building, Driving, Open W...</td>\n",
       "      <td>http://steamcommunity.com/app/277753/reviews/?...</td>\n",
       "      <td>[Single-player, Downloadable Content, Steam Ac...</td>\n",
       "      <td>24.99</td>\n",
       "      <td>0.0</td>\n",
       "      <td>277753.0</td>\n",
       "      <td>Victory Works</td>\n",
       "    </tr>\n",
       "  </tbody>\n",
       "</table>\n",
       "</div>"
      ],
      "text/plain": [
       "                      publisher                genres  \\\n",
       "36460                      None                  None   \n",
       "68670                      None                  None   \n",
       "113682                     None  [Casual, Simulation]   \n",
       "29050                      None                  None   \n",
       "91241   Dovetail Games - Trains          [Simulation]   \n",
       "\n",
       "                                               app_name  \\\n",
       "36460                                              None   \n",
       "68670                                              None   \n",
       "113682              Rocksmith® 2014 – Kiss - “Love Gun”   \n",
       "29050                                              None   \n",
       "91241   Train Simulator: GWR Small Prairies Loco Add-On   \n",
       "\n",
       "                                                  title  \\\n",
       "36460                                              None   \n",
       "68670                                              None   \n",
       "113682              Rocksmith® 2014 – Kiss - “Love Gun”   \n",
       "29050                                              None   \n",
       "91241   Train Simulator: GWR Small Prairies Loco Add-On   \n",
       "\n",
       "                                                      url release_date  \\\n",
       "36460                                                None         None   \n",
       "68670                                                None         None   \n",
       "113682  http://store.steampowered.com/app/390366/Rocks...   2015-10-13   \n",
       "29050                                                None         None   \n",
       "91241   http://store.steampowered.com/app/277753/Train...   2014-12-10   \n",
       "\n",
       "                                                     tags  \\\n",
       "36460                                                None   \n",
       "68670                                                None   \n",
       "113682                               [Casual, Simulation]   \n",
       "29050                                                None   \n",
       "91241   [Simulation, Trains, Building, Driving, Open W...   \n",
       "\n",
       "                                              reviews_url  \\\n",
       "36460                                                None   \n",
       "68670                                                None   \n",
       "113682  http://steamcommunity.com/app/390366/reviews/?...   \n",
       "29050                                                None   \n",
       "91241   http://steamcommunity.com/app/277753/reviews/?...   \n",
       "\n",
       "                                                    specs  price  \\\n",
       "36460                                                None   None   \n",
       "68670                                                None   None   \n",
       "113682  [Single-player, Shared/Split Screen, Downloada...   2.99   \n",
       "29050                                                None   None   \n",
       "91241   [Single-player, Downloadable Content, Steam Ac...  24.99   \n",
       "\n",
       "        early_access        id                developer  \n",
       "36460            NaN       NaN                     None  \n",
       "68670            NaN       NaN                     None  \n",
       "113682           0.0  390366.0  Ubisoft - San Francisco  \n",
       "29050            NaN       NaN                     None  \n",
       "91241            0.0  277753.0            Victory Works  "
      ]
     },
     "execution_count": 4,
     "metadata": {},
     "output_type": "execute_result"
    }
   ],
   "source": [
    "df_sg.sample(5)#ejecute esta linea aprox(5) veces para tener una vision mas amplia de algunos datos aleatorios del df \n",
    "               #notando que hay muchas filas llenas de valores None o NaN\n",
    "               #a demas hay columnas que contienen listas como valores"
   ]
  },
  {
   "cell_type": "markdown",
   "metadata": {},
   "source": [
    "### tipos de datos"
   ]
  },
  {
   "cell_type": "code",
   "execution_count": 5,
   "metadata": {},
   "outputs": [
    {
     "name": "stdout",
     "output_type": "stream",
     "text": [
      "<class 'pandas.core.frame.DataFrame'>\n",
      "RangeIndex: 120445 entries, 0 to 120444\n",
      "Data columns (total 13 columns):\n",
      " #   Column        Non-Null Count  Dtype  \n",
      "---  ------        --------------  -----  \n",
      " 0   publisher     24083 non-null  object \n",
      " 1   genres        28852 non-null  object \n",
      " 2   app_name      32133 non-null  object \n",
      " 3   title         30085 non-null  object \n",
      " 4   url           32135 non-null  object \n",
      " 5   release_date  30068 non-null  object \n",
      " 6   tags          31972 non-null  object \n",
      " 7   reviews_url   32133 non-null  object \n",
      " 8   specs         31465 non-null  object \n",
      " 9   price         30758 non-null  object \n",
      " 10  early_access  32135 non-null  float64\n",
      " 11  id            32133 non-null  float64\n",
      " 12  developer     28836 non-null  object \n",
      "dtypes: float64(2), object(11)\n",
      "memory usage: 11.9+ MB\n"
     ]
    }
   ],
   "source": [
    "df_sg.info()#podemos notar que solo contamos con 2 columnas numericas (id,early_access) siendo inecesario analizar con un describe estas\n",
    "            #podemos ver ademas que early access es float cuando deberia ser un bool(true o false){aclarado en el diccionario} o int (0 o 1)"
   ]
  },
  {
   "cell_type": "code",
   "execution_count": 6,
   "metadata": {},
   "outputs": [
    {
     "data": {
      "text/plain": [
       "['Free To Play',\n",
       " 'Free to Play',\n",
       " 'Free',\n",
       " 'Free Demo',\n",
       " 'Play for Free!',\n",
       " 'Install Now',\n",
       " 'Play WARMACHINE: Tactics Demo',\n",
       " 'Free Mod',\n",
       " 'Install Theme',\n",
       " 'Third-party',\n",
       " 'Play Now',\n",
       " 'Free HITMAN™ Holiday Pack',\n",
       " 'Play the Demo',\n",
       " 'Starting at $499.00',\n",
       " 'Starting at $449.00',\n",
       " 'Free to Try',\n",
       " 'Free Movie',\n",
       " 'Free to Use']"
      ]
     },
     "execution_count": 6,
     "metadata": {},
     "output_type": "execute_result"
    }
   ],
   "source": [
    "# podemos notar que la columna price no se encuentra en float esto puede deberse a que hay valores no convertibles\n",
    "# para verificar esto e creado una funcion que me ayudara cuando deba corregir esto en un archivo llamado ETL_functions.py el cual importe como etf\n",
    "etf.valores_no_numericos(df_sg[\"price\"])"
   ]
  },
  {
   "cell_type": "markdown",
   "metadata": {},
   "source": [
    "### valores nulos"
   ]
  },
  {
   "cell_type": "code",
   "execution_count": 7,
   "metadata": {},
   "outputs": [
    {
     "data": {
      "text/plain": [
       "publisher       96362\n",
       "genres          91593\n",
       "app_name        88312\n",
       "title           90360\n",
       "url             88310\n",
       "release_date    90377\n",
       "tags            88473\n",
       "reviews_url     88312\n",
       "specs           88980\n",
       "price           89687\n",
       "early_access    88310\n",
       "id              88312\n",
       "developer       91609\n",
       "dtype: int64"
      ]
     },
     "execution_count": 7,
     "metadata": {},
     "output_type": "execute_result"
    }
   ],
   "source": [
    "df_sg.isna().sum() #estos son los campos con valores nulos y su cantidad de nulos"
   ]
  },
  {
   "cell_type": "markdown",
   "metadata": {},
   "source": [
    "### valores duplicados"
   ]
  },
  {
   "cell_type": "code",
   "execution_count": 8,
   "metadata": {},
   "outputs": [],
   "source": [
    "#tuve que cambiar el tipo de datos a str por que tenian listas como valor  y no me permitian validar duplicados\n",
    "df_sg[\"genres\"] = df_sg[\"genres\"].astype(str)\n",
    "df_sg[\"tags\"] = df_sg[\"tags\"].astype(str)\n",
    "df_sg[\"specs\"] = df_sg[\"specs\"].astype(str)"
   ]
  },
  {
   "cell_type": "code",
   "execution_count": 9,
   "metadata": {},
   "outputs": [
    {
     "data": {
      "text/plain": [
       "88309"
      ]
     },
     "execution_count": 9,
     "metadata": {},
     "output_type": "execute_result"
    }
   ],
   "source": [
    "df_sg.duplicated().sum()# cantidad de registros duplicados"
   ]
  },
  {
   "cell_type": "code",
   "execution_count": 10,
   "metadata": {},
   "outputs": [
    {
     "data": {
      "text/plain": [
       "32136"
      ]
     },
     "execution_count": 10,
     "metadata": {},
     "output_type": "execute_result"
    }
   ],
   "source": [
    "120445 - 88309 # filas totales - filas duplicadas = aproximacion de (datos a trabajar)\n",
    "               # tener en cuenta que al borrar duplicados aun asi nos quedara un registro\n",
    "               # unico de las filas que tenian todos sus valores en null la cual deberemos retirar"
   ]
  },
  {
   "cell_type": "markdown",
   "metadata": {},
   "source": [
    "<hr>"
   ]
  },
  {
   "cell_type": "markdown",
   "metadata": {},
   "source": [
    "## EDA \"user_reviews\""
   ]
  },
  {
   "cell_type": "markdown",
   "metadata": {},
   "source": [
    "### cargando datos y primeras observaciones"
   ]
  },
  {
   "cell_type": "code",
   "execution_count": 11,
   "metadata": {},
   "outputs": [],
   "source": [
    "#carga de el archivo\n",
    "reviews = []\n",
    "with open(r\"../Datasets/user_reviews.json/australian_user_reviews.json\", 'r', encoding='utf-8') as f:\n",
    "    # loop for insert data into list\n",
    "    for line in f.readlines():\n",
    "        reviews.append(ast.literal_eval(line))\n",
    "df_ur = pd.DataFrame(reviews)"
   ]
  },
  {
   "cell_type": "code",
   "execution_count": 12,
   "metadata": {},
   "outputs": [
    {
     "data": {
      "text/html": [
       "<div>\n",
       "<style scoped>\n",
       "    .dataframe tbody tr th:only-of-type {\n",
       "        vertical-align: middle;\n",
       "    }\n",
       "\n",
       "    .dataframe tbody tr th {\n",
       "        vertical-align: top;\n",
       "    }\n",
       "\n",
       "    .dataframe thead th {\n",
       "        text-align: right;\n",
       "    }\n",
       "</style>\n",
       "<table border=\"1\" class=\"dataframe\">\n",
       "  <thead>\n",
       "    <tr style=\"text-align: right;\">\n",
       "      <th></th>\n",
       "      <th>user_id</th>\n",
       "      <th>user_url</th>\n",
       "      <th>reviews</th>\n",
       "    </tr>\n",
       "  </thead>\n",
       "  <tbody>\n",
       "    <tr>\n",
       "      <th>3912</th>\n",
       "      <td>76561198067285046</td>\n",
       "      <td>http://steamcommunity.com/profiles/76561198067...</td>\n",
       "      <td>[{'funny': '', 'posted': 'Posted December 4, 2...</td>\n",
       "    </tr>\n",
       "    <tr>\n",
       "      <th>17983</th>\n",
       "      <td>76561198028024146</td>\n",
       "      <td>http://steamcommunity.com/profiles/76561198028...</td>\n",
       "      <td>[{'funny': '', 'posted': 'Posted March 13.', '...</td>\n",
       "    </tr>\n",
       "    <tr>\n",
       "      <th>4877</th>\n",
       "      <td>76561198046976160</td>\n",
       "      <td>http://steamcommunity.com/profiles/76561198046...</td>\n",
       "      <td>[{'funny': '', 'posted': 'Posted September 21,...</td>\n",
       "    </tr>\n",
       "    <tr>\n",
       "      <th>8828</th>\n",
       "      <td>27601MCM</td>\n",
       "      <td>http://steamcommunity.com/id/27601MCM</td>\n",
       "      <td>[{'funny': '', 'posted': 'Posted September 12,...</td>\n",
       "    </tr>\n",
       "    <tr>\n",
       "      <th>13301</th>\n",
       "      <td>2spookis</td>\n",
       "      <td>http://steamcommunity.com/id/2spookis</td>\n",
       "      <td>[{'funny': '', 'posted': 'Posted November 27, ...</td>\n",
       "    </tr>\n",
       "  </tbody>\n",
       "</table>\n",
       "</div>"
      ],
      "text/plain": [
       "                 user_id                                           user_url  \\\n",
       "3912   76561198067285046  http://steamcommunity.com/profiles/76561198067...   \n",
       "17983  76561198028024146  http://steamcommunity.com/profiles/76561198028...   \n",
       "4877   76561198046976160  http://steamcommunity.com/profiles/76561198046...   \n",
       "8828            27601MCM              http://steamcommunity.com/id/27601MCM   \n",
       "13301           2spookis              http://steamcommunity.com/id/2spookis   \n",
       "\n",
       "                                                 reviews  \n",
       "3912   [{'funny': '', 'posted': 'Posted December 4, 2...  \n",
       "17983  [{'funny': '', 'posted': 'Posted March 13.', '...  \n",
       "4877   [{'funny': '', 'posted': 'Posted September 21,...  \n",
       "8828   [{'funny': '', 'posted': 'Posted September 12,...  \n",
       "13301  [{'funny': '', 'posted': 'Posted November 27, ...  "
      ]
     },
     "execution_count": 12,
     "metadata": {},
     "output_type": "execute_result"
    }
   ],
   "source": [
    "df_ur.sample(5)# repetimos el sample varias veces\n",
    "                # notamos que la columna reviews contiene listas\n",
    "                # y que user id contiene tanto numeros como cadenas (cosa que puede que este bien por lo que no vamos a profundizar)"
   ]
  },
  {
   "cell_type": "markdown",
   "metadata": {},
   "source": [
    "### tipos de datos\n",
    "|columna |tipo|\n",
    "|--------|----|\n",
    "|user_id | str|\n",
    "|user_url| str|\n",
    "|reviews |list|"
   ]
  },
  {
   "cell_type": "markdown",
   "metadata": {},
   "source": [
    "### valores nulos"
   ]
  },
  {
   "cell_type": "code",
   "execution_count": 13,
   "metadata": {},
   "outputs": [
    {
     "data": {
      "text/plain": [
       "user_id     0\n",
       "user_url    0\n",
       "reviews     0\n",
       "dtype: int64"
      ]
     },
     "execution_count": 13,
     "metadata": {},
     "output_type": "execute_result"
    }
   ],
   "source": [
    "df_ur.isna().sum() #estos son los campos con valores nulos y su cantidad de nulos  al parecer no hay valores nulos pero podriaa haber reviews que contengan listas vacias"
   ]
  },
  {
   "cell_type": "markdown",
   "metadata": {},
   "source": [
    "### valores duplicados"
   ]
  },
  {
   "cell_type": "code",
   "execution_count": 14,
   "metadata": {},
   "outputs": [],
   "source": [
    "df_ur[\"reviews\"] = df_ur[\"reviews\"].astype(str) #paso la columna a str para poder contar los registros dupliados"
   ]
  },
  {
   "cell_type": "code",
   "execution_count": 15,
   "metadata": {},
   "outputs": [
    {
     "data": {
      "text/plain": [
       "313"
      ]
     },
     "execution_count": 15,
     "metadata": {},
     "output_type": "execute_result"
    }
   ],
   "source": [
    "df_ur.duplicated().sum() # hay 313 registros duplicados lo que no nos interesa y los borraremos en el ETL"
   ]
  },
  {
   "cell_type": "markdown",
   "metadata": {},
   "source": [
    "<hr>"
   ]
  },
  {
   "cell_type": "markdown",
   "metadata": {},
   "source": [
    "## EDA \"users_items\""
   ]
  },
  {
   "cell_type": "markdown",
   "metadata": {},
   "source": [
    "### cargando datos y primeras observaciones"
   ]
  },
  {
   "cell_type": "code",
   "execution_count": 16,
   "metadata": {},
   "outputs": [],
   "source": [
    "items = []\n",
    "\n",
    "with open(r'../Datasets/users_items.json/australian_users_items.json', 'r', encoding='utf-8') as f:\n",
    "    for line in f.readlines():\n",
    "        items.append(ast.literal_eval(line))\n",
    "\n",
    "df_ui = pd.DataFrame(items)"
   ]
  },
  {
   "cell_type": "code",
   "execution_count": 17,
   "metadata": {},
   "outputs": [
    {
     "data": {
      "text/html": [
       "<div>\n",
       "<style scoped>\n",
       "    .dataframe tbody tr th:only-of-type {\n",
       "        vertical-align: middle;\n",
       "    }\n",
       "\n",
       "    .dataframe tbody tr th {\n",
       "        vertical-align: top;\n",
       "    }\n",
       "\n",
       "    .dataframe thead th {\n",
       "        text-align: right;\n",
       "    }\n",
       "</style>\n",
       "<table border=\"1\" class=\"dataframe\">\n",
       "  <thead>\n",
       "    <tr style=\"text-align: right;\">\n",
       "      <th></th>\n",
       "      <th>user_id</th>\n",
       "      <th>items_count</th>\n",
       "      <th>steam_id</th>\n",
       "      <th>user_url</th>\n",
       "      <th>items</th>\n",
       "    </tr>\n",
       "  </thead>\n",
       "  <tbody>\n",
       "    <tr>\n",
       "      <th>45492</th>\n",
       "      <td>Greggs_place</td>\n",
       "      <td>8</td>\n",
       "      <td>76561198005852745</td>\n",
       "      <td>http://steamcommunity.com/id/Greggs_place</td>\n",
       "      <td>[{'item_id': '240', 'item_name': 'Counter-Stri...</td>\n",
       "    </tr>\n",
       "    <tr>\n",
       "      <th>28063</th>\n",
       "      <td>gtr33m</td>\n",
       "      <td>136</td>\n",
       "      <td>76561198006147691</td>\n",
       "      <td>http://steamcommunity.com/id/gtr33m</td>\n",
       "      <td>[{'item_id': '220', 'item_name': 'Half-Life 2'...</td>\n",
       "    </tr>\n",
       "    <tr>\n",
       "      <th>2959</th>\n",
       "      <td>76561198070410552</td>\n",
       "      <td>101</td>\n",
       "      <td>76561198070410552</td>\n",
       "      <td>http://steamcommunity.com/profiles/76561198070...</td>\n",
       "      <td>[{'item_id': '240', 'item_name': 'Counter-Stri...</td>\n",
       "    </tr>\n",
       "    <tr>\n",
       "      <th>79401</th>\n",
       "      <td>76561198090065255</td>\n",
       "      <td>6</td>\n",
       "      <td>76561198090065255</td>\n",
       "      <td>http://steamcommunity.com/profiles/76561198090...</td>\n",
       "      <td>[{'item_id': '205790', 'item_name': 'Dota 2 Te...</td>\n",
       "    </tr>\n",
       "    <tr>\n",
       "      <th>53242</th>\n",
       "      <td>76561198048004455</td>\n",
       "      <td>0</td>\n",
       "      <td>76561198048004455</td>\n",
       "      <td>http://steamcommunity.com/profiles/76561198048...</td>\n",
       "      <td>[]</td>\n",
       "    </tr>\n",
       "  </tbody>\n",
       "</table>\n",
       "</div>"
      ],
      "text/plain": [
       "                 user_id  items_count           steam_id  \\\n",
       "45492       Greggs_place            8  76561198005852745   \n",
       "28063             gtr33m          136  76561198006147691   \n",
       "2959   76561198070410552          101  76561198070410552   \n",
       "79401  76561198090065255            6  76561198090065255   \n",
       "53242  76561198048004455            0  76561198048004455   \n",
       "\n",
       "                                                user_url  \\\n",
       "45492          http://steamcommunity.com/id/Greggs_place   \n",
       "28063                http://steamcommunity.com/id/gtr33m   \n",
       "2959   http://steamcommunity.com/profiles/76561198070...   \n",
       "79401  http://steamcommunity.com/profiles/76561198090...   \n",
       "53242  http://steamcommunity.com/profiles/76561198048...   \n",
       "\n",
       "                                                   items  \n",
       "45492  [{'item_id': '240', 'item_name': 'Counter-Stri...  \n",
       "28063  [{'item_id': '220', 'item_name': 'Half-Life 2'...  \n",
       "2959   [{'item_id': '240', 'item_name': 'Counter-Stri...  \n",
       "79401  [{'item_id': '205790', 'item_name': 'Dota 2 Te...  \n",
       "53242                                                 []  "
      ]
     },
     "execution_count": 17,
     "metadata": {},
     "output_type": "execute_result"
    }
   ],
   "source": [
    "df_ui.sample(5)#repetimos el sample varias veces"
   ]
  },
  {
   "cell_type": "markdown",
   "metadata": {},
   "source": []
  },
  {
   "cell_type": "markdown",
   "metadata": {},
   "source": [
    "## tipos de datos\n",
    "\n",
    "|columna|tipo|\n",
    "|-------|----|\n",
    "|user_id|str|\n",
    "|item_counts|int|\n",
    "|steam_id|int|\n",
    "|user_url|str|\n",
    "|item|list|"
   ]
  },
  {
   "cell_type": "code",
   "execution_count": 18,
   "metadata": {},
   "outputs": [
    {
     "name": "stdout",
     "output_type": "stream",
     "text": [
      "<class 'pandas.core.frame.DataFrame'>\n",
      "RangeIndex: 88310 entries, 0 to 88309\n",
      "Data columns (total 5 columns):\n",
      " #   Column       Non-Null Count  Dtype \n",
      "---  ------       --------------  ----- \n",
      " 0   user_id      88310 non-null  object\n",
      " 1   items_count  88310 non-null  int64 \n",
      " 2   steam_id     88310 non-null  object\n",
      " 3   user_url     88310 non-null  object\n",
      " 4   items        88310 non-null  object\n",
      "dtypes: int64(1), object(4)\n",
      "memory usage: 3.4+ MB\n"
     ]
    }
   ],
   "source": [
    "df_ui.info()"
   ]
  },
  {
   "cell_type": "code",
   "execution_count": 19,
   "metadata": {},
   "outputs": [
    {
     "data": {
      "text/plain": [
       "[]"
      ]
     },
     "execution_count": 19,
     "metadata": {},
     "output_type": "execute_result"
    }
   ],
   "source": [
    "#steam_id no se encuentra en int pero al parecer no tiene valores no numericos solo se debe a que tiene numeros muy grandes y el tipo de dato de pandas debe ser un dtype que pueda contener  un numero asi de grande \n",
    "etf.valores_no_numericos(df_ui[\"steam_id\"])"
   ]
  },
  {
   "cell_type": "markdown",
   "metadata": {},
   "source": [
    "### valores nulos"
   ]
  },
  {
   "cell_type": "code",
   "execution_count": 20,
   "metadata": {},
   "outputs": [
    {
     "data": {
      "text/plain": [
       "user_id        0\n",
       "items_count    0\n",
       "steam_id       0\n",
       "user_url       0\n",
       "items          0\n",
       "dtype: int64"
      ]
     },
     "execution_count": 20,
     "metadata": {},
     "output_type": "execute_result"
    }
   ],
   "source": [
    "df_ui.isna().sum() #estos son los campos con valores nulos y su cantidad de nulos \n",
    "#dice no tener valores nulos pero items puede contener listas vacias (como  podemos verificar en el sample y son equivalentes a nulls)"
   ]
  },
  {
   "cell_type": "markdown",
   "metadata": {},
   "source": [
    "### valores duplicados"
   ]
  },
  {
   "cell_type": "code",
   "execution_count": 21,
   "metadata": {},
   "outputs": [],
   "source": [
    "df_ui[\"items\"] = df_ui[\"items\"].astype(str)#convertirmos a str para poder verificar duplicados"
   ]
  },
  {
   "cell_type": "code",
   "execution_count": 22,
   "metadata": {},
   "outputs": [
    {
     "data": {
      "text/plain": [
       "657"
      ]
     },
     "execution_count": 22,
     "metadata": {},
     "output_type": "execute_result"
    }
   ],
   "source": [
    "df_ui.duplicated().sum()#tiene 657 que los borrare"
   ]
  },
  {
   "cell_type": "markdown",
   "metadata": {},
   "source": [
    "<hr>"
   ]
  },
  {
   "cell_type": "markdown",
   "metadata": {},
   "source": [
    "## vizualizando filas para hallar relaciones"
   ]
  },
  {
   "cell_type": "code",
   "execution_count": 23,
   "metadata": {},
   "outputs": [
    {
     "data": {
      "text/html": [
       "<div>\n",
       "<style scoped>\n",
       "    .dataframe tbody tr th:only-of-type {\n",
       "        vertical-align: middle;\n",
       "    }\n",
       "\n",
       "    .dataframe tbody tr th {\n",
       "        vertical-align: top;\n",
       "    }\n",
       "\n",
       "    .dataframe thead th {\n",
       "        text-align: right;\n",
       "    }\n",
       "</style>\n",
       "<table border=\"1\" class=\"dataframe\">\n",
       "  <thead>\n",
       "    <tr style=\"text-align: right;\">\n",
       "      <th></th>\n",
       "      <th>publisher</th>\n",
       "      <th>genres</th>\n",
       "      <th>app_name</th>\n",
       "      <th>title</th>\n",
       "      <th>url</th>\n",
       "      <th>release_date</th>\n",
       "      <th>tags</th>\n",
       "      <th>reviews_url</th>\n",
       "      <th>specs</th>\n",
       "      <th>price</th>\n",
       "      <th>early_access</th>\n",
       "      <th>id</th>\n",
       "      <th>developer</th>\n",
       "    </tr>\n",
       "  </thead>\n",
       "  <tbody>\n",
       "    <tr>\n",
       "      <th>0</th>\n",
       "      <td>None</td>\n",
       "      <td>None</td>\n",
       "      <td>None</td>\n",
       "      <td>None</td>\n",
       "      <td>None</td>\n",
       "      <td>None</td>\n",
       "      <td>None</td>\n",
       "      <td>None</td>\n",
       "      <td>None</td>\n",
       "      <td>None</td>\n",
       "      <td>NaN</td>\n",
       "      <td>NaN</td>\n",
       "      <td>None</td>\n",
       "    </tr>\n",
       "  </tbody>\n",
       "</table>\n",
       "</div>"
      ],
      "text/plain": [
       "  publisher genres app_name title   url release_date  tags reviews_url specs  \\\n",
       "0      None   None     None  None  None         None  None        None  None   \n",
       "\n",
       "  price  early_access  id developer  \n",
       "0  None           NaN NaN      None  "
      ]
     },
     "execution_count": 23,
     "metadata": {},
     "output_type": "execute_result"
    }
   ],
   "source": [
    "df_sg.head(1)"
   ]
  },
  {
   "cell_type": "code",
   "execution_count": 24,
   "metadata": {},
   "outputs": [
    {
     "data": {
      "text/html": [
       "<div>\n",
       "<style scoped>\n",
       "    .dataframe tbody tr th:only-of-type {\n",
       "        vertical-align: middle;\n",
       "    }\n",
       "\n",
       "    .dataframe tbody tr th {\n",
       "        vertical-align: top;\n",
       "    }\n",
       "\n",
       "    .dataframe thead th {\n",
       "        text-align: right;\n",
       "    }\n",
       "</style>\n",
       "<table border=\"1\" class=\"dataframe\">\n",
       "  <thead>\n",
       "    <tr style=\"text-align: right;\">\n",
       "      <th></th>\n",
       "      <th>user_id</th>\n",
       "      <th>user_url</th>\n",
       "      <th>reviews</th>\n",
       "    </tr>\n",
       "  </thead>\n",
       "  <tbody>\n",
       "    <tr>\n",
       "      <th>0</th>\n",
       "      <td>76561197970982479</td>\n",
       "      <td>http://steamcommunity.com/profiles/76561197970...</td>\n",
       "      <td>[{'funny': '', 'posted': 'Posted November 5, 2...</td>\n",
       "    </tr>\n",
       "  </tbody>\n",
       "</table>\n",
       "</div>"
      ],
      "text/plain": [
       "             user_id                                           user_url  \\\n",
       "0  76561197970982479  http://steamcommunity.com/profiles/76561197970...   \n",
       "\n",
       "                                             reviews  \n",
       "0  [{'funny': '', 'posted': 'Posted November 5, 2...  "
      ]
     },
     "execution_count": 24,
     "metadata": {},
     "output_type": "execute_result"
    }
   ],
   "source": [
    "df_ur.head(1)"
   ]
  },
  {
   "cell_type": "code",
   "execution_count": 25,
   "metadata": {},
   "outputs": [
    {
     "data": {
      "text/html": [
       "<div>\n",
       "<style scoped>\n",
       "    .dataframe tbody tr th:only-of-type {\n",
       "        vertical-align: middle;\n",
       "    }\n",
       "\n",
       "    .dataframe tbody tr th {\n",
       "        vertical-align: top;\n",
       "    }\n",
       "\n",
       "    .dataframe thead th {\n",
       "        text-align: right;\n",
       "    }\n",
       "</style>\n",
       "<table border=\"1\" class=\"dataframe\">\n",
       "  <thead>\n",
       "    <tr style=\"text-align: right;\">\n",
       "      <th></th>\n",
       "      <th>user_id</th>\n",
       "      <th>items_count</th>\n",
       "      <th>steam_id</th>\n",
       "      <th>user_url</th>\n",
       "      <th>items</th>\n",
       "    </tr>\n",
       "  </thead>\n",
       "  <tbody>\n",
       "    <tr>\n",
       "      <th>0</th>\n",
       "      <td>76561197970982479</td>\n",
       "      <td>277</td>\n",
       "      <td>76561197970982479</td>\n",
       "      <td>http://steamcommunity.com/profiles/76561197970...</td>\n",
       "      <td>[{'item_id': '10', 'item_name': 'Counter-Strik...</td>\n",
       "    </tr>\n",
       "  </tbody>\n",
       "</table>\n",
       "</div>"
      ],
      "text/plain": [
       "             user_id  items_count           steam_id  \\\n",
       "0  76561197970982479          277  76561197970982479   \n",
       "\n",
       "                                            user_url  \\\n",
       "0  http://steamcommunity.com/profiles/76561197970...   \n",
       "\n",
       "                                               items  \n",
       "0  [{'item_id': '10', 'item_name': 'Counter-Strik...  "
      ]
     },
     "execution_count": 25,
     "metadata": {},
     "output_type": "execute_result"
    }
   ],
   "source": [
    "df_ui.head(1)"
   ]
  },
  {
   "cell_type": "markdown",
   "metadata": {},
   "source": [
    "### vizualizando columnas anidadadas en listas"
   ]
  },
  {
   "cell_type": "code",
   "execution_count": 26,
   "metadata": {},
   "outputs": [
    {
     "data": {
      "text/plain": [
       "'[{\\'item_id\\': \\'10\\', \\'item_name\\': \\'Counter-Strike\\', \\'playtime_forever\\': 6, \\'playtime_2weeks\\': 0}, {\\'item_id\\': \\'20\\', \\'item_name\\': \\'Team Fortress Classic\\', \\'playtime_forever\\': 0, \\'playtime_2weeks\\': 0}, {\\'item_id\\': \\'30\\', \\'item_name\\': \\'Day of Defeat\\', \\'playtime_forever\\': 7, \\'playtime_2weeks\\': 0}, {\\'item_id\\': \\'40\\', \\'item_name\\': \\'Deathmatch Classic\\', \\'playtime_forever\\': 0, \\'playtime_2weeks\\': 0}, {\\'item_id\\': \\'50\\', \\'item_name\\': \\'Half-Life: Opposing Force\\', \\'playtime_forever\\': 0, \\'playtime_2weeks\\': 0}, {\\'item_id\\': \\'60\\', \\'item_name\\': \\'Ricochet\\', \\'playtime_forever\\': 0, \\'playtime_2weeks\\': 0}, {\\'item_id\\': \\'70\\', \\'item_name\\': \\'Half-Life\\', \\'playtime_forever\\': 0, \\'playtime_2weeks\\': 0}, {\\'item_id\\': \\'130\\', \\'item_name\\': \\'Half-Life: Blue Shift\\', \\'playtime_forever\\': 0, \\'playtime_2weeks\\': 0}, {\\'item_id\\': \\'300\\', \\'item_name\\': \\'Day of Defeat: Source\\', \\'playtime_forever\\': 4733, \\'playtime_2weeks\\': 0}, {\\'item_id\\': \\'240\\', \\'item_name\\': \\'Counter-Strike: Source\\', \\'playtime_forever\\': 1853, \\'playtime_2weeks\\': 0}, {\\'item_id\\': \\'3830\\', \\'item_name\\': \\'Psychonauts\\', \\'playtime_forever\\': 333, \\'playtime_2weeks\\': 0}, {\\'item_id\\': \\'2630\\', \\'item_name\\': \\'Call of Duty 2\\', \\'playtime_forever\\': 75, \\'playtime_2weeks\\': 0}, {\\'item_id\\': \\'3900\\', \\'item_name\\': \"Sid Meier\\'s Civilization IV\", \\'playtime_forever\\': 338, \\'playtime_2weeks\\': 0}, {\\'item_id\\': \\'34440\\', \\'item_name\\': \"Sid Meier\\'s Civilization IV\", \\'playtime_forever\\': 0, \\'playtime_2weeks\\': 0}, {\\'item_id\\': \\'3920\\', \\'item_name\\': \"Sid Meier\\'s Pirates!\", \\'playtime_forever\\': 2, \\'playtime_2weeks\\': 0}, {\\'item_id\\': \\'6400\\', \\'item_name\\': \\'Joint Task Force\\', \\'playtime_forever\\': 286, \\'playtime_2weeks\\': 0}, {\\'item_id\\': \\'6910\\', \\'item_name\\': \\'Deus Ex: Game of the Year Edition\\', \\'playtime_forever\\': 2685, \\'playtime_2weeks\\': 0}, {\\'item_id\\': \\'7670\\', \\'item_name\\': \\'BioShock\\', \\'playtime_forever\\': 633, \\'playtime_2weeks\\': 0}, {\\'item_id\\': \\'409710\\', \\'item_name\\': \\'BioShock Remastered\\', \\'playtime_forever\\': 0, \\'playtime_2weeks\\': 0}, {\\'item_id\\': \\'220\\', \\'item_name\\': \\'Half-Life 2\\', \\'playtime_forever\\': 696, \\'playtime_2weeks\\': 0}, {\\'item_id\\': \\'320\\', \\'item_name\\': \\'Half-Life 2: Deathmatch\\', \\'playtime_forever\\': 0, \\'playtime_2weeks\\': 0}, {\\'item_id\\': \\'340\\', \\'item_name\\': \\'Half-Life 2: Lost Coast\\', \\'playtime_forever\\': 37, \\'playtime_2weeks\\': 0}, {\\'item_id\\': \\'360\\', \\'item_name\\': \\'Half-Life Deathmatch: Source\\', \\'playtime_forever\\': 0, \\'playtime_2weeks\\': 0}, {\\'item_id\\': \\'380\\', \\'item_name\\': \\'Half-Life 2: Episode One\\', \\'playtime_forever\\': 168, \\'playtime_2weeks\\': 0}, {\\'item_id\\': \\'400\\', \\'item_name\\': \\'Portal\\', \\'playtime_forever\\': 173, \\'playtime_2weeks\\': 0}, {\\'item_id\\': \\'420\\', \\'item_name\\': \\'Half-Life 2: Episode Two\\', \\'playtime_forever\\': 323, \\'playtime_2weeks\\': 0}, {\\'item_id\\': \\'9340\\', \\'item_name\\': \\'Company of Heroes: Opposing Fronts\\', \\'playtime_forever\\': 692, \\'playtime_2weeks\\': 0}, {\\'item_id\\': \\'228200\\', \\'item_name\\': \\'Company of Heroes (New Steam Version)\\', \\'playtime_forever\\': 0, \\'playtime_2weeks\\': 0}, {\\'item_id\\': \\'11450\\', \\'item_name\\': \\'Overlord\\', \\'playtime_forever\\': 0, \\'playtime_2weeks\\': 0}, {\\'item_id\\': \\'7940\\', \\'item_name\\': \\'Call of Duty 4: Modern Warfare\\', \\'playtime_forever\\': 1185, \\'playtime_2weeks\\': 0}, {\\'item_id\\': \\'4700\\', \\'item_name\\': \\'Medieval II: Total War\\', \\'playtime_forever\\': 477, \\'playtime_2weeks\\': 0}, {\\'item_id\\': \\'12900\\', \\'item_name\\': \\'Audiosurf\\', \\'playtime_forever\\': 115, \\'playtime_2weeks\\': 0}, {\\'item_id\\': \\'13250\\', \\'item_name\\': \\'Unreal Gold\\', \\'playtime_forever\\': 0, \\'playtime_2weeks\\': 0}, {\\'item_id\\': \\'16100\\', \\'item_name\\': \\'Virtual Villagers: A New Home\\', \\'playtime_forever\\': 0, \\'playtime_2weeks\\': 0}, {\\'item_id\\': \\'15700\\', \\'item_name\\': \"Oddworld: Abe\\'s Oddysee\", \\'playtime_forever\\': 28, \\'playtime_2weeks\\': 0}, {\\'item_id\\': \\'15710\\', \\'item_name\\': \"Oddworld: Abe\\'s Exoddus\", \\'playtime_forever\\': 0, \\'playtime_2weeks\\': 0}, {\\'item_id\\': \\'17330\\', \\'item_name\\': \\'Crysis Warhead\\', \\'playtime_forever\\': 31, \\'playtime_2weeks\\': 0}, {\\'item_id\\': \\'17340\\', \\'item_name\\': \\'Crysis Wars\\', \\'playtime_forever\\': 0, \\'playtime_2weeks\\': 0}, {\\'item_id\\': \\'22000\\', \\'item_name\\': \\'World of Goo\\', \\'playtime_forever\\': 195, \\'playtime_2weeks\\': 0}, {\\'item_id\\': \\'500\\', \\'item_name\\': \\'Left 4 Dead\\', \\'playtime_forever\\': 513, \\'playtime_2weeks\\': 0}, {\\'item_id\\': \\'4560\\', \\'item_name\\': \\'Company of Heroes\\', \\'playtime_forever\\': 1061, \\'playtime_2weeks\\': 0}, {\\'item_id\\': \\'17460\\', \\'item_name\\': \\'Mass Effect\\', \\'playtime_forever\\': 1613, \\'playtime_2weeks\\': 0}, {\\'item_id\\': \\'10500\\', \\'item_name\\': \\'Empire: Total War\\', \\'playtime_forever\\': 186, \\'playtime_2weeks\\': 0}, {\\'item_id\\': \\'24740\\', \\'item_name\\': \\'Burnout Paradise: The Ultimate Box\\', \\'playtime_forever\\': 0, \\'playtime_2weeks\\': 0}, {\\'item_id\\': \\'22200\\', \\'item_name\\': \\'Zeno Clash\\', \\'playtime_forever\\': 271, \\'playtime_2weeks\\': 0}, {\\'item_id\\': \\'26800\\', \\'item_name\\': \\'Braid\\', \\'playtime_forever\\': 445, \\'playtime_2weeks\\': 0}, {\\'item_id\\': \\'1250\\', \\'item_name\\': \\'Killing Floor\\', \\'playtime_forever\\': 10006, \\'playtime_2weeks\\': 0}, {\\'item_id\\': \\'35420\\', \\'item_name\\': \\'Killing Floor Mod: Defence Alliance 2\\', \\'playtime_forever\\': 0, \\'playtime_2weeks\\': 0}, {\\'item_id\\': \\'3590\\', \\'item_name\\': \\'Plants vs. Zombies: Game of the Year\\', \\'playtime_forever\\': 4413, \\'playtime_2weeks\\': 0}, {\\'item_id\\': \\'8880\\', \\'item_name\\': \\'Freedom Force\\', \\'playtime_forever\\': 0, \\'playtime_2weeks\\': 0}, {\\'item_id\\': \\'8890\\', \\'item_name\\': \\'Freedom Force vs. the 3rd Reich\\', \\'playtime_forever\\': 0, \\'playtime_2weeks\\': 0}, {\\'item_id\\': \\'23120\\', \\'item_name\\': \\'Droplitz\\', \\'playtime_forever\\': 53, \\'playtime_2weeks\\': 0}, {\\'item_id\\': \\'35700\\', \\'item_name\\': \\'Trine\\', \\'playtime_forever\\': 199, \\'playtime_2weeks\\': 0}, {\\'item_id\\': \\'10140\\', \\'item_name\\': \\'3D Ultra Minigolf Adventures Deluxe\\', \\'playtime_forever\\': 25, \\'playtime_2weeks\\': 0}, {\\'item_id\\': \\'35010\\', \\'item_name\\': \\'Batman: Arkham Asylum\\', \\'playtime_forever\\': 570, \\'playtime_2weeks\\': 0}, {\\'item_id\\': \\'35140\\', \\'item_name\\': \\'Batman: Arkham Asylum GOTY Edition\\', \\'playtime_forever\\': 0, \\'playtime_2weeks\\': 0}, {\\'item_id\\': \\'29180\\', \\'item_name\\': \\'Osmos\\', \\'playtime_forever\\': 940, \\'playtime_2weeks\\': 0}, {\\'item_id\\': \\'15520\\', \\'item_name\\': \\'AaAaAA!!! - A Reckless Disregard for Gravity\\', \\'playtime_forever\\': 110, \\'playtime_2weeks\\': 0}, {\\'item_id\\': \\'32370\\', \\'item_name\\': \\'STAR WARS™: Knights of the Old Republic™\\', \\'playtime_forever\\': 5, \\'playtime_2weeks\\': 0}, {\\'item_id\\': \\'37700\\', \\'item_name\\': \\'Darkest of Days\\', \\'playtime_forever\\': 782, \\'playtime_2weeks\\': 0}, {\\'item_id\\': \\'6020\\', \\'item_name\\': \\'STAR WARS™ Jedi Knight: Jedi Academy™\\', \\'playtime_forever\\': 77, \\'playtime_2weeks\\': 0}, {\\'item_id\\': \\'24860\\', \\'item_name\\': \\'Battlefield 2\\', \\'playtime_forever\\': 437, \\'playtime_2weeks\\': 0}, {\\'item_id\\': \\'39530\\', \\'item_name\\': \\'Painkiller: Black Edition\\', \\'playtime_forever\\': 503, \\'playtime_2weeks\\': 0}, {\\'item_id\\': \\'550\\', \\'item_name\\': \\'Left 4 Dead 2\\', \\'playtime_forever\\': 1474, \\'playtime_2weeks\\': 0}, {\\'item_id\\': \\'223530\\', \\'item_name\\': \\'Left 4 Dead 2 Beta\\', \\'playtime_forever\\': 0, \\'playtime_2weeks\\': 0}, {\\'item_id\\': \\'8980\\', \\'item_name\\': \\'Borderlands\\', \\'playtime_forever\\': 3061, \\'playtime_2weeks\\': 0}, {\\'item_id\\': \\'41500\\', \\'item_name\\': \\'Torchlight\\', \\'playtime_forever\\': 536, \\'playtime_2weeks\\': 0}, {\\'item_id\\': \\'20900\\', \\'item_name\\': \\'The Witcher: Enhanced Edition\\', \\'playtime_forever\\': 139, \\'playtime_2weeks\\': 0}, {\\'item_id\\': \\'10180\\', \\'item_name\\': \\'Call of Duty: Modern Warfare 2\\', \\'playtime_forever\\': 1886, \\'playtime_2weeks\\': 0}, {\\'item_id\\': \\'10190\\', \\'item_name\\': \\'Call of Duty: Modern Warfare 2 - Multiplayer\\', \\'playtime_forever\\': 1784, \\'playtime_2weeks\\': 0}, {\\'item_id\\': \\'17450\\', \\'item_name\\': \\'Dragon Age: Origins\\', \\'playtime_forever\\': 4431, \\'playtime_2weeks\\': 0}, {\\'item_id\\': \\'3170\\', \\'item_name\\': \"King\\'s Bounty: Armored Princess\", \\'playtime_forever\\': 1021, \\'playtime_2weeks\\': 0}, {\\'item_id\\': \\'25900\\', \\'item_name\\': \"King\\'s Bounty: The Legend\", \\'playtime_forever\\': 1389, \\'playtime_2weeks\\': 0}, {\\'item_id\\': \\'31410\\', \\'item_name\\': \\'Zombie Driver\\', \\'playtime_forever\\': 95, \\'playtime_2weeks\\': 0}, {\\'item_id\\': \\'24980\\', \\'item_name\\': \\'Mass Effect 2\\', \\'playtime_forever\\': 5001, \\'playtime_2weeks\\': 0}, {\\'item_id\\': \\'8850\\', \\'item_name\\': \\'BioShock 2\\', \\'playtime_forever\\': 1504, \\'playtime_2weeks\\': 0}, {\\'item_id\\': \\'409720\\', \\'item_name\\': \\'BioShock 2 Remastered\\', \\'playtime_forever\\': 0, \\'playtime_2weeks\\': 0}, {\\'item_id\\': \\'46000\\', \\'item_name\\': \\'Bob Came in Pieces\\', \\'playtime_forever\\': 11, \\'playtime_2weeks\\': 0}, {\\'item_id\\': \\'33230\\', \\'item_name\\': \"Assassin\\'s Creed II\", \\'playtime_forever\\': 1636, \\'playtime_2weeks\\': 0}, {\\'item_id\\': \\'20820\\', \\'item_name\\': \\'Shatter\\', \\'playtime_forever\\': 46, \\'playtime_2weeks\\': 0}, {\\'item_id\\': \\'47700\\', \\'item_name\\': \\'Command and Conquer 4: Tiberian Twilight\\', \\'playtime_forever\\': 85, \\'playtime_2weeks\\': 0}, {\\'item_id\\': \\'24960\\', \\'item_name\\': \\'Battlefield: Bad Company 2\\', \\'playtime_forever\\': 5716, \\'playtime_2weeks\\': 0}, {\\'item_id\\': \\'43110\\', \\'item_name\\': \\'Metro 2033\\', \\'playtime_forever\\': 834, \\'playtime_2weeks\\': 0}, {\\'item_id\\': \\'8190\\', \\'item_name\\': \\'Just Cause 2\\', \\'playtime_forever\\': 3083, \\'playtime_2weeks\\': 0}, {\\'item_id\\': \\'49600\\', \\'item_name\\': \\'Beat Hazard\\', \\'playtime_forever\\': 127, \\'playtime_2weeks\\': 0}, {\\'item_id\\': \\'31220\\', \\'item_name\\': \\'Sam & Max 301: The Penal Zone\\', \\'playtime_forever\\': 71, \\'playtime_2weeks\\': 0}, {\\'item_id\\': \\'31230\\', \\'item_name\\': \\'Sam & Max 302: The Tomb of Sammun-Mak\\', \\'playtime_forever\\': 0, \\'playtime_2weeks\\': 0}, {\\'item_id\\': \\'31240\\', \\'item_name\\': \"Sam & Max 303: They Stole Max\\'s Brain!\", \\'playtime_forever\\': 0, \\'playtime_2weeks\\': 0}, {\\'item_id\\': \\'31250\\', \\'item_name\\': \\'Sam & Max 304: Beyond the Alley of the Dolls\\', \\'playtime_forever\\': 0, \\'playtime_2weeks\\': 0}, {\\'item_id\\': \\'31260\\', \\'item_name\\': \\'Sam & Max 305: The City that Dares not Sleep\\', \\'playtime_forever\\': 0, \\'playtime_2weeks\\': 0}, {\\'item_id\\': \\'21090\\', \\'item_name\\': \\'F.E.A.R.\\', \\'playtime_forever\\': 585, \\'playtime_2weeks\\': 0}, {\\'item_id\\': \\'21110\\', \\'item_name\\': \\'F.E.A.R.: Extraction Point\\', \\'playtime_forever\\': 146, \\'playtime_2weeks\\': 0}, {\\'item_id\\': \\'21120\\', \\'item_name\\': \\'F.E.A.R.: Perseus Mandate\\', \\'playtime_forever\\': 0, \\'playtime_2weeks\\': 0}, {\\'item_id\\': \\'49400\\', \\'item_name\\': \\'Magic: The Gathering - Duels of the Planeswalkers\\', \\'playtime_forever\\': 32, \\'playtime_2weeks\\': 0}, {\\'item_id\\': \\'33910\\', \\'item_name\\': \\'Arma 2\\', \\'playtime_forever\\': 3, \\'playtime_2weeks\\': 0}, {\\'item_id\\': \\'33930\\', \\'item_name\\': \\'Arma 2: Operation Arrowhead\\', \\'playtime_forever\\': 3, \\'playtime_2weeks\\': 0}, {\\'item_id\\': \\'219540\\', \\'item_name\\': \\'Arma 2: Operation Arrowhead Beta (Obsolete)\\', \\'playtime_forever\\': 0, \\'playtime_2weeks\\': 0}, {\\'item_id\\': \\'17410\\', \\'item_name\\': \"Mirror\\'s Edge\", \\'playtime_forever\\': 0, \\'playtime_2weeks\\': 0}, {\\'item_id\\': \\'205790\\', \\'item_name\\': \\'Dota 2 Test\\', \\'playtime_forever\\': 0, \\'playtime_2weeks\\': 0}, {\\'item_id\\': \\'50130\\', \\'item_name\\': \\'Mafia II\\', \\'playtime_forever\\': 707, \\'playtime_2weeks\\': 0}, {\\'item_id\\': \\'62100\\', \\'item_name\\': \\'Chime\\', \\'playtime_forever\\': 50, \\'playtime_2weeks\\': 0}, {\\'item_id\\': \\'31280\\', \\'item_name\\': \\'Poker Night at the Inventory\\', \\'playtime_forever\\': 206, \\'playtime_2weeks\\': 0}, {\\'item_id\\': \\'57300\\', \\'item_name\\': \\'Amnesia: The Dark Descent\\', \\'playtime_forever\\': 12, \\'playtime_2weeks\\': 0}, {\\'item_id\\': \\'21970\\', \\'item_name\\': \\'R.U.S.E\\', \\'playtime_forever\\': 64, \\'playtime_2weeks\\': 0}, {\\'item_id\\': \\'8930\\', \\'item_name\\': \"Sid Meier\\'s Civilization V\", \\'playtime_forever\\': 10345, \\'playtime_2weeks\\': 0}, {\\'item_id\\': \\'41000\\', \\'item_name\\': \\'Serious Sam HD: The First Encounter\\', \\'playtime_forever\\': 369, \\'playtime_2weeks\\': 0}, {\\'item_id\\': \\'41050\\', \\'item_name\\': \\'Serious Sam Classic: The First Encounter\\', \\'playtime_forever\\': 76, \\'playtime_2weeks\\': 0}, {\\'item_id\\': \\'41060\\', \\'item_name\\': \\'Serious Sam Classic: The Second Encounter\\', \\'playtime_forever\\': 0, \\'playtime_2weeks\\': 0}, {\\'item_id\\': \\'227780\\', \\'item_name\\': \\'Serious Sam Classics: Revolution\\', \\'playtime_forever\\': 0, \\'playtime_2weeks\\': 0}, {\\'item_id\\': \\'18040\\', \\'item_name\\': \\'DeathSpank\\', \\'playtime_forever\\': 594, \\'playtime_2weeks\\': 0}, {\\'item_id\\': \\'22380\\', \\'item_name\\': \\'Fallout: New Vegas\\', \\'playtime_forever\\': 43, \\'playtime_2weeks\\': 0}, {\\'item_id\\': \\'42700\\', \\'item_name\\': \\'Call of Duty: Black Ops\\', \\'playtime_forever\\': 966, \\'playtime_2weeks\\': 0}, {\\'item_id\\': \\'42710\\', \\'item_name\\': \\'Call of Duty: Black Ops - Multiplayer\\', \\'playtime_forever\\': 2452, \\'playtime_2weeks\\': 0}, {\\'item_id\\': \\'62000\\', \\'item_name\\': \\'Flight Control HD\\', \\'playtime_forever\\': 25, \\'playtime_2weeks\\': 0}, {\\'item_id\\': \\'40800\\', \\'item_name\\': \\'Super Meat Boy\\', \\'playtime_forever\\': 119, \\'playtime_2weeks\\': 0}, {\\'item_id\\': \\'9500\\', \\'item_name\\': \\'Gish\\', \\'playtime_forever\\': 6, \\'playtime_2weeks\\': 0}, {\\'item_id\\': \\'18700\\', \\'item_name\\': \\'And Yet It Moves\\', \\'playtime_forever\\': 0, \\'playtime_2weeks\\': 0}, {\\'item_id\\': \\'31270\\', \\'item_name\\': \\'Puzzle Agent\\', \\'playtime_forever\\': 0, \\'playtime_2weeks\\': 0}, {\\'item_id\\': \\'58200\\', \\'item_name\\': \\'Jolly Rover\\', \\'playtime_forever\\': 0, \\'playtime_2weeks\\': 0}, {\\'item_id\\': \\'70400\\', \\'item_name\\': \"Recettear: An Item Shop\\'s Tale\", \\'playtime_forever\\': 537, \\'playtime_2weeks\\': 0}, {\\'item_id\\': \\'41300\\', \\'item_name\\': \\'Altitude\\', \\'playtime_forever\\': 50, \\'playtime_2weeks\\': 0}, {\\'item_id\\': \\'41800\\', \\'item_name\\': \\'Gratuitous Space Battles\\', \\'playtime_forever\\': 149, \\'playtime_2weeks\\': 0}, {\\'item_id\\': \\'42500\\', \\'item_name\\': \\'DogFighter\\', \\'playtime_forever\\': 0, \\'playtime_2weeks\\': 0}, {\\'item_id\\': \\'49900\\', \\'item_name\\': \\'Plain Sight\\', \\'playtime_forever\\': 23, \\'playtime_2weeks\\': 0}, {\\'item_id\\': \\'55000\\', \\'item_name\\': \\'Flotilla\\', \\'playtime_forever\\': 0, \\'playtime_2weeks\\': 0}, {\\'item_id\\': \\'34330\\', \\'item_name\\': \\'Total War: SHOGUN 2\\', \\'playtime_forever\\': 1538, \\'playtime_2weeks\\': 0}, {\\'item_id\\': \\'63200\\', \\'item_name\\': \\'Monday Night Combat\\', \\'playtime_forever\\': 573, \\'playtime_2weeks\\': 0}, {\\'item_id\\': \\'99810\\', \\'item_name\\': \\'Bulletstorm\\', \\'playtime_forever\\': 2, \\'playtime_2weeks\\': 0}, {\\'item_id\\': \\'620\\', \\'item_name\\': \\'Portal 2\\', \\'playtime_forever\\': 887, \\'playtime_2weeks\\': 0}, {\\'item_id\\': \\'42910\\', \\'item_name\\': \\'Magicka\\', \\'playtime_forever\\': 588, \\'playtime_2weeks\\': 0}, {\\'item_id\\': \\'15500\\', \\'item_name\\': \\'The Wonderful End of the World\\', \\'playtime_forever\\': 0, \\'playtime_2weeks\\': 0}, {\\'item_id\\': \\'15540\\', \\'item_name\\': \\'1... 2... 3... KICK IT! (Drop That Beat Like an Ugly Baby)\\', \\'playtime_forever\\': 4, \\'playtime_2weeks\\': 0}, {\\'item_id\\': \\'18500\\', \\'item_name\\': \\'Defense Grid: The Awakening\\', \\'playtime_forever\\': 126, \\'playtime_2weeks\\': 0}, {\\'item_id\\': \\'26500\\', \\'item_name\\': \\'Cogs\\', \\'playtime_forever\\': 0, \\'playtime_2weeks\\': 0}, {\\'item_id\\': \\'35460\\', \\'item_name\\': \\'The Ball\\', \\'playtime_forever\\': 0, \\'playtime_2weeks\\': 0}, {\\'item_id\\': \\'38700\\', \\'item_name\\': \\'Toki Tori\\', \\'playtime_forever\\': 0, \\'playtime_2weeks\\': 0}, {\\'item_id\\': \\'38720\\', \\'item_name\\': \\'RUSH\\', \\'playtime_forever\\': 0, \\'playtime_2weeks\\': 0}, {\\'item_id\\': \\'63700\\', \\'item_name\\': \\'BIT.TRIP BEAT\\', \\'playtime_forever\\': 0, \\'playtime_2weeks\\': 0}, {\\'item_id\\': \\'280\\', \\'item_name\\': \\'Half-Life: Source\\', \\'playtime_forever\\': 0, \\'playtime_2weeks\\': 0}, {\\'item_id\\': \\'20920\\', \\'item_name\\': \\'The Witcher 2: Assassins of Kings Enhanced Edition\\', \\'playtime_forever\\': 1343, \\'playtime_2weeks\\': 0}, {\\'item_id\\': \\'105600\\', \\'item_name\\': \\'Terraria\\', \\'playtime_forever\\': 772, \\'playtime_2weeks\\': 0}, {\\'item_id\\': \\'98200\\', \\'item_name\\': \\'Frozen Synapse\\', \\'playtime_forever\\': 9, \\'playtime_2weeks\\': 0}, {\\'item_id\\': \\'4500\\', \\'item_name\\': \\'S.T.A.L.K.E.R.: Shadow of Chernobyl\\', \\'playtime_forever\\': 0, \\'playtime_2weeks\\': 0}, {\\'item_id\\': \\'4540\\', \\'item_name\\': \\'Titan Quest\\', \\'playtime_forever\\': 3, \\'playtime_2weeks\\': 0}, {\\'item_id\\': \\'4550\\', \\'item_name\\': \\'Titan Quest: Immortal Throne\\', \\'playtime_forever\\': 76, \\'playtime_2weeks\\': 0}, {\\'item_id\\': \\'9480\\', \\'item_name\\': \\'Saints Row 2\\', \\'playtime_forever\\': 0, \\'playtime_2weeks\\': 0}, {\\'item_id\\': \\'15620\\', \\'item_name\\': \\'Warhammer® 40,000™: Dawn of War® II\\', \\'playtime_forever\\': 2085, \\'playtime_2weeks\\': 0}, {\\'item_id\\': \\'20500\\', \\'item_name\\': \\'Red Faction: Guerrilla Steam Edition\\', \\'playtime_forever\\': 0, \\'playtime_2weeks\\': 0}, {\\'item_id\\': \\'20570\\', \\'item_name\\': \\'Warhammer® 40,000™: Dawn of War® II - Chaos Rising™\\', \\'playtime_forever\\': 69, \\'playtime_2weeks\\': 0}, {\\'item_id\\': \\'50620\\', \\'item_name\\': \\'Darksiders\\', \\'playtime_forever\\': 101, \\'playtime_2weeks\\': 0}, {\\'item_id\\': \\'55100\\', \\'item_name\\': \\'Homefront\\', \\'playtime_forever\\': 51, \\'playtime_2weeks\\': 0}, {\\'item_id\\': \\'55140\\', \\'item_name\\': \\'MX vs. ATV Reflex\\', \\'playtime_forever\\': 0, \\'playtime_2weeks\\': 0}, {\\'item_id\\': \\'56400\\', \\'item_name\\': \\'Warhammer® 40,000™: Dawn of War® II – Retribution™\\', \\'playtime_forever\\': 678, \\'playtime_2weeks\\': 0}, {\\'item_id\\': \\'475150\\', \\'item_name\\': \\'Titan Quest Anniversary Edition\\', \\'playtime_forever\\': 0, \\'playtime_2weeks\\': 0}, {\\'item_id\\': \\'96100\\', \\'item_name\\': \\'Defy Gravity\\', \\'playtime_forever\\': 9, \\'playtime_2weeks\\': 0}, {\\'item_id\\': \\'35450\\', \\'item_name\\': \\'Rising Storm/Red Orchestra 2 Multiplayer\\', \\'playtime_forever\\': 14194, \\'playtime_2weeks\\': 0}, {\\'item_id\\': \\'236830\\', \\'item_name\\': \\'Red Orchestra 2: Heroes of Stalingrad - Single Player\\', \\'playtime_forever\\': 0, \\'playtime_2weeks\\': 0}, {\\'item_id\\': \\'72850\\', \\'item_name\\': \\'The Elder Scrolls V: Skyrim\\', \\'playtime_forever\\': 2512, \\'playtime_2weeks\\': 0}, {\\'item_id\\': \\'107100\\', \\'item_name\\': \\'Bastion\\', \\'playtime_forever\\': 640, \\'playtime_2weeks\\': 0}, {\\'item_id\\': \\'57690\\', \\'item_name\\': \\'Tropico 4\\', \\'playtime_forever\\': 1815, \\'playtime_2weeks\\': 0}, {\\'item_id\\': \\'91310\\', \\'item_name\\': \\'Dead Island\\', \\'playtime_forever\\': 2078, \\'playtime_2weeks\\': 0}, {\\'item_id\\': \\'113200\\', \\'item_name\\': \\'The Binding of Isaac\\', \\'playtime_forever\\': 1494, \\'playtime_2weeks\\': 0}, {\\'item_id\\': \\'65800\\', \\'item_name\\': \\'Dungeon Defenders\\', \\'playtime_forever\\': 130, \\'playtime_2weeks\\': 0}, {\\'item_id\\': \\'9200\\', \\'item_name\\': \\'RAGE\\', \\'playtime_forever\\': 653, \\'playtime_2weeks\\': 0}, {\\'item_id\\': \\'41070\\', \\'item_name\\': \\'Serious Sam 3: BFE\\', \\'playtime_forever\\': 716, \\'playtime_2weeks\\': 0}, {\\'item_id\\': \\'48950\\', \\'item_name\\': \\'Greed Corp\\', \\'playtime_forever\\': 72, \\'playtime_2weeks\\': 0}, {\\'item_id\\': \\'92800\\', \\'item_name\\': \\'SpaceChem\\', \\'playtime_forever\\': 262, \\'playtime_2weeks\\': 0}, {\\'item_id\\': \\'104700\\', \\'item_name\\': \\'Super Monday Night Combat\\', \\'playtime_forever\\': 44, \\'playtime_2weeks\\': 0}, {\\'item_id\\': \\'203770\\', \\'item_name\\': \\'Crusader Kings II\\', \\'playtime_forever\\': 18, \\'playtime_2weeks\\': 0}, {\\'item_id\\': \\'203810\\', \\'item_name\\': \\'Dear Esther\\', \\'playtime_forever\\': 86, \\'playtime_2weeks\\': 0}, {\\'item_id\\': \\'110800\\', \\'item_name\\': \\'L.A. Noire\\', \\'playtime_forever\\': 1204, \\'playtime_2weeks\\': 0}, {\\'item_id\\': \\'207610\\', \\'item_name\\': \\'The Walking Dead\\', \\'playtime_forever\\': 798, \\'playtime_2weeks\\': 0}, {\\'item_id\\': \\'98300\\', \\'item_name\\': \\'Toy Soldiers\\', \\'playtime_forever\\': 110, \\'playtime_2weeks\\': 0}, {\\'item_id\\': \\'50300\\', \\'item_name\\': \\'Spec Ops: The Line\\', \\'playtime_forever\\': 296, \\'playtime_2weeks\\': 0}, {\\'item_id\\': \\'204300\\', \\'item_name\\': \\'Awesomenauts\\', \\'playtime_forever\\': 0, \\'playtime_2weeks\\': 0}, {\\'item_id\\': \\'1700\\', \\'item_name\\': \\'Arx Fatalis\\', \\'playtime_forever\\': 0, \\'playtime_2weeks\\': 0}, {\\'item_id\\': \\'205100\\', \\'item_name\\': \\'Dishonored\\', \\'playtime_forever\\': 1429, \\'playtime_2weeks\\': 0}, {\\'item_id\\': \\'211120\\', \\'item_name\\': \\'The Political Machine\\', \\'playtime_forever\\': 1, \\'playtime_2weeks\\': 0}, {\\'item_id\\': \\'730\\', \\'item_name\\': \\'Counter-Strike: Global Offensive\\', \\'playtime_forever\\': 23532, \\'playtime_2weeks\\': 0}, {\\'item_id\\': \\'49520\\', \\'item_name\\': \\'Borderlands 2\\', \\'playtime_forever\\': 1303, \\'playtime_2weeks\\': 0}, {\\'item_id\\': \\'200260\\', \\'item_name\\': \\'Batman: Arkham City GOTY\\', \\'playtime_forever\\': 100, \\'playtime_2weeks\\': 0}, {\\'item_id\\': \\'212680\\', \\'item_name\\': \\'FTL: Faster Than Light\\', \\'playtime_forever\\': 500, \\'playtime_2weeks\\': 0}, {\\'item_id\\': \\'200710\\', \\'item_name\\': \\'Torchlight II\\', \\'playtime_forever\\': 459, \\'playtime_2weeks\\': 0}, {\\'item_id\\': \\'219150\\', \\'item_name\\': \\'Hotline Miami\\', \\'playtime_forever\\': 0, \\'playtime_2weeks\\': 0}, {\\'item_id\\': \\'215510\\', \\'item_name\\': \\'Rocketbirds: Hardboiled Chicken\\', \\'playtime_forever\\': 0, \\'playtime_2weeks\\': 0}, {\\'item_id\\': \\'8870\\', \\'item_name\\': \\'BioShock Infinite\\', \\'playtime_forever\\': 2084, \\'playtime_2weeks\\': 0}, {\\'item_id\\': \\'200510\\', \\'item_name\\': \\'XCOM: Enemy Unknown\\', \\'playtime_forever\\': 3478, \\'playtime_2weeks\\': 0}, {\\'item_id\\': \\'220240\\', \\'item_name\\': \\'Far Cry® 3\\', \\'playtime_forever\\': 182, \\'playtime_2weeks\\': 0}, {\\'item_id\\': \\'218680\\', \\'item_name\\': \\'Scribblenauts Unlimited\\', \\'playtime_forever\\': 0, \\'playtime_2weeks\\': 0}, {\\'item_id\\': \\'228280\\', \\'item_name\\': \"Baldur\\'s Gate: Enhanced Edition\", \\'playtime_forever\\': 905, \\'playtime_2weeks\\': 0}, {\\'item_id\\': \\'212070\\', \\'item_name\\': \\'Star Conflict\\', \\'playtime_forever\\': 0, \\'playtime_2weeks\\': 0}, {\\'item_id\\': \\'218230\\', \\'item_name\\': \\'PlanetSide 2\\', \\'playtime_forever\\': 51, \\'playtime_2weeks\\': 0}, {\\'item_id\\': \\'236390\\', \\'item_name\\': \\'War Thunder\\', \\'playtime_forever\\': 50, \\'playtime_2weeks\\': 0}, {\\'item_id\\': \\'3483\\', \\'item_name\\': \\'Peggle Extreme\\', \\'playtime_forever\\': 0, \\'playtime_2weeks\\': 0}, {\\'item_id\\': \\'203160\\', \\'item_name\\': \\'Tomb Raider\\', \\'playtime_forever\\': 0, \\'playtime_2weeks\\': 0}, {\\'item_id\\': \\'227080\\', \\'item_name\\': \\'Papo & Yo\\', \\'playtime_forever\\': 81, \\'playtime_2weeks\\': 0}, {\\'item_id\\': \\'233450\\', \\'item_name\\': \\'Prison Architect\\', \\'playtime_forever\\': 24, \\'playtime_2weeks\\': 0}, {\\'item_id\\': \\'43160\\', \\'item_name\\': \\'Metro: Last Light\\', \\'playtime_forever\\': 712, \\'playtime_2weeks\\': 0}, {\\'item_id\\': \\'219740\\', \\'item_name\\': \"Don\\'t Starve\", \\'playtime_forever\\': 139, \\'playtime_2weeks\\': 0}, {\\'item_id\\': \\'322330\\', \\'item_name\\': \"Don\\'t Starve Together\", \\'playtime_forever\\': 0, \\'playtime_2weeks\\': 0}, {\\'item_id\\': \\'222730\\', \\'item_name\\': \\'Reus\\', \\'playtime_forever\\': 319, \\'playtime_2weeks\\': 0}, {\\'item_id\\': \\'241600\\', \\'item_name\\': \\'Rogue Legacy\\', \\'playtime_forever\\': 73, \\'playtime_2weeks\\': 0}, {\\'item_id\\': \\'238930\\', \\'item_name\\': \\'7 Grand Steps, Step 1: What Ancients Begat\\', \\'playtime_forever\\': 159, \\'playtime_2weeks\\': 0}, {\\'item_id\\': \\'217140\\', \\'item_name\\': \\'Rise of the Triad\\', \\'playtime_forever\\': 199, \\'playtime_2weeks\\': 0}, {\\'item_id\\': \\'39140\\', \\'item_name\\': \\'FINAL FANTASY VII\\', \\'playtime_forever\\': 2896, \\'playtime_2weeks\\': 0}, {\\'item_id\\': \\'225080\\', \\'item_name\\': \\'Brothers - A Tale of Two Sons\\', \\'playtime_forever\\': 0, \\'playtime_2weeks\\': 0}, {\\'item_id\\': \\'239030\\', \\'item_name\\': \\'Papers, Please\\', \\'playtime_forever\\': 194, \\'playtime_2weeks\\': 0}, {\\'item_id\\': \\'248820\\', \\'item_name\\': \\'Risk of Rain\\', \\'playtime_forever\\': 272, \\'playtime_2weeks\\': 0}, {\\'item_id\\': \\'239350\\', \\'item_name\\': \\'Spelunky\\', \\'playtime_forever\\': 458, \\'playtime_2weeks\\': 0}, {\\'item_id\\': \\'218620\\', \\'item_name\\': \\'PAYDAY 2\\', \\'playtime_forever\\': 574, \\'playtime_2weeks\\': 0}, {\\'item_id\\': \\'206420\\', \\'item_name\\': \\'Saints Row IV\\', \\'playtime_forever\\': 0, \\'playtime_2weeks\\': 0}, {\\'item_id\\': \\'236850\\', \\'item_name\\': \\'Europa Universalis IV\\', \\'playtime_forever\\': 89, \\'playtime_2weeks\\': 0}, {\\'item_id\\': \\'47790\\', \\'item_name\\': \\'Medal of Honor(TM) Single Player\\', \\'playtime_forever\\': 230, \\'playtime_2weeks\\': 0}, {\\'item_id\\': \\'47830\\', \\'item_name\\': \\'Medal of Honor(TM) Multiplayer\\', \\'playtime_forever\\': 0, \\'playtime_2weeks\\': 0}, {\\'item_id\\': \\'250320\\', \\'item_name\\': \\'The Wolf Among Us\\', \\'playtime_forever\\': 500, \\'playtime_2weeks\\': 0}, {\\'item_id\\': \\'250900\\', \\'item_name\\': \\'The Binding of Isaac: Rebirth\\', \\'playtime_forever\\': 329, \\'playtime_2weeks\\': 0}, {\\'item_id\\': \\'204450\\', \\'item_name\\': \\'Call of Juarez Gunslinger\\', \\'playtime_forever\\': 241, \\'playtime_2weeks\\': 0}, {\\'item_id\\': \\'233270\\', \\'item_name\\': \\'Far Cry® 3 Blood Dragon\\', \\'playtime_forever\\': 0, \\'playtime_2weeks\\': 0}, {\\'item_id\\': \\'251990\\', \\'item_name\\': \\'Long Live The Queen\\', \\'playtime_forever\\': 135, \\'playtime_2weeks\\': 0}, {\\'item_id\\': \\'253980\\', \\'item_name\\': \\'Enclave\\', \\'playtime_forever\\': 0, \\'playtime_2weeks\\': 0}, {\\'item_id\\': \\'236450\\', \\'item_name\\': \\'PAC-MAN Championship Edition DX+\\', \\'playtime_forever\\': 154, \\'playtime_2weeks\\': 0}, {\\'item_id\\': \\'242050\\', \\'item_name\\': \"Assassin\\'s Creed IV Black Flag\", \\'playtime_forever\\': 1377, \\'playtime_2weeks\\': 0}, {\\'item_id\\': \\'257350\\', \\'item_name\\': \"Baldur\\'s Gate II: Enhanced Edition\", \\'playtime_forever\\': 0, \\'playtime_2weeks\\': 0}, {\\'item_id\\': \\'213670\\', \\'item_name\\': \\'South Park™: The Stick of Truth™\\', \\'playtime_forever\\': 121, \\'playtime_2weeks\\': 0}, {\\'item_id\\': \\'238010\\', \\'item_name\\': \"Deus Ex: Human Revolution - Director\\'s Cut\", \\'playtime_forever\\': 2176, \\'playtime_2weeks\\': 0}, {\\'item_id\\': \\'245470\\', \\'item_name\\': \\'Democracy 3\\', \\'playtime_forever\\': 246, \\'playtime_2weeks\\': 0}, {\\'item_id\\': \\'221910\\', \\'item_name\\': \\'The Stanley Parable\\', \\'playtime_forever\\': 157, \\'playtime_2weeks\\': 0}, {\\'item_id\\': \\'260230\\', \\'item_name\\': \\'Valiant Hearts: The Great War™ / Soldats Inconnus : Mémoires de la Grande Guerre™\\', \\'playtime_forever\\': 467, \\'playtime_2weeks\\': 0}, {\\'item_id\\': \\'238430\\', \\'item_name\\': \\'Contagion\\', \\'playtime_forever\\': 77, \\'playtime_2weeks\\': 0}, {\\'item_id\\': \\'261030\\', \\'item_name\\': \\'The Walking Dead: Season Two\\', \\'playtime_forever\\': 567, \\'playtime_2weeks\\': 0}, {\\'item_id\\': \\'261570\\', \\'item_name\\': \\'Ori and the Blind Forest\\', \\'playtime_forever\\': 39, \\'playtime_2weeks\\': 0}, {\\'item_id\\': \\'263980\\', \\'item_name\\': \\'Out There Somewhere\\', \\'playtime_forever\\': 0, \\'playtime_2weeks\\': 0}, {\\'item_id\\': \\'39150\\', \\'item_name\\': \\'FINAL FANTASY VIII\\', \\'playtime_forever\\': 15, \\'playtime_2weeks\\': 0}, {\\'item_id\\': \\'230230\\', \\'item_name\\': \\'Divinity: Original Sin (Classic)\\', \\'playtime_forever\\': 522, \\'playtime_2weeks\\': 0}, {\\'item_id\\': \\'373420\\', \\'item_name\\': \\'Divinity: Original Sin Enhanced Edition\\', \\'playtime_forever\\': 0, \\'playtime_2weeks\\': 0}, {\\'item_id\\': \\'232790\\', \\'item_name\\': \\'Broken Age\\', \\'playtime_forever\\': 216, \\'playtime_2weeks\\': 0}, {\\'item_id\\': \\'237990\\', \\'item_name\\': \\'The Banner Saga\\', \\'playtime_forever\\': 19, \\'playtime_2weeks\\': 0}, {\\'item_id\\': \\'273620\\', \\'item_name\\': \\'Freespace 2\\', \\'playtime_forever\\': 848, \\'playtime_2weeks\\': 0}, {\\'item_id\\': \\'222880\\', \\'item_name\\': \\'Insurgency\\', \\'playtime_forever\\': 3031, \\'playtime_2weeks\\': 0}, {\\'item_id\\': \\'225840\\', \\'item_name\\': \\'Sven Co-op\\', \\'playtime_forever\\': 26, \\'playtime_2weeks\\': 0}, {\\'item_id\\': \\'222900\\', \\'item_name\\': \\'Dead Island: Epidemic\\', \\'playtime_forever\\': 0, \\'playtime_2weeks\\': 0}, {\\'item_id\\': \\'280220\\', \\'item_name\\': \\'Creeper World 3: Arc Eternal\\', \\'playtime_forever\\': 941, \\'playtime_2weeks\\': 0}, {\\'item_id\\': \\'236430\\', \\'item_name\\': \\'DARK SOULS™ II\\', \\'playtime_forever\\': 592, \\'playtime_2weeks\\': 0}, {\\'item_id\\': \\'201810\\', \\'item_name\\': \\'Wolfenstein: The New Order\\', \\'playtime_forever\\': 599, \\'playtime_2weeks\\': 0}, {\\'item_id\\': \\'294860\\', \\'item_name\\': \\'Valkyria Chronicles™\\', \\'playtime_forever\\': 1735, \\'playtime_2weeks\\': 0}, {\\'item_id\\': \\'295690\\', \\'item_name\\': \\'PARTICLE MACE\\', \\'playtime_forever\\': 0, \\'playtime_2weeks\\': 0}, {\\'item_id\\': \\'238460\\', \\'item_name\\': \\'BattleBlock Theater\\', \\'playtime_forever\\': 407, \\'playtime_2weeks\\': 0}, {\\'item_id\\': \\'237930\\', \\'item_name\\': \\'Transistor\\', \\'playtime_forever\\': 154, \\'playtime_2weeks\\': 0}, {\\'item_id\\': \\'301480\\', \\'item_name\\': \\'GEARCRACK Arena\\', \\'playtime_forever\\': 0, \\'playtime_2weeks\\': 0}, {\\'item_id\\': \\'303390\\', \\'item_name\\': \\'Dead Bits\\', \\'playtime_forever\\': 0, \\'playtime_2weeks\\': 0}, {\\'item_id\\': \\'306660\\', \\'item_name\\': \\'Ultimate General: Gettysburg\\', \\'playtime_forever\\': 1245, \\'playtime_2weeks\\': 0}, {\\'item_id\\': \\'316790\\', \\'item_name\\': \\'Grim Fandango Remastered\\', \\'playtime_forever\\': 42, \\'playtime_2weeks\\': 0}, {\\'item_id\\': \\'318430\\', \\'item_name\\': \\'Squishy the Suicidal Pig\\', \\'playtime_forever\\': 0, \\'playtime_2weeks\\': 0}, {\\'item_id\\': \\'241930\\', \\'item_name\\': \\'Middle-earth: Shadow of Mordor\\', \\'playtime_forever\\': 889, \\'playtime_2weeks\\': 0}, {\\'item_id\\': \\'328080\\', \\'item_name\\': \\'Retro-Pixel Castles\\', \\'playtime_forever\\': 5, \\'playtime_2weeks\\': 0}, {\\'item_id\\': \\'282070\\', \\'item_name\\': \\'This War of Mine\\', \\'playtime_forever\\': 3, \\'playtime_2weeks\\': 0}, {\\'item_id\\': \\'333930\\', \\'item_name\\': \\'Dirty Bomb\\', \\'playtime_forever\\': 2782, \\'playtime_2weeks\\': 0}, {\\'item_id\\': \\'334120\\', \\'item_name\\': \\'Armikrog\\', \\'playtime_forever\\': 109, \\'playtime_2weeks\\': 0}, {\\'item_id\\': \\'257510\\', \\'item_name\\': \\'The Talos Principle\\', \\'playtime_forever\\': 0, \\'playtime_2weeks\\': 0}, {\\'item_id\\': \\'319630\\', \\'item_name\\': \\'Life Is Strange™\\', \\'playtime_forever\\': 37, \\'playtime_2weeks\\': 0}, {\\'item_id\\': \\'346010\\', \\'item_name\\': \\'Besiege\\', \\'playtime_forever\\': 464, \\'playtime_2weeks\\': 0}, {\\'item_id\\': \\'255710\\', \\'item_name\\': \\'Cities: Skylines\\', \\'playtime_forever\\': 246, \\'playtime_2weeks\\': 0}, {\\'item_id\\': \\'232090\\', \\'item_name\\': \\'Killing Floor 2\\', \\'playtime_forever\\': 6494, \\'playtime_2weeks\\': 0}, {\\'item_id\\': \\'232150\\', \\'item_name\\': \\'Killing Floor 2 - SDK\\', \\'playtime_forever\\': 0, \\'playtime_2weeks\\': 0}, {\\'item_id\\': \\'377160\\', \\'item_name\\': \\'Fallout 4\\', \\'playtime_forever\\': 2001, \\'playtime_2weeks\\': 0}, {\\'item_id\\': \\'340170\\', \\'item_name\\': \\'FINAL FANTASY TYPE-0 HD\\', \\'playtime_forever\\': 170, \\'playtime_2weeks\\': 0}, {\\'item_id\\': \\'391540\\', \\'item_name\\': \\'Undertale\\', \\'playtime_forever\\': 395, \\'playtime_2weeks\\': 0}, {\\'item_id\\': \\'396660\\', \\'item_name\\': \\'Tahira: Echoes of the Astral Empire\\', \\'playtime_forever\\': 0, \\'playtime_2weeks\\': 0}, {\\'item_id\\': \\'337000\\', \\'item_name\\': \\'Deus Ex: Mankind Divided™\\', \\'playtime_forever\\': 1159, \\'playtime_2weeks\\': 0}, {\\'item_id\\': \\'368230\\', \\'item_name\\': \\'Kingdom: Classic\\', \\'playtime_forever\\': 83, \\'playtime_2weeks\\': 0}, {\\'item_id\\': \\'496300\\', \\'item_name\\': \\'Kingdom: New Lands\\', \\'playtime_forever\\': 0, \\'playtime_2weeks\\': 0}, {\\'item_id\\': \\'231430\\', \\'item_name\\': \\'Company of Heroes 2\\', \\'playtime_forever\\': 0, \\'playtime_2weeks\\': 0}, {\\'item_id\\': \\'289130\\', \\'item_name\\': \\'Endless Legend\\', \\'playtime_forever\\': 593, \\'playtime_2weeks\\': 0}, {\\'item_id\\': \\'268500\\', \\'item_name\\': \\'XCOM 2\\', \\'playtime_forever\\': 1495, \\'playtime_2weeks\\': 0}, {\\'item_id\\': \\'461640\\', \\'item_name\\': \\'Sins Of The Demon RPG\\', \\'playtime_forever\\': 0, \\'playtime_2weeks\\': 0}, {\\'item_id\\': \\'379720\\', \\'item_name\\': \\'DOOM\\', \\'playtime_forever\\': 793, \\'playtime_2weeks\\': 0}, {\\'item_id\\': \\'273350\\', \\'item_name\\': \\'Evolve Stage 2\\', \\'playtime_forever\\': 58, \\'playtime_2weeks\\': 0}]'"
      ]
     },
     "execution_count": 26,
     "metadata": {},
     "output_type": "execute_result"
    }
   ],
   "source": [
    "df_ui[\"items\"][0]"
   ]
  },
  {
   "cell_type": "code",
   "execution_count": 27,
   "metadata": {},
   "outputs": [
    {
     "data": {
      "text/plain": [
       "'[{\\'funny\\': \\'\\', \\'posted\\': \\'Posted November 5, 2011.\\', \\'last_edited\\': \\'\\', \\'item_id\\': \\'1250\\', \\'helpful\\': \\'No ratings yet\\', \\'recommend\\': True, \\'review\\': \\'Simple yet with great replayability. In my opinion does \"zombie\" hordes and team work better than left 4 dead plus has a global leveling system. Alot of down to earth \"zombie\" splattering fun for the whole family. Amazed this sort of FPS is so rare.\\'}, {\\'funny\\': \\'\\', \\'posted\\': \\'Posted July 15, 2011.\\', \\'last_edited\\': \\'\\', \\'item_id\\': \\'22200\\', \\'helpful\\': \\'No ratings yet\\', \\'recommend\\': True, \\'review\\': \"It\\'s unique and worth a playthrough.\"}, {\\'funny\\': \\'\\', \\'posted\\': \\'Posted April 21, 2011.\\', \\'last_edited\\': \\'\\', \\'item_id\\': \\'43110\\', \\'helpful\\': \\'No ratings yet\\', \\'recommend\\': True, \\'review\\': \\'Great atmosphere. The gunplay can be a bit chunky at times but at the end of the day this game is definitely worth it and I hope they do a sequel...so buy the game so I get a sequel!\\'}]'"
      ]
     },
     "execution_count": 27,
     "metadata": {},
     "output_type": "execute_result"
    }
   ],
   "source": [
    "df_ur[\"reviews\"][0]"
   ]
  },
  {
   "cell_type": "markdown",
   "metadata": {},
   "source": [
    "### estableciendo relaciones"
   ]
  },
  {
   "cell_type": "markdown",
   "metadata": {},
   "source": [
    "|df_ur|df_ui|                \n",
    "|-----|-----|                \n",
    "|user_id|user_id/steam_id|\n",
    "|user_url|user_url|\n",
    "\n",
    "user_id == steam_id por lo que se puede rellenar los valores faltantes de una con los de la otra,\n",
    "a su vez se pueden rellenar con los valores de las mismas columnas en user_items y viceversa(user_reviews)"
   ]
  },
  {
   "cell_type": "markdown",
   "metadata": {},
   "source": [
    "|df_sg|df_ui|\n",
    "|-----|-----|\n",
    "|app_name|item_name|\n",
    "|id|item_id|\n"
   ]
  },
  {
   "cell_type": "markdown",
   "metadata": {},
   "source": [
    "### df_sg"
   ]
  },
  {
   "cell_type": "markdown",
   "metadata": {},
   "source": [
    "tiene como columnas que vamos a usar genero que a su ves se puede rellenar con cualquier etiqueta en comun con tags y specs\n",
    "\n",
    "y precio columna que usaremos para alguna funcion\n",
    "\n",
    "usaremos title como app_name donde notengamos el valor de app_name y si no contamos con ninguno de los dos valores intentaremos conseguirlo atravez de user_items"
   ]
  },
  {
   "cell_type": "markdown",
   "metadata": {},
   "source": [
    "###  df_ur"
   ]
  },
  {
   "cell_type": "markdown",
   "metadata": {},
   "source": [
    "contamos con user_id y user_url en caso de necesitar completar en otra lista o viceversa\n",
    "\n",
    "en la columna reviews contamos con diferentes datos como\n",
    "\n",
    "fecha en que se posteo al review \n",
    "item_id\n",
    "review la que usaremos para el analisis de sentimiento\n",
    "y si es recommendado o no el juego (esto puede decir si es positiva o negativa la reseña)\n",
    "\n",
    "podrian borrarse \n",
    "\n",
    "last edited\n",
    "\n",
    "y funny (esto suponiendo que no importa si se marca como divertido si no tiene texto la reseña)"
   ]
  },
  {
   "cell_type": "code",
   "execution_count": 28,
   "metadata": {},
   "outputs": [],
   "source": [
    "generos = etf.valores_lista(df_sg,\"genres\")\n",
    "tags = etf.valores_lista(df_sg,\"tags\")\n",
    "specs = etf.valores_lista(df_sg,\"specs\")"
   ]
  },
  {
   "cell_type": "code",
   "execution_count": 29,
   "metadata": {},
   "outputs": [],
   "source": [
    "elementos_comunes = set(generos) & set(tags)"
   ]
  },
  {
   "cell_type": "code",
   "execution_count": 37,
   "metadata": {},
   "outputs": [],
   "source": [
    "comunes = set(tags) & set(specs)"
   ]
  },
  {
   "cell_type": "code",
   "execution_count": 36,
   "metadata": {},
   "outputs": [
    {
     "data": {
      "text/plain": [
       "{'None'}"
      ]
     },
     "execution_count": 36,
     "metadata": {},
     "output_type": "execute_result"
    }
   ],
   "source": [
    "comunes # entre tags y specs solo se encuentra co-op y como no tenemos ni un solo co-op en generos no lo tendre en cuenta ya que solo tomo en cuenta las columnas que se encuentran en genero\n",
    "#por lo tanto borrare la columna specs y los valores [\"None\"] que se encuentran en todas estas columnas"
   ]
  },
  {
   "cell_type": "code",
   "execution_count": 30,
   "metadata": {},
   "outputs": [
    {
     "data": {
      "text/plain": [
       "{'Action',\n",
       " 'Adventure',\n",
       " 'Audio Production',\n",
       " 'Casual',\n",
       " 'Early Access',\n",
       " 'Education',\n",
       " 'Free to Play',\n",
       " 'Indie',\n",
       " 'Massively Multiplayer',\n",
       " 'None',\n",
       " 'Photo Editing',\n",
       " 'RPG',\n",
       " 'Racing',\n",
       " 'Simulation',\n",
       " 'Software Training',\n",
       " 'Sports',\n",
       " 'Strategy',\n",
       " 'Utilities',\n",
       " 'Video Production',\n",
       " 'Web Publishing'}"
      ]
     },
     "execution_count": 30,
     "metadata": {},
     "output_type": "execute_result"
    }
   ],
   "source": [
    "elementos_comunes# estos son los valores que en caso de no tener genero si estos se encuentran en tags se transfieren a genero"
   ]
  },
  {
   "cell_type": "code",
   "execution_count": 38,
   "metadata": {},
   "outputs": [],
   "source": [
    "# como conclusion de la relacion entre estas 3 columnas solo 2 estan relacionadas entre si y pueden enriquecerse mutuamente\n",
    "# por lo cual utilizare los elementos comunes que se encuentren dentro de la columna tags de la misma fila para rellenarlos y luego dropear esta "
   ]
  },
  {
   "cell_type": "markdown",
   "metadata": {},
   "source": [
    "\n",
    "*si una fila no contiene ni genero ni tags dentro de los elementos comunes sera dropeada"
   ]
  },
  {
   "cell_type": "markdown",
   "metadata": {},
   "source": [
    "tambien dropearemos early access"
   ]
  }
 ],
 "metadata": {
  "kernelspec": {
   "display_name": "Python 3",
   "language": "python",
   "name": "python3"
  },
  "language_info": {
   "codemirror_mode": {
    "name": "ipython",
    "version": 3
   },
   "file_extension": ".py",
   "mimetype": "text/x-python",
   "name": "python",
   "nbconvert_exporter": "python",
   "pygments_lexer": "ipython3",
   "version": "3.11.5"
  }
 },
 "nbformat": 4,
 "nbformat_minor": 2
}
