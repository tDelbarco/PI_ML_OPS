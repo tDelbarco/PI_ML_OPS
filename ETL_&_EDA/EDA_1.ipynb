{
 "cells": [
  {
   "cell_type": "markdown",
   "metadata": {},
   "source": [
    "# !IMPORTANTE: \n",
    "    debido a que muchos datos no se encuentran en condiciones de ser graficados se contara  con un  segundo archivo EDA_Parte2 donde se realizara tanto el analisis estadistico como el analisis de correlacion bi y multivariado"
   ]
  },
  {
   "cell_type": "code",
   "execution_count": 115,
   "metadata": {},
   "outputs": [],
   "source": [
    "import numpy as np\n",
    "import pandas as pd\n",
    "import seaborn as sns\n",
    "import ast\n",
    "from matplotlib import pyplot as plt\n",
    "import ETL_functions as etf"
   ]
  },
  {
   "cell_type": "markdown",
   "metadata": {},
   "source": [
    "<hr>"
   ]
  },
  {
   "cell_type": "markdown",
   "metadata": {},
   "source": [
    "## EDA \"steam_games\""
   ]
  },
  {
   "cell_type": "markdown",
   "metadata": {},
   "source": [
    "<hr>"
   ]
  },
  {
   "cell_type": "markdown",
   "metadata": {},
   "source": [
    "### cargando datos y primeras observaciones"
   ]
  },
  {
   "cell_type": "code",
   "execution_count": 74,
   "metadata": {},
   "outputs": [],
   "source": [
    "df_sg = pd.read_json(r\"../Datasets/steam_games.json/output_steam_games.json\", lines=True)#cargando el archivo"
   ]
  },
  {
   "cell_type": "code",
   "execution_count": 75,
   "metadata": {},
   "outputs": [
    {
     "data": {
      "text/plain": [
       "(120445, 13)"
      ]
     },
     "execution_count": 75,
     "metadata": {},
     "output_type": "execute_result"
    }
   ],
   "source": [
    "df_sg.shape # dimensiones (filas,columnas) "
   ]
  },
  {
   "cell_type": "code",
   "execution_count": 88,
   "metadata": {},
   "outputs": [
    {
     "data": {
      "text/html": [
       "<div>\n",
       "<style scoped>\n",
       "    .dataframe tbody tr th:only-of-type {\n",
       "        vertical-align: middle;\n",
       "    }\n",
       "\n",
       "    .dataframe tbody tr th {\n",
       "        vertical-align: top;\n",
       "    }\n",
       "\n",
       "    .dataframe thead th {\n",
       "        text-align: right;\n",
       "    }\n",
       "</style>\n",
       "<table border=\"1\" class=\"dataframe\">\n",
       "  <thead>\n",
       "    <tr style=\"text-align: right;\">\n",
       "      <th></th>\n",
       "      <th>publisher</th>\n",
       "      <th>genres</th>\n",
       "      <th>app_name</th>\n",
       "      <th>title</th>\n",
       "      <th>url</th>\n",
       "      <th>release_date</th>\n",
       "      <th>tags</th>\n",
       "      <th>reviews_url</th>\n",
       "      <th>specs</th>\n",
       "      <th>price</th>\n",
       "      <th>early_access</th>\n",
       "      <th>id</th>\n",
       "      <th>developer</th>\n",
       "    </tr>\n",
       "  </thead>\n",
       "  <tbody>\n",
       "    <tr>\n",
       "      <th>108902</th>\n",
       "      <td>Big Fish Games</td>\n",
       "      <td>[Adventure, Casual]</td>\n",
       "      <td>Rite of Passage: The Perfect Show Collector's ...</td>\n",
       "      <td>Rite of Passage: The Perfect Show Collector's ...</td>\n",
       "      <td>http://store.steampowered.com/app/552670/Rite_...</td>\n",
       "      <td>2016-11-11</td>\n",
       "      <td>[Adventure, Casual, Hidden Object]</td>\n",
       "      <td>http://steamcommunity.com/app/552670/reviews/?...</td>\n",
       "      <td>[Single-player]</td>\n",
       "      <td>9.99</td>\n",
       "      <td>0.0</td>\n",
       "      <td>552670.0</td>\n",
       "      <td>Mad Head Games</td>\n",
       "    </tr>\n",
       "    <tr>\n",
       "      <th>109805</th>\n",
       "      <td>Good Games</td>\n",
       "      <td>[Free to Play, Strategy]</td>\n",
       "      <td>Galaxy Reavers: Cruiser DLC</td>\n",
       "      <td>Galaxy Reavers: Cruiser DLC</td>\n",
       "      <td>http://store.steampowered.com/app/505650/Galax...</td>\n",
       "      <td>2016-09-19</td>\n",
       "      <td>[Free to Play, Strategy]</td>\n",
       "      <td>http://steamcommunity.com/app/505650/reviews/?...</td>\n",
       "      <td>[Single-player, Downloadable Content, Steam Ac...</td>\n",
       "      <td>Free To Play</td>\n",
       "      <td>0.0</td>\n",
       "      <td>505650.0</td>\n",
       "      <td>Good Games</td>\n",
       "    </tr>\n",
       "    <tr>\n",
       "      <th>76926</th>\n",
       "      <td>None</td>\n",
       "      <td>None</td>\n",
       "      <td>None</td>\n",
       "      <td>None</td>\n",
       "      <td>None</td>\n",
       "      <td>None</td>\n",
       "      <td>None</td>\n",
       "      <td>None</td>\n",
       "      <td>None</td>\n",
       "      <td>None</td>\n",
       "      <td>NaN</td>\n",
       "      <td>NaN</td>\n",
       "      <td>None</td>\n",
       "    </tr>\n",
       "    <tr>\n",
       "      <th>63484</th>\n",
       "      <td>None</td>\n",
       "      <td>None</td>\n",
       "      <td>None</td>\n",
       "      <td>None</td>\n",
       "      <td>None</td>\n",
       "      <td>None</td>\n",
       "      <td>None</td>\n",
       "      <td>None</td>\n",
       "      <td>None</td>\n",
       "      <td>None</td>\n",
       "      <td>NaN</td>\n",
       "      <td>NaN</td>\n",
       "      <td>None</td>\n",
       "    </tr>\n",
       "    <tr>\n",
       "      <th>107254</th>\n",
       "      <td>Degica</td>\n",
       "      <td>[Design &amp;amp; Illustration, Web Publishing]</td>\n",
       "      <td>RPG Maker MV - Hiroki Kikuta music pack: The Calm</td>\n",
       "      <td>RPG Maker MV - Hiroki Kikuta music pack: The Calm</td>\n",
       "      <td>http://store.steampowered.com/app/599441/RPG_M...</td>\n",
       "      <td>2017-02-27</td>\n",
       "      <td>[Design &amp; Illustration, Web Publishing]</td>\n",
       "      <td>http://steamcommunity.com/app/599441/reviews/?...</td>\n",
       "      <td>[Downloadable Content, Steam Trading Cards, Pa...</td>\n",
       "      <td>14.99</td>\n",
       "      <td>0.0</td>\n",
       "      <td>599441.0</td>\n",
       "      <td>KADOKAWA,Yoji Ojima,Hiroki Kikuta</td>\n",
       "    </tr>\n",
       "  </tbody>\n",
       "</table>\n",
       "</div>"
      ],
      "text/plain": [
       "             publisher                                       genres  \\\n",
       "108902  Big Fish Games                          [Adventure, Casual]   \n",
       "109805      Good Games                     [Free to Play, Strategy]   \n",
       "76926             None                                         None   \n",
       "63484             None                                         None   \n",
       "107254          Degica  [Design &amp; Illustration, Web Publishing]   \n",
       "\n",
       "                                                 app_name  \\\n",
       "108902  Rite of Passage: The Perfect Show Collector's ...   \n",
       "109805                        Galaxy Reavers: Cruiser DLC   \n",
       "76926                                                None   \n",
       "63484                                                None   \n",
       "107254  RPG Maker MV - Hiroki Kikuta music pack: The Calm   \n",
       "\n",
       "                                                    title  \\\n",
       "108902  Rite of Passage: The Perfect Show Collector's ...   \n",
       "109805                        Galaxy Reavers: Cruiser DLC   \n",
       "76926                                                None   \n",
       "63484                                                None   \n",
       "107254  RPG Maker MV - Hiroki Kikuta music pack: The Calm   \n",
       "\n",
       "                                                      url release_date  \\\n",
       "108902  http://store.steampowered.com/app/552670/Rite_...   2016-11-11   \n",
       "109805  http://store.steampowered.com/app/505650/Galax...   2016-09-19   \n",
       "76926                                                None         None   \n",
       "63484                                                None         None   \n",
       "107254  http://store.steampowered.com/app/599441/RPG_M...   2017-02-27   \n",
       "\n",
       "                                           tags  \\\n",
       "108902       [Adventure, Casual, Hidden Object]   \n",
       "109805                 [Free to Play, Strategy]   \n",
       "76926                                      None   \n",
       "63484                                      None   \n",
       "107254  [Design & Illustration, Web Publishing]   \n",
       "\n",
       "                                              reviews_url  \\\n",
       "108902  http://steamcommunity.com/app/552670/reviews/?...   \n",
       "109805  http://steamcommunity.com/app/505650/reviews/?...   \n",
       "76926                                                None   \n",
       "63484                                                None   \n",
       "107254  http://steamcommunity.com/app/599441/reviews/?...   \n",
       "\n",
       "                                                    specs         price  \\\n",
       "108902                                    [Single-player]          9.99   \n",
       "109805  [Single-player, Downloadable Content, Steam Ac...  Free To Play   \n",
       "76926                                                None          None   \n",
       "63484                                                None          None   \n",
       "107254  [Downloadable Content, Steam Trading Cards, Pa...         14.99   \n",
       "\n",
       "        early_access        id                          developer  \n",
       "108902           0.0  552670.0                     Mad Head Games  \n",
       "109805           0.0  505650.0                         Good Games  \n",
       "76926            NaN       NaN                               None  \n",
       "63484            NaN       NaN                               None  \n",
       "107254           0.0  599441.0  KADOKAWA,Yoji Ojima,Hiroki Kikuta  "
      ]
     },
     "execution_count": 88,
     "metadata": {},
     "output_type": "execute_result"
    }
   ],
   "source": [
    "df_sg.sample(5)#ejecute esta linea aprox(5) veces para tener una vision mas amplia de algunos datos aleatorios del df \n",
    "               #notando que hay muchas filas llenas de valores None o NaN\n",
    "               #a demas hay columnas que contienen listas como valores"
   ]
  },
  {
   "cell_type": "markdown",
   "metadata": {},
   "source": [
    "### tipos de datos"
   ]
  },
  {
   "cell_type": "code",
   "execution_count": 102,
   "metadata": {},
   "outputs": [
    {
     "name": "stdout",
     "output_type": "stream",
     "text": [
      "<class 'pandas.core.frame.DataFrame'>\n",
      "RangeIndex: 120445 entries, 0 to 120444\n",
      "Data columns (total 13 columns):\n",
      " #   Column        Non-Null Count   Dtype  \n",
      "---  ------        --------------   -----  \n",
      " 0   publisher     24083 non-null   object \n",
      " 1   genres        120445 non-null  object \n",
      " 2   app_name      32133 non-null   object \n",
      " 3   title         30085 non-null   object \n",
      " 4   url           32135 non-null   object \n",
      " 5   release_date  30068 non-null   object \n",
      " 6   tags          120445 non-null  object \n",
      " 7   reviews_url   32133 non-null   object \n",
      " 8   specs         120445 non-null  object \n",
      " 9   price         30758 non-null   object \n",
      " 10  early_access  32135 non-null   float64\n",
      " 11  id            32133 non-null   float64\n",
      " 12  developer     28836 non-null   object \n",
      "dtypes: float64(2), object(11)\n",
      "memory usage: 11.9+ MB\n"
     ]
    }
   ],
   "source": [
    "df_sg.info()#podemos notar que solo contamos con 2 columnas numericas (id,early_access) siendo inecesario analizar con un describe estas\n",
    "            #podemos ver ademas que early access es float cuando deberia ser un bool(true o false){aclarado en el diccionario} o int (0 o 1)"
   ]
  },
  {
   "cell_type": "code",
   "execution_count": 110,
   "metadata": {},
   "outputs": [
    {
     "data": {
      "text/plain": [
       "['Free To Play',\n",
       " 'Free to Play',\n",
       " 'Free',\n",
       " 'Free Demo',\n",
       " 'Play for Free!',\n",
       " 'Install Now',\n",
       " 'Play WARMACHINE: Tactics Demo',\n",
       " 'Free Mod',\n",
       " 'Install Theme',\n",
       " 'Third-party',\n",
       " 'Play Now',\n",
       " 'Free HITMAN™ Holiday Pack',\n",
       " 'Play the Demo',\n",
       " 'Starting at $499.00',\n",
       " 'Starting at $449.00',\n",
       " 'Free to Try',\n",
       " 'Free Movie',\n",
       " 'Free to Use']"
      ]
     },
     "execution_count": 110,
     "metadata": {},
     "output_type": "execute_result"
    }
   ],
   "source": [
    "# podemos notar que la columna price no se encuentra en float esto puede deberse a que hay valores no convertibles\n",
    "# para verificar esto e creado una funcion que me ayudara cuando deba corregir esto en un archivo llamado ETL_functions.py el cual importe como etf\n",
    "etf.valores_no_numericos(df_sg[\"price\"])"
   ]
  },
  {
   "cell_type": "markdown",
   "metadata": {},
   "source": [
    "### valores nulos"
   ]
  },
  {
   "cell_type": "code",
   "execution_count": 107,
   "metadata": {},
   "outputs": [
    {
     "data": {
      "text/plain": [
       "publisher       96362\n",
       "genres              0\n",
       "app_name        88312\n",
       "title           90360\n",
       "url             88310\n",
       "release_date    90377\n",
       "tags                0\n",
       "reviews_url     88312\n",
       "specs               0\n",
       "price           89687\n",
       "early_access    88310\n",
       "id              88312\n",
       "developer       91609\n",
       "dtype: int64"
      ]
     },
     "execution_count": 107,
     "metadata": {},
     "output_type": "execute_result"
    }
   ],
   "source": [
    "df_sg.isna().sum() #estos son los campos con valores nulos y su cantidad de nulos"
   ]
  },
  {
   "cell_type": "markdown",
   "metadata": {},
   "source": [
    "### valores duplicados"
   ]
  },
  {
   "cell_type": "code",
   "execution_count": 98,
   "metadata": {},
   "outputs": [],
   "source": [
    "#tuve que cambiar el tipo de datos a str por que tenian listas como valor  y no me permitian validar duplicados\n",
    "df_sg[\"genres\"] = df_sg[\"genres\"].astype(str)\n",
    "df_sg[\"tags\"] = df_sg[\"tags\"].astype(str)\n",
    "df_sg[\"specs\"] = df_sg[\"specs\"].astype(str)"
   ]
  },
  {
   "cell_type": "code",
   "execution_count": 99,
   "metadata": {},
   "outputs": [
    {
     "data": {
      "text/plain": [
       "88309"
      ]
     },
     "execution_count": 99,
     "metadata": {},
     "output_type": "execute_result"
    }
   ],
   "source": [
    "df_sg.duplicated().sum()# cantidad de registros duplicados"
   ]
  },
  {
   "cell_type": "code",
   "execution_count": 100,
   "metadata": {},
   "outputs": [
    {
     "data": {
      "text/plain": [
       "32136"
      ]
     },
     "execution_count": 100,
     "metadata": {},
     "output_type": "execute_result"
    }
   ],
   "source": [
    "120445 - 88309 # filas totales - filas duplicadas = aproximacion de (datos a trabajar)\n",
    "               # tener en cuenta que al borrar duplicados aun asi nos quedara un registro\n",
    "               # unico de las filas que tenian todos sus valores en null la cual deberemos retirar"
   ]
  },
  {
   "cell_type": "markdown",
   "metadata": {},
   "source": [
    "<hr>"
   ]
  },
  {
   "cell_type": "markdown",
   "metadata": {},
   "source": [
    "## EDA \"user_reviews\""
   ]
  },
  {
   "cell_type": "markdown",
   "metadata": {},
   "source": [
    "### cargando datos y primeras observaciones"
   ]
  },
  {
   "cell_type": "code",
   "execution_count": 151,
   "metadata": {},
   "outputs": [],
   "source": [
    "#carga de el archivo\n",
    "reviews = []\n",
    "with open(r\"../Datasets/user_reviews.json/australian_user_reviews.json\", 'r', encoding='utf-8') as f:\n",
    "    # loop for insert data into list\n",
    "    for line in f.readlines():\n",
    "        reviews.append(ast.literal_eval(line))\n",
    "df_ur = pd.DataFrame(reviews)"
   ]
  },
  {
   "cell_type": "code",
   "execution_count": 156,
   "metadata": {},
   "outputs": [
    {
     "data": {
      "text/html": [
       "<div>\n",
       "<style scoped>\n",
       "    .dataframe tbody tr th:only-of-type {\n",
       "        vertical-align: middle;\n",
       "    }\n",
       "\n",
       "    .dataframe tbody tr th {\n",
       "        vertical-align: top;\n",
       "    }\n",
       "\n",
       "    .dataframe thead th {\n",
       "        text-align: right;\n",
       "    }\n",
       "</style>\n",
       "<table border=\"1\" class=\"dataframe\">\n",
       "  <thead>\n",
       "    <tr style=\"text-align: right;\">\n",
       "      <th></th>\n",
       "      <th>user_id</th>\n",
       "      <th>user_url</th>\n",
       "      <th>reviews</th>\n",
       "    </tr>\n",
       "  </thead>\n",
       "  <tbody>\n",
       "    <tr>\n",
       "      <th>16131</th>\n",
       "      <td>Jac95501</td>\n",
       "      <td>http://steamcommunity.com/id/Jac95501</td>\n",
       "      <td>[{'funny': '', 'posted': 'Posted January 9, 20...</td>\n",
       "    </tr>\n",
       "    <tr>\n",
       "      <th>8949</th>\n",
       "      <td>76561198061357639</td>\n",
       "      <td>http://steamcommunity.com/profiles/76561198061...</td>\n",
       "      <td>[{'funny': '1 person found this review funny',...</td>\n",
       "    </tr>\n",
       "    <tr>\n",
       "      <th>5781</th>\n",
       "      <td>Roanoke</td>\n",
       "      <td>http://steamcommunity.com/id/Roanoke</td>\n",
       "      <td>[{'funny': '', 'posted': 'Posted October 26, 2...</td>\n",
       "    </tr>\n",
       "    <tr>\n",
       "      <th>24205</th>\n",
       "      <td>76561198090621006</td>\n",
       "      <td>http://steamcommunity.com/profiles/76561198090...</td>\n",
       "      <td>[{'funny': '', 'posted': 'Posted April 29.', '...</td>\n",
       "    </tr>\n",
       "    <tr>\n",
       "      <th>21793</th>\n",
       "      <td>76561198067371563</td>\n",
       "      <td>http://steamcommunity.com/profiles/76561198067...</td>\n",
       "      <td>[{'funny': '', 'posted': 'Posted December 19, ...</td>\n",
       "    </tr>\n",
       "  </tbody>\n",
       "</table>\n",
       "</div>"
      ],
      "text/plain": [
       "                 user_id                                           user_url  \\\n",
       "16131           Jac95501              http://steamcommunity.com/id/Jac95501   \n",
       "8949   76561198061357639  http://steamcommunity.com/profiles/76561198061...   \n",
       "5781             Roanoke               http://steamcommunity.com/id/Roanoke   \n",
       "24205  76561198090621006  http://steamcommunity.com/profiles/76561198090...   \n",
       "21793  76561198067371563  http://steamcommunity.com/profiles/76561198067...   \n",
       "\n",
       "                                                 reviews  \n",
       "16131  [{'funny': '', 'posted': 'Posted January 9, 20...  \n",
       "8949   [{'funny': '1 person found this review funny',...  \n",
       "5781   [{'funny': '', 'posted': 'Posted October 26, 2...  \n",
       "24205  [{'funny': '', 'posted': 'Posted April 29.', '...  \n",
       "21793  [{'funny': '', 'posted': 'Posted December 19, ...  "
      ]
     },
     "execution_count": 156,
     "metadata": {},
     "output_type": "execute_result"
    }
   ],
   "source": [
    "df_ur.sample(5)# repetimos el sample varias veces\n",
    "                # notamos que la columna reviews contiene listas\n",
    "                # y que user id contiene tanto numeros como cadenas (cosa que puede que este bien por lo que no vamos a profundizar)"
   ]
  },
  {
   "cell_type": "markdown",
   "metadata": {},
   "source": [
    "### tipos de datos\n",
    "|columna |tipo|\n",
    "|--------|----|\n",
    "|user_id | str|\n",
    "|user_url| str|\n",
    "|reviews |list|"
   ]
  },
  {
   "cell_type": "markdown",
   "metadata": {},
   "source": [
    "### valores nulos"
   ]
  },
  {
   "cell_type": "code",
   "execution_count": 163,
   "metadata": {},
   "outputs": [
    {
     "data": {
      "text/plain": [
       "user_id     0\n",
       "user_url    0\n",
       "reviews     0\n",
       "dtype: int64"
      ]
     },
     "execution_count": 163,
     "metadata": {},
     "output_type": "execute_result"
    }
   ],
   "source": [
    "df_ur.isna().sum() #estos son los campos con valores nulos y su cantidad de nulos  al parecer no hay valores nulos pero podriaa haber reviews que contengan listas vacias"
   ]
  },
  {
   "cell_type": "markdown",
   "metadata": {},
   "source": [
    "### valores duplicados"
   ]
  },
  {
   "cell_type": "code",
   "execution_count": 160,
   "metadata": {},
   "outputs": [],
   "source": [
    "df_ur[\"reviews\"] = df_ur[\"reviews\"].astype(str) #paso la columna a str para poder contar los registros dupliados"
   ]
  },
  {
   "cell_type": "code",
   "execution_count": 161,
   "metadata": {},
   "outputs": [
    {
     "data": {
      "text/plain": [
       "313"
      ]
     },
     "execution_count": 161,
     "metadata": {},
     "output_type": "execute_result"
    }
   ],
   "source": [
    "df_ur.duplicated().sum() # hay 313 registros duplicados lo que no nos interesa y los borraremos en el ETL"
   ]
  },
  {
   "cell_type": "markdown",
   "metadata": {},
   "source": [
    "<hr>"
   ]
  },
  {
   "cell_type": "markdown",
   "metadata": {},
   "source": [
    "## EDA \"users_items\""
   ]
  },
  {
   "cell_type": "markdown",
   "metadata": {},
   "source": [
    "### cargando datos y primeras observaciones"
   ]
  },
  {
   "cell_type": "code",
   "execution_count": 165,
   "metadata": {},
   "outputs": [],
   "source": [
    "items = []\n",
    "\n",
    "with open(r'../Datasets/users_items.json/australian_users_items.json', 'r', encoding='utf-8') as f:\n",
    "    for line in f.readlines():\n",
    "        items.append(ast.literal_eval(line))\n",
    "\n",
    "df_ui = pd.DataFrame(items)"
   ]
  },
  {
   "cell_type": "code",
   "execution_count": 182,
   "metadata": {},
   "outputs": [
    {
     "data": {
      "text/html": [
       "<div>\n",
       "<style scoped>\n",
       "    .dataframe tbody tr th:only-of-type {\n",
       "        vertical-align: middle;\n",
       "    }\n",
       "\n",
       "    .dataframe tbody tr th {\n",
       "        vertical-align: top;\n",
       "    }\n",
       "\n",
       "    .dataframe thead th {\n",
       "        text-align: right;\n",
       "    }\n",
       "</style>\n",
       "<table border=\"1\" class=\"dataframe\">\n",
       "  <thead>\n",
       "    <tr style=\"text-align: right;\">\n",
       "      <th></th>\n",
       "      <th>user_id</th>\n",
       "      <th>items_count</th>\n",
       "      <th>steam_id</th>\n",
       "      <th>user_url</th>\n",
       "      <th>items</th>\n",
       "    </tr>\n",
       "  </thead>\n",
       "  <tbody>\n",
       "    <tr>\n",
       "      <th>53468</th>\n",
       "      <td>76561198048592484</td>\n",
       "      <td>7</td>\n",
       "      <td>76561198048592484</td>\n",
       "      <td>http://steamcommunity.com/profiles/76561198048...</td>\n",
       "      <td>[{'item_id': '550', 'item_name': 'Left 4 Dead ...</td>\n",
       "    </tr>\n",
       "    <tr>\n",
       "      <th>36230</th>\n",
       "      <td>za3n</td>\n",
       "      <td>21</td>\n",
       "      <td>76561198070028713</td>\n",
       "      <td>http://steamcommunity.com/id/za3n</td>\n",
       "      <td>[{'item_id': '220', 'item_name': 'Half-Life 2'...</td>\n",
       "    </tr>\n",
       "    <tr>\n",
       "      <th>70774</th>\n",
       "      <td>TheSheep498</td>\n",
       "      <td>113</td>\n",
       "      <td>76561198075495257</td>\n",
       "      <td>http://steamcommunity.com/id/TheSheep498</td>\n",
       "      <td>[{'item_id': '105400', 'item_name': 'Fable III...</td>\n",
       "    </tr>\n",
       "    <tr>\n",
       "      <th>84208</th>\n",
       "      <td>76561198099145359</td>\n",
       "      <td>0</td>\n",
       "      <td>76561198099145359</td>\n",
       "      <td>http://steamcommunity.com/profiles/76561198099...</td>\n",
       "      <td>[]</td>\n",
       "    </tr>\n",
       "    <tr>\n",
       "      <th>56911</th>\n",
       "      <td>76561198057678203</td>\n",
       "      <td>0</td>\n",
       "      <td>76561198057678203</td>\n",
       "      <td>http://steamcommunity.com/profiles/76561198057...</td>\n",
       "      <td>[]</td>\n",
       "    </tr>\n",
       "  </tbody>\n",
       "</table>\n",
       "</div>"
      ],
      "text/plain": [
       "                 user_id  items_count           steam_id  \\\n",
       "53468  76561198048592484            7  76561198048592484   \n",
       "36230               za3n           21  76561198070028713   \n",
       "70774        TheSheep498          113  76561198075495257   \n",
       "84208  76561198099145359            0  76561198099145359   \n",
       "56911  76561198057678203            0  76561198057678203   \n",
       "\n",
       "                                                user_url  \\\n",
       "53468  http://steamcommunity.com/profiles/76561198048...   \n",
       "36230                  http://steamcommunity.com/id/za3n   \n",
       "70774           http://steamcommunity.com/id/TheSheep498   \n",
       "84208  http://steamcommunity.com/profiles/76561198099...   \n",
       "56911  http://steamcommunity.com/profiles/76561198057...   \n",
       "\n",
       "                                                   items  \n",
       "53468  [{'item_id': '550', 'item_name': 'Left 4 Dead ...  \n",
       "36230  [{'item_id': '220', 'item_name': 'Half-Life 2'...  \n",
       "70774  [{'item_id': '105400', 'item_name': 'Fable III...  \n",
       "84208                                                 []  \n",
       "56911                                                 []  "
      ]
     },
     "execution_count": 182,
     "metadata": {},
     "output_type": "execute_result"
    }
   ],
   "source": [
    "df_ui.sample(5)#repetimos el sample varias veces"
   ]
  },
  {
   "cell_type": "markdown",
   "metadata": {},
   "source": [
    "## tipos de datos\n",
    "\n",
    "|columna|tipo|\n",
    "|-------|----|\n",
    "|user_id|str|\n",
    "|item_counts|int|\n",
    "|steam_id|int|\n",
    "|user_url|str|\n",
    "|item|list|"
   ]
  },
  {
   "cell_type": "code",
   "execution_count": 184,
   "metadata": {},
   "outputs": [
    {
     "name": "stdout",
     "output_type": "stream",
     "text": [
      "<class 'pandas.core.frame.DataFrame'>\n",
      "RangeIndex: 88310 entries, 0 to 88309\n",
      "Data columns (total 5 columns):\n",
      " #   Column       Non-Null Count  Dtype \n",
      "---  ------       --------------  ----- \n",
      " 0   user_id      88310 non-null  object\n",
      " 1   items_count  88310 non-null  int64 \n",
      " 2   steam_id     88310 non-null  object\n",
      " 3   user_url     88310 non-null  object\n",
      " 4   items        88310 non-null  object\n",
      "dtypes: int64(1), object(4)\n",
      "memory usage: 3.4+ MB\n"
     ]
    }
   ],
   "source": [
    "df_ui.info()"
   ]
  },
  {
   "cell_type": "code",
   "execution_count": 185,
   "metadata": {},
   "outputs": [
    {
     "data": {
      "text/plain": [
       "[]"
      ]
     },
     "execution_count": 185,
     "metadata": {},
     "output_type": "execute_result"
    }
   ],
   "source": [
    "#steam_id no se encuentra en int pero al parecer no tiene valores no numericos solo se debe a que tiene numeros muy grandes y el tipo de dato de pandas debe ser un dtype que pueda contener  un numero asi de grande \n",
    "etf.valores_no_numericos(df_ui[\"steam_id\"])"
   ]
  },
  {
   "cell_type": "markdown",
   "metadata": {},
   "source": [
    "### valores nulos"
   ]
  },
  {
   "cell_type": "code",
   "execution_count": 189,
   "metadata": {},
   "outputs": [
    {
     "data": {
      "text/plain": [
       "user_id        0\n",
       "items_count    0\n",
       "steam_id       0\n",
       "user_url       0\n",
       "items          0\n",
       "dtype: int64"
      ]
     },
     "execution_count": 189,
     "metadata": {},
     "output_type": "execute_result"
    }
   ],
   "source": [
    "df_ui.isna().sum() #estos son los campos con valores nulos y su cantidad de nulos dice no tener valores nulos pero items puede contener listas vacias"
   ]
  },
  {
   "cell_type": "markdown",
   "metadata": {},
   "source": [
    "### valores duplicados"
   ]
  },
  {
   "cell_type": "code",
   "execution_count": 187,
   "metadata": {},
   "outputs": [],
   "source": [
    "df_ui[\"items\"] = df_ui[\"items\"].astype(str)#convertirmos a str para poder verificar duplicados"
   ]
  },
  {
   "cell_type": "code",
   "execution_count": 188,
   "metadata": {},
   "outputs": [
    {
     "data": {
      "text/plain": [
       "657"
      ]
     },
     "execution_count": 188,
     "metadata": {},
     "output_type": "execute_result"
    }
   ],
   "source": [
    "df_ui.duplicated().sum()#tiene 657 que los borrare"
   ]
  }
 ],
 "metadata": {
  "kernelspec": {
   "display_name": "Python 3",
   "language": "python",
   "name": "python3"
  },
  "language_info": {
   "codemirror_mode": {
    "name": "ipython",
    "version": 3
   },
   "file_extension": ".py",
   "mimetype": "text/x-python",
   "name": "python",
   "nbconvert_exporter": "python",
   "pygments_lexer": "ipython3",
   "version": "3.11.5"
  }
 },
 "nbformat": 4,
 "nbformat_minor": 2
}
