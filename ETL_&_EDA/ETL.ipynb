{
 "cells": [
  {
   "cell_type": "code",
   "execution_count": 1,
   "metadata": {},
   "outputs": [],
   "source": [
    "import ETL_functions as etf\n",
    "import numpy as np\n",
    "import pandas as pd\n",
    "import ast"
   ]
  },
  {
   "cell_type": "markdown",
   "metadata": {},
   "source": [
    "# steam_games.json"
   ]
  },
  {
   "cell_type": "code",
   "execution_count": 2,
   "metadata": {},
   "outputs": [],
   "source": [
    "df_sg = pd.read_json(r\"../Datasets/steam_games.json/output_steam_games.json\", lines=True,dtype=str)#lo cargamos como str ya que la mayoria de sus columnas requieren \n",
    "#este formato ahorrando asi :\n",
    "# tener que transformar individualmente las columnas que contienen listas \n",
    "# cambiar el valor float de 0 y 1 early access a boolean\n",
    "#a su vez esto transformara todos los nulls a cadenas de texto las cuales deberemos acceder atravez de el valor \"None\"(string)\n",
    "#por lo que ya no podremos utilizar las funciones para el manejo de nulos de pandas"
   ]
  },
  {
   "cell_type": "code",
   "execution_count": 3,
   "metadata": {},
   "outputs": [
    {
     "data": {
      "text/plain": [
       "(120445, 13)"
      ]
     },
     "execution_count": 3,
     "metadata": {},
     "output_type": "execute_result"
    }
   ],
   "source": [
    "df_sg.shape #las dimensiones de el dataframe son de 120445 filas y 13 columnas"
   ]
  },
  {
   "cell_type": "code",
   "execution_count": 4,
   "metadata": {},
   "outputs": [
    {
     "name": "stdout",
     "output_type": "stream",
     "text": [
      "<class 'pandas.core.frame.DataFrame'>\n",
      "RangeIndex: 120445 entries, 0 to 120444\n",
      "Data columns (total 13 columns):\n",
      " #   Column        Non-Null Count   Dtype \n",
      "---  ------        --------------   ----- \n",
      " 0   publisher     120445 non-null  object\n",
      " 1   genres        120445 non-null  object\n",
      " 2   app_name      120445 non-null  object\n",
      " 3   title         120445 non-null  object\n",
      " 4   url           120445 non-null  object\n",
      " 5   release_date  120445 non-null  object\n",
      " 6   tags          120445 non-null  object\n",
      " 7   reviews_url   120445 non-null  object\n",
      " 8   specs         120445 non-null  object\n",
      " 9   price         120445 non-null  object\n",
      " 10  early_access  120445 non-null  object\n",
      " 11  id            120445 non-null  object\n",
      " 12  developer     120445 non-null  object\n",
      "dtypes: object(13)\n",
      "memory usage: 11.9+ MB\n"
     ]
    }
   ],
   "source": [
    "df_sg.info()"
   ]
  },
  {
   "cell_type": "markdown",
   "metadata": {},
   "source": [
    "## correccion los problemas en los datos encontrados durante la primer parte de el eda"
   ]
  },
  {
   "cell_type": "markdown",
   "metadata": {},
   "source": [
    "### eliminacion de duplicados"
   ]
  },
  {
   "cell_type": "code",
   "execution_count": 5,
   "metadata": {},
   "outputs": [
    {
     "data": {
      "text/plain": [
       "True     88309\n",
       "False    32136\n",
       "Name: count, dtype: int64"
      ]
     },
     "execution_count": 5,
     "metadata": {},
     "output_type": "execute_result"
    }
   ],
   "source": [
    "df_sg.duplicated().value_counts()#tiene 88309 registros duplicados los cuales no nos interesan"
   ]
  },
  {
   "cell_type": "code",
   "execution_count": 6,
   "metadata": {},
   "outputs": [],
   "source": [
    "df_sg.drop_duplicates(inplace=True)#dropeo duplicados lo que incluye la mayoria de columnas con valores nulls"
   ]
  },
  {
   "cell_type": "code",
   "execution_count": 7,
   "metadata": {},
   "outputs": [
    {
     "data": {
      "text/plain": [
       "(32136, 13)"
      ]
     },
     "execution_count": 7,
     "metadata": {},
     "output_type": "execute_result"
    }
   ],
   "source": [
    "df_sg.shape #las dimensiones de el dataframe sin duplicados son de 32136 filas y 13 columnas"
   ]
  },
  {
   "cell_type": "code",
   "execution_count": 8,
   "metadata": {},
   "outputs": [
    {
     "data": {
      "text/html": [
       "<div>\n",
       "<style scoped>\n",
       "    .dataframe tbody tr th:only-of-type {\n",
       "        vertical-align: middle;\n",
       "    }\n",
       "\n",
       "    .dataframe tbody tr th {\n",
       "        vertical-align: top;\n",
       "    }\n",
       "\n",
       "    .dataframe thead th {\n",
       "        text-align: right;\n",
       "    }\n",
       "</style>\n",
       "<table border=\"1\" class=\"dataframe\">\n",
       "  <thead>\n",
       "    <tr style=\"text-align: right;\">\n",
       "      <th></th>\n",
       "      <th>publisher</th>\n",
       "      <th>genres</th>\n",
       "      <th>app_name</th>\n",
       "      <th>title</th>\n",
       "      <th>url</th>\n",
       "      <th>release_date</th>\n",
       "      <th>tags</th>\n",
       "      <th>reviews_url</th>\n",
       "      <th>specs</th>\n",
       "      <th>price</th>\n",
       "      <th>early_access</th>\n",
       "      <th>id</th>\n",
       "      <th>developer</th>\n",
       "    </tr>\n",
       "  </thead>\n",
       "  <tbody>\n",
       "    <tr>\n",
       "      <th>0</th>\n",
       "      <td>None</td>\n",
       "      <td>None</td>\n",
       "      <td>None</td>\n",
       "      <td>None</td>\n",
       "      <td>None</td>\n",
       "      <td>None</td>\n",
       "      <td>None</td>\n",
       "      <td>None</td>\n",
       "      <td>None</td>\n",
       "      <td>None</td>\n",
       "      <td>None</td>\n",
       "      <td>None</td>\n",
       "      <td>None</td>\n",
       "    </tr>\n",
       "    <tr>\n",
       "      <th>88310</th>\n",
       "      <td>Kotoshiro</td>\n",
       "      <td>['Action', 'Casual', 'Indie', 'Simulation', 'S...</td>\n",
       "      <td>Lost Summoner Kitty</td>\n",
       "      <td>Lost Summoner Kitty</td>\n",
       "      <td>http://store.steampowered.com/app/761140/Lost_...</td>\n",
       "      <td>2018-01-04</td>\n",
       "      <td>['Strategy', 'Action', 'Indie', 'Casual', 'Sim...</td>\n",
       "      <td>http://steamcommunity.com/app/761140/reviews/?...</td>\n",
       "      <td>['Single-player']</td>\n",
       "      <td>4.99</td>\n",
       "      <td>False</td>\n",
       "      <td>761140</td>\n",
       "      <td>Kotoshiro</td>\n",
       "    </tr>\n",
       "    <tr>\n",
       "      <th>88311</th>\n",
       "      <td>Making Fun, Inc.</td>\n",
       "      <td>['Free to Play', 'Indie', 'RPG', 'Strategy']</td>\n",
       "      <td>Ironbound</td>\n",
       "      <td>Ironbound</td>\n",
       "      <td>http://store.steampowered.com/app/643980/Ironb...</td>\n",
       "      <td>2018-01-04</td>\n",
       "      <td>['Free to Play', 'Strategy', 'Indie', 'RPG', '...</td>\n",
       "      <td>http://steamcommunity.com/app/643980/reviews/?...</td>\n",
       "      <td>['Single-player', 'Multi-player', 'Online Mult...</td>\n",
       "      <td>Free To Play</td>\n",
       "      <td>False</td>\n",
       "      <td>643980</td>\n",
       "      <td>Secret Level SRL</td>\n",
       "    </tr>\n",
       "    <tr>\n",
       "      <th>88312</th>\n",
       "      <td>Poolians.com</td>\n",
       "      <td>['Casual', 'Free to Play', 'Indie', 'Simulatio...</td>\n",
       "      <td>Real Pool 3D - Poolians</td>\n",
       "      <td>Real Pool 3D - Poolians</td>\n",
       "      <td>http://store.steampowered.com/app/670290/Real_...</td>\n",
       "      <td>2017-07-24</td>\n",
       "      <td>['Free to Play', 'Simulation', 'Sports', 'Casu...</td>\n",
       "      <td>http://steamcommunity.com/app/670290/reviews/?...</td>\n",
       "      <td>['Single-player', 'Multi-player', 'Online Mult...</td>\n",
       "      <td>Free to Play</td>\n",
       "      <td>False</td>\n",
       "      <td>670290</td>\n",
       "      <td>Poolians.com</td>\n",
       "    </tr>\n",
       "    <tr>\n",
       "      <th>88313</th>\n",
       "      <td>彼岸领域</td>\n",
       "      <td>['Action', 'Adventure', 'Casual']</td>\n",
       "      <td>弹炸人2222</td>\n",
       "      <td>弹炸人2222</td>\n",
       "      <td>http://store.steampowered.com/app/767400/2222/</td>\n",
       "      <td>2017-12-07</td>\n",
       "      <td>['Action', 'Adventure', 'Casual']</td>\n",
       "      <td>http://steamcommunity.com/app/767400/reviews/?...</td>\n",
       "      <td>['Single-player']</td>\n",
       "      <td>0.99</td>\n",
       "      <td>False</td>\n",
       "      <td>767400</td>\n",
       "      <td>彼岸领域</td>\n",
       "    </tr>\n",
       "  </tbody>\n",
       "</table>\n",
       "</div>"
      ],
      "text/plain": [
       "              publisher                                             genres  \\\n",
       "0                  None                                               None   \n",
       "88310         Kotoshiro  ['Action', 'Casual', 'Indie', 'Simulation', 'S...   \n",
       "88311  Making Fun, Inc.       ['Free to Play', 'Indie', 'RPG', 'Strategy']   \n",
       "88312      Poolians.com  ['Casual', 'Free to Play', 'Indie', 'Simulatio...   \n",
       "88313              彼岸领域                  ['Action', 'Adventure', 'Casual']   \n",
       "\n",
       "                      app_name                    title  \\\n",
       "0                         None                     None   \n",
       "88310      Lost Summoner Kitty      Lost Summoner Kitty   \n",
       "88311                Ironbound                Ironbound   \n",
       "88312  Real Pool 3D - Poolians  Real Pool 3D - Poolians   \n",
       "88313                  弹炸人2222                  弹炸人2222   \n",
       "\n",
       "                                                     url release_date  \\\n",
       "0                                                   None         None   \n",
       "88310  http://store.steampowered.com/app/761140/Lost_...   2018-01-04   \n",
       "88311  http://store.steampowered.com/app/643980/Ironb...   2018-01-04   \n",
       "88312  http://store.steampowered.com/app/670290/Real_...   2017-07-24   \n",
       "88313     http://store.steampowered.com/app/767400/2222/   2017-12-07   \n",
       "\n",
       "                                                    tags  \\\n",
       "0                                                   None   \n",
       "88310  ['Strategy', 'Action', 'Indie', 'Casual', 'Sim...   \n",
       "88311  ['Free to Play', 'Strategy', 'Indie', 'RPG', '...   \n",
       "88312  ['Free to Play', 'Simulation', 'Sports', 'Casu...   \n",
       "88313                  ['Action', 'Adventure', 'Casual']   \n",
       "\n",
       "                                             reviews_url  \\\n",
       "0                                                   None   \n",
       "88310  http://steamcommunity.com/app/761140/reviews/?...   \n",
       "88311  http://steamcommunity.com/app/643980/reviews/?...   \n",
       "88312  http://steamcommunity.com/app/670290/reviews/?...   \n",
       "88313  http://steamcommunity.com/app/767400/reviews/?...   \n",
       "\n",
       "                                                   specs         price  \\\n",
       "0                                                   None          None   \n",
       "88310                                  ['Single-player']          4.99   \n",
       "88311  ['Single-player', 'Multi-player', 'Online Mult...  Free To Play   \n",
       "88312  ['Single-player', 'Multi-player', 'Online Mult...  Free to Play   \n",
       "88313                                  ['Single-player']          0.99   \n",
       "\n",
       "      early_access      id         developer  \n",
       "0             None    None              None  \n",
       "88310        False  761140         Kotoshiro  \n",
       "88311        False  643980  Secret Level SRL  \n",
       "88312        False  670290      Poolians.com  \n",
       "88313        False  767400              彼岸领域  "
      ]
     },
     "execution_count": 8,
     "metadata": {},
     "output_type": "execute_result"
    }
   ],
   "source": [
    "df_sg.head(5)#(para asegurarnos que ahora que borro todas las columnas repetidas, solo nos dejo una unica fila con solo valores None la que dropearemos)"
   ]
  },
  {
   "cell_type": "code",
   "execution_count": 9,
   "metadata": {},
   "outputs": [],
   "source": [
    "df_sg.drop(0,inplace=True)#con esto borramos la unica columna que no poseia datos que quedaba"
   ]
  },
  {
   "cell_type": "markdown",
   "metadata": {},
   "source": [
    "## ahora asignaremos lo dtype correspondientes a cada campo"
   ]
  },
  {
   "cell_type": "markdown",
   "metadata": {},
   "source": [
    "### \"price\" str a float"
   ]
  },
  {
   "cell_type": "code",
   "execution_count": 10,
   "metadata": {},
   "outputs": [
    {
     "name": "stdout",
     "output_type": "stream",
     "text": [
      "['Free To Play', 'Free to Play', 'None', 'Free', 'Free Demo', 'Play for Free!', 'Install Now', 'Play WARMACHINE: Tactics Demo', 'Free Mod', 'Install Theme', 'Third-party', 'Play Now', 'Free HITMAN™ Holiday Pack', 'Play the Demo', 'Starting at $499.00', 'Starting at $449.00', 'Free to Try', 'Free Movie', 'Free to Use']\n"
     ]
    }
   ],
   "source": [
    "lista = etf.valores_no_numericos(df_sg[\"price\"])# esta funcion la hice en ETL_funciones\n",
    "print(lista)"
   ]
  },
  {
   "cell_type": "code",
   "execution_count": 11,
   "metadata": {},
   "outputs": [],
   "source": [
    "#quito de la lista estos 2 valores que no se podian convertir a numerico pero contiene su precio numerico en la cadena\n",
    "lista.remove(\"Starting at $499.00\")\n",
    "lista.remove('Starting at $449.00')"
   ]
  },
  {
   "cell_type": "code",
   "execution_count": 12,
   "metadata": {},
   "outputs": [],
   "source": [
    "#remplazo estas 2 cadenas por sus valores numericos\n",
    "df_sg[\"price\"] = df_sg[\"price\"].replace(\"Starting at $499.00\",\"499\") \n",
    "df_sg[\"price\"] = df_sg[\"price\"].replace(\"Starting at $449.00\",\"449\") \n",
    "#mask = df_sg[\"price\"].isin(lista)"
   ]
  },
  {
   "cell_type": "code",
   "execution_count": 13,
   "metadata": {},
   "outputs": [
    {
     "data": {
      "text/plain": [
       "['Free To Play',\n",
       " 'Free to Play',\n",
       " 'None',\n",
       " 'Free',\n",
       " 'Free Demo',\n",
       " 'Play for Free!',\n",
       " 'Install Now',\n",
       " 'Play WARMACHINE: Tactics Demo',\n",
       " 'Free Mod',\n",
       " 'Install Theme',\n",
       " 'Third-party',\n",
       " 'Play Now',\n",
       " 'Free HITMAN™ Holiday Pack',\n",
       " 'Play the Demo',\n",
       " 'Free to Try',\n",
       " 'Free Movie',\n",
       " 'Free to Use']"
      ]
     },
     "execution_count": 13,
     "metadata": {},
     "output_type": "execute_result"
    }
   ],
   "source": [
    "lista #ahora la lista solo contiene valores que podria reemplazar por precio 0"
   ]
  },
  {
   "cell_type": "code",
   "execution_count": 14,
   "metadata": {},
   "outputs": [],
   "source": [
    "df_sg[\"price\"] = df_sg[\"price\"].replace(lista,\"0\")#cambio los valores string que equivalen a precio 0 por \"0\""
   ]
  },
  {
   "cell_type": "code",
   "execution_count": 15,
   "metadata": {},
   "outputs": [],
   "source": [
    "df_sg[\"price\"] = df_sg[\"price\"].astype(float)#cambiando el dtype a float"
   ]
  },
  {
   "cell_type": "markdown",
   "metadata": {},
   "source": [
    "### \"id\" str a int"
   ]
  },
  {
   "cell_type": "code",
   "execution_count": 16,
   "metadata": {},
   "outputs": [
    {
     "data": {
      "text/plain": [
       "['None']"
      ]
     },
     "execution_count": 16,
     "metadata": {},
     "output_type": "execute_result"
    }
   ],
   "source": [
    "lista = etf.valores_no_numericos(df_sg[\"id\"])\n",
    "lista #los valores en la columna \"id\" que no pueden ser convertidos a int"
   ]
  },
  {
   "cell_type": "code",
   "execution_count": 17,
   "metadata": {},
   "outputs": [],
   "source": [
    "mask = (df_sg[\"id\"] == \"None\")#filtro que selecciona solo las columnas con \"id\" con valor \"None\"\n",
    "df_sg = df_sg[~mask]# ~ sirve para dropear , aca estamos dropeando las filas en que tienen id none"
   ]
  },
  {
   "cell_type": "code",
   "execution_count": 18,
   "metadata": {},
   "outputs": [],
   "source": [
    "df_sg[\"id\"] = df_sg[\"id\"].astype(int)"
   ]
  },
  {
   "cell_type": "markdown",
   "metadata": {},
   "source": [
    "### \"early-access\"str a boolean"
   ]
  },
  {
   "cell_type": "code",
   "execution_count": 19,
   "metadata": {},
   "outputs": [
    {
     "data": {
      "text/plain": [
       "early_access\n",
       "False    30186\n",
       "True      1947\n",
       "Name: count, dtype: int64"
      ]
     },
     "execution_count": 19,
     "metadata": {},
     "output_type": "execute_result"
    }
   ],
   "source": [
    "df_sg[\"early_access\"].value_counts()#como ya esta dicho en la parte donde se carga la libreria al cargar todo el df como str se cambiaron de sus valores float\n",
    "# a sus correspondientes valores booleanos en formato str y al parecer no poseia datos nulos o incorrectos"
   ]
  },
  {
   "cell_type": "code",
   "execution_count": 20,
   "metadata": {},
   "outputs": [],
   "source": [
    "df_sg[\"early_access\"] = df_sg[\"early_access\"].astype(bool)# transformamos a boolean"
   ]
  },
  {
   "cell_type": "markdown",
   "metadata": {},
   "source": [
    "## resultado final"
   ]
  },
  {
   "cell_type": "markdown",
   "metadata": {},
   "source": [
    "    float(price),bool(early_access)int(id) y el resto de columnas siendo de tipo str"
   ]
  },
  {
   "cell_type": "code",
   "execution_count": 22,
   "metadata": {},
   "outputs": [
    {
     "name": "stdout",
     "output_type": "stream",
     "text": [
      "<class 'pandas.core.frame.DataFrame'>\n",
      "Index: 32133 entries, 88310 to 120444\n",
      "Data columns (total 13 columns):\n",
      " #   Column        Non-Null Count  Dtype  \n",
      "---  ------        --------------  -----  \n",
      " 0   publisher     32133 non-null  object \n",
      " 1   genres        32133 non-null  object \n",
      " 2   app_name      32133 non-null  object \n",
      " 3   title         32133 non-null  object \n",
      " 4   url           32133 non-null  object \n",
      " 5   release_date  32133 non-null  object \n",
      " 6   tags          32133 non-null  object \n",
      " 7   reviews_url   32133 non-null  object \n",
      " 8   specs         32133 non-null  object \n",
      " 9   price         32133 non-null  float64\n",
      " 10  early_access  32133 non-null  bool   \n",
      " 11  id            32133 non-null  int32  \n",
      " 12  developer     32133 non-null  object \n",
      "dtypes: bool(1), float64(1), int32(1), object(10)\n",
      "memory usage: 3.1+ MB\n"
     ]
    }
   ],
   "source": [
    "df_sg.info()#asi es como quedarian nuestros tipos de datos"
   ]
  },
  {
   "cell_type": "markdown",
   "metadata": {},
   "source": [
    "## guardando el df procesado en un archivo parquet"
   ]
  },
  {
   "cell_type": "code",
   "execution_count": 23,
   "metadata": {},
   "outputs": [],
   "source": [
    "df_sg.to_parquet(r\"../app/processed_data/steam_games.parquet\")#dentro de la carpeta de la api"
   ]
  },
  {
   "cell_type": "markdown",
   "metadata": {},
   "source": [
    "<hr>"
   ]
  },
  {
   "cell_type": "code",
   "execution_count": null,
   "metadata": {},
   "outputs": [],
   "source": [
    "# list items\n",
    "reviews = []\n",
    "# open file json\n",
    "with open(r\"../Datasets/user_reviews.json/australian_user_reviews.json\", 'r', encoding='utf-8') as f:\n",
    "    # loop for insert data into list\n",
    "    for line in f.readlines():\n",
    "        reviews.append(ast.literal_eval(line))\n",
    "# create data frame with data\n",
    "df_user_reviews = pd.DataFrame(reviews)\n",
    "# display df\n",
    "df_user_reviews"
   ]
  },
  {
   "cell_type": "markdown",
   "metadata": {},
   "source": [
    "<hr>"
   ]
  },
  {
   "cell_type": "code",
   "execution_count": null,
   "metadata": {},
   "outputs": [],
   "source": [
    "# list items\n",
    "reviews = []\n",
    "# open file json\n",
    "with open(r'../Datasets/users_items.json/australian_users_items.json', 'r', encoding='utf-8') as f:\n",
    "    # loop for insert data into list\n",
    "    for line in f.readlines():\n",
    "        reviews.append(ast.literal_eval(line))\n",
    "# create data frame with data\n",
    "df_user_items = pd.DataFrame(reviews)\n",
    "# display df\n",
    "df_user_items##88310 rows 5 columns #4 min"
   ]
  },
  {
   "cell_type": "markdown",
   "metadata": {},
   "source": [
    "<hr>"
   ]
  }
 ],
 "metadata": {
  "kernelspec": {
   "display_name": "Python 3",
   "language": "python",
   "name": "python3"
  },
  "language_info": {
   "codemirror_mode": {
    "name": "ipython",
    "version": 3
   },
   "file_extension": ".py",
   "mimetype": "text/x-python",
   "name": "python",
   "nbconvert_exporter": "python",
   "pygments_lexer": "ipython3",
   "version": "3.11.5"
  }
 },
 "nbformat": 4,
 "nbformat_minor": 2
}
