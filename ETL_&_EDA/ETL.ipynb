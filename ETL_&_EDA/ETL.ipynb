{
 "cells": [
  {
   "cell_type": "code",
   "execution_count": 1,
   "metadata": {},
   "outputs": [],
   "source": [
    "import ETL_functions as etf\n",
    "import numpy as np\n",
    "import pandas as pd\n",
    "import ast"
   ]
  },
  {
   "cell_type": "markdown",
   "metadata": {},
   "source": [
    "# steam_games.json"
   ]
  },
  {
   "cell_type": "code",
   "execution_count": 2,
   "metadata": {},
   "outputs": [],
   "source": [
    "games_df = pd.read_json(r\"../Datasets/steam_games.json/output_steam_games.json\", lines=True,dtype=str)#lo cargamos como str para evitar complicaciones a la hora de las transformaciones\n",
    "                                                                                                      #transformando todos los valores nulls y NA en str(\"None\")"
   ]
  },
  {
   "cell_type": "code",
   "execution_count": 3,
   "metadata": {},
   "outputs": [
    {
     "data": {
      "text/plain": [
       "(120445, 13)"
      ]
     },
     "execution_count": 3,
     "metadata": {},
     "output_type": "execute_result"
    }
   ],
   "source": [
    "games_df.shape #las dimensiones de el dataframe son de 120445 filas y 13 columnas"
   ]
  },
  {
   "cell_type": "code",
   "execution_count": 98,
   "metadata": {},
   "outputs": [
    {
     "data": {
      "text/html": [
       "<div>\n",
       "<style scoped>\n",
       "    .dataframe tbody tr th:only-of-type {\n",
       "        vertical-align: middle;\n",
       "    }\n",
       "\n",
       "    .dataframe tbody tr th {\n",
       "        vertical-align: top;\n",
       "    }\n",
       "\n",
       "    .dataframe thead th {\n",
       "        text-align: right;\n",
       "    }\n",
       "</style>\n",
       "<table border=\"1\" class=\"dataframe\">\n",
       "  <thead>\n",
       "    <tr style=\"text-align: right;\">\n",
       "      <th></th>\n",
       "      <th>publisher</th>\n",
       "      <th>genres</th>\n",
       "      <th>app_name</th>\n",
       "      <th>title</th>\n",
       "      <th>url</th>\n",
       "      <th>release_date</th>\n",
       "      <th>tags</th>\n",
       "      <th>reviews_url</th>\n",
       "      <th>specs</th>\n",
       "      <th>price</th>\n",
       "      <th>early_access</th>\n",
       "      <th>id</th>\n",
       "      <th>developer</th>\n",
       "    </tr>\n",
       "  </thead>\n",
       "  <tbody>\n",
       "    <tr>\n",
       "      <th>109152</th>\n",
       "      <td>Might and Delight</td>\n",
       "      <td>['Adventure', 'Casual', 'Indie']</td>\n",
       "      <td>Shelter 2 Mountains EP</td>\n",
       "      <td>Shelter 2 Mountains EP</td>\n",
       "      <td>http://store.steampowered.com/app/460280/Shelt...</td>\n",
       "      <td>2016-10-26</td>\n",
       "      <td>['Adventure', 'Indie', 'Casual']</td>\n",
       "      <td>http://steamcommunity.com/app/460280/reviews/?...</td>\n",
       "      <td>['Single-player', 'Downloadable Content', 'Ful...</td>\n",
       "      <td>00.00</td>\n",
       "      <td>False</td>\n",
       "      <td>460280</td>\n",
       "      <td>Might and Delight</td>\n",
       "    </tr>\n",
       "    <tr>\n",
       "      <th>117395</th>\n",
       "      <td>None</td>\n",
       "      <td>['RPG']</td>\n",
       "      <td>Fantasy Grounds - Savage Worlds Setting: Sunde...</td>\n",
       "      <td>Fantasy Grounds - Savage Worlds Setting: Sunde...</td>\n",
       "      <td>http://store.steampowered.com/app/300460/Fanta...</td>\n",
       "      <td>2014-05-09</td>\n",
       "      <td>['RPG', 'Turn-Based', 'Fantasy', 'Story Rich',...</td>\n",
       "      <td>http://steamcommunity.com/app/300460/reviews/?...</td>\n",
       "      <td>['Multi-player', 'Co-op', 'Cross-Platform Mult...</td>\n",
       "      <td>00.00</td>\n",
       "      <td>False</td>\n",
       "      <td>300460</td>\n",
       "      <td>SmiteWorks USA, LLC</td>\n",
       "    </tr>\n",
       "    <tr>\n",
       "      <th>102500</th>\n",
       "      <td>None</td>\n",
       "      <td>['Action', 'Adventure', 'Free to Play', 'Indie...</td>\n",
       "      <td>The Old Empire Multiplayer</td>\n",
       "      <td>The Old Empire Multiplayer</td>\n",
       "      <td>http://store.steampowered.com/app/746870/The_O...</td>\n",
       "      <td>2017-10-31</td>\n",
       "      <td>['Free to Play', 'Action', 'Adventure', 'Massi...</td>\n",
       "      <td>http://steamcommunity.com/app/746870/reviews/?...</td>\n",
       "      <td>['Single-player', 'Multi-player', 'Online Mult...</td>\n",
       "      <td>Free</td>\n",
       "      <td>False</td>\n",
       "      <td>746870</td>\n",
       "      <td>TerkStudios</td>\n",
       "    </tr>\n",
       "    <tr>\n",
       "      <th>94689</th>\n",
       "      <td>AZAMATIKA</td>\n",
       "      <td>['Casual', 'Indie']</td>\n",
       "      <td>Gun Done</td>\n",
       "      <td>Gun Done</td>\n",
       "      <td>http://store.steampowered.com/app/488280/Gun_D...</td>\n",
       "      <td>2016-06-13</td>\n",
       "      <td>['Casual', 'Indie', 'Pixel Graphics', 'Western']</td>\n",
       "      <td>http://steamcommunity.com/app/488280/reviews/?...</td>\n",
       "      <td>['Single-player', 'Shared/Split Screen', 'Stea...</td>\n",
       "      <td>00.00</td>\n",
       "      <td>False</td>\n",
       "      <td>488280</td>\n",
       "      <td>AZAMATIKA</td>\n",
       "    </tr>\n",
       "    <tr>\n",
       "      <th>116141</th>\n",
       "      <td>Microids</td>\n",
       "      <td>['Adventure']</td>\n",
       "      <td>Sinking Island</td>\n",
       "      <td>Sinking Island</td>\n",
       "      <td>http://store.steampowered.com/app/333430/Sinki...</td>\n",
       "      <td>2007-10-04</td>\n",
       "      <td>['Adventure', 'Point &amp; Click', 'Detective', 'M...</td>\n",
       "      <td>http://steamcommunity.com/app/333430/reviews/?...</td>\n",
       "      <td>['Single-player']</td>\n",
       "      <td>00.00</td>\n",
       "      <td>False</td>\n",
       "      <td>333430</td>\n",
       "      <td>White Birds Productions</td>\n",
       "    </tr>\n",
       "  </tbody>\n",
       "</table>\n",
       "</div>"
      ],
      "text/plain": [
       "                publisher                                             genres  \\\n",
       "109152  Might and Delight                   ['Adventure', 'Casual', 'Indie']   \n",
       "117395               None                                            ['RPG']   \n",
       "102500               None  ['Action', 'Adventure', 'Free to Play', 'Indie...   \n",
       "94689           AZAMATIKA                                ['Casual', 'Indie']   \n",
       "116141           Microids                                      ['Adventure']   \n",
       "\n",
       "                                                 app_name  \\\n",
       "109152                             Shelter 2 Mountains EP   \n",
       "117395  Fantasy Grounds - Savage Worlds Setting: Sunde...   \n",
       "102500                         The Old Empire Multiplayer   \n",
       "94689                                            Gun Done   \n",
       "116141                                     Sinking Island   \n",
       "\n",
       "                                                    title  \\\n",
       "109152                             Shelter 2 Mountains EP   \n",
       "117395  Fantasy Grounds - Savage Worlds Setting: Sunde...   \n",
       "102500                         The Old Empire Multiplayer   \n",
       "94689                                            Gun Done   \n",
       "116141                                     Sinking Island   \n",
       "\n",
       "                                                      url release_date  \\\n",
       "109152  http://store.steampowered.com/app/460280/Shelt...   2016-10-26   \n",
       "117395  http://store.steampowered.com/app/300460/Fanta...   2014-05-09   \n",
       "102500  http://store.steampowered.com/app/746870/The_O...   2017-10-31   \n",
       "94689   http://store.steampowered.com/app/488280/Gun_D...   2016-06-13   \n",
       "116141  http://store.steampowered.com/app/333430/Sinki...   2007-10-04   \n",
       "\n",
       "                                                     tags  \\\n",
       "109152                   ['Adventure', 'Indie', 'Casual']   \n",
       "117395  ['RPG', 'Turn-Based', 'Fantasy', 'Story Rich',...   \n",
       "102500  ['Free to Play', 'Action', 'Adventure', 'Massi...   \n",
       "94689    ['Casual', 'Indie', 'Pixel Graphics', 'Western']   \n",
       "116141  ['Adventure', 'Point & Click', 'Detective', 'M...   \n",
       "\n",
       "                                              reviews_url  \\\n",
       "109152  http://steamcommunity.com/app/460280/reviews/?...   \n",
       "117395  http://steamcommunity.com/app/300460/reviews/?...   \n",
       "102500  http://steamcommunity.com/app/746870/reviews/?...   \n",
       "94689   http://steamcommunity.com/app/488280/reviews/?...   \n",
       "116141  http://steamcommunity.com/app/333430/reviews/?...   \n",
       "\n",
       "                                                    specs  price early_access  \\\n",
       "109152  ['Single-player', 'Downloadable Content', 'Ful...  00.00        False   \n",
       "117395  ['Multi-player', 'Co-op', 'Cross-Platform Mult...  00.00        False   \n",
       "102500  ['Single-player', 'Multi-player', 'Online Mult...   Free        False   \n",
       "94689   ['Single-player', 'Shared/Split Screen', 'Stea...  00.00        False   \n",
       "116141                                  ['Single-player']  00.00        False   \n",
       "\n",
       "            id                developer  \n",
       "109152  460280        Might and Delight  \n",
       "117395  300460      SmiteWorks USA, LLC  \n",
       "102500  746870              TerkStudios  \n",
       "94689   488280                AZAMATIKA  \n",
       "116141  333430  White Birds Productions  "
      ]
     },
     "execution_count": 98,
     "metadata": {},
     "output_type": "execute_result"
    }
   ],
   "source": [
    "games_df.sample(5)#tomamos una muestra aleatoria(varias veces) y podemos notar que hay filas completas de valores nulos"
   ]
  },
  {
   "cell_type": "code",
   "execution_count": 116,
   "metadata": {},
   "outputs": [
    {
     "name": "stdout",
     "output_type": "stream",
     "text": [
      "<class 'pandas.core.frame.DataFrame'>\n",
      "Index: 32135 entries, 88310 to 120444\n",
      "Data columns (total 13 columns):\n",
      " #   Column        Non-Null Count  Dtype  \n",
      "---  ------        --------------  -----  \n",
      " 0   publisher     32135 non-null  object \n",
      " 1   genres        32135 non-null  object \n",
      " 2   app_name      32135 non-null  object \n",
      " 3   title         32135 non-null  object \n",
      " 4   url           32135 non-null  object \n",
      " 5   release_date  32135 non-null  object \n",
      " 6   tags          32135 non-null  object \n",
      " 7   reviews_url   32135 non-null  object \n",
      " 8   specs         32135 non-null  object \n",
      " 9   price         32135 non-null  float64\n",
      " 10  early_access  32135 non-null  object \n",
      " 11  id            32135 non-null  object \n",
      " 12  developer     32135 non-null  object \n",
      "dtypes: float64(1), object(12)\n",
      "memory usage: 3.4+ MB\n"
     ]
    }
   ],
   "source": [
    "games_df.info()"
   ]
  },
  {
   "cell_type": "code",
   "execution_count": 6,
   "metadata": {},
   "outputs": [
    {
     "data": {
      "text/plain": [
       "True     88309\n",
       "False    32136\n",
       "Name: count, dtype: int64"
      ]
     },
     "execution_count": 6,
     "metadata": {},
     "output_type": "execute_result"
    }
   ],
   "source": [
    "games_df.duplicated().value_counts()#tiene 88309 registros duplicados los cuales no nos interesan"
   ]
  },
  {
   "cell_type": "code",
   "execution_count": 7,
   "metadata": {},
   "outputs": [],
   "source": [
    "games_df.drop_duplicates(inplace=True)#dropeo duplicados lo que incluye la mayoria de columnas con valores nulls"
   ]
  },
  {
   "cell_type": "code",
   "execution_count": 8,
   "metadata": {},
   "outputs": [
    {
     "data": {
      "text/plain": [
       "(32136, 13)"
      ]
     },
     "execution_count": 8,
     "metadata": {},
     "output_type": "execute_result"
    }
   ],
   "source": [
    "games_df.shape #las dimensiones de el dataframe son de 32136 filas y 13 columnas"
   ]
  },
  {
   "cell_type": "code",
   "execution_count": 113,
   "metadata": {},
   "outputs": [
    {
     "data": {
      "text/html": [
       "<div>\n",
       "<style scoped>\n",
       "    .dataframe tbody tr th:only-of-type {\n",
       "        vertical-align: middle;\n",
       "    }\n",
       "\n",
       "    .dataframe tbody tr th {\n",
       "        vertical-align: top;\n",
       "    }\n",
       "\n",
       "    .dataframe thead th {\n",
       "        text-align: right;\n",
       "    }\n",
       "</style>\n",
       "<table border=\"1\" class=\"dataframe\">\n",
       "  <thead>\n",
       "    <tr style=\"text-align: right;\">\n",
       "      <th></th>\n",
       "      <th>publisher</th>\n",
       "      <th>genres</th>\n",
       "      <th>app_name</th>\n",
       "      <th>title</th>\n",
       "      <th>url</th>\n",
       "      <th>release_date</th>\n",
       "      <th>tags</th>\n",
       "      <th>reviews_url</th>\n",
       "      <th>specs</th>\n",
       "      <th>price</th>\n",
       "      <th>early_access</th>\n",
       "      <th>id</th>\n",
       "      <th>developer</th>\n",
       "    </tr>\n",
       "  </thead>\n",
       "  <tbody>\n",
       "    <tr>\n",
       "      <th>88310</th>\n",
       "      <td>Kotoshiro</td>\n",
       "      <td>['Action', 'Casual', 'Indie', 'Simulation', 'S...</td>\n",
       "      <td>Lost Summoner Kitty</td>\n",
       "      <td>Lost Summoner Kitty</td>\n",
       "      <td>http://store.steampowered.com/app/761140/Lost_...</td>\n",
       "      <td>2018-01-04</td>\n",
       "      <td>['Strategy', 'Action', 'Indie', 'Casual', 'Sim...</td>\n",
       "      <td>http://steamcommunity.com/app/761140/reviews/?...</td>\n",
       "      <td>['Single-player']</td>\n",
       "      <td>00.00</td>\n",
       "      <td>False</td>\n",
       "      <td>761140</td>\n",
       "      <td>Kotoshiro</td>\n",
       "    </tr>\n",
       "    <tr>\n",
       "      <th>88311</th>\n",
       "      <td>Making Fun, Inc.</td>\n",
       "      <td>['Free to Play', 'Indie', 'RPG', 'Strategy']</td>\n",
       "      <td>Ironbound</td>\n",
       "      <td>Ironbound</td>\n",
       "      <td>http://store.steampowered.com/app/643980/Ironb...</td>\n",
       "      <td>2018-01-04</td>\n",
       "      <td>['Free to Play', 'Strategy', 'Indie', 'RPG', '...</td>\n",
       "      <td>http://steamcommunity.com/app/643980/reviews/?...</td>\n",
       "      <td>['Single-player', 'Multi-player', 'Online Mult...</td>\n",
       "      <td>0</td>\n",
       "      <td>False</td>\n",
       "      <td>643980</td>\n",
       "      <td>Secret Level SRL</td>\n",
       "    </tr>\n",
       "    <tr>\n",
       "      <th>88312</th>\n",
       "      <td>Poolians.com</td>\n",
       "      <td>['Casual', 'Free to Play', 'Indie', 'Simulatio...</td>\n",
       "      <td>Real Pool 3D - Poolians</td>\n",
       "      <td>Real Pool 3D - Poolians</td>\n",
       "      <td>http://store.steampowered.com/app/670290/Real_...</td>\n",
       "      <td>2017-07-24</td>\n",
       "      <td>['Free to Play', 'Simulation', 'Sports', 'Casu...</td>\n",
       "      <td>http://steamcommunity.com/app/670290/reviews/?...</td>\n",
       "      <td>['Single-player', 'Multi-player', 'Online Mult...</td>\n",
       "      <td>0</td>\n",
       "      <td>False</td>\n",
       "      <td>670290</td>\n",
       "      <td>Poolians.com</td>\n",
       "    </tr>\n",
       "  </tbody>\n",
       "</table>\n",
       "</div>"
      ],
      "text/plain": [
       "              publisher                                             genres  \\\n",
       "88310         Kotoshiro  ['Action', 'Casual', 'Indie', 'Simulation', 'S...   \n",
       "88311  Making Fun, Inc.       ['Free to Play', 'Indie', 'RPG', 'Strategy']   \n",
       "88312      Poolians.com  ['Casual', 'Free to Play', 'Indie', 'Simulatio...   \n",
       "\n",
       "                      app_name                    title  \\\n",
       "88310      Lost Summoner Kitty      Lost Summoner Kitty   \n",
       "88311                Ironbound                Ironbound   \n",
       "88312  Real Pool 3D - Poolians  Real Pool 3D - Poolians   \n",
       "\n",
       "                                                     url release_date  \\\n",
       "88310  http://store.steampowered.com/app/761140/Lost_...   2018-01-04   \n",
       "88311  http://store.steampowered.com/app/643980/Ironb...   2018-01-04   \n",
       "88312  http://store.steampowered.com/app/670290/Real_...   2017-07-24   \n",
       "\n",
       "                                                    tags  \\\n",
       "88310  ['Strategy', 'Action', 'Indie', 'Casual', 'Sim...   \n",
       "88311  ['Free to Play', 'Strategy', 'Indie', 'RPG', '...   \n",
       "88312  ['Free to Play', 'Simulation', 'Sports', 'Casu...   \n",
       "\n",
       "                                             reviews_url  \\\n",
       "88310  http://steamcommunity.com/app/761140/reviews/?...   \n",
       "88311  http://steamcommunity.com/app/643980/reviews/?...   \n",
       "88312  http://steamcommunity.com/app/670290/reviews/?...   \n",
       "\n",
       "                                                   specs  price early_access  \\\n",
       "88310                                  ['Single-player']  00.00        False   \n",
       "88311  ['Single-player', 'Multi-player', 'Online Mult...      0        False   \n",
       "88312  ['Single-player', 'Multi-player', 'Online Mult...      0        False   \n",
       "\n",
       "           id         developer  \n",
       "88310  761140         Kotoshiro  \n",
       "88311  643980  Secret Level SRL  \n",
       "88312  670290      Poolians.com  "
      ]
     },
     "execution_count": 113,
     "metadata": {},
     "output_type": "execute_result"
    }
   ],
   "source": [
    "games_df.head(3)# llamamos a df.head(para asegurarnos que ahora que borro todas las columnas repetidas, solo nos dejo una unica fila con solo valores None la que dropearemos)"
   ]
  },
  {
   "cell_type": "code",
   "execution_count": 10,
   "metadata": {},
   "outputs": [],
   "source": [
    "games_df.drop(0,inplace=True)#con esto borramos la unica columna que no poseia datos que quedaba"
   ]
  },
  {
   "cell_type": "markdown",
   "metadata": {},
   "source": [
    "## ahora asignaremos lo dtype correspondientes a cada campo"
   ]
  },
  {
   "cell_type": "code",
   "execution_count": 12,
   "metadata": {},
   "outputs": [
    {
     "name": "stdout",
     "output_type": "stream",
     "text": [
      "['Free To Play', 'Free to Play', 'None', 'Free', 'Free Demo', 'Play for Free!', 'Install Now', 'Play WARMACHINE: Tactics Demo', 'Free Mod', 'Install Theme', 'Third-party', 'Play Now', 'Free HITMAN™ Holiday Pack', 'Play the Demo', 'Starting at $499.00', 'Starting at $449.00', 'Free to Try', 'Free Movie', 'Free to Use']\n"
     ]
    }
   ],
   "source": [
    "lista = etf.valores_no_numericos(games_df[\"price\"])# esta funcion la hice en ETL_funciones ya que podria llegar a volver a utilizarla\n",
    "\n",
    "print(lista)"
   ]
  },
  {
   "cell_type": "code",
   "execution_count": null,
   "metadata": {},
   "outputs": [],
   "source": [
    "#quito de la lista estos 2 valores que no se podian convertir a numerico pero contiene su precio numerico\n",
    "lista.remove(\"Starting at $499.00\")\n",
    "lista.remove('Starting at $449.00')"
   ]
  },
  {
   "cell_type": "code",
   "execution_count": 101,
   "metadata": {},
   "outputs": [],
   "source": [
    "#remplazo estas 2 cadenas por sus valores numericos\n",
    "games_df[\"price\"] = games_df[\"price\"].replace(\"Starting at $499.00\",\"499.00\") \n",
    "games_df[\"price\"] = games_df[\"price\"].replace(\"Starting at $449.00\",\"449.00\") \n",
    "\n",
    "mask = games_df[\"price\"].isin(lista)\n",
    "\n",
    "games_df[\"price\"] = games_df[\"price\"] = games_df[mask][\"price\"]\n"
   ]
  },
  {
   "cell_type": "code",
   "execution_count": 32,
   "metadata": {},
   "outputs": [
    {
     "data": {
      "text/plain": [
       "['Free To Play',\n",
       " 'Free to Play',\n",
       " 'None',\n",
       " 'Free',\n",
       " 'Free Demo',\n",
       " 'Play for Free!',\n",
       " 'Install Now',\n",
       " 'Play WARMACHINE: Tactics Demo',\n",
       " 'Free Mod',\n",
       " 'Install Theme',\n",
       " 'Third-party',\n",
       " 'Play Now',\n",
       " 'Free HITMAN™ Holiday Pack',\n",
       " 'Play the Demo',\n",
       " 'Free to Try',\n",
       " 'Free Movie',\n",
       " 'Free to Use']"
      ]
     },
     "execution_count": 32,
     "metadata": {},
     "output_type": "execute_result"
    }
   ],
   "source": [
    "lista"
   ]
  },
  {
   "cell_type": "code",
   "execution_count": 114,
   "metadata": {},
   "outputs": [],
   "source": [
    "games_df[\"price\"] = games_df[\"price\"].replace(lista,\"0\")#cambio los valores string que equivalen a precio 0 por \"0\""
   ]
  },
  {
   "cell_type": "code",
   "execution_count": 115,
   "metadata": {},
   "outputs": [],
   "source": [
    "games_df[\"price\"] = games_df[\"price\"].astype(float)#cambiando el dtype a float"
   ]
  },
  {
   "cell_type": "code",
   "execution_count": null,
   "metadata": {},
   "outputs": [],
   "source": []
  },
  {
   "cell_type": "markdown",
   "metadata": {},
   "source": [
    "<hr>"
   ]
  },
  {
   "cell_type": "code",
   "execution_count": null,
   "metadata": {},
   "outputs": [],
   "source": [
    "reviews_df = pd.read_json(r\"../Datasets/user_reviews.json/australian_user_reviews.json\", lines=True)"
   ]
  },
  {
   "cell_type": "code",
   "execution_count": null,
   "metadata": {},
   "outputs": [],
   "source": [
    "# list items\n",
    "reviews = []\n",
    "# open file json\n",
    "with open(r\"../Datasets/user_reviews.json/australian_user_reviews.json\", 'r', encoding='utf-8') as f:\n",
    "    # loop for insert data into list\n",
    "    for line in f.readlines():\n",
    "        reviews.append(ast.literal_eval(line))\n",
    "# create data frame with data\n",
    "df_user_reviews = pd.DataFrame(reviews)\n",
    "# display df\n",
    "df_user_reviews"
   ]
  },
  {
   "cell_type": "markdown",
   "metadata": {},
   "source": [
    "<hr>"
   ]
  },
  {
   "cell_type": "code",
   "execution_count": null,
   "metadata": {},
   "outputs": [],
   "source": [
    "users_df = pd.read_json(r\"../Datasets/users_items.json/australian_users_items.json\", lines=True)"
   ]
  },
  {
   "cell_type": "code",
   "execution_count": null,
   "metadata": {},
   "outputs": [],
   "source": [
    "# list items\n",
    "reviews = []\n",
    "# open file json\n",
    "with open(r'../Datasets/users_items.json/australian_users_items.json', 'r', encoding='utf-8') as f:\n",
    "    # loop for insert data into list\n",
    "    for line in f.readlines():\n",
    "        reviews.append(ast.literal_eval(line))\n",
    "# create data frame with data\n",
    "df_user_items = pd.DataFrame(reviews)\n",
    "# display df\n",
    "df_user_items##88310 rows 5 columns #4 min"
   ]
  },
  {
   "cell_type": "markdown",
   "metadata": {},
   "source": [
    "<hr>"
   ]
  }
 ],
 "metadata": {
  "kernelspec": {
   "display_name": "Python 3",
   "language": "python",
   "name": "python3"
  },
  "language_info": {
   "codemirror_mode": {
    "name": "ipython",
    "version": 3
   },
   "file_extension": ".py",
   "mimetype": "text/x-python",
   "name": "python",
   "nbconvert_exporter": "python",
   "pygments_lexer": "ipython3",
   "version": "3.11.5"
  }
 },
 "nbformat": 4,
 "nbformat_minor": 2
}
