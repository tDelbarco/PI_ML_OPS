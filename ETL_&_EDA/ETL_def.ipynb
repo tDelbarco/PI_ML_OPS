{
 "cells": [
  {
   "cell_type": "code",
   "execution_count": 40,
   "metadata": {},
   "outputs": [],
   "source": [
    "import ETL_functions as etf\n",
    "import numpy as np\n",
    "import pandas as pd\n",
    "import ast"
   ]
  },
  {
   "cell_type": "markdown",
   "metadata": {},
   "source": [
    "# steam_games.json"
   ]
  },
  {
   "cell_type": "markdown",
   "metadata": {},
   "source": [
    "## carga de dataset"
   ]
  },
  {
   "cell_type": "code",
   "execution_count": 2,
   "metadata": {},
   "outputs": [],
   "source": [
    "df_sg = pd.read_json(r\"../Datasets/steam_games.json/output_steam_games.json\", lines=True)"
   ]
  },
  {
   "cell_type": "markdown",
   "metadata": {},
   "source": [
    "    transformo las siguientes columnas a tipo str ya que es dificil manejar listas y tira errores en bastantes metodos de pandas"
   ]
  },
  {
   "cell_type": "code",
   "execution_count": 3,
   "metadata": {},
   "outputs": [],
   "source": [
    "df_sg[\"genres\"] = df_sg[\"genres\"].astype(str)\n",
    "df_sg[\"tags\"] = df_sg[\"tags\"].astype(str)\n",
    "df_sg[\"specs\"] = df_sg[\"specs\"].astype(str)"
   ]
  },
  {
   "cell_type": "code",
   "execution_count": 4,
   "metadata": {},
   "outputs": [
    {
     "name": "stdout",
     "output_type": "stream",
     "text": [
      "\n",
      "Total rows:  120445\n",
      "\n",
      "Total full null rows:  0\n",
      "\n",
      "Total duplicated rows: 88309\n"
     ]
    },
    {
     "data": {
      "text/html": [
       "<div>\n",
       "<style scoped>\n",
       "    .dataframe tbody tr th:only-of-type {\n",
       "        vertical-align: middle;\n",
       "    }\n",
       "\n",
       "    .dataframe tbody tr th {\n",
       "        vertical-align: top;\n",
       "    }\n",
       "\n",
       "    .dataframe thead th {\n",
       "        text-align: right;\n",
       "    }\n",
       "</style>\n",
       "<table border=\"1\" class=\"dataframe\">\n",
       "  <thead>\n",
       "    <tr style=\"text-align: right;\">\n",
       "      <th></th>\n",
       "      <th>Column</th>\n",
       "      <th>dType</th>\n",
       "      <th>No_Null_%</th>\n",
       "      <th>No_Null_Qty</th>\n",
       "      <th>Null_%</th>\n",
       "      <th>Null_Qty</th>\n",
       "    </tr>\n",
       "  </thead>\n",
       "  <tbody>\n",
       "    <tr>\n",
       "      <th>0</th>\n",
       "      <td>publisher</td>\n",
       "      <td>[&lt;class 'NoneType'&gt;, &lt;class 'str'&gt;]</td>\n",
       "      <td>20.00</td>\n",
       "      <td>24083</td>\n",
       "      <td>80.00</td>\n",
       "      <td>96362</td>\n",
       "    </tr>\n",
       "    <tr>\n",
       "      <th>1</th>\n",
       "      <td>genres</td>\n",
       "      <td>[&lt;class 'str'&gt;]</td>\n",
       "      <td>100.00</td>\n",
       "      <td>120445</td>\n",
       "      <td>0.00</td>\n",
       "      <td>0</td>\n",
       "    </tr>\n",
       "    <tr>\n",
       "      <th>2</th>\n",
       "      <td>app_name</td>\n",
       "      <td>[&lt;class 'NoneType'&gt;, &lt;class 'str'&gt;]</td>\n",
       "      <td>26.68</td>\n",
       "      <td>32133</td>\n",
       "      <td>73.32</td>\n",
       "      <td>88312</td>\n",
       "    </tr>\n",
       "    <tr>\n",
       "      <th>3</th>\n",
       "      <td>title</td>\n",
       "      <td>[&lt;class 'NoneType'&gt;, &lt;class 'str'&gt;]</td>\n",
       "      <td>24.98</td>\n",
       "      <td>30085</td>\n",
       "      <td>75.02</td>\n",
       "      <td>90360</td>\n",
       "    </tr>\n",
       "    <tr>\n",
       "      <th>4</th>\n",
       "      <td>url</td>\n",
       "      <td>[&lt;class 'NoneType'&gt;, &lt;class 'str'&gt;]</td>\n",
       "      <td>26.68</td>\n",
       "      <td>32135</td>\n",
       "      <td>73.32</td>\n",
       "      <td>88310</td>\n",
       "    </tr>\n",
       "    <tr>\n",
       "      <th>5</th>\n",
       "      <td>release_date</td>\n",
       "      <td>[&lt;class 'NoneType'&gt;, &lt;class 'str'&gt;]</td>\n",
       "      <td>24.96</td>\n",
       "      <td>30068</td>\n",
       "      <td>75.04</td>\n",
       "      <td>90377</td>\n",
       "    </tr>\n",
       "    <tr>\n",
       "      <th>6</th>\n",
       "      <td>tags</td>\n",
       "      <td>[&lt;class 'str'&gt;]</td>\n",
       "      <td>100.00</td>\n",
       "      <td>120445</td>\n",
       "      <td>0.00</td>\n",
       "      <td>0</td>\n",
       "    </tr>\n",
       "    <tr>\n",
       "      <th>7</th>\n",
       "      <td>reviews_url</td>\n",
       "      <td>[&lt;class 'NoneType'&gt;, &lt;class 'str'&gt;]</td>\n",
       "      <td>26.68</td>\n",
       "      <td>32133</td>\n",
       "      <td>73.32</td>\n",
       "      <td>88312</td>\n",
       "    </tr>\n",
       "    <tr>\n",
       "      <th>8</th>\n",
       "      <td>specs</td>\n",
       "      <td>[&lt;class 'str'&gt;]</td>\n",
       "      <td>100.00</td>\n",
       "      <td>120445</td>\n",
       "      <td>0.00</td>\n",
       "      <td>0</td>\n",
       "    </tr>\n",
       "    <tr>\n",
       "      <th>9</th>\n",
       "      <td>price</td>\n",
       "      <td>[&lt;class 'NoneType'&gt;, &lt;class 'float'&gt;, &lt;class '...</td>\n",
       "      <td>25.54</td>\n",
       "      <td>30758</td>\n",
       "      <td>74.46</td>\n",
       "      <td>89687</td>\n",
       "    </tr>\n",
       "    <tr>\n",
       "      <th>10</th>\n",
       "      <td>early_access</td>\n",
       "      <td>[&lt;class 'float'&gt;]</td>\n",
       "      <td>26.68</td>\n",
       "      <td>32135</td>\n",
       "      <td>73.32</td>\n",
       "      <td>88310</td>\n",
       "    </tr>\n",
       "    <tr>\n",
       "      <th>11</th>\n",
       "      <td>id</td>\n",
       "      <td>[&lt;class 'float'&gt;]</td>\n",
       "      <td>26.68</td>\n",
       "      <td>32133</td>\n",
       "      <td>73.32</td>\n",
       "      <td>88312</td>\n",
       "    </tr>\n",
       "    <tr>\n",
       "      <th>12</th>\n",
       "      <td>developer</td>\n",
       "      <td>[&lt;class 'NoneType'&gt;, &lt;class 'str'&gt;]</td>\n",
       "      <td>23.94</td>\n",
       "      <td>28836</td>\n",
       "      <td>76.06</td>\n",
       "      <td>91609</td>\n",
       "    </tr>\n",
       "  </tbody>\n",
       "</table>\n",
       "</div>"
      ],
      "text/plain": [
       "          Column                                              dType  \\\n",
       "0      publisher                [<class 'NoneType'>, <class 'str'>]   \n",
       "1         genres                                    [<class 'str'>]   \n",
       "2       app_name                [<class 'NoneType'>, <class 'str'>]   \n",
       "3          title                [<class 'NoneType'>, <class 'str'>]   \n",
       "4            url                [<class 'NoneType'>, <class 'str'>]   \n",
       "5   release_date                [<class 'NoneType'>, <class 'str'>]   \n",
       "6           tags                                    [<class 'str'>]   \n",
       "7    reviews_url                [<class 'NoneType'>, <class 'str'>]   \n",
       "8          specs                                    [<class 'str'>]   \n",
       "9          price  [<class 'NoneType'>, <class 'float'>, <class '...   \n",
       "10  early_access                                  [<class 'float'>]   \n",
       "11            id                                  [<class 'float'>]   \n",
       "12     developer                [<class 'NoneType'>, <class 'str'>]   \n",
       "\n",
       "    No_Null_%  No_Null_Qty  Null_%  Null_Qty  \n",
       "0       20.00        24083   80.00     96362  \n",
       "1      100.00       120445    0.00         0  \n",
       "2       26.68        32133   73.32     88312  \n",
       "3       24.98        30085   75.02     90360  \n",
       "4       26.68        32135   73.32     88310  \n",
       "5       24.96        30068   75.04     90377  \n",
       "6      100.00       120445    0.00         0  \n",
       "7       26.68        32133   73.32     88312  \n",
       "8      100.00       120445    0.00         0  \n",
       "9       25.54        30758   74.46     89687  \n",
       "10      26.68        32135   73.32     88310  \n",
       "11      26.68        32133   73.32     88312  \n",
       "12      23.94        28836   76.06     91609  "
      ]
     },
     "execution_count": 4,
     "metadata": {},
     "output_type": "execute_result"
    }
   ],
   "source": [
    "etf.data_review(df_sg)"
   ]
  },
  {
   "cell_type": "markdown",
   "metadata": {},
   "source": [
    "    gracias a esta funcion podemos darnos rapidamente de laa cantidad de nulos en cada columna ecepto en las\n",
    "    tres que eran listas que pasamos a str ya que cualquier cadena de texto no vacia no es considerada un null"
   ]
  },
  {
   "cell_type": "markdown",
   "metadata": {},
   "source": [
    "## eliminacion de duplicados"
   ]
  },
  {
   "cell_type": "markdown",
   "metadata": {},
   "source": [
    "    cualquier registro duplicado no resulta importante debido a que los datos ya se encuentran en el dataset \n",
    "    (en especial en este caso que tenemos muchas columnas que tienen todas la columnas en null)"
   ]
  },
  {
   "cell_type": "code",
   "execution_count": 5,
   "metadata": {},
   "outputs": [
    {
     "data": {
      "text/plain": [
       "True     88309\n",
       "False    32136\n",
       "Name: count, dtype: int64"
      ]
     },
     "execution_count": 5,
     "metadata": {},
     "output_type": "execute_result"
    }
   ],
   "source": [
    "df_sg.duplicated().value_counts()#88309 registros duplicados y 32136 registros unicos"
   ]
  },
  {
   "cell_type": "code",
   "execution_count": 6,
   "metadata": {},
   "outputs": [],
   "source": [
    "df_sg.drop_duplicates(inplace=True)#elimino todos los duplicados dejando solo registros unicos y con ellos una columna llena de valores null que removere en la siguiente instruccion"
   ]
  },
  {
   "cell_type": "code",
   "execution_count": 7,
   "metadata": {},
   "outputs": [
    {
     "data": {
      "text/html": [
       "<div>\n",
       "<style scoped>\n",
       "    .dataframe tbody tr th:only-of-type {\n",
       "        vertical-align: middle;\n",
       "    }\n",
       "\n",
       "    .dataframe tbody tr th {\n",
       "        vertical-align: top;\n",
       "    }\n",
       "\n",
       "    .dataframe thead th {\n",
       "        text-align: right;\n",
       "    }\n",
       "</style>\n",
       "<table border=\"1\" class=\"dataframe\">\n",
       "  <thead>\n",
       "    <tr style=\"text-align: right;\">\n",
       "      <th></th>\n",
       "      <th>publisher</th>\n",
       "      <th>genres</th>\n",
       "      <th>app_name</th>\n",
       "      <th>title</th>\n",
       "      <th>url</th>\n",
       "      <th>release_date</th>\n",
       "      <th>tags</th>\n",
       "      <th>reviews_url</th>\n",
       "      <th>specs</th>\n",
       "      <th>price</th>\n",
       "      <th>early_access</th>\n",
       "      <th>id</th>\n",
       "      <th>developer</th>\n",
       "    </tr>\n",
       "  </thead>\n",
       "  <tbody>\n",
       "    <tr>\n",
       "      <th>0</th>\n",
       "      <td>None</td>\n",
       "      <td>None</td>\n",
       "      <td>None</td>\n",
       "      <td>None</td>\n",
       "      <td>None</td>\n",
       "      <td>None</td>\n",
       "      <td>None</td>\n",
       "      <td>None</td>\n",
       "      <td>None</td>\n",
       "      <td>None</td>\n",
       "      <td>NaN</td>\n",
       "      <td>NaN</td>\n",
       "      <td>None</td>\n",
       "    </tr>\n",
       "    <tr>\n",
       "      <th>88310</th>\n",
       "      <td>Kotoshiro</td>\n",
       "      <td>['Action', 'Casual', 'Indie', 'Simulation', 'S...</td>\n",
       "      <td>Lost Summoner Kitty</td>\n",
       "      <td>Lost Summoner Kitty</td>\n",
       "      <td>http://store.steampowered.com/app/761140/Lost_...</td>\n",
       "      <td>2018-01-04</td>\n",
       "      <td>['Strategy', 'Action', 'Indie', 'Casual', 'Sim...</td>\n",
       "      <td>http://steamcommunity.com/app/761140/reviews/?...</td>\n",
       "      <td>['Single-player']</td>\n",
       "      <td>4.99</td>\n",
       "      <td>0.0</td>\n",
       "      <td>761140.0</td>\n",
       "      <td>Kotoshiro</td>\n",
       "    </tr>\n",
       "    <tr>\n",
       "      <th>88311</th>\n",
       "      <td>Making Fun, Inc.</td>\n",
       "      <td>['Free to Play', 'Indie', 'RPG', 'Strategy']</td>\n",
       "      <td>Ironbound</td>\n",
       "      <td>Ironbound</td>\n",
       "      <td>http://store.steampowered.com/app/643980/Ironb...</td>\n",
       "      <td>2018-01-04</td>\n",
       "      <td>['Free to Play', 'Strategy', 'Indie', 'RPG', '...</td>\n",
       "      <td>http://steamcommunity.com/app/643980/reviews/?...</td>\n",
       "      <td>['Single-player', 'Multi-player', 'Online Mult...</td>\n",
       "      <td>Free To Play</td>\n",
       "      <td>0.0</td>\n",
       "      <td>643980.0</td>\n",
       "      <td>Secret Level SRL</td>\n",
       "    </tr>\n",
       "  </tbody>\n",
       "</table>\n",
       "</div>"
      ],
      "text/plain": [
       "              publisher                                             genres  \\\n",
       "0                  None                                               None   \n",
       "88310         Kotoshiro  ['Action', 'Casual', 'Indie', 'Simulation', 'S...   \n",
       "88311  Making Fun, Inc.       ['Free to Play', 'Indie', 'RPG', 'Strategy']   \n",
       "\n",
       "                  app_name                title  \\\n",
       "0                     None                 None   \n",
       "88310  Lost Summoner Kitty  Lost Summoner Kitty   \n",
       "88311            Ironbound            Ironbound   \n",
       "\n",
       "                                                     url release_date  \\\n",
       "0                                                   None         None   \n",
       "88310  http://store.steampowered.com/app/761140/Lost_...   2018-01-04   \n",
       "88311  http://store.steampowered.com/app/643980/Ironb...   2018-01-04   \n",
       "\n",
       "                                                    tags  \\\n",
       "0                                                   None   \n",
       "88310  ['Strategy', 'Action', 'Indie', 'Casual', 'Sim...   \n",
       "88311  ['Free to Play', 'Strategy', 'Indie', 'RPG', '...   \n",
       "\n",
       "                                             reviews_url  \\\n",
       "0                                                   None   \n",
       "88310  http://steamcommunity.com/app/761140/reviews/?...   \n",
       "88311  http://steamcommunity.com/app/643980/reviews/?...   \n",
       "\n",
       "                                                   specs         price  \\\n",
       "0                                                   None          None   \n",
       "88310                                  ['Single-player']          4.99   \n",
       "88311  ['Single-player', 'Multi-player', 'Online Mult...  Free To Play   \n",
       "\n",
       "       early_access        id         developer  \n",
       "0               NaN       NaN              None  \n",
       "88310           0.0  761140.0         Kotoshiro  \n",
       "88311           0.0  643980.0  Secret Level SRL  "
      ]
     },
     "execution_count": 7,
     "metadata": {},
     "output_type": "execute_result"
    }
   ],
   "source": [
    "df_sg.head(3)"
   ]
  },
  {
   "cell_type": "code",
   "execution_count": 8,
   "metadata": {},
   "outputs": [],
   "source": [
    "df_sg.drop(0,inplace=True)#borramos la unica columna que no poseia datos que quedaba"
   ]
  },
  {
   "cell_type": "code",
   "execution_count": 9,
   "metadata": {},
   "outputs": [
    {
     "data": {
      "text/html": [
       "<div>\n",
       "<style scoped>\n",
       "    .dataframe tbody tr th:only-of-type {\n",
       "        vertical-align: middle;\n",
       "    }\n",
       "\n",
       "    .dataframe tbody tr th {\n",
       "        vertical-align: top;\n",
       "    }\n",
       "\n",
       "    .dataframe thead th {\n",
       "        text-align: right;\n",
       "    }\n",
       "</style>\n",
       "<table border=\"1\" class=\"dataframe\">\n",
       "  <thead>\n",
       "    <tr style=\"text-align: right;\">\n",
       "      <th></th>\n",
       "      <th>publisher</th>\n",
       "      <th>genres</th>\n",
       "      <th>app_name</th>\n",
       "      <th>title</th>\n",
       "      <th>url</th>\n",
       "      <th>release_date</th>\n",
       "      <th>tags</th>\n",
       "      <th>reviews_url</th>\n",
       "      <th>specs</th>\n",
       "      <th>price</th>\n",
       "      <th>early_access</th>\n",
       "      <th>id</th>\n",
       "      <th>developer</th>\n",
       "    </tr>\n",
       "  </thead>\n",
       "  <tbody>\n",
       "    <tr>\n",
       "      <th>88310</th>\n",
       "      <td>Kotoshiro</td>\n",
       "      <td>['Action', 'Casual', 'Indie', 'Simulation', 'S...</td>\n",
       "      <td>Lost Summoner Kitty</td>\n",
       "      <td>Lost Summoner Kitty</td>\n",
       "      <td>http://store.steampowered.com/app/761140/Lost_...</td>\n",
       "      <td>2018-01-04</td>\n",
       "      <td>['Strategy', 'Action', 'Indie', 'Casual', 'Sim...</td>\n",
       "      <td>http://steamcommunity.com/app/761140/reviews/?...</td>\n",
       "      <td>['Single-player']</td>\n",
       "      <td>4.99</td>\n",
       "      <td>0.0</td>\n",
       "      <td>761140.0</td>\n",
       "      <td>Kotoshiro</td>\n",
       "    </tr>\n",
       "    <tr>\n",
       "      <th>88311</th>\n",
       "      <td>Making Fun, Inc.</td>\n",
       "      <td>['Free to Play', 'Indie', 'RPG', 'Strategy']</td>\n",
       "      <td>Ironbound</td>\n",
       "      <td>Ironbound</td>\n",
       "      <td>http://store.steampowered.com/app/643980/Ironb...</td>\n",
       "      <td>2018-01-04</td>\n",
       "      <td>['Free to Play', 'Strategy', 'Indie', 'RPG', '...</td>\n",
       "      <td>http://steamcommunity.com/app/643980/reviews/?...</td>\n",
       "      <td>['Single-player', 'Multi-player', 'Online Mult...</td>\n",
       "      <td>Free To Play</td>\n",
       "      <td>0.0</td>\n",
       "      <td>643980.0</td>\n",
       "      <td>Secret Level SRL</td>\n",
       "    </tr>\n",
       "    <tr>\n",
       "      <th>88312</th>\n",
       "      <td>Poolians.com</td>\n",
       "      <td>['Casual', 'Free to Play', 'Indie', 'Simulatio...</td>\n",
       "      <td>Real Pool 3D - Poolians</td>\n",
       "      <td>Real Pool 3D - Poolians</td>\n",
       "      <td>http://store.steampowered.com/app/670290/Real_...</td>\n",
       "      <td>2017-07-24</td>\n",
       "      <td>['Free to Play', 'Simulation', 'Sports', 'Casu...</td>\n",
       "      <td>http://steamcommunity.com/app/670290/reviews/?...</td>\n",
       "      <td>['Single-player', 'Multi-player', 'Online Mult...</td>\n",
       "      <td>Free to Play</td>\n",
       "      <td>0.0</td>\n",
       "      <td>670290.0</td>\n",
       "      <td>Poolians.com</td>\n",
       "    </tr>\n",
       "  </tbody>\n",
       "</table>\n",
       "</div>"
      ],
      "text/plain": [
       "              publisher                                             genres  \\\n",
       "88310         Kotoshiro  ['Action', 'Casual', 'Indie', 'Simulation', 'S...   \n",
       "88311  Making Fun, Inc.       ['Free to Play', 'Indie', 'RPG', 'Strategy']   \n",
       "88312      Poolians.com  ['Casual', 'Free to Play', 'Indie', 'Simulatio...   \n",
       "\n",
       "                      app_name                    title  \\\n",
       "88310      Lost Summoner Kitty      Lost Summoner Kitty   \n",
       "88311                Ironbound                Ironbound   \n",
       "88312  Real Pool 3D - Poolians  Real Pool 3D - Poolians   \n",
       "\n",
       "                                                     url release_date  \\\n",
       "88310  http://store.steampowered.com/app/761140/Lost_...   2018-01-04   \n",
       "88311  http://store.steampowered.com/app/643980/Ironb...   2018-01-04   \n",
       "88312  http://store.steampowered.com/app/670290/Real_...   2017-07-24   \n",
       "\n",
       "                                                    tags  \\\n",
       "88310  ['Strategy', 'Action', 'Indie', 'Casual', 'Sim...   \n",
       "88311  ['Free to Play', 'Strategy', 'Indie', 'RPG', '...   \n",
       "88312  ['Free to Play', 'Simulation', 'Sports', 'Casu...   \n",
       "\n",
       "                                             reviews_url  \\\n",
       "88310  http://steamcommunity.com/app/761140/reviews/?...   \n",
       "88311  http://steamcommunity.com/app/643980/reviews/?...   \n",
       "88312  http://steamcommunity.com/app/670290/reviews/?...   \n",
       "\n",
       "                                                   specs         price  \\\n",
       "88310                                  ['Single-player']          4.99   \n",
       "88311  ['Single-player', 'Multi-player', 'Online Mult...  Free To Play   \n",
       "88312  ['Single-player', 'Multi-player', 'Online Mult...  Free to Play   \n",
       "\n",
       "       early_access        id         developer  \n",
       "88310           0.0  761140.0         Kotoshiro  \n",
       "88311           0.0  643980.0  Secret Level SRL  \n",
       "88312           0.0  670290.0      Poolians.com  "
      ]
     },
     "execution_count": 9,
     "metadata": {},
     "output_type": "execute_result"
    }
   ],
   "source": [
    "df_sg.head(3) #con esto  dejamos este primer archivo relativamente limpio "
   ]
  },
  {
   "cell_type": "code",
   "execution_count": 10,
   "metadata": {},
   "outputs": [
    {
     "name": "stdout",
     "output_type": "stream",
     "text": [
      "\n",
      "Total rows:  32135\n",
      "\n",
      "Total full null rows:  0\n",
      "\n",
      "Total duplicated rows: 0\n"
     ]
    },
    {
     "data": {
      "text/html": [
       "<div>\n",
       "<style scoped>\n",
       "    .dataframe tbody tr th:only-of-type {\n",
       "        vertical-align: middle;\n",
       "    }\n",
       "\n",
       "    .dataframe tbody tr th {\n",
       "        vertical-align: top;\n",
       "    }\n",
       "\n",
       "    .dataframe thead th {\n",
       "        text-align: right;\n",
       "    }\n",
       "</style>\n",
       "<table border=\"1\" class=\"dataframe\">\n",
       "  <thead>\n",
       "    <tr style=\"text-align: right;\">\n",
       "      <th></th>\n",
       "      <th>Column</th>\n",
       "      <th>dType</th>\n",
       "      <th>No_Null_%</th>\n",
       "      <th>No_Null_Qty</th>\n",
       "      <th>Null_%</th>\n",
       "      <th>Null_Qty</th>\n",
       "    </tr>\n",
       "  </thead>\n",
       "  <tbody>\n",
       "    <tr>\n",
       "      <th>0</th>\n",
       "      <td>publisher</td>\n",
       "      <td>[&lt;class 'str'&gt;, &lt;class 'NoneType'&gt;]</td>\n",
       "      <td>74.94</td>\n",
       "      <td>24083</td>\n",
       "      <td>25.06</td>\n",
       "      <td>8052</td>\n",
       "    </tr>\n",
       "    <tr>\n",
       "      <th>1</th>\n",
       "      <td>genres</td>\n",
       "      <td>[&lt;class 'str'&gt;]</td>\n",
       "      <td>100.00</td>\n",
       "      <td>32135</td>\n",
       "      <td>0.00</td>\n",
       "      <td>0</td>\n",
       "    </tr>\n",
       "    <tr>\n",
       "      <th>2</th>\n",
       "      <td>app_name</td>\n",
       "      <td>[&lt;class 'str'&gt;, &lt;class 'NoneType'&gt;]</td>\n",
       "      <td>99.99</td>\n",
       "      <td>32133</td>\n",
       "      <td>0.01</td>\n",
       "      <td>2</td>\n",
       "    </tr>\n",
       "    <tr>\n",
       "      <th>3</th>\n",
       "      <td>title</td>\n",
       "      <td>[&lt;class 'str'&gt;, &lt;class 'NoneType'&gt;]</td>\n",
       "      <td>93.62</td>\n",
       "      <td>30085</td>\n",
       "      <td>6.38</td>\n",
       "      <td>2050</td>\n",
       "    </tr>\n",
       "    <tr>\n",
       "      <th>4</th>\n",
       "      <td>url</td>\n",
       "      <td>[&lt;class 'str'&gt;]</td>\n",
       "      <td>100.00</td>\n",
       "      <td>32135</td>\n",
       "      <td>0.00</td>\n",
       "      <td>0</td>\n",
       "    </tr>\n",
       "    <tr>\n",
       "      <th>5</th>\n",
       "      <td>release_date</td>\n",
       "      <td>[&lt;class 'str'&gt;, &lt;class 'NoneType'&gt;]</td>\n",
       "      <td>93.57</td>\n",
       "      <td>30068</td>\n",
       "      <td>6.43</td>\n",
       "      <td>2067</td>\n",
       "    </tr>\n",
       "    <tr>\n",
       "      <th>6</th>\n",
       "      <td>tags</td>\n",
       "      <td>[&lt;class 'str'&gt;]</td>\n",
       "      <td>100.00</td>\n",
       "      <td>32135</td>\n",
       "      <td>0.00</td>\n",
       "      <td>0</td>\n",
       "    </tr>\n",
       "    <tr>\n",
       "      <th>7</th>\n",
       "      <td>reviews_url</td>\n",
       "      <td>[&lt;class 'str'&gt;, &lt;class 'NoneType'&gt;]</td>\n",
       "      <td>99.99</td>\n",
       "      <td>32133</td>\n",
       "      <td>0.01</td>\n",
       "      <td>2</td>\n",
       "    </tr>\n",
       "    <tr>\n",
       "      <th>8</th>\n",
       "      <td>specs</td>\n",
       "      <td>[&lt;class 'str'&gt;]</td>\n",
       "      <td>100.00</td>\n",
       "      <td>32135</td>\n",
       "      <td>0.00</td>\n",
       "      <td>0</td>\n",
       "    </tr>\n",
       "    <tr>\n",
       "      <th>9</th>\n",
       "      <td>price</td>\n",
       "      <td>[&lt;class 'float'&gt;, &lt;class 'str'&gt;, &lt;class 'NoneT...</td>\n",
       "      <td>95.71</td>\n",
       "      <td>30758</td>\n",
       "      <td>4.29</td>\n",
       "      <td>1377</td>\n",
       "    </tr>\n",
       "    <tr>\n",
       "      <th>10</th>\n",
       "      <td>early_access</td>\n",
       "      <td>[&lt;class 'float'&gt;]</td>\n",
       "      <td>100.00</td>\n",
       "      <td>32135</td>\n",
       "      <td>0.00</td>\n",
       "      <td>0</td>\n",
       "    </tr>\n",
       "    <tr>\n",
       "      <th>11</th>\n",
       "      <td>id</td>\n",
       "      <td>[&lt;class 'float'&gt;]</td>\n",
       "      <td>99.99</td>\n",
       "      <td>32133</td>\n",
       "      <td>0.01</td>\n",
       "      <td>2</td>\n",
       "    </tr>\n",
       "    <tr>\n",
       "      <th>12</th>\n",
       "      <td>developer</td>\n",
       "      <td>[&lt;class 'str'&gt;, &lt;class 'NoneType'&gt;]</td>\n",
       "      <td>89.73</td>\n",
       "      <td>28836</td>\n",
       "      <td>10.27</td>\n",
       "      <td>3299</td>\n",
       "    </tr>\n",
       "  </tbody>\n",
       "</table>\n",
       "</div>"
      ],
      "text/plain": [
       "          Column                                              dType  \\\n",
       "0      publisher                [<class 'str'>, <class 'NoneType'>]   \n",
       "1         genres                                    [<class 'str'>]   \n",
       "2       app_name                [<class 'str'>, <class 'NoneType'>]   \n",
       "3          title                [<class 'str'>, <class 'NoneType'>]   \n",
       "4            url                                    [<class 'str'>]   \n",
       "5   release_date                [<class 'str'>, <class 'NoneType'>]   \n",
       "6           tags                                    [<class 'str'>]   \n",
       "7    reviews_url                [<class 'str'>, <class 'NoneType'>]   \n",
       "8          specs                                    [<class 'str'>]   \n",
       "9          price  [<class 'float'>, <class 'str'>, <class 'NoneT...   \n",
       "10  early_access                                  [<class 'float'>]   \n",
       "11            id                                  [<class 'float'>]   \n",
       "12     developer                [<class 'str'>, <class 'NoneType'>]   \n",
       "\n",
       "    No_Null_%  No_Null_Qty  Null_%  Null_Qty  \n",
       "0       74.94        24083   25.06      8052  \n",
       "1      100.00        32135    0.00         0  \n",
       "2       99.99        32133    0.01         2  \n",
       "3       93.62        30085    6.38      2050  \n",
       "4      100.00        32135    0.00         0  \n",
       "5       93.57        30068    6.43      2067  \n",
       "6      100.00        32135    0.00         0  \n",
       "7       99.99        32133    0.01         2  \n",
       "8      100.00        32135    0.00         0  \n",
       "9       95.71        30758    4.29      1377  \n",
       "10     100.00        32135    0.00         0  \n",
       "11      99.99        32133    0.01         2  \n",
       "12      89.73        28836   10.27      3299  "
      ]
     },
     "execution_count": 10,
     "metadata": {},
     "output_type": "execute_result"
    }
   ],
   "source": [
    "etf.data_review(df_sg)"
   ]
  },
  {
   "cell_type": "markdown",
   "metadata": {},
   "source": [
    "    quedando ahora la mayor cantidad de nulos en publisher y developer las cuales considero columnas que no importa que tengan valores nulls"
   ]
  },
  {
   "cell_type": "markdown",
   "metadata": {},
   "source": [
    "## eliminacion de nulos"
   ]
  },
  {
   "cell_type": "code",
   "execution_count": 11,
   "metadata": {},
   "outputs": [],
   "source": [
    "#cambiamos los tipos de datos para tratar los None como cadenas\n",
    "df_sg[\"title\"] = df_sg[\"title\"].astype(str)\n",
    "df_sg[\"app_name\"] = df_sg[\"app_name\"].astype(str)"
   ]
  },
  {
   "cell_type": "markdown",
   "metadata": {},
   "source": [
    "## esto borra las columnas que no tengan ni app_name ni title\n",
    "    ya que aunque se podria rellenar con datos de user_items solo son 2 registros por lo que no me tomare el trabajo de normalizar"
   ]
  },
  {
   "cell_type": "code",
   "execution_count": 12,
   "metadata": {},
   "outputs": [],
   "source": [
    "mask = ((df_sg[\"title\"] == \"None\") & (df_sg[\"app_name\"] == \"None\")) #filtro donde title y app_name tengan el valor de \"None\" (es una string debido a que los transforme anterior mente)\n",
    "df_sg = df_sg[~mask]# ~ obtenemos la parte contraria de el filtro ,y los seteamos al dataframe simulando un dropeo"
   ]
  },
  {
   "cell_type": "markdown",
   "metadata": {},
   "source": [
    "    esto solo borro 2 registros que no tenian utilidad ya que una app que no tiene ningun nombre no se puede recomendar"
   ]
  },
  {
   "cell_type": "markdown",
   "metadata": {},
   "source": [
    "## esto borra las filas que no tengan genres ni tags\n",
    "    ya que si tienen aunque si no cuenta con valor en genres no podre reemplazar los datos por los de tags que forman parte de genres"
   ]
  },
  {
   "cell_type": "code",
   "execution_count": 13,
   "metadata": {},
   "outputs": [],
   "source": [
    "mask = (df_sg[\"genres\"] == \"None\") & (df_sg[\"tags\"] == \"None\")# #filtro donde genres y tags tengan el valor de \"None\" (es una string debido a que los transforme anterior mente)\n",
    "df_sg = df_sg[~mask]# invertimos el resultado de el filtro para obtener las que no tiene valor == \"None\""
   ]
  },
  {
   "cell_type": "markdown",
   "metadata": {},
   "source": [
    "    esto borro 7 registros que no tenian ningun tipo de etiqueta o genero por el cual se pudieran recomendar.por lo que me parecio correcto borrar (en EDA conclui que hay algunos tags que forman parte de genero y que specs no)"
   ]
  },
  {
   "cell_type": "markdown",
   "metadata": {},
   "source": [
    "## dropeo \"specs\"  por lo que nombre en el eda sobre que no es una columna relevante"
   ]
  },
  {
   "cell_type": "code",
   "execution_count": 14,
   "metadata": {},
   "outputs": [],
   "source": [
    "del df_sg[\"specs\"]"
   ]
  },
  {
   "cell_type": "markdown",
   "metadata": {},
   "source": [
    "## elimino la columna publisher ya que no la vamos a usar y tiene 8000 nulos"
   ]
  },
  {
   "cell_type": "code",
   "execution_count": 15,
   "metadata": {},
   "outputs": [],
   "source": [
    "del df_sg[\"publisher\"]"
   ]
  },
  {
   "cell_type": "markdown",
   "metadata": {},
   "source": [
    "## reemplazo los valores nulos en genero por los coincidentes en tags"
   ]
  },
  {
   "cell_type": "code",
   "execution_count": 16,
   "metadata": {},
   "outputs": [],
   "source": [
    "backup = df_sg.copy()"
   ]
  },
  {
   "cell_type": "code",
   "execution_count": 17,
   "metadata": {},
   "outputs": [],
   "source": [
    "df_sg = backup # restaurar el estado de el dataframe a este punto"
   ]
  },
  {
   "cell_type": "markdown",
   "metadata": {},
   "source": [
    "### reduciendo la listas a un string separado por , para facilitar el procesamiento a partir de split cadaa vez que necesitemos acceder"
   ]
  },
  {
   "cell_type": "code",
   "execution_count": 18,
   "metadata": {},
   "outputs": [
    {
     "data": {
      "text/plain": [
       "88310         Action,Casual,Indie,Simulation,Strategy\n",
       "88311                 Free to Play,Indie,RPG,Strategy\n",
       "88312     Casual,Free to Play,Indie,Simulation,Sports\n",
       "88313                         Action,Adventure,Casual\n",
       "88314                                            None\n",
       "                             ...                     \n",
       "120440               Casual,Indie,Simulation,Strategy\n",
       "120441                          Casual,Indie,Strategy\n",
       "120442                        Indie,Racing,Simulation\n",
       "120443                                   Casual,Indie\n",
       "120444                                           None\n",
       "Name: genres, Length: 31995, dtype: object"
      ]
     },
     "execution_count": 18,
     "metadata": {},
     "output_type": "execute_result"
    }
   ],
   "source": [
    "df_sg[\"genres\"] = df_sg[\"genres\"].str.strip(\"[]\").str.replace(\" '\",\"\").str.replace(\"'\",\"\")\n",
    "\n",
    "df_sg[\"genres\"]"
   ]
  },
  {
   "cell_type": "code",
   "execution_count": 19,
   "metadata": {},
   "outputs": [
    {
     "data": {
      "text/plain": [
       "88310               Strategy,Action,Indie,Casual,Simulation\n",
       "88311     Free to Play,Strategy,Indie,RPG,Card Game,Trad...\n",
       "88312     Free to Play,Simulation,Sports,Casual,Indie,Mu...\n",
       "88313                               Action,Adventure,Casual\n",
       "88314                            Action,Indie,Casual,Sports\n",
       "                                ...                        \n",
       "120440                     Strategy,Indie,Casual,Simulation\n",
       "120441                                Strategy,Indie,Casual\n",
       "120442                              Indie,Simulation,Racing\n",
       "120443    Indie,Casual,Puzzle,Singleplayer,Atmospheric,R...\n",
       "120444    Early Access,Adventure,Indie,Action,Simulation,VR\n",
       "Name: tags, Length: 31995, dtype: object"
      ]
     },
     "execution_count": 19,
     "metadata": {},
     "output_type": "execute_result"
    }
   ],
   "source": [
    "df_sg[\"tags\"] = df_sg[\"tags\"].str.strip(\"[]\").str.replace(\" '\",\"\").str.replace(\"'\",\"\")\n",
    "\n",
    "df_sg[\"tags\"]"
   ]
  },
  {
   "cell_type": "code",
   "execution_count": 20,
   "metadata": {},
   "outputs": [
    {
     "data": {
      "text/plain": [
       "['Action',\n",
       " 'Software Training',\n",
       " 'Video Production',\n",
       " 'Utilities',\n",
       " 'Photo Editing',\n",
       " 'Strategy',\n",
       " 'Education',\n",
       " 'Racing',\n",
       " 'Casual',\n",
       " 'Simulation',\n",
       " 'Web Publishing',\n",
       " 'None',\n",
       " 'RPG',\n",
       " 'Audio Production',\n",
       " 'Massively Multiplayer',\n",
       " 'Free to Play',\n",
       " 'Sports',\n",
       " 'Adventure',\n",
       " 'Indie',\n",
       " 'Early Access']"
      ]
     },
     "execution_count": 20,
     "metadata": {},
     "output_type": "execute_result"
    }
   ],
   "source": [
    "generos = etf.valores_lista(df_sg,\"genres\") #obtengo todos los valores unicos de genres\n",
    "tags = etf.valores_lista(df_sg,\"tags\")      #obtengo todos  los valores unicos de tags\n",
    "elementos_comunes = list(set(generos) & set(tags)) #obtengo la interseccion entre esos valores\n",
    "\n",
    "elementos_comunes#esta es la lista de los valores que sabemos que estan en genero que tambien forman parte de tags"
   ]
  },
  {
   "cell_type": "code",
   "execution_count": 21,
   "metadata": {},
   "outputs": [],
   "source": [
    "elementos_comunes.remove('None')# removemos None de esta lista de elementos en comun"
   ]
  },
  {
   "cell_type": "code",
   "execution_count": 22,
   "metadata": {},
   "outputs": [
    {
     "data": {
      "text/plain": [
       "['Action',\n",
       " 'Software Training',\n",
       " 'Video Production',\n",
       " 'Utilities',\n",
       " 'Photo Editing',\n",
       " 'Strategy',\n",
       " 'Education',\n",
       " 'Racing',\n",
       " 'Casual',\n",
       " 'Simulation',\n",
       " 'Web Publishing',\n",
       " 'RPG',\n",
       " 'Audio Production',\n",
       " 'Massively Multiplayer',\n",
       " 'Free to Play',\n",
       " 'Sports',\n",
       " 'Adventure',\n",
       " 'Indie',\n",
       " 'Early Access']"
      ]
     },
     "execution_count": 22,
     "metadata": {},
     "output_type": "execute_result"
    }
   ],
   "source": [
    "elementos_comunes"
   ]
  },
  {
   "cell_type": "markdown",
   "metadata": {},
   "source": [
    "### antes de rellenar genres"
   ]
  },
  {
   "cell_type": "code",
   "execution_count": 23,
   "metadata": {},
   "outputs": [
    {
     "data": {
      "text/plain": [
       "88310         Action,Casual,Indie,Simulation,Strategy\n",
       "88311                 Free to Play,Indie,RPG,Strategy\n",
       "88312     Casual,Free to Play,Indie,Simulation,Sports\n",
       "88313                         Action,Adventure,Casual\n",
       "88314                                            None\n",
       "                             ...                     \n",
       "120440               Casual,Indie,Simulation,Strategy\n",
       "120441                          Casual,Indie,Strategy\n",
       "120442                        Indie,Racing,Simulation\n",
       "120443                                   Casual,Indie\n",
       "120444                                           None\n",
       "Name: genres, Length: 31995, dtype: object"
      ]
     },
     "execution_count": 23,
     "metadata": {},
     "output_type": "execute_result"
    }
   ],
   "source": [
    "df_sg[\"genres\"]"
   ]
  },
  {
   "cell_type": "code",
   "execution_count": 24,
   "metadata": {},
   "outputs": [
    {
     "data": {
      "text/plain": [
       "'fin de ejecucion'"
      ]
     },
     "execution_count": 24,
     "metadata": {},
     "output_type": "execute_result"
    }
   ],
   "source": [
    "etf.rellenar_comunes(df_sg,\"genres\",df_sg,\"tags\",elementos_comunes)\n",
    "\n"
   ]
  },
  {
   "cell_type": "markdown",
   "metadata": {},
   "source": [
    "### despues de rellenar genres"
   ]
  },
  {
   "cell_type": "code",
   "execution_count": 25,
   "metadata": {},
   "outputs": [
    {
     "data": {
      "text/plain": [
       "88310            Action,Casual,Indie,Simulation,Strategy\n",
       "88311                    Free to Play,Indie,RPG,Strategy\n",
       "88312        Casual,Free to Play,Indie,Simulation,Sports\n",
       "88313                            Action,Adventure,Casual\n",
       "88314                         Sports,Indie,Casual,Action\n",
       "                               ...                      \n",
       "120440                  Casual,Indie,Simulation,Strategy\n",
       "120441                             Casual,Indie,Strategy\n",
       "120442                           Indie,Racing,Simulation\n",
       "120443                                      Casual,Indie\n",
       "120444    Adventure,Action,Indie,Simulation,Early Access\n",
       "Name: genres, Length: 31995, dtype: object"
      ]
     },
     "execution_count": 25,
     "metadata": {},
     "output_type": "execute_result"
    }
   ],
   "source": [
    "df_sg[\"genres\"]"
   ]
  },
  {
   "cell_type": "markdown",
   "metadata": {},
   "source": [
    "--"
   ]
  },
  {
   "cell_type": "markdown",
   "metadata": {},
   "source": [
    "    ahora podemos borrar la columna tags ya que el unico motivo por el que la conservaba era para rellenar genres"
   ]
  },
  {
   "cell_type": "code",
   "execution_count": 26,
   "metadata": {},
   "outputs": [],
   "source": [
    "del df_sg[\"tags\"]"
   ]
  },
  {
   "cell_type": "code",
   "execution_count": 27,
   "metadata": {},
   "outputs": [
    {
     "name": "stdout",
     "output_type": "stream",
     "text": [
      "\n",
      "Total rows:  31995\n",
      "\n",
      "Total full null rows:  0\n",
      "\n",
      "Total duplicated rows: 0\n"
     ]
    },
    {
     "data": {
      "text/html": [
       "<div>\n",
       "<style scoped>\n",
       "    .dataframe tbody tr th:only-of-type {\n",
       "        vertical-align: middle;\n",
       "    }\n",
       "\n",
       "    .dataframe tbody tr th {\n",
       "        vertical-align: top;\n",
       "    }\n",
       "\n",
       "    .dataframe thead th {\n",
       "        text-align: right;\n",
       "    }\n",
       "</style>\n",
       "<table border=\"1\" class=\"dataframe\">\n",
       "  <thead>\n",
       "    <tr style=\"text-align: right;\">\n",
       "      <th></th>\n",
       "      <th>Column</th>\n",
       "      <th>dType</th>\n",
       "      <th>No_Null_%</th>\n",
       "      <th>No_Null_Qty</th>\n",
       "      <th>Null_%</th>\n",
       "      <th>Null_Qty</th>\n",
       "    </tr>\n",
       "  </thead>\n",
       "  <tbody>\n",
       "    <tr>\n",
       "      <th>0</th>\n",
       "      <td>genres</td>\n",
       "      <td>[&lt;class 'str'&gt;]</td>\n",
       "      <td>100.00</td>\n",
       "      <td>31995</td>\n",
       "      <td>0.00</td>\n",
       "      <td>0</td>\n",
       "    </tr>\n",
       "    <tr>\n",
       "      <th>1</th>\n",
       "      <td>app_name</td>\n",
       "      <td>[&lt;class 'str'&gt;]</td>\n",
       "      <td>100.00</td>\n",
       "      <td>31995</td>\n",
       "      <td>0.00</td>\n",
       "      <td>0</td>\n",
       "    </tr>\n",
       "    <tr>\n",
       "      <th>2</th>\n",
       "      <td>title</td>\n",
       "      <td>[&lt;class 'str'&gt;]</td>\n",
       "      <td>100.00</td>\n",
       "      <td>31995</td>\n",
       "      <td>0.00</td>\n",
       "      <td>0</td>\n",
       "    </tr>\n",
       "    <tr>\n",
       "      <th>3</th>\n",
       "      <td>url</td>\n",
       "      <td>[&lt;class 'str'&gt;]</td>\n",
       "      <td>100.00</td>\n",
       "      <td>31995</td>\n",
       "      <td>0.00</td>\n",
       "      <td>0</td>\n",
       "    </tr>\n",
       "    <tr>\n",
       "      <th>4</th>\n",
       "      <td>release_date</td>\n",
       "      <td>[&lt;class 'str'&gt;, &lt;class 'NoneType'&gt;]</td>\n",
       "      <td>93.55</td>\n",
       "      <td>29930</td>\n",
       "      <td>6.45</td>\n",
       "      <td>2065</td>\n",
       "    </tr>\n",
       "    <tr>\n",
       "      <th>5</th>\n",
       "      <td>reviews_url</td>\n",
       "      <td>[&lt;class 'str'&gt;, &lt;class 'NoneType'&gt;]</td>\n",
       "      <td>100.00</td>\n",
       "      <td>31994</td>\n",
       "      <td>0.00</td>\n",
       "      <td>1</td>\n",
       "    </tr>\n",
       "    <tr>\n",
       "      <th>6</th>\n",
       "      <td>price</td>\n",
       "      <td>[&lt;class 'float'&gt;, &lt;class 'str'&gt;, &lt;class 'NoneT...</td>\n",
       "      <td>95.76</td>\n",
       "      <td>30640</td>\n",
       "      <td>4.24</td>\n",
       "      <td>1355</td>\n",
       "    </tr>\n",
       "    <tr>\n",
       "      <th>7</th>\n",
       "      <td>early_access</td>\n",
       "      <td>[&lt;class 'float'&gt;]</td>\n",
       "      <td>100.00</td>\n",
       "      <td>31995</td>\n",
       "      <td>0.00</td>\n",
       "      <td>0</td>\n",
       "    </tr>\n",
       "    <tr>\n",
       "      <th>8</th>\n",
       "      <td>id</td>\n",
       "      <td>[&lt;class 'float'&gt;]</td>\n",
       "      <td>100.00</td>\n",
       "      <td>31994</td>\n",
       "      <td>0.00</td>\n",
       "      <td>1</td>\n",
       "    </tr>\n",
       "    <tr>\n",
       "      <th>9</th>\n",
       "      <td>developer</td>\n",
       "      <td>[&lt;class 'str'&gt;, &lt;class 'NoneType'&gt;]</td>\n",
       "      <td>89.78</td>\n",
       "      <td>28725</td>\n",
       "      <td>10.22</td>\n",
       "      <td>3270</td>\n",
       "    </tr>\n",
       "  </tbody>\n",
       "</table>\n",
       "</div>"
      ],
      "text/plain": [
       "         Column                                              dType  No_Null_%  \\\n",
       "0        genres                                    [<class 'str'>]     100.00   \n",
       "1      app_name                                    [<class 'str'>]     100.00   \n",
       "2         title                                    [<class 'str'>]     100.00   \n",
       "3           url                                    [<class 'str'>]     100.00   \n",
       "4  release_date                [<class 'str'>, <class 'NoneType'>]      93.55   \n",
       "5   reviews_url                [<class 'str'>, <class 'NoneType'>]     100.00   \n",
       "6         price  [<class 'float'>, <class 'str'>, <class 'NoneT...      95.76   \n",
       "7  early_access                                  [<class 'float'>]     100.00   \n",
       "8            id                                  [<class 'float'>]     100.00   \n",
       "9     developer                [<class 'str'>, <class 'NoneType'>]      89.78   \n",
       "\n",
       "   No_Null_Qty  Null_%  Null_Qty  \n",
       "0        31995    0.00         0  \n",
       "1        31995    0.00         0  \n",
       "2        31995    0.00         0  \n",
       "3        31995    0.00         0  \n",
       "4        29930    6.45      2065  \n",
       "5        31994    0.00         1  \n",
       "6        30640    4.24      1355  \n",
       "7        31995    0.00         0  \n",
       "8        31994    0.00         1  \n",
       "9        28725   10.22      3270  "
      ]
     },
     "execution_count": 27,
     "metadata": {},
     "output_type": "execute_result"
    }
   ],
   "source": [
    "etf.data_review(df_sg)"
   ]
  },
  {
   "cell_type": "markdown",
   "metadata": {},
   "source": [
    "    ya contamos con 0 nulls en genres"
   ]
  },
  {
   "cell_type": "markdown",
   "metadata": {},
   "source": [
    "##   rellenar app_name con title"
   ]
  },
  {
   "cell_type": "markdown",
   "metadata": {},
   "source": [
    "    esto habia que hacerlo pero con el borrado de los duplicados se borraron casi todos y con el borrar los que no tenian valores en ninguna de las 2 columnas no quedo ni uno pero la funcion ya la hice"
   ]
  },
  {
   "cell_type": "code",
   "execution_count": 28,
   "metadata": {},
   "outputs": [],
   "source": [
    "df_sg = backup"
   ]
  },
  {
   "cell_type": "code",
   "execution_count": 29,
   "metadata": {},
   "outputs": [],
   "source": [
    "# reemplazar los valores de app_name con los valores de title cuando app_name es igual a \"None\"\n",
    "df_sg[\"app_name\"] = np.where(df_sg[\"app_name\"] == \"None\", df_sg[\"title\"], df_sg[\"app_name\"])"
   ]
  },
  {
   "cell_type": "code",
   "execution_count": 30,
   "metadata": {},
   "outputs": [
    {
     "data": {
      "text/plain": [
       "115636                                     Wings of Vi Demo\n",
       "101581                      Bomber Crew Official Soundtrack\n",
       "92967     Batman™: Arkham Knight - Prototype Batmobile Skin\n",
       "95808                                     Bridge to Nowhere\n",
       "102522                           Choice of Rebels: Uprising\n",
       "101735                                                  FYD\n",
       "102367                                        Rasty Pelican\n",
       "97858     Fantasy Grounds - B04 The Cave Beast Hoard (PF...\n",
       "100700                Armored Warfare - BMPT General’s Pack\n",
       "95941               Rocket Riot - Soundtrack by SonicPicnic\n",
       "100712                 Fishing Planet: Grand Smallie's Pack\n",
       "116435           Rocksmith® 2014 – The Killers - “Runaways”\n",
       "96972                                       SpaceJourney VR\n",
       "111343                 PlayClaw 5 - Chroma Key for overlays\n",
       "107410    DARIUSBURST Chronicle Saviours - Varth: Operat...\n",
       "Name: app_name, dtype: object"
      ]
     },
     "execution_count": 30,
     "metadata": {},
     "output_type": "execute_result"
    }
   ],
   "source": [
    "df_sg[\"app_name\"].sample(15)"
   ]
  },
  {
   "cell_type": "markdown",
   "metadata": {},
   "source": [
    "##  ahora podemos dropear title"
   ]
  },
  {
   "cell_type": "code",
   "execution_count": 31,
   "metadata": {},
   "outputs": [],
   "source": [
    "del df_sg[\"title\"]"
   ]
  },
  {
   "cell_type": "markdown",
   "metadata": {},
   "source": [
    "## ahora asignaremos lo dtype correspondientes a cada campo"
   ]
  },
  {
   "cell_type": "code",
   "execution_count": 33,
   "metadata": {},
   "outputs": [],
   "source": [
    "backup = df_sg.copy()"
   ]
  },
  {
   "cell_type": "code",
   "execution_count": null,
   "metadata": {},
   "outputs": [],
   "source": [
    "df_sg  = backup"
   ]
  },
  {
   "cell_type": "code",
   "execution_count": 43,
   "metadata": {},
   "outputs": [
    {
     "name": "stdout",
     "output_type": "stream",
     "text": [
      "\n",
      "Total rows:  31995\n",
      "\n",
      "Total full null rows:  0\n",
      "\n",
      "Total duplicated rows: 0\n"
     ]
    },
    {
     "data": {
      "text/html": [
       "<div>\n",
       "<style scoped>\n",
       "    .dataframe tbody tr th:only-of-type {\n",
       "        vertical-align: middle;\n",
       "    }\n",
       "\n",
       "    .dataframe tbody tr th {\n",
       "        vertical-align: top;\n",
       "    }\n",
       "\n",
       "    .dataframe thead th {\n",
       "        text-align: right;\n",
       "    }\n",
       "</style>\n",
       "<table border=\"1\" class=\"dataframe\">\n",
       "  <thead>\n",
       "    <tr style=\"text-align: right;\">\n",
       "      <th></th>\n",
       "      <th>Column</th>\n",
       "      <th>dType</th>\n",
       "      <th>No_Null_%</th>\n",
       "      <th>No_Null_Qty</th>\n",
       "      <th>Null_%</th>\n",
       "      <th>Null_Qty</th>\n",
       "    </tr>\n",
       "  </thead>\n",
       "  <tbody>\n",
       "    <tr>\n",
       "      <th>0</th>\n",
       "      <td>genres</td>\n",
       "      <td>[&lt;class 'str'&gt;]</td>\n",
       "      <td>100.00</td>\n",
       "      <td>31995</td>\n",
       "      <td>0.00</td>\n",
       "      <td>0</td>\n",
       "    </tr>\n",
       "    <tr>\n",
       "      <th>1</th>\n",
       "      <td>app_name</td>\n",
       "      <td>[&lt;class 'str'&gt;]</td>\n",
       "      <td>100.00</td>\n",
       "      <td>31995</td>\n",
       "      <td>0.00</td>\n",
       "      <td>0</td>\n",
       "    </tr>\n",
       "    <tr>\n",
       "      <th>2</th>\n",
       "      <td>url</td>\n",
       "      <td>[&lt;class 'str'&gt;]</td>\n",
       "      <td>100.00</td>\n",
       "      <td>31995</td>\n",
       "      <td>0.00</td>\n",
       "      <td>0</td>\n",
       "    </tr>\n",
       "    <tr>\n",
       "      <th>3</th>\n",
       "      <td>release_date</td>\n",
       "      <td>[&lt;class 'str'&gt;, &lt;class 'NoneType'&gt;]</td>\n",
       "      <td>93.55</td>\n",
       "      <td>29930</td>\n",
       "      <td>6.45</td>\n",
       "      <td>2065</td>\n",
       "    </tr>\n",
       "    <tr>\n",
       "      <th>4</th>\n",
       "      <td>reviews_url</td>\n",
       "      <td>[&lt;class 'str'&gt;, &lt;class 'NoneType'&gt;]</td>\n",
       "      <td>100.00</td>\n",
       "      <td>31994</td>\n",
       "      <td>0.00</td>\n",
       "      <td>1</td>\n",
       "    </tr>\n",
       "    <tr>\n",
       "      <th>5</th>\n",
       "      <td>price</td>\n",
       "      <td>[&lt;class 'float'&gt;]</td>\n",
       "      <td>100.00</td>\n",
       "      <td>31995</td>\n",
       "      <td>0.00</td>\n",
       "      <td>0</td>\n",
       "    </tr>\n",
       "    <tr>\n",
       "      <th>6</th>\n",
       "      <td>early_access</td>\n",
       "      <td>[&lt;class 'float'&gt;]</td>\n",
       "      <td>100.00</td>\n",
       "      <td>31995</td>\n",
       "      <td>0.00</td>\n",
       "      <td>0</td>\n",
       "    </tr>\n",
       "    <tr>\n",
       "      <th>7</th>\n",
       "      <td>id</td>\n",
       "      <td>[&lt;class 'float'&gt;]</td>\n",
       "      <td>100.00</td>\n",
       "      <td>31994</td>\n",
       "      <td>0.00</td>\n",
       "      <td>1</td>\n",
       "    </tr>\n",
       "    <tr>\n",
       "      <th>8</th>\n",
       "      <td>developer</td>\n",
       "      <td>[&lt;class 'str'&gt;, &lt;class 'NoneType'&gt;]</td>\n",
       "      <td>89.78</td>\n",
       "      <td>28725</td>\n",
       "      <td>10.22</td>\n",
       "      <td>3270</td>\n",
       "    </tr>\n",
       "  </tbody>\n",
       "</table>\n",
       "</div>"
      ],
      "text/plain": [
       "         Column                                dType  No_Null_%  No_Null_Qty  \\\n",
       "0        genres                      [<class 'str'>]     100.00        31995   \n",
       "1      app_name                      [<class 'str'>]     100.00        31995   \n",
       "2           url                      [<class 'str'>]     100.00        31995   \n",
       "3  release_date  [<class 'str'>, <class 'NoneType'>]      93.55        29930   \n",
       "4   reviews_url  [<class 'str'>, <class 'NoneType'>]     100.00        31994   \n",
       "5         price                    [<class 'float'>]     100.00        31995   \n",
       "6  early_access                    [<class 'float'>]     100.00        31995   \n",
       "7            id                    [<class 'float'>]     100.00        31994   \n",
       "8     developer  [<class 'str'>, <class 'NoneType'>]      89.78        28725   \n",
       "\n",
       "   Null_%  Null_Qty  \n",
       "0    0.00         0  \n",
       "1    0.00         0  \n",
       "2    0.00         0  \n",
       "3    6.45      2065  \n",
       "4    0.00         1  \n",
       "5    0.00         0  \n",
       "6    0.00         0  \n",
       "7    0.00         1  \n",
       "8   10.22      3270  "
      ]
     },
     "execution_count": 43,
     "metadata": {},
     "output_type": "execute_result"
    }
   ],
   "source": [
    "etf.data_review(df_sg)"
   ]
  },
  {
   "cell_type": "markdown",
   "metadata": {},
   "source": [
    "### \"price\" str a float"
   ]
  },
  {
   "cell_type": "code",
   "execution_count": 35,
   "metadata": {},
   "outputs": [],
   "source": [
    "df_sg[\"price\"] = df_sg[\"price\"].astype(str)"
   ]
  },
  {
   "cell_type": "code",
   "execution_count": 37,
   "metadata": {},
   "outputs": [
    {
     "name": "stdout",
     "output_type": "stream",
     "text": [
      "['Free To Play', 'Free to Play', 'None', 'Free', 'Free Demo', 'Play for Free!', 'Install Now', 'Play WARMACHINE: Tactics Demo', 'Free Mod', 'Install Theme', 'Third-party', 'Play Now', 'Free HITMAN™ Holiday Pack', 'Play the Demo', 'Starting at $499.00', 'Starting at $449.00', 'Free to Try', 'Free Movie', 'Free to Use']\n"
     ]
    }
   ],
   "source": [
    "lista = etf.valores_no_numericos(df_sg[\"price\"])# esta funcion la hice en ETL_funciones\n",
    "print(lista) #lista con todos los valores que no pueden ser transformados a numericos"
   ]
  },
  {
   "cell_type": "code",
   "execution_count": 38,
   "metadata": {},
   "outputs": [],
   "source": [
    "#quito de la lista estos 2 valores que no se podian convertir a numerico pero contiene su precio numerico en la cadena\n",
    "lista.remove(\"Starting at $499.00\")\n",
    "lista.remove('Starting at $449.00')"
   ]
  },
  {
   "cell_type": "code",
   "execution_count": 39,
   "metadata": {},
   "outputs": [],
   "source": [
    "#remplazo estas 2 cadenas por sus valores numericos\n",
    "df_sg[\"price\"] = df_sg[\"price\"].replace(\"Starting at $499.00\",\"499\") \n",
    "df_sg[\"price\"] = df_sg[\"price\"].replace(\"Starting at $449.00\",\"449\") "
   ]
  },
  {
   "cell_type": "code",
   "execution_count": 40,
   "metadata": {},
   "outputs": [
    {
     "data": {
      "text/plain": [
       "['Free To Play',\n",
       " 'Free to Play',\n",
       " 'None',\n",
       " 'Free',\n",
       " 'Free Demo',\n",
       " 'Play for Free!',\n",
       " 'Install Now',\n",
       " 'Play WARMACHINE: Tactics Demo',\n",
       " 'Free Mod',\n",
       " 'Install Theme',\n",
       " 'Third-party',\n",
       " 'Play Now',\n",
       " 'Free HITMAN™ Holiday Pack',\n",
       " 'Play the Demo',\n",
       " 'Free to Try',\n",
       " 'Free Movie',\n",
       " 'Free to Use']"
      ]
     },
     "execution_count": 40,
     "metadata": {},
     "output_type": "execute_result"
    }
   ],
   "source": [
    "lista #ahora la lista solo contiene valores que podria reemplazar por precio 0"
   ]
  },
  {
   "cell_type": "markdown",
   "metadata": {},
   "source": [
    "    yo asumi que todos estos valores hacer referencia a un precio 0 aunque \"Third-party\"  podria ser una excepecion"
   ]
  },
  {
   "cell_type": "code",
   "execution_count": 41,
   "metadata": {},
   "outputs": [],
   "source": [
    "df_sg[\"price\"] = df_sg[\"price\"].replace(lista,\"0\")#cambio los valores string que equivalen a precio 0 por \"0\""
   ]
  },
  {
   "cell_type": "code",
   "execution_count": 42,
   "metadata": {},
   "outputs": [],
   "source": [
    "df_sg[\"price\"] = df_sg[\"price\"].astype(float)#cambiando el dtype a float"
   ]
  },
  {
   "cell_type": "code",
   "execution_count": 44,
   "metadata": {},
   "outputs": [
    {
     "name": "stdout",
     "output_type": "stream",
     "text": [
      "\n",
      "Total rows:  31995\n",
      "\n",
      "Total full null rows:  0\n",
      "\n",
      "Total duplicated rows: 0\n"
     ]
    },
    {
     "data": {
      "text/html": [
       "<div>\n",
       "<style scoped>\n",
       "    .dataframe tbody tr th:only-of-type {\n",
       "        vertical-align: middle;\n",
       "    }\n",
       "\n",
       "    .dataframe tbody tr th {\n",
       "        vertical-align: top;\n",
       "    }\n",
       "\n",
       "    .dataframe thead th {\n",
       "        text-align: right;\n",
       "    }\n",
       "</style>\n",
       "<table border=\"1\" class=\"dataframe\">\n",
       "  <thead>\n",
       "    <tr style=\"text-align: right;\">\n",
       "      <th></th>\n",
       "      <th>Column</th>\n",
       "      <th>dType</th>\n",
       "      <th>No_Null_%</th>\n",
       "      <th>No_Null_Qty</th>\n",
       "      <th>Null_%</th>\n",
       "      <th>Null_Qty</th>\n",
       "    </tr>\n",
       "  </thead>\n",
       "  <tbody>\n",
       "    <tr>\n",
       "      <th>0</th>\n",
       "      <td>genres</td>\n",
       "      <td>[&lt;class 'str'&gt;]</td>\n",
       "      <td>100.00</td>\n",
       "      <td>31995</td>\n",
       "      <td>0.00</td>\n",
       "      <td>0</td>\n",
       "    </tr>\n",
       "    <tr>\n",
       "      <th>1</th>\n",
       "      <td>app_name</td>\n",
       "      <td>[&lt;class 'str'&gt;]</td>\n",
       "      <td>100.00</td>\n",
       "      <td>31995</td>\n",
       "      <td>0.00</td>\n",
       "      <td>0</td>\n",
       "    </tr>\n",
       "    <tr>\n",
       "      <th>2</th>\n",
       "      <td>url</td>\n",
       "      <td>[&lt;class 'str'&gt;]</td>\n",
       "      <td>100.00</td>\n",
       "      <td>31995</td>\n",
       "      <td>0.00</td>\n",
       "      <td>0</td>\n",
       "    </tr>\n",
       "    <tr>\n",
       "      <th>3</th>\n",
       "      <td>release_date</td>\n",
       "      <td>[&lt;class 'str'&gt;, &lt;class 'NoneType'&gt;]</td>\n",
       "      <td>93.55</td>\n",
       "      <td>29930</td>\n",
       "      <td>6.45</td>\n",
       "      <td>2065</td>\n",
       "    </tr>\n",
       "    <tr>\n",
       "      <th>4</th>\n",
       "      <td>reviews_url</td>\n",
       "      <td>[&lt;class 'str'&gt;, &lt;class 'NoneType'&gt;]</td>\n",
       "      <td>100.00</td>\n",
       "      <td>31994</td>\n",
       "      <td>0.00</td>\n",
       "      <td>1</td>\n",
       "    </tr>\n",
       "    <tr>\n",
       "      <th>5</th>\n",
       "      <td>price</td>\n",
       "      <td>[&lt;class 'float'&gt;]</td>\n",
       "      <td>100.00</td>\n",
       "      <td>31995</td>\n",
       "      <td>0.00</td>\n",
       "      <td>0</td>\n",
       "    </tr>\n",
       "    <tr>\n",
       "      <th>6</th>\n",
       "      <td>early_access</td>\n",
       "      <td>[&lt;class 'float'&gt;]</td>\n",
       "      <td>100.00</td>\n",
       "      <td>31995</td>\n",
       "      <td>0.00</td>\n",
       "      <td>0</td>\n",
       "    </tr>\n",
       "    <tr>\n",
       "      <th>7</th>\n",
       "      <td>id</td>\n",
       "      <td>[&lt;class 'float'&gt;]</td>\n",
       "      <td>100.00</td>\n",
       "      <td>31994</td>\n",
       "      <td>0.00</td>\n",
       "      <td>1</td>\n",
       "    </tr>\n",
       "    <tr>\n",
       "      <th>8</th>\n",
       "      <td>developer</td>\n",
       "      <td>[&lt;class 'str'&gt;, &lt;class 'NoneType'&gt;]</td>\n",
       "      <td>89.78</td>\n",
       "      <td>28725</td>\n",
       "      <td>10.22</td>\n",
       "      <td>3270</td>\n",
       "    </tr>\n",
       "  </tbody>\n",
       "</table>\n",
       "</div>"
      ],
      "text/plain": [
       "         Column                                dType  No_Null_%  No_Null_Qty  \\\n",
       "0        genres                      [<class 'str'>]     100.00        31995   \n",
       "1      app_name                      [<class 'str'>]     100.00        31995   \n",
       "2           url                      [<class 'str'>]     100.00        31995   \n",
       "3  release_date  [<class 'str'>, <class 'NoneType'>]      93.55        29930   \n",
       "4   reviews_url  [<class 'str'>, <class 'NoneType'>]     100.00        31994   \n",
       "5         price                    [<class 'float'>]     100.00        31995   \n",
       "6  early_access                    [<class 'float'>]     100.00        31995   \n",
       "7            id                    [<class 'float'>]     100.00        31994   \n",
       "8     developer  [<class 'str'>, <class 'NoneType'>]      89.78        28725   \n",
       "\n",
       "   Null_%  Null_Qty  \n",
       "0    0.00         0  \n",
       "1    0.00         0  \n",
       "2    0.00         0  \n",
       "3    6.45      2065  \n",
       "4    0.00         1  \n",
       "5    0.00         0  \n",
       "6    0.00         0  \n",
       "7    0.00         1  \n",
       "8   10.22      3270  "
      ]
     },
     "execution_count": 44,
     "metadata": {},
     "output_type": "execute_result"
    }
   ],
   "source": [
    "etf.data_review(df_sg)"
   ]
  },
  {
   "cell_type": "markdown",
   "metadata": {},
   "source": [
    "    ahora nos dice 0 valores nulos y como pudimos hacer las conversiones de tipo de dato podemos estar seguros"
   ]
  },
  {
   "cell_type": "code",
   "execution_count": 52,
   "metadata": {},
   "outputs": [
    {
     "data": {
      "text/html": [
       "<div>\n",
       "<style scoped>\n",
       "    .dataframe tbody tr th:only-of-type {\n",
       "        vertical-align: middle;\n",
       "    }\n",
       "\n",
       "    .dataframe tbody tr th {\n",
       "        vertical-align: top;\n",
       "    }\n",
       "\n",
       "    .dataframe thead th {\n",
       "        text-align: right;\n",
       "    }\n",
       "</style>\n",
       "<table border=\"1\" class=\"dataframe\">\n",
       "  <thead>\n",
       "    <tr style=\"text-align: right;\">\n",
       "      <th></th>\n",
       "      <th>genres</th>\n",
       "      <th>app_name</th>\n",
       "      <th>url</th>\n",
       "      <th>release_date</th>\n",
       "      <th>reviews_url</th>\n",
       "      <th>price</th>\n",
       "      <th>early_access</th>\n",
       "      <th>id</th>\n",
       "      <th>developer</th>\n",
       "    </tr>\n",
       "  </thead>\n",
       "  <tbody>\n",
       "    <tr>\n",
       "      <th>97902</th>\n",
       "      <td>Casual,Strategy</td>\n",
       "      <td>Building the Great Wall of China 2</td>\n",
       "      <td>http://store.steampowered.com/app/497570/Build...</td>\n",
       "      <td>2017-04-25</td>\n",
       "      <td>http://steamcommunity.com/app/497570/reviews/?...</td>\n",
       "      <td>0.00</td>\n",
       "      <td>0.0</td>\n",
       "      <td>497570.0</td>\n",
       "      <td>Nordcurrent</td>\n",
       "    </tr>\n",
       "    <tr>\n",
       "      <th>97746</th>\n",
       "      <td>Indie,RPG</td>\n",
       "      <td>Cosmic Star Heroine</td>\n",
       "      <td>http://store.steampowered.com/app/256460/Cosmi...</td>\n",
       "      <td>2017-04-11</td>\n",
       "      <td>http://steamcommunity.com/app/256460/reviews/?...</td>\n",
       "      <td>14.99</td>\n",
       "      <td>0.0</td>\n",
       "      <td>256460.0</td>\n",
       "      <td>Zeboyd Games</td>\n",
       "    </tr>\n",
       "    <tr>\n",
       "      <th>112926</th>\n",
       "      <td>Indie,RPG,Strategy</td>\n",
       "      <td>Fantasy Grounds - Icewind Dale Portrait Pack</td>\n",
       "      <td>http://store.steampowered.com/app/425020/Fanta...</td>\n",
       "      <td>2015-12-11</td>\n",
       "      <td>http://steamcommunity.com/app/425020/reviews/?...</td>\n",
       "      <td>1.99</td>\n",
       "      <td>0.0</td>\n",
       "      <td>425020.0</td>\n",
       "      <td>SmiteWorks USA, LLC</td>\n",
       "    </tr>\n",
       "    <tr>\n",
       "      <th>93262</th>\n",
       "      <td>Action,Indie,Strategy</td>\n",
       "      <td>Battle of Empires : 1914-1918 - German campaign</td>\n",
       "      <td>http://store.steampowered.com/app/340640/Battl...</td>\n",
       "      <td>2015-12-11</td>\n",
       "      <td>http://steamcommunity.com/app/340640/reviews/?...</td>\n",
       "      <td>4.99</td>\n",
       "      <td>0.0</td>\n",
       "      <td>340640.0</td>\n",
       "      <td>Great War Team</td>\n",
       "    </tr>\n",
       "    <tr>\n",
       "      <th>119132</th>\n",
       "      <td>Simulation</td>\n",
       "      <td>Train Simulator: DB ICE 1 EMU Add-On</td>\n",
       "      <td>http://store.steampowered.com/app/208377/Train...</td>\n",
       "      <td>2012-08-03</td>\n",
       "      <td>http://steamcommunity.com/app/208377/reviews/?...</td>\n",
       "      <td>7.99</td>\n",
       "      <td>0.0</td>\n",
       "      <td>208377.0</td>\n",
       "      <td>Dovetail Games</td>\n",
       "    </tr>\n",
       "    <tr>\n",
       "      <th>116525</th>\n",
       "      <td>Adventure</td>\n",
       "      <td>Gabriel Knight: Sins of the Fathers 20th Anniv...</td>\n",
       "      <td>http://store.steampowered.com/app/262000/Gabri...</td>\n",
       "      <td>2014-10-15</td>\n",
       "      <td>http://steamcommunity.com/app/262000/reviews/?...</td>\n",
       "      <td>19.99</td>\n",
       "      <td>0.0</td>\n",
       "      <td>262000.0</td>\n",
       "      <td>Phoenix Online Studios,Pinkerton Road Studio</td>\n",
       "    </tr>\n",
       "    <tr>\n",
       "      <th>107693</th>\n",
       "      <td>Adventure,Indie,Early Access</td>\n",
       "      <td>Ruction: The Golden Tablet</td>\n",
       "      <td>http://store.steampowered.com/app/496820/Ructi...</td>\n",
       "      <td>2017-01-31</td>\n",
       "      <td>http://steamcommunity.com/app/496820/reviews/?...</td>\n",
       "      <td>9.99</td>\n",
       "      <td>1.0</td>\n",
       "      <td>496820.0</td>\n",
       "      <td>Scott Richey</td>\n",
       "    </tr>\n",
       "    <tr>\n",
       "      <th>90912</th>\n",
       "      <td>Adventure,Casual,Indie,RPG</td>\n",
       "      <td>Millennium 3 - Cry Wolf</td>\n",
       "      <td>http://store.steampowered.com/app/298830/Mille...</td>\n",
       "      <td>2014-08-29</td>\n",
       "      <td>http://steamcommunity.com/app/298830/reviews/?...</td>\n",
       "      <td>5.99</td>\n",
       "      <td>0.0</td>\n",
       "      <td>298830.0</td>\n",
       "      <td>Aldorlea Games</td>\n",
       "    </tr>\n",
       "    <tr>\n",
       "      <th>115622</th>\n",
       "      <td>Action,Adventure</td>\n",
       "      <td>Disney•Pixar Finding Nemo</td>\n",
       "      <td>http://store.steampowered.com/app/331450/Disne...</td>\n",
       "      <td>2003-05-11</td>\n",
       "      <td>http://steamcommunity.com/app/331450/reviews/?...</td>\n",
       "      <td>9.99</td>\n",
       "      <td>0.0</td>\n",
       "      <td>331450.0</td>\n",
       "      <td>KnowWonder</td>\n",
       "    </tr>\n",
       "    <tr>\n",
       "      <th>99520</th>\n",
       "      <td>Casual,Simulation</td>\n",
       "      <td>Rocksmith® 2014 Edition – Remastered – Variety...</td>\n",
       "      <td>http://store.steampowered.com/app/637724/Rocks...</td>\n",
       "      <td>2017-08-29</td>\n",
       "      <td>http://steamcommunity.com/app/637724/reviews/?...</td>\n",
       "      <td>9.99</td>\n",
       "      <td>0.0</td>\n",
       "      <td>637724.0</td>\n",
       "      <td>Ubisoft - San Francisco</td>\n",
       "    </tr>\n",
       "  </tbody>\n",
       "</table>\n",
       "</div>"
      ],
      "text/plain": [
       "                              genres  \\\n",
       "97902                Casual,Strategy   \n",
       "97746                      Indie,RPG   \n",
       "112926            Indie,RPG,Strategy   \n",
       "93262          Action,Indie,Strategy   \n",
       "119132                    Simulation   \n",
       "116525                     Adventure   \n",
       "107693  Adventure,Indie,Early Access   \n",
       "90912     Adventure,Casual,Indie,RPG   \n",
       "115622              Action,Adventure   \n",
       "99520              Casual,Simulation   \n",
       "\n",
       "                                                 app_name  \\\n",
       "97902                  Building the Great Wall of China 2   \n",
       "97746                                 Cosmic Star Heroine   \n",
       "112926       Fantasy Grounds - Icewind Dale Portrait Pack   \n",
       "93262     Battle of Empires : 1914-1918 - German campaign   \n",
       "119132               Train Simulator: DB ICE 1 EMU Add-On   \n",
       "116525  Gabriel Knight: Sins of the Fathers 20th Anniv...   \n",
       "107693                         Ruction: The Golden Tablet   \n",
       "90912                             Millennium 3 - Cry Wolf   \n",
       "115622                          Disney•Pixar Finding Nemo   \n",
       "99520   Rocksmith® 2014 Edition – Remastered – Variety...   \n",
       "\n",
       "                                                      url release_date  \\\n",
       "97902   http://store.steampowered.com/app/497570/Build...   2017-04-25   \n",
       "97746   http://store.steampowered.com/app/256460/Cosmi...   2017-04-11   \n",
       "112926  http://store.steampowered.com/app/425020/Fanta...   2015-12-11   \n",
       "93262   http://store.steampowered.com/app/340640/Battl...   2015-12-11   \n",
       "119132  http://store.steampowered.com/app/208377/Train...   2012-08-03   \n",
       "116525  http://store.steampowered.com/app/262000/Gabri...   2014-10-15   \n",
       "107693  http://store.steampowered.com/app/496820/Ructi...   2017-01-31   \n",
       "90912   http://store.steampowered.com/app/298830/Mille...   2014-08-29   \n",
       "115622  http://store.steampowered.com/app/331450/Disne...   2003-05-11   \n",
       "99520   http://store.steampowered.com/app/637724/Rocks...   2017-08-29   \n",
       "\n",
       "                                              reviews_url  price  \\\n",
       "97902   http://steamcommunity.com/app/497570/reviews/?...   0.00   \n",
       "97746   http://steamcommunity.com/app/256460/reviews/?...  14.99   \n",
       "112926  http://steamcommunity.com/app/425020/reviews/?...   1.99   \n",
       "93262   http://steamcommunity.com/app/340640/reviews/?...   4.99   \n",
       "119132  http://steamcommunity.com/app/208377/reviews/?...   7.99   \n",
       "116525  http://steamcommunity.com/app/262000/reviews/?...  19.99   \n",
       "107693  http://steamcommunity.com/app/496820/reviews/?...   9.99   \n",
       "90912   http://steamcommunity.com/app/298830/reviews/?...   5.99   \n",
       "115622  http://steamcommunity.com/app/331450/reviews/?...   9.99   \n",
       "99520   http://steamcommunity.com/app/637724/reviews/?...   9.99   \n",
       "\n",
       "        early_access        id                                     developer  \n",
       "97902            0.0  497570.0                                   Nordcurrent  \n",
       "97746            0.0  256460.0                                  Zeboyd Games  \n",
       "112926           0.0  425020.0                           SmiteWorks USA, LLC  \n",
       "93262            0.0  340640.0                                Great War Team  \n",
       "119132           0.0  208377.0                                Dovetail Games  \n",
       "116525           0.0  262000.0  Phoenix Online Studios,Pinkerton Road Studio  \n",
       "107693           1.0  496820.0                                  Scott Richey  \n",
       "90912            0.0  298830.0                                Aldorlea Games  \n",
       "115622           0.0  331450.0                                    KnowWonder  \n",
       "99520            0.0  637724.0                       Ubisoft - San Francisco  "
      ]
     },
     "execution_count": 52,
     "metadata": {},
     "output_type": "execute_result"
    }
   ],
   "source": [
    "df_sg.sample(10) #ejecute varias veces por si acaso"
   ]
  },
  {
   "cell_type": "markdown",
   "metadata": {},
   "source": [
    "## \"id\" str a int"
   ]
  },
  {
   "cell_type": "code",
   "execution_count": 53,
   "metadata": {},
   "outputs": [],
   "source": [
    "df_sg[\"id\"] = df_sg[\"id\"].astype(\"str\")#cambio la columna a str ya que me parece mucho mas facil manejar manejar asi los valores erroneos"
   ]
  },
  {
   "cell_type": "code",
   "execution_count": 54,
   "metadata": {},
   "outputs": [
    {
     "data": {
      "text/plain": [
       "['nan']"
      ]
     },
     "execution_count": 54,
     "metadata": {},
     "output_type": "execute_result"
    }
   ],
   "source": [
    "lista = etf.valores_no_numericos(df_sg[\"id\"])#ahora que los valores son str cualquier null o nan se transforma en su cadena lo que me permite llamar a mi funcion\n",
    "lista #los valores en la columna \"id\" que no pueden ser convertidos a int"
   ]
  },
  {
   "cell_type": "code",
   "execution_count": 55,
   "metadata": {},
   "outputs": [],
   "source": [
    "mask = (df_sg[\"id\"] == \"nan\")#filtro que selecciona solo las columnas con \"id\" con valor \"None\"\n",
    "df_sg = df_sg[~mask]# ~ sirve para dropear , aca estamos dropeando las filas en que tienen id none"
   ]
  },
  {
   "cell_type": "code",
   "execution_count": 56,
   "metadata": {},
   "outputs": [],
   "source": [
    "backup = df_sg.copy()#copia de seguridad de el dataframe llegado a esta parte"
   ]
  },
  {
   "cell_type": "code",
   "execution_count": 58,
   "metadata": {},
   "outputs": [],
   "source": [
    "df_sg = backup # restaura la ultima copia de el df"
   ]
  },
  {
   "cell_type": "code",
   "execution_count": 59,
   "metadata": {},
   "outputs": [
    {
     "name": "stdout",
     "output_type": "stream",
     "text": [
      "\n",
      "Total rows:  31994\n",
      "\n",
      "Total full null rows:  0\n",
      "\n",
      "Total duplicated rows: 0\n"
     ]
    },
    {
     "data": {
      "text/html": [
       "<div>\n",
       "<style scoped>\n",
       "    .dataframe tbody tr th:only-of-type {\n",
       "        vertical-align: middle;\n",
       "    }\n",
       "\n",
       "    .dataframe tbody tr th {\n",
       "        vertical-align: top;\n",
       "    }\n",
       "\n",
       "    .dataframe thead th {\n",
       "        text-align: right;\n",
       "    }\n",
       "</style>\n",
       "<table border=\"1\" class=\"dataframe\">\n",
       "  <thead>\n",
       "    <tr style=\"text-align: right;\">\n",
       "      <th></th>\n",
       "      <th>Column</th>\n",
       "      <th>dType</th>\n",
       "      <th>No_Null_%</th>\n",
       "      <th>No_Null_Qty</th>\n",
       "      <th>Null_%</th>\n",
       "      <th>Null_Qty</th>\n",
       "    </tr>\n",
       "  </thead>\n",
       "  <tbody>\n",
       "    <tr>\n",
       "      <th>0</th>\n",
       "      <td>genres</td>\n",
       "      <td>[&lt;class 'str'&gt;]</td>\n",
       "      <td>100.00</td>\n",
       "      <td>31994</td>\n",
       "      <td>0.00</td>\n",
       "      <td>0</td>\n",
       "    </tr>\n",
       "    <tr>\n",
       "      <th>1</th>\n",
       "      <td>app_name</td>\n",
       "      <td>[&lt;class 'str'&gt;]</td>\n",
       "      <td>100.00</td>\n",
       "      <td>31994</td>\n",
       "      <td>0.00</td>\n",
       "      <td>0</td>\n",
       "    </tr>\n",
       "    <tr>\n",
       "      <th>2</th>\n",
       "      <td>url</td>\n",
       "      <td>[&lt;class 'str'&gt;]</td>\n",
       "      <td>100.00</td>\n",
       "      <td>31994</td>\n",
       "      <td>0.00</td>\n",
       "      <td>0</td>\n",
       "    </tr>\n",
       "    <tr>\n",
       "      <th>3</th>\n",
       "      <td>release_date</td>\n",
       "      <td>[&lt;class 'str'&gt;, &lt;class 'NoneType'&gt;]</td>\n",
       "      <td>93.55</td>\n",
       "      <td>29929</td>\n",
       "      <td>6.45</td>\n",
       "      <td>2065</td>\n",
       "    </tr>\n",
       "    <tr>\n",
       "      <th>4</th>\n",
       "      <td>reviews_url</td>\n",
       "      <td>[&lt;class 'str'&gt;]</td>\n",
       "      <td>100.00</td>\n",
       "      <td>31994</td>\n",
       "      <td>0.00</td>\n",
       "      <td>0</td>\n",
       "    </tr>\n",
       "    <tr>\n",
       "      <th>5</th>\n",
       "      <td>price</td>\n",
       "      <td>[&lt;class 'float'&gt;]</td>\n",
       "      <td>100.00</td>\n",
       "      <td>31994</td>\n",
       "      <td>0.00</td>\n",
       "      <td>0</td>\n",
       "    </tr>\n",
       "    <tr>\n",
       "      <th>6</th>\n",
       "      <td>early_access</td>\n",
       "      <td>[&lt;class 'float'&gt;]</td>\n",
       "      <td>100.00</td>\n",
       "      <td>31994</td>\n",
       "      <td>0.00</td>\n",
       "      <td>0</td>\n",
       "    </tr>\n",
       "    <tr>\n",
       "      <th>7</th>\n",
       "      <td>id</td>\n",
       "      <td>[&lt;class 'str'&gt;]</td>\n",
       "      <td>100.00</td>\n",
       "      <td>31994</td>\n",
       "      <td>0.00</td>\n",
       "      <td>0</td>\n",
       "    </tr>\n",
       "    <tr>\n",
       "      <th>8</th>\n",
       "      <td>developer</td>\n",
       "      <td>[&lt;class 'str'&gt;, &lt;class 'NoneType'&gt;]</td>\n",
       "      <td>89.78</td>\n",
       "      <td>28724</td>\n",
       "      <td>10.22</td>\n",
       "      <td>3270</td>\n",
       "    </tr>\n",
       "  </tbody>\n",
       "</table>\n",
       "</div>"
      ],
      "text/plain": [
       "         Column                                dType  No_Null_%  No_Null_Qty  \\\n",
       "0        genres                      [<class 'str'>]     100.00        31994   \n",
       "1      app_name                      [<class 'str'>]     100.00        31994   \n",
       "2           url                      [<class 'str'>]     100.00        31994   \n",
       "3  release_date  [<class 'str'>, <class 'NoneType'>]      93.55        29929   \n",
       "4   reviews_url                      [<class 'str'>]     100.00        31994   \n",
       "5         price                    [<class 'float'>]     100.00        31994   \n",
       "6  early_access                    [<class 'float'>]     100.00        31994   \n",
       "7            id                      [<class 'str'>]     100.00        31994   \n",
       "8     developer  [<class 'str'>, <class 'NoneType'>]      89.78        28724   \n",
       "\n",
       "   Null_%  Null_Qty  \n",
       "0    0.00         0  \n",
       "1    0.00         0  \n",
       "2    0.00         0  \n",
       "3    6.45      2065  \n",
       "4    0.00         0  \n",
       "5    0.00         0  \n",
       "6    0.00         0  \n",
       "7    0.00         0  \n",
       "8   10.22      3270  "
      ]
     },
     "execution_count": 59,
     "metadata": {},
     "output_type": "execute_result"
    }
   ],
   "source": [
    "etf.data_review(df_sg)"
   ]
  },
  {
   "cell_type": "code",
   "execution_count": 60,
   "metadata": {},
   "outputs": [],
   "source": [
    "df_sg[\"id\"] = df_sg[\"id\"].astype(float)#transformo a float para no tener que manejar los que poseen parte decimal ej\".0 \"y solo cargarlo a datos numericos\n",
    "df_sg[\"id\"] = df_sg[\"id\"].astype(int)#para luego pasarlos a int como tenia planeado"
   ]
  },
  {
   "cell_type": "markdown",
   "metadata": {},
   "source": [
    "    habia un solo nulo en id por lo cual lo borre"
   ]
  },
  {
   "cell_type": "markdown",
   "metadata": {},
   "source": [
    "### \"early-access\""
   ]
  },
  {
   "cell_type": "markdown",
   "metadata": {},
   "source": [
    "    a early-access la podria transformar a boolean o int pero no creo usarla por lo que de momento voy a borrarla"
   ]
  },
  {
   "cell_type": "code",
   "execution_count": 61,
   "metadata": {},
   "outputs": [
    {
     "data": {
      "text/plain": [
       "early_access\n",
       "0.0    30047\n",
       "1.0     1947\n",
       "Name: count, dtype: int64"
      ]
     },
     "execution_count": 61,
     "metadata": {},
     "output_type": "execute_result"
    }
   ],
   "source": [
    "df_sg[\"early_access\"].value_counts()# tiene valores de 0 y 1 haciendo referencia aa true o false"
   ]
  },
  {
   "cell_type": "code",
   "execution_count": null,
   "metadata": {},
   "outputs": [],
   "source": [
    "#df_sg[\"early_access\"] = df_sg[\"early_access\"].astype(bool)# transformamos a boolean\n",
    "# esto no lo voy a ejecutar debido a que decidi borrar la columna"
   ]
  },
  {
   "cell_type": "code",
   "execution_count": 62,
   "metadata": {},
   "outputs": [],
   "source": [
    "del df_sg[\"early_access\"]"
   ]
  },
  {
   "cell_type": "markdown",
   "metadata": {},
   "source": []
  },
  {
   "cell_type": "code",
   "execution_count": 63,
   "metadata": {},
   "outputs": [
    {
     "name": "stdout",
     "output_type": "stream",
     "text": [
      "\n",
      "Total rows:  31994\n",
      "\n",
      "Total full null rows:  0\n",
      "\n",
      "Total duplicated rows: 0\n"
     ]
    },
    {
     "data": {
      "text/html": [
       "<div>\n",
       "<style scoped>\n",
       "    .dataframe tbody tr th:only-of-type {\n",
       "        vertical-align: middle;\n",
       "    }\n",
       "\n",
       "    .dataframe tbody tr th {\n",
       "        vertical-align: top;\n",
       "    }\n",
       "\n",
       "    .dataframe thead th {\n",
       "        text-align: right;\n",
       "    }\n",
       "</style>\n",
       "<table border=\"1\" class=\"dataframe\">\n",
       "  <thead>\n",
       "    <tr style=\"text-align: right;\">\n",
       "      <th></th>\n",
       "      <th>Column</th>\n",
       "      <th>dType</th>\n",
       "      <th>No_Null_%</th>\n",
       "      <th>No_Null_Qty</th>\n",
       "      <th>Null_%</th>\n",
       "      <th>Null_Qty</th>\n",
       "    </tr>\n",
       "  </thead>\n",
       "  <tbody>\n",
       "    <tr>\n",
       "      <th>0</th>\n",
       "      <td>genres</td>\n",
       "      <td>[&lt;class 'str'&gt;]</td>\n",
       "      <td>100.00</td>\n",
       "      <td>31994</td>\n",
       "      <td>0.00</td>\n",
       "      <td>0</td>\n",
       "    </tr>\n",
       "    <tr>\n",
       "      <th>1</th>\n",
       "      <td>app_name</td>\n",
       "      <td>[&lt;class 'str'&gt;]</td>\n",
       "      <td>100.00</td>\n",
       "      <td>31994</td>\n",
       "      <td>0.00</td>\n",
       "      <td>0</td>\n",
       "    </tr>\n",
       "    <tr>\n",
       "      <th>2</th>\n",
       "      <td>url</td>\n",
       "      <td>[&lt;class 'str'&gt;]</td>\n",
       "      <td>100.00</td>\n",
       "      <td>31994</td>\n",
       "      <td>0.00</td>\n",
       "      <td>0</td>\n",
       "    </tr>\n",
       "    <tr>\n",
       "      <th>3</th>\n",
       "      <td>release_date</td>\n",
       "      <td>[&lt;class 'str'&gt;, &lt;class 'NoneType'&gt;]</td>\n",
       "      <td>93.55</td>\n",
       "      <td>29929</td>\n",
       "      <td>6.45</td>\n",
       "      <td>2065</td>\n",
       "    </tr>\n",
       "    <tr>\n",
       "      <th>4</th>\n",
       "      <td>reviews_url</td>\n",
       "      <td>[&lt;class 'str'&gt;]</td>\n",
       "      <td>100.00</td>\n",
       "      <td>31994</td>\n",
       "      <td>0.00</td>\n",
       "      <td>0</td>\n",
       "    </tr>\n",
       "    <tr>\n",
       "      <th>5</th>\n",
       "      <td>price</td>\n",
       "      <td>[&lt;class 'float'&gt;]</td>\n",
       "      <td>100.00</td>\n",
       "      <td>31994</td>\n",
       "      <td>0.00</td>\n",
       "      <td>0</td>\n",
       "    </tr>\n",
       "    <tr>\n",
       "      <th>6</th>\n",
       "      <td>id</td>\n",
       "      <td>[&lt;class 'int'&gt;]</td>\n",
       "      <td>100.00</td>\n",
       "      <td>31994</td>\n",
       "      <td>0.00</td>\n",
       "      <td>0</td>\n",
       "    </tr>\n",
       "    <tr>\n",
       "      <th>7</th>\n",
       "      <td>developer</td>\n",
       "      <td>[&lt;class 'str'&gt;, &lt;class 'NoneType'&gt;]</td>\n",
       "      <td>89.78</td>\n",
       "      <td>28724</td>\n",
       "      <td>10.22</td>\n",
       "      <td>3270</td>\n",
       "    </tr>\n",
       "  </tbody>\n",
       "</table>\n",
       "</div>"
      ],
      "text/plain": [
       "         Column                                dType  No_Null_%  No_Null_Qty  \\\n",
       "0        genres                      [<class 'str'>]     100.00        31994   \n",
       "1      app_name                      [<class 'str'>]     100.00        31994   \n",
       "2           url                      [<class 'str'>]     100.00        31994   \n",
       "3  release_date  [<class 'str'>, <class 'NoneType'>]      93.55        29929   \n",
       "4   reviews_url                      [<class 'str'>]     100.00        31994   \n",
       "5         price                    [<class 'float'>]     100.00        31994   \n",
       "6            id                      [<class 'int'>]     100.00        31994   \n",
       "7     developer  [<class 'str'>, <class 'NoneType'>]      89.78        28724   \n",
       "\n",
       "   Null_%  Null_Qty  \n",
       "0    0.00         0  \n",
       "1    0.00         0  \n",
       "2    0.00         0  \n",
       "3    6.45      2065  \n",
       "4    0.00         0  \n",
       "5    0.00         0  \n",
       "6    0.00         0  \n",
       "7   10.22      3270  "
      ]
     },
     "execution_count": 63,
     "metadata": {},
     "output_type": "execute_result"
    }
   ],
   "source": [
    "etf.data_review(df_sg)"
   ]
  },
  {
   "cell_type": "markdown",
   "metadata": {},
   "source": [
    "## Dataframe resultante\n",
    "|columna|tipo|\n",
    "|-------|----|\n",
    "|publisher     | fue borrada|\n",
    "|genres        | str(list)|\n",
    "|app_name      | str|\n",
    "|title         | str|\n",
    "|url           | str|\n",
    "|release_date  | str|\n",
    "|tags          | fue borrada|\n",
    "|reviews_url   | str|\n",
    "|specs         | fue borrada|\n",
    "|price         | float|\n",
    "|early_access  | fue borrada|\n",
    "|id            | int|\n",
    "|developer |str|"
   ]
  },
  {
   "cell_type": "markdown",
   "metadata": {},
   "source": [
    "## guardando el df procesado en un archivo parquet"
   ]
  },
  {
   "cell_type": "code",
   "execution_count": 64,
   "metadata": {},
   "outputs": [],
   "source": [
    "df_sg.to_parquet(r\"../app/processed_data/steam_games.parquet\")#dentro de la carpeta de la api"
   ]
  },
  {
   "cell_type": "markdown",
   "metadata": {},
   "source": [
    "<hr>"
   ]
  },
  {
   "cell_type": "markdown",
   "metadata": {},
   "source": [
    "#########################################################################"
   ]
  },
  {
   "cell_type": "markdown",
   "metadata": {},
   "source": [
    "# user_review.json"
   ]
  },
  {
   "cell_type": "code",
   "execution_count": null,
   "metadata": {},
   "outputs": [],
   "source": [
    "# user_review.jsonsa"
   ]
  },
  {
   "cell_type": "code",
   "execution_count": 97,
   "metadata": {},
   "outputs": [],
   "source": [
    "reviews = []\n",
    "\n",
    "with open(r\"../Datasets/user_reviews.json/australian_user_reviews.json\", encoding='utf-8') as f:\n",
    "    for line in f.readlines():\n",
    "        reviews.append(ast.literal_eval(line))\n",
    "df_ur = pd.DataFrame(reviews)"
   ]
  },
  {
   "cell_type": "markdown",
   "metadata": {},
   "source": [
    "    transformo las siguiente columna a tipo str ya que es dificil manejar listas y tira errores en bastantes metodos de pandas"
   ]
  },
  {
   "cell_type": "code",
   "execution_count": 58,
   "metadata": {},
   "outputs": [],
   "source": [
    "df_ur[\"reviews\"] = df_ur[\"reviews\"].astype(str)"
   ]
  },
  {
   "cell_type": "code",
   "execution_count": 59,
   "metadata": {},
   "outputs": [
    {
     "name": "stdout",
     "output_type": "stream",
     "text": [
      "\n",
      "Total rows:  25799\n",
      "\n",
      "Total full null rows:  0\n",
      "\n",
      "Total duplicated rows: 313\n"
     ]
    },
    {
     "data": {
      "text/html": [
       "<div>\n",
       "<style scoped>\n",
       "    .dataframe tbody tr th:only-of-type {\n",
       "        vertical-align: middle;\n",
       "    }\n",
       "\n",
       "    .dataframe tbody tr th {\n",
       "        vertical-align: top;\n",
       "    }\n",
       "\n",
       "    .dataframe thead th {\n",
       "        text-align: right;\n",
       "    }\n",
       "</style>\n",
       "<table border=\"1\" class=\"dataframe\">\n",
       "  <thead>\n",
       "    <tr style=\"text-align: right;\">\n",
       "      <th></th>\n",
       "      <th>Column</th>\n",
       "      <th>dType</th>\n",
       "      <th>No_Null_%</th>\n",
       "      <th>No_Null_Qty</th>\n",
       "      <th>Null_%</th>\n",
       "      <th>Null_Qty</th>\n",
       "    </tr>\n",
       "  </thead>\n",
       "  <tbody>\n",
       "    <tr>\n",
       "      <th>0</th>\n",
       "      <td>user_id</td>\n",
       "      <td>[&lt;class 'str'&gt;]</td>\n",
       "      <td>100.0</td>\n",
       "      <td>25799</td>\n",
       "      <td>0.0</td>\n",
       "      <td>0</td>\n",
       "    </tr>\n",
       "    <tr>\n",
       "      <th>1</th>\n",
       "      <td>user_url</td>\n",
       "      <td>[&lt;class 'str'&gt;]</td>\n",
       "      <td>100.0</td>\n",
       "      <td>25799</td>\n",
       "      <td>0.0</td>\n",
       "      <td>0</td>\n",
       "    </tr>\n",
       "    <tr>\n",
       "      <th>2</th>\n",
       "      <td>reviews</td>\n",
       "      <td>[&lt;class 'str'&gt;]</td>\n",
       "      <td>100.0</td>\n",
       "      <td>25799</td>\n",
       "      <td>0.0</td>\n",
       "      <td>0</td>\n",
       "    </tr>\n",
       "  </tbody>\n",
       "</table>\n",
       "</div>"
      ],
      "text/plain": [
       "     Column            dType  No_Null_%  No_Null_Qty  Null_%  Null_Qty\n",
       "0   user_id  [<class 'str'>]      100.0        25799     0.0         0\n",
       "1  user_url  [<class 'str'>]      100.0        25799     0.0         0\n",
       "2   reviews  [<class 'str'>]      100.0        25799     0.0         0"
      ]
     },
     "execution_count": 59,
     "metadata": {},
     "output_type": "execute_result"
    }
   ],
   "source": [
    "etf.data_review(df_ur)"
   ]
  },
  {
   "cell_type": "markdown",
   "metadata": {},
   "source": [
    "## valores nulos"
   ]
  },
  {
   "cell_type": "code",
   "execution_count": 60,
   "metadata": {},
   "outputs": [
    {
     "data": {
      "text/plain": [
       "660      [{'funny': '', 'posted': 'Posted February 27, ...\n",
       "6234     [{'funny': '', 'posted': 'Posted December 31, ...\n",
       "20107    [{'funny': '', 'posted': 'Posted October 25, 2...\n",
       "19484    [{'funny': '', 'posted': 'Posted January 1, 20...\n",
       "7940     [{'funny': '', 'posted': 'Posted August 24, 20...\n",
       "Name: reviews, dtype: object"
      ]
     },
     "execution_count": 60,
     "metadata": {},
     "output_type": "execute_result"
    }
   ],
   "source": [
    "df_ur[\"reviews\"].sample(5)"
   ]
  },
  {
   "cell_type": "code",
   "execution_count": 90,
   "metadata": {},
   "outputs": [],
   "source": [
    "mask = df_ur[\"reviews\"] == \"[]\""
   ]
  },
  {
   "cell_type": "code",
   "execution_count": 91,
   "metadata": {},
   "outputs": [
    {
     "data": {
      "text/html": [
       "<div>\n",
       "<style scoped>\n",
       "    .dataframe tbody tr th:only-of-type {\n",
       "        vertical-align: middle;\n",
       "    }\n",
       "\n",
       "    .dataframe tbody tr th {\n",
       "        vertical-align: top;\n",
       "    }\n",
       "\n",
       "    .dataframe thead th {\n",
       "        text-align: right;\n",
       "    }\n",
       "</style>\n",
       "<table border=\"1\" class=\"dataframe\">\n",
       "  <thead>\n",
       "    <tr style=\"text-align: right;\">\n",
       "      <th></th>\n",
       "      <th>user_id</th>\n",
       "      <th>user_url</th>\n",
       "      <th>reviews</th>\n",
       "    </tr>\n",
       "  </thead>\n",
       "  <tbody>\n",
       "    <tr>\n",
       "      <th>62</th>\n",
       "      <td>gdxsd</td>\n",
       "      <td>http://steamcommunity.com/id/gdxsd</td>\n",
       "      <td>[]</td>\n",
       "    </tr>\n",
       "    <tr>\n",
       "      <th>83</th>\n",
       "      <td>76561198094224872</td>\n",
       "      <td>http://steamcommunity.com/profiles/76561198094...</td>\n",
       "      <td>[]</td>\n",
       "    </tr>\n",
       "    <tr>\n",
       "      <th>1047</th>\n",
       "      <td>76561198021575394</td>\n",
       "      <td>http://steamcommunity.com/profiles/76561198021...</td>\n",
       "      <td>[]</td>\n",
       "    </tr>\n",
       "    <tr>\n",
       "      <th>3954</th>\n",
       "      <td>cmuir37</td>\n",
       "      <td>http://steamcommunity.com/id/cmuir37</td>\n",
       "      <td>[]</td>\n",
       "    </tr>\n",
       "    <tr>\n",
       "      <th>5394</th>\n",
       "      <td>Jaysteeny</td>\n",
       "      <td>http://steamcommunity.com/id/Jaysteeny</td>\n",
       "      <td>[]</td>\n",
       "    </tr>\n",
       "    <tr>\n",
       "      <th>6135</th>\n",
       "      <td>ML8989</td>\n",
       "      <td>http://steamcommunity.com/id/ML8989</td>\n",
       "      <td>[]</td>\n",
       "    </tr>\n",
       "    <tr>\n",
       "      <th>7583</th>\n",
       "      <td>76561198079215291</td>\n",
       "      <td>http://steamcommunity.com/profiles/76561198079...</td>\n",
       "      <td>[]</td>\n",
       "    </tr>\n",
       "    <tr>\n",
       "      <th>7952</th>\n",
       "      <td>76561198079342142</td>\n",
       "      <td>http://steamcommunity.com/profiles/76561198079...</td>\n",
       "      <td>[]</td>\n",
       "    </tr>\n",
       "    <tr>\n",
       "      <th>9894</th>\n",
       "      <td>76561198061996985</td>\n",
       "      <td>http://steamcommunity.com/profiles/76561198061...</td>\n",
       "      <td>[]</td>\n",
       "    </tr>\n",
       "    <tr>\n",
       "      <th>10381</th>\n",
       "      <td>76561198108286351</td>\n",
       "      <td>http://steamcommunity.com/profiles/76561198108...</td>\n",
       "      <td>[]</td>\n",
       "    </tr>\n",
       "    <tr>\n",
       "      <th>10560</th>\n",
       "      <td>CallTripleZero</td>\n",
       "      <td>http://steamcommunity.com/id/CallTripleZero</td>\n",
       "      <td>[]</td>\n",
       "    </tr>\n",
       "    <tr>\n",
       "      <th>11316</th>\n",
       "      <td>Priceless612</td>\n",
       "      <td>http://steamcommunity.com/id/Priceless612</td>\n",
       "      <td>[]</td>\n",
       "    </tr>\n",
       "    <tr>\n",
       "      <th>11320</th>\n",
       "      <td>diabolical666</td>\n",
       "      <td>http://steamcommunity.com/id/diabolical666</td>\n",
       "      <td>[]</td>\n",
       "    </tr>\n",
       "    <tr>\n",
       "      <th>11549</th>\n",
       "      <td>DrScottnik</td>\n",
       "      <td>http://steamcommunity.com/id/DrScottnik</td>\n",
       "      <td>[]</td>\n",
       "    </tr>\n",
       "    <tr>\n",
       "      <th>12865</th>\n",
       "      <td>76561198110176420</td>\n",
       "      <td>http://steamcommunity.com/profiles/76561198110...</td>\n",
       "      <td>[]</td>\n",
       "    </tr>\n",
       "    <tr>\n",
       "      <th>13242</th>\n",
       "      <td>jojoPL1987</td>\n",
       "      <td>http://steamcommunity.com/id/jojoPL1987</td>\n",
       "      <td>[]</td>\n",
       "    </tr>\n",
       "    <tr>\n",
       "      <th>13698</th>\n",
       "      <td>Kylee_Kylie</td>\n",
       "      <td>http://steamcommunity.com/id/Kylee_Kylie</td>\n",
       "      <td>[]</td>\n",
       "    </tr>\n",
       "    <tr>\n",
       "      <th>15949</th>\n",
       "      <td>_samie</td>\n",
       "      <td>http://steamcommunity.com/id/_samie</td>\n",
       "      <td>[]</td>\n",
       "    </tr>\n",
       "    <tr>\n",
       "      <th>15990</th>\n",
       "      <td>FifthExclamation</td>\n",
       "      <td>http://steamcommunity.com/id/FifthExclamation</td>\n",
       "      <td>[]</td>\n",
       "    </tr>\n",
       "    <tr>\n",
       "      <th>16013</th>\n",
       "      <td>sbenji</td>\n",
       "      <td>http://steamcommunity.com/id/sbenji</td>\n",
       "      <td>[]</td>\n",
       "    </tr>\n",
       "    <tr>\n",
       "      <th>16546</th>\n",
       "      <td>SpatialWheel14</td>\n",
       "      <td>http://steamcommunity.com/id/SpatialWheel14</td>\n",
       "      <td>[]</td>\n",
       "    </tr>\n",
       "    <tr>\n",
       "      <th>17022</th>\n",
       "      <td>76561198065238937</td>\n",
       "      <td>http://steamcommunity.com/profiles/76561198065...</td>\n",
       "      <td>[]</td>\n",
       "    </tr>\n",
       "    <tr>\n",
       "      <th>18201</th>\n",
       "      <td>76561198071075080</td>\n",
       "      <td>http://steamcommunity.com/profiles/76561198071...</td>\n",
       "      <td>[]</td>\n",
       "    </tr>\n",
       "    <tr>\n",
       "      <th>21386</th>\n",
       "      <td>76561198063489150</td>\n",
       "      <td>http://steamcommunity.com/profiles/76561198063...</td>\n",
       "      <td>[]</td>\n",
       "    </tr>\n",
       "    <tr>\n",
       "      <th>22705</th>\n",
       "      <td>thecommunistbear</td>\n",
       "      <td>http://steamcommunity.com/id/thecommunistbear</td>\n",
       "      <td>[]</td>\n",
       "    </tr>\n",
       "    <tr>\n",
       "      <th>23785</th>\n",
       "      <td>76561198085883839</td>\n",
       "      <td>http://steamcommunity.com/profiles/76561198085...</td>\n",
       "      <td>[]</td>\n",
       "    </tr>\n",
       "    <tr>\n",
       "      <th>24911</th>\n",
       "      <td>76561198100396147</td>\n",
       "      <td>http://steamcommunity.com/profiles/76561198100...</td>\n",
       "      <td>[]</td>\n",
       "    </tr>\n",
       "    <tr>\n",
       "      <th>25001</th>\n",
       "      <td>76561198102423654</td>\n",
       "      <td>http://steamcommunity.com/profiles/76561198102...</td>\n",
       "      <td>[]</td>\n",
       "    </tr>\n",
       "  </tbody>\n",
       "</table>\n",
       "</div>"
      ],
      "text/plain": [
       "                 user_id                                           user_url  \\\n",
       "62                 gdxsd                 http://steamcommunity.com/id/gdxsd   \n",
       "83     76561198094224872  http://steamcommunity.com/profiles/76561198094...   \n",
       "1047   76561198021575394  http://steamcommunity.com/profiles/76561198021...   \n",
       "3954             cmuir37               http://steamcommunity.com/id/cmuir37   \n",
       "5394           Jaysteeny             http://steamcommunity.com/id/Jaysteeny   \n",
       "6135              ML8989                http://steamcommunity.com/id/ML8989   \n",
       "7583   76561198079215291  http://steamcommunity.com/profiles/76561198079...   \n",
       "7952   76561198079342142  http://steamcommunity.com/profiles/76561198079...   \n",
       "9894   76561198061996985  http://steamcommunity.com/profiles/76561198061...   \n",
       "10381  76561198108286351  http://steamcommunity.com/profiles/76561198108...   \n",
       "10560     CallTripleZero        http://steamcommunity.com/id/CallTripleZero   \n",
       "11316       Priceless612          http://steamcommunity.com/id/Priceless612   \n",
       "11320      diabolical666         http://steamcommunity.com/id/diabolical666   \n",
       "11549         DrScottnik            http://steamcommunity.com/id/DrScottnik   \n",
       "12865  76561198110176420  http://steamcommunity.com/profiles/76561198110...   \n",
       "13242         jojoPL1987            http://steamcommunity.com/id/jojoPL1987   \n",
       "13698        Kylee_Kylie           http://steamcommunity.com/id/Kylee_Kylie   \n",
       "15949             _samie                http://steamcommunity.com/id/_samie   \n",
       "15990   FifthExclamation      http://steamcommunity.com/id/FifthExclamation   \n",
       "16013             sbenji                http://steamcommunity.com/id/sbenji   \n",
       "16546     SpatialWheel14        http://steamcommunity.com/id/SpatialWheel14   \n",
       "17022  76561198065238937  http://steamcommunity.com/profiles/76561198065...   \n",
       "18201  76561198071075080  http://steamcommunity.com/profiles/76561198071...   \n",
       "21386  76561198063489150  http://steamcommunity.com/profiles/76561198063...   \n",
       "22705   thecommunistbear      http://steamcommunity.com/id/thecommunistbear   \n",
       "23785  76561198085883839  http://steamcommunity.com/profiles/76561198085...   \n",
       "24911  76561198100396147  http://steamcommunity.com/profiles/76561198100...   \n",
       "25001  76561198102423654  http://steamcommunity.com/profiles/76561198102...   \n",
       "\n",
       "      reviews  \n",
       "62         []  \n",
       "83         []  \n",
       "1047       []  \n",
       "3954       []  \n",
       "5394       []  \n",
       "6135       []  \n",
       "7583       []  \n",
       "7952       []  \n",
       "9894       []  \n",
       "10381      []  \n",
       "10560      []  \n",
       "11316      []  \n",
       "11320      []  \n",
       "11549      []  \n",
       "12865      []  \n",
       "13242      []  \n",
       "13698      []  \n",
       "15949      []  \n",
       "15990      []  \n",
       "16013      []  \n",
       "16546      []  \n",
       "17022      []  \n",
       "18201      []  \n",
       "21386      []  \n",
       "22705      []  \n",
       "23785      []  \n",
       "24911      []  \n",
       "25001      []  "
      ]
     },
     "execution_count": 91,
     "metadata": {},
     "output_type": "execute_result"
    }
   ],
   "source": [
    "df_ur[mask]"
   ]
  },
  {
   "cell_type": "markdown",
   "metadata": {},
   "source": [
    "    estas son todas las reviews con columna reviews nulos para el caso de analisis de sentimiento las borrare pero podria servir para normalizar user id o user url en user_items"
   ]
  },
  {
   "cell_type": "code",
   "execution_count": 100,
   "metadata": {},
   "outputs": [
    {
     "data": {
      "text/html": [
       "<div>\n",
       "<style scoped>\n",
       "    .dataframe tbody tr th:only-of-type {\n",
       "        vertical-align: middle;\n",
       "    }\n",
       "\n",
       "    .dataframe tbody tr th {\n",
       "        vertical-align: top;\n",
       "    }\n",
       "\n",
       "    .dataframe thead th {\n",
       "        text-align: right;\n",
       "    }\n",
       "</style>\n",
       "<table border=\"1\" class=\"dataframe\">\n",
       "  <thead>\n",
       "    <tr style=\"text-align: right;\">\n",
       "      <th></th>\n",
       "      <th>0</th>\n",
       "      <th>1</th>\n",
       "      <th>2</th>\n",
       "      <th>3</th>\n",
       "      <th>4</th>\n",
       "      <th>5</th>\n",
       "      <th>6</th>\n",
       "      <th>7</th>\n",
       "      <th>8</th>\n",
       "      <th>9</th>\n",
       "    </tr>\n",
       "  </thead>\n",
       "  <tbody>\n",
       "    <tr>\n",
       "      <th>0</th>\n",
       "      <td>{'funny': '', 'posted': 'Posted November 5, 20...</td>\n",
       "      <td>{'funny': '', 'posted': 'Posted July 15, 2011....</td>\n",
       "      <td>{'funny': '', 'posted': 'Posted April 21, 2011...</td>\n",
       "      <td>None</td>\n",
       "      <td>None</td>\n",
       "      <td>None</td>\n",
       "      <td>None</td>\n",
       "      <td>None</td>\n",
       "      <td>None</td>\n",
       "      <td>None</td>\n",
       "    </tr>\n",
       "    <tr>\n",
       "      <th>1</th>\n",
       "      <td>{'funny': '', 'posted': 'Posted June 24, 2014....</td>\n",
       "      <td>{'funny': '', 'posted': 'Posted September 8, 2...</td>\n",
       "      <td>{'funny': '', 'posted': 'Posted November 29, 2...</td>\n",
       "      <td>None</td>\n",
       "      <td>None</td>\n",
       "      <td>None</td>\n",
       "      <td>None</td>\n",
       "      <td>None</td>\n",
       "      <td>None</td>\n",
       "      <td>None</td>\n",
       "    </tr>\n",
       "    <tr>\n",
       "      <th>2</th>\n",
       "      <td>{'funny': '', 'posted': 'Posted February 3.', ...</td>\n",
       "      <td>{'funny': '', 'posted': 'Posted December 4, 20...</td>\n",
       "      <td>{'funny': '', 'posted': 'Posted November 3, 20...</td>\n",
       "      <td>{'funny': '', 'posted': 'Posted October 15, 20...</td>\n",
       "      <td>{'funny': '', 'posted': 'Posted October 15, 20...</td>\n",
       "      <td>{'funny': '', 'posted': 'Posted October 15, 20...</td>\n",
       "      <td>None</td>\n",
       "      <td>None</td>\n",
       "      <td>None</td>\n",
       "      <td>None</td>\n",
       "    </tr>\n",
       "    <tr>\n",
       "      <th>3</th>\n",
       "      <td>{'funny': '', 'posted': 'Posted October 14, 20...</td>\n",
       "      <td>{'funny': '', 'posted': 'Posted July 28, 2012....</td>\n",
       "      <td>{'funny': '', 'posted': 'Posted June 2, 2012.'...</td>\n",
       "      <td>{'funny': '', 'posted': 'Posted June 29, 2014....</td>\n",
       "      <td>{'funny': '', 'posted': 'Posted November 22, 2...</td>\n",
       "      <td>{'funny': '', 'posted': 'Posted February 23, 2...</td>\n",
       "      <td>None</td>\n",
       "      <td>None</td>\n",
       "      <td>None</td>\n",
       "      <td>None</td>\n",
       "    </tr>\n",
       "    <tr>\n",
       "      <th>4</th>\n",
       "      <td>{'funny': '3 people found this review funny', ...</td>\n",
       "      <td>{'funny': '1 person found this review funny', ...</td>\n",
       "      <td>{'funny': '2 people found this review funny', ...</td>\n",
       "      <td>{'funny': '', 'posted': 'Posted July 11, 2013....</td>\n",
       "      <td>None</td>\n",
       "      <td>None</td>\n",
       "      <td>None</td>\n",
       "      <td>None</td>\n",
       "      <td>None</td>\n",
       "      <td>None</td>\n",
       "    </tr>\n",
       "    <tr>\n",
       "      <th>...</th>\n",
       "      <td>...</td>\n",
       "      <td>...</td>\n",
       "      <td>...</td>\n",
       "      <td>...</td>\n",
       "      <td>...</td>\n",
       "      <td>...</td>\n",
       "      <td>...</td>\n",
       "      <td>...</td>\n",
       "      <td>...</td>\n",
       "      <td>...</td>\n",
       "    </tr>\n",
       "    <tr>\n",
       "      <th>25794</th>\n",
       "      <td>{'funny': '', 'posted': 'Posted May 31.', 'las...</td>\n",
       "      <td>None</td>\n",
       "      <td>None</td>\n",
       "      <td>None</td>\n",
       "      <td>None</td>\n",
       "      <td>None</td>\n",
       "      <td>None</td>\n",
       "      <td>None</td>\n",
       "      <td>None</td>\n",
       "      <td>None</td>\n",
       "    </tr>\n",
       "    <tr>\n",
       "      <th>25795</th>\n",
       "      <td>{'funny': '', 'posted': 'Posted June 17.', 'la...</td>\n",
       "      <td>None</td>\n",
       "      <td>None</td>\n",
       "      <td>None</td>\n",
       "      <td>None</td>\n",
       "      <td>None</td>\n",
       "      <td>None</td>\n",
       "      <td>None</td>\n",
       "      <td>None</td>\n",
       "      <td>None</td>\n",
       "    </tr>\n",
       "    <tr>\n",
       "      <th>25796</th>\n",
       "      <td>{'funny': '1 person found this review funny', ...</td>\n",
       "      <td>None</td>\n",
       "      <td>None</td>\n",
       "      <td>None</td>\n",
       "      <td>None</td>\n",
       "      <td>None</td>\n",
       "      <td>None</td>\n",
       "      <td>None</td>\n",
       "      <td>None</td>\n",
       "      <td>None</td>\n",
       "    </tr>\n",
       "    <tr>\n",
       "      <th>25797</th>\n",
       "      <td>{'funny': '', 'posted': 'Posted July 21.', 'la...</td>\n",
       "      <td>{'funny': '', 'posted': 'Posted July 10.', 'la...</td>\n",
       "      <td>{'funny': '', 'posted': 'Posted July 10.', 'la...</td>\n",
       "      <td>{'funny': '', 'posted': 'Posted July 8.', 'las...</td>\n",
       "      <td>None</td>\n",
       "      <td>None</td>\n",
       "      <td>None</td>\n",
       "      <td>None</td>\n",
       "      <td>None</td>\n",
       "      <td>None</td>\n",
       "    </tr>\n",
       "    <tr>\n",
       "      <th>25798</th>\n",
       "      <td>{'funny': '1 person found this review funny', ...</td>\n",
       "      <td>{'funny': '', 'posted': 'Posted July 20.', 'la...</td>\n",
       "      <td>{'funny': '', 'posted': 'Posted July 2.', 'las...</td>\n",
       "      <td>None</td>\n",
       "      <td>None</td>\n",
       "      <td>None</td>\n",
       "      <td>None</td>\n",
       "      <td>None</td>\n",
       "      <td>None</td>\n",
       "      <td>None</td>\n",
       "    </tr>\n",
       "  </tbody>\n",
       "</table>\n",
       "<p>25799 rows × 10 columns</p>\n",
       "</div>"
      ],
      "text/plain": [
       "                                                       0  \\\n",
       "0      {'funny': '', 'posted': 'Posted November 5, 20...   \n",
       "1      {'funny': '', 'posted': 'Posted June 24, 2014....   \n",
       "2      {'funny': '', 'posted': 'Posted February 3.', ...   \n",
       "3      {'funny': '', 'posted': 'Posted October 14, 20...   \n",
       "4      {'funny': '3 people found this review funny', ...   \n",
       "...                                                  ...   \n",
       "25794  {'funny': '', 'posted': 'Posted May 31.', 'las...   \n",
       "25795  {'funny': '', 'posted': 'Posted June 17.', 'la...   \n",
       "25796  {'funny': '1 person found this review funny', ...   \n",
       "25797  {'funny': '', 'posted': 'Posted July 21.', 'la...   \n",
       "25798  {'funny': '1 person found this review funny', ...   \n",
       "\n",
       "                                                       1  \\\n",
       "0      {'funny': '', 'posted': 'Posted July 15, 2011....   \n",
       "1      {'funny': '', 'posted': 'Posted September 8, 2...   \n",
       "2      {'funny': '', 'posted': 'Posted December 4, 20...   \n",
       "3      {'funny': '', 'posted': 'Posted July 28, 2012....   \n",
       "4      {'funny': '1 person found this review funny', ...   \n",
       "...                                                  ...   \n",
       "25794                                               None   \n",
       "25795                                               None   \n",
       "25796                                               None   \n",
       "25797  {'funny': '', 'posted': 'Posted July 10.', 'la...   \n",
       "25798  {'funny': '', 'posted': 'Posted July 20.', 'la...   \n",
       "\n",
       "                                                       2  \\\n",
       "0      {'funny': '', 'posted': 'Posted April 21, 2011...   \n",
       "1      {'funny': '', 'posted': 'Posted November 29, 2...   \n",
       "2      {'funny': '', 'posted': 'Posted November 3, 20...   \n",
       "3      {'funny': '', 'posted': 'Posted June 2, 2012.'...   \n",
       "4      {'funny': '2 people found this review funny', ...   \n",
       "...                                                  ...   \n",
       "25794                                               None   \n",
       "25795                                               None   \n",
       "25796                                               None   \n",
       "25797  {'funny': '', 'posted': 'Posted July 10.', 'la...   \n",
       "25798  {'funny': '', 'posted': 'Posted July 2.', 'las...   \n",
       "\n",
       "                                                       3  \\\n",
       "0                                                   None   \n",
       "1                                                   None   \n",
       "2      {'funny': '', 'posted': 'Posted October 15, 20...   \n",
       "3      {'funny': '', 'posted': 'Posted June 29, 2014....   \n",
       "4      {'funny': '', 'posted': 'Posted July 11, 2013....   \n",
       "...                                                  ...   \n",
       "25794                                               None   \n",
       "25795                                               None   \n",
       "25796                                               None   \n",
       "25797  {'funny': '', 'posted': 'Posted July 8.', 'las...   \n",
       "25798                                               None   \n",
       "\n",
       "                                                       4  \\\n",
       "0                                                   None   \n",
       "1                                                   None   \n",
       "2      {'funny': '', 'posted': 'Posted October 15, 20...   \n",
       "3      {'funny': '', 'posted': 'Posted November 22, 2...   \n",
       "4                                                   None   \n",
       "...                                                  ...   \n",
       "25794                                               None   \n",
       "25795                                               None   \n",
       "25796                                               None   \n",
       "25797                                               None   \n",
       "25798                                               None   \n",
       "\n",
       "                                                       5     6     7     8  \\\n",
       "0                                                   None  None  None  None   \n",
       "1                                                   None  None  None  None   \n",
       "2      {'funny': '', 'posted': 'Posted October 15, 20...  None  None  None   \n",
       "3      {'funny': '', 'posted': 'Posted February 23, 2...  None  None  None   \n",
       "4                                                   None  None  None  None   \n",
       "...                                                  ...   ...   ...   ...   \n",
       "25794                                               None  None  None  None   \n",
       "25795                                               None  None  None  None   \n",
       "25796                                               None  None  None  None   \n",
       "25797                                               None  None  None  None   \n",
       "25798                                               None  None  None  None   \n",
       "\n",
       "          9  \n",
       "0      None  \n",
       "1      None  \n",
       "2      None  \n",
       "3      None  \n",
       "4      None  \n",
       "...     ...  \n",
       "25794  None  \n",
       "25795  None  \n",
       "25796  None  \n",
       "25797  None  \n",
       "25798  None  \n",
       "\n",
       "[25799 rows x 10 columns]"
      ]
     },
     "execution_count": 100,
     "metadata": {},
     "output_type": "execute_result"
    }
   ],
   "source": [
    "pd.json_normalize(df_ur[\"reviews\"])#al hacer json_normalize nos  devuelve de esta forma un df de diccionarios"
   ]
  },
  {
   "cell_type": "code",
   "execution_count": 99,
   "metadata": {},
   "outputs": [
    {
     "data": {
      "text/html": [
       "<div>\n",
       "<style scoped>\n",
       "    .dataframe tbody tr th:only-of-type {\n",
       "        vertical-align: middle;\n",
       "    }\n",
       "\n",
       "    .dataframe tbody tr th {\n",
       "        vertical-align: top;\n",
       "    }\n",
       "\n",
       "    .dataframe thead th {\n",
       "        text-align: right;\n",
       "    }\n",
       "</style>\n",
       "<table border=\"1\" class=\"dataframe\">\n",
       "  <thead>\n",
       "    <tr style=\"text-align: right;\">\n",
       "      <th></th>\n",
       "      <th>funny</th>\n",
       "      <th>posted</th>\n",
       "      <th>last_edited</th>\n",
       "      <th>item_id</th>\n",
       "      <th>helpful</th>\n",
       "      <th>recommend</th>\n",
       "      <th>review</th>\n",
       "    </tr>\n",
       "  </thead>\n",
       "  <tbody>\n",
       "    <tr>\n",
       "      <th>0</th>\n",
       "      <td></td>\n",
       "      <td>Posted November 5, 2011.</td>\n",
       "      <td></td>\n",
       "      <td>1250</td>\n",
       "      <td>No ratings yet</td>\n",
       "      <td>True</td>\n",
       "      <td>Simple yet with great replayability. In my opi...</td>\n",
       "    </tr>\n",
       "    <tr>\n",
       "      <th>1</th>\n",
       "      <td></td>\n",
       "      <td>Posted July 15, 2011.</td>\n",
       "      <td></td>\n",
       "      <td>22200</td>\n",
       "      <td>No ratings yet</td>\n",
       "      <td>True</td>\n",
       "      <td>It's unique and worth a playthrough.</td>\n",
       "    </tr>\n",
       "    <tr>\n",
       "      <th>2</th>\n",
       "      <td></td>\n",
       "      <td>Posted April 21, 2011.</td>\n",
       "      <td></td>\n",
       "      <td>43110</td>\n",
       "      <td>No ratings yet</td>\n",
       "      <td>True</td>\n",
       "      <td>Great atmosphere. The gunplay can be a bit chu...</td>\n",
       "    </tr>\n",
       "  </tbody>\n",
       "</table>\n",
       "</div>"
      ],
      "text/plain": [
       "  funny                    posted last_edited item_id         helpful  \\\n",
       "0        Posted November 5, 2011.                1250  No ratings yet   \n",
       "1           Posted July 15, 2011.               22200  No ratings yet   \n",
       "2          Posted April 21, 2011.               43110  No ratings yet   \n",
       "\n",
       "   recommend                                             review  \n",
       "0       True  Simple yet with great replayability. In my opi...  \n",
       "1       True               It's unique and worth a playthrough.  \n",
       "2       True  Great atmosphere. The gunplay can be a bit chu...  "
      ]
     },
     "execution_count": 99,
     "metadata": {},
     "output_type": "execute_result"
    }
   ],
   "source": [
    "pd.json_normalize(df_ur[\"reviews\"][0])# al hacer json_normalize en cada fila nos devuelve el siguiente dataframe que es lo que me interesa"
   ]
  },
  {
   "cell_type": "markdown",
   "metadata": {},
   "source": [
    "### bucle para obtener todos los diccionarios en un dataframe llamaado df_sentimientos\n",
    "\n",
    "al hacer esto perdemos quien hizo la review cosa que no nos interesa pero conservamos el id de el juego por lo cual sabremos lo que necesitamos"
   ]
  },
  {
   "cell_type": "code",
   "execution_count": 116,
   "metadata": {},
   "outputs": [
    {
     "data": {
      "text/html": [
       "<div>\n",
       "<style scoped>\n",
       "    .dataframe tbody tr th:only-of-type {\n",
       "        vertical-align: middle;\n",
       "    }\n",
       "\n",
       "    .dataframe tbody tr th {\n",
       "        vertical-align: top;\n",
       "    }\n",
       "\n",
       "    .dataframe thead th {\n",
       "        text-align: right;\n",
       "    }\n",
       "</style>\n",
       "<table border=\"1\" class=\"dataframe\">\n",
       "  <thead>\n",
       "    <tr style=\"text-align: right;\">\n",
       "      <th></th>\n",
       "      <th>funny</th>\n",
       "      <th>posted</th>\n",
       "      <th>last_edited</th>\n",
       "      <th>item_id</th>\n",
       "      <th>helpful</th>\n",
       "      <th>recommend</th>\n",
       "      <th>review</th>\n",
       "    </tr>\n",
       "  </thead>\n",
       "  <tbody>\n",
       "    <tr>\n",
       "      <th>0</th>\n",
       "      <td></td>\n",
       "      <td>Posted November 5, 2011.</td>\n",
       "      <td></td>\n",
       "      <td>1250</td>\n",
       "      <td>No ratings yet</td>\n",
       "      <td>True</td>\n",
       "      <td>Simple yet with great replayability. In my opi...</td>\n",
       "    </tr>\n",
       "    <tr>\n",
       "      <th>1</th>\n",
       "      <td></td>\n",
       "      <td>Posted July 15, 2011.</td>\n",
       "      <td></td>\n",
       "      <td>22200</td>\n",
       "      <td>No ratings yet</td>\n",
       "      <td>True</td>\n",
       "      <td>It's unique and worth a playthrough.</td>\n",
       "    </tr>\n",
       "    <tr>\n",
       "      <th>2</th>\n",
       "      <td></td>\n",
       "      <td>Posted April 21, 2011.</td>\n",
       "      <td></td>\n",
       "      <td>43110</td>\n",
       "      <td>No ratings yet</td>\n",
       "      <td>True</td>\n",
       "      <td>Great atmosphere. The gunplay can be a bit chu...</td>\n",
       "    </tr>\n",
       "    <tr>\n",
       "      <th>0</th>\n",
       "      <td></td>\n",
       "      <td>Posted June 24, 2014.</td>\n",
       "      <td></td>\n",
       "      <td>251610</td>\n",
       "      <td>15 of 20 people (75%) found this review helpful</td>\n",
       "      <td>True</td>\n",
       "      <td>I know what you think when you see this title ...</td>\n",
       "    </tr>\n",
       "    <tr>\n",
       "      <th>1</th>\n",
       "      <td></td>\n",
       "      <td>Posted September 8, 2013.</td>\n",
       "      <td></td>\n",
       "      <td>227300</td>\n",
       "      <td>0 of 1 people (0%) found this review helpful</td>\n",
       "      <td>True</td>\n",
       "      <td>For a simple (it's actually not all that simpl...</td>\n",
       "    </tr>\n",
       "    <tr>\n",
       "      <th>...</th>\n",
       "      <td>...</td>\n",
       "      <td>...</td>\n",
       "      <td>...</td>\n",
       "      <td>...</td>\n",
       "      <td>...</td>\n",
       "      <td>...</td>\n",
       "      <td>...</td>\n",
       "    </tr>\n",
       "    <tr>\n",
       "      <th>2</th>\n",
       "      <td></td>\n",
       "      <td>Posted July 10.</td>\n",
       "      <td></td>\n",
       "      <td>70</td>\n",
       "      <td>No ratings yet</td>\n",
       "      <td>True</td>\n",
       "      <td>a must have classic from steam definitely wort...</td>\n",
       "    </tr>\n",
       "    <tr>\n",
       "      <th>3</th>\n",
       "      <td></td>\n",
       "      <td>Posted July 8.</td>\n",
       "      <td></td>\n",
       "      <td>362890</td>\n",
       "      <td>No ratings yet</td>\n",
       "      <td>True</td>\n",
       "      <td>this game is a perfect remake of the original ...</td>\n",
       "    </tr>\n",
       "    <tr>\n",
       "      <th>0</th>\n",
       "      <td>1 person found this review funny</td>\n",
       "      <td>Posted July 3.</td>\n",
       "      <td></td>\n",
       "      <td>273110</td>\n",
       "      <td>1 of 2 people (50%) found this review helpful</td>\n",
       "      <td>True</td>\n",
       "      <td>had so much fun plaing this and collecting res...</td>\n",
       "    </tr>\n",
       "    <tr>\n",
       "      <th>1</th>\n",
       "      <td></td>\n",
       "      <td>Posted July 20.</td>\n",
       "      <td></td>\n",
       "      <td>730</td>\n",
       "      <td>No ratings yet</td>\n",
       "      <td>True</td>\n",
       "      <td>:D</td>\n",
       "    </tr>\n",
       "    <tr>\n",
       "      <th>2</th>\n",
       "      <td></td>\n",
       "      <td>Posted July 2.</td>\n",
       "      <td></td>\n",
       "      <td>440</td>\n",
       "      <td>No ratings yet</td>\n",
       "      <td>True</td>\n",
       "      <td>so much fun :D</td>\n",
       "    </tr>\n",
       "  </tbody>\n",
       "</table>\n",
       "<p>59305 rows × 7 columns</p>\n",
       "</div>"
      ],
      "text/plain": [
       "                               funny                     posted last_edited  \\\n",
       "0                                      Posted November 5, 2011.               \n",
       "1                                         Posted July 15, 2011.               \n",
       "2                                        Posted April 21, 2011.               \n",
       "0                                         Posted June 24, 2014.               \n",
       "1                                     Posted September 8, 2013.               \n",
       "..                               ...                        ...         ...   \n",
       "2                                               Posted July 10.               \n",
       "3                                                Posted July 8.               \n",
       "0   1 person found this review funny             Posted July 3.               \n",
       "1                                               Posted July 20.               \n",
       "2                                                Posted July 2.               \n",
       "\n",
       "   item_id                                          helpful recommend  \\\n",
       "0     1250                                   No ratings yet      True   \n",
       "1    22200                                   No ratings yet      True   \n",
       "2    43110                                   No ratings yet      True   \n",
       "0   251610  15 of 20 people (75%) found this review helpful      True   \n",
       "1   227300     0 of 1 people (0%) found this review helpful      True   \n",
       "..     ...                                              ...       ...   \n",
       "2       70                                   No ratings yet      True   \n",
       "3   362890                                   No ratings yet      True   \n",
       "0   273110    1 of 2 people (50%) found this review helpful      True   \n",
       "1      730                                   No ratings yet      True   \n",
       "2      440                                   No ratings yet      True   \n",
       "\n",
       "                                               review  \n",
       "0   Simple yet with great replayability. In my opi...  \n",
       "1                It's unique and worth a playthrough.  \n",
       "2   Great atmosphere. The gunplay can be a bit chu...  \n",
       "0   I know what you think when you see this title ...  \n",
       "1   For a simple (it's actually not all that simpl...  \n",
       "..                                                ...  \n",
       "2   a must have classic from steam definitely wort...  \n",
       "3   this game is a perfect remake of the original ...  \n",
       "0   had so much fun plaing this and collecting res...  \n",
       "1                                                  :D  \n",
       "2                                      so much fun :D  \n",
       "\n",
       "[59305 rows x 7 columns]"
      ]
     },
     "execution_count": 116,
     "metadata": {},
     "output_type": "execute_result"
    }
   ],
   "source": [
    "df_sentimientos = pd.DataFrame(columns=[\"funny\",\"posted\",\"last_edited\",\"item_id\",\"helpful\",\"recommend\",\"review\"])\n",
    "cont = 0\n",
    "for i in df_ur[\"reviews\"]:\n",
    "    cont += 1\n",
    "    var = pd.json_normalize(i)\n",
    "    # Supongamos que df1 y df2 son tus DataFrames con las mismas columnas\n",
    "    df_sentimientos = pd.concat([df_sentimientos, var], axis=0)\n",
    "\n",
    "df_sentimientos#tardo 2min 40s"
   ]
  },
  {
   "cell_type": "markdown",
   "metadata": {},
   "source": [
    "### vamos a dejar solo las columnas posted , item_id ,reccomend y  review"
   ]
  },
  {
   "cell_type": "code",
   "execution_count": 123,
   "metadata": {},
   "outputs": [
    {
     "data": {
      "text/html": [
       "<div>\n",
       "<style scoped>\n",
       "    .dataframe tbody tr th:only-of-type {\n",
       "        vertical-align: middle;\n",
       "    }\n",
       "\n",
       "    .dataframe tbody tr th {\n",
       "        vertical-align: top;\n",
       "    }\n",
       "\n",
       "    .dataframe thead th {\n",
       "        text-align: right;\n",
       "    }\n",
       "</style>\n",
       "<table border=\"1\" class=\"dataframe\">\n",
       "  <thead>\n",
       "    <tr style=\"text-align: right;\">\n",
       "      <th></th>\n",
       "      <th>posted</th>\n",
       "      <th>item_id</th>\n",
       "      <th>recommend</th>\n",
       "      <th>review</th>\n",
       "    </tr>\n",
       "  </thead>\n",
       "  <tbody>\n",
       "    <tr>\n",
       "      <th>0</th>\n",
       "      <td>Posted November 5, 2011.</td>\n",
       "      <td>1250</td>\n",
       "      <td>True</td>\n",
       "      <td>Simple yet with great replayability. In my opi...</td>\n",
       "    </tr>\n",
       "    <tr>\n",
       "      <th>1</th>\n",
       "      <td>Posted July 15, 2011.</td>\n",
       "      <td>22200</td>\n",
       "      <td>True</td>\n",
       "      <td>It's unique and worth a playthrough.</td>\n",
       "    </tr>\n",
       "    <tr>\n",
       "      <th>2</th>\n",
       "      <td>Posted April 21, 2011.</td>\n",
       "      <td>43110</td>\n",
       "      <td>True</td>\n",
       "      <td>Great atmosphere. The gunplay can be a bit chu...</td>\n",
       "    </tr>\n",
       "    <tr>\n",
       "      <th>0</th>\n",
       "      <td>Posted June 24, 2014.</td>\n",
       "      <td>251610</td>\n",
       "      <td>True</td>\n",
       "      <td>I know what you think when you see this title ...</td>\n",
       "    </tr>\n",
       "    <tr>\n",
       "      <th>1</th>\n",
       "      <td>Posted September 8, 2013.</td>\n",
       "      <td>227300</td>\n",
       "      <td>True</td>\n",
       "      <td>For a simple (it's actually not all that simpl...</td>\n",
       "    </tr>\n",
       "    <tr>\n",
       "      <th>...</th>\n",
       "      <td>...</td>\n",
       "      <td>...</td>\n",
       "      <td>...</td>\n",
       "      <td>...</td>\n",
       "    </tr>\n",
       "    <tr>\n",
       "      <th>2</th>\n",
       "      <td>Posted July 10.</td>\n",
       "      <td>70</td>\n",
       "      <td>True</td>\n",
       "      <td>a must have classic from steam definitely wort...</td>\n",
       "    </tr>\n",
       "    <tr>\n",
       "      <th>3</th>\n",
       "      <td>Posted July 8.</td>\n",
       "      <td>362890</td>\n",
       "      <td>True</td>\n",
       "      <td>this game is a perfect remake of the original ...</td>\n",
       "    </tr>\n",
       "    <tr>\n",
       "      <th>0</th>\n",
       "      <td>Posted July 3.</td>\n",
       "      <td>273110</td>\n",
       "      <td>True</td>\n",
       "      <td>had so much fun plaing this and collecting res...</td>\n",
       "    </tr>\n",
       "    <tr>\n",
       "      <th>1</th>\n",
       "      <td>Posted July 20.</td>\n",
       "      <td>730</td>\n",
       "      <td>True</td>\n",
       "      <td>:D</td>\n",
       "    </tr>\n",
       "    <tr>\n",
       "      <th>2</th>\n",
       "      <td>Posted July 2.</td>\n",
       "      <td>440</td>\n",
       "      <td>True</td>\n",
       "      <td>so much fun :D</td>\n",
       "    </tr>\n",
       "  </tbody>\n",
       "</table>\n",
       "<p>59305 rows × 4 columns</p>\n",
       "</div>"
      ],
      "text/plain": [
       "                       posted item_id recommend  \\\n",
       "0    Posted November 5, 2011.    1250      True   \n",
       "1       Posted July 15, 2011.   22200      True   \n",
       "2      Posted April 21, 2011.   43110      True   \n",
       "0       Posted June 24, 2014.  251610      True   \n",
       "1   Posted September 8, 2013.  227300      True   \n",
       "..                        ...     ...       ...   \n",
       "2             Posted July 10.      70      True   \n",
       "3              Posted July 8.  362890      True   \n",
       "0              Posted July 3.  273110      True   \n",
       "1             Posted July 20.     730      True   \n",
       "2              Posted July 2.     440      True   \n",
       "\n",
       "                                               review  \n",
       "0   Simple yet with great replayability. In my opi...  \n",
       "1                It's unique and worth a playthrough.  \n",
       "2   Great atmosphere. The gunplay can be a bit chu...  \n",
       "0   I know what you think when you see this title ...  \n",
       "1   For a simple (it's actually not all that simpl...  \n",
       "..                                                ...  \n",
       "2   a must have classic from steam definitely wort...  \n",
       "3   this game is a perfect remake of the original ...  \n",
       "0   had so much fun plaing this and collecting res...  \n",
       "1                                                  :D  \n",
       "2                                      so much fun :D  \n",
       "\n",
       "[59305 rows x 4 columns]"
      ]
     },
     "execution_count": 123,
     "metadata": {},
     "output_type": "execute_result"
    }
   ],
   "source": [
    "del df_sentimientos[\"funny\"]\n",
    "del df_sentimientos[\"helpful\"]\n",
    "del df_sentimientos[\"last_edited\"]\n",
    "df_sentimientos"
   ]
  },
  {
   "cell_type": "markdown",
   "metadata": {},
   "source": [
    "    asi nos quedaria el dataframe que usaremos para analisis  de sentimientos posted se podria borrar pero pienso dejarla por el momento"
   ]
  },
  {
   "cell_type": "code",
   "execution_count": 128,
   "metadata": {},
   "outputs": [
    {
     "name": "stdout",
     "output_type": "stream",
     "text": [
      "\n",
      "Total rows:  58424\n",
      "\n",
      "Total full null rows:  0\n",
      "\n",
      "Total duplicated rows: 0\n"
     ]
    },
    {
     "data": {
      "text/html": [
       "<div>\n",
       "<style scoped>\n",
       "    .dataframe tbody tr th:only-of-type {\n",
       "        vertical-align: middle;\n",
       "    }\n",
       "\n",
       "    .dataframe tbody tr th {\n",
       "        vertical-align: top;\n",
       "    }\n",
       "\n",
       "    .dataframe thead th {\n",
       "        text-align: right;\n",
       "    }\n",
       "</style>\n",
       "<table border=\"1\" class=\"dataframe\">\n",
       "  <thead>\n",
       "    <tr style=\"text-align: right;\">\n",
       "      <th></th>\n",
       "      <th>Column</th>\n",
       "      <th>dType</th>\n",
       "      <th>No_Null_%</th>\n",
       "      <th>No_Null_Qty</th>\n",
       "      <th>Null_%</th>\n",
       "      <th>Null_Qty</th>\n",
       "    </tr>\n",
       "  </thead>\n",
       "  <tbody>\n",
       "    <tr>\n",
       "      <th>0</th>\n",
       "      <td>posted</td>\n",
       "      <td>[&lt;class 'str'&gt;]</td>\n",
       "      <td>100.0</td>\n",
       "      <td>58424</td>\n",
       "      <td>0.0</td>\n",
       "      <td>0</td>\n",
       "    </tr>\n",
       "    <tr>\n",
       "      <th>1</th>\n",
       "      <td>item_id</td>\n",
       "      <td>[&lt;class 'str'&gt;]</td>\n",
       "      <td>100.0</td>\n",
       "      <td>58424</td>\n",
       "      <td>0.0</td>\n",
       "      <td>0</td>\n",
       "    </tr>\n",
       "    <tr>\n",
       "      <th>2</th>\n",
       "      <td>recommend</td>\n",
       "      <td>[&lt;class 'bool'&gt;]</td>\n",
       "      <td>100.0</td>\n",
       "      <td>58424</td>\n",
       "      <td>0.0</td>\n",
       "      <td>0</td>\n",
       "    </tr>\n",
       "    <tr>\n",
       "      <th>3</th>\n",
       "      <td>review</td>\n",
       "      <td>[&lt;class 'str'&gt;]</td>\n",
       "      <td>100.0</td>\n",
       "      <td>58424</td>\n",
       "      <td>0.0</td>\n",
       "      <td>0</td>\n",
       "    </tr>\n",
       "  </tbody>\n",
       "</table>\n",
       "</div>"
      ],
      "text/plain": [
       "      Column             dType  No_Null_%  No_Null_Qty  Null_%  Null_Qty\n",
       "0     posted   [<class 'str'>]      100.0        58424     0.0         0\n",
       "1    item_id   [<class 'str'>]      100.0        58424     0.0         0\n",
       "2  recommend  [<class 'bool'>]      100.0        58424     0.0         0\n",
       "3     review   [<class 'str'>]      100.0        58424     0.0         0"
      ]
     },
     "execution_count": 128,
     "metadata": {},
     "output_type": "execute_result"
    }
   ],
   "source": [
    "etf.data_review(df_sentimientos)"
   ]
  },
  {
   "cell_type": "code",
   "execution_count": 127,
   "metadata": {},
   "outputs": [],
   "source": [
    "df_sentimientos.drop_duplicates(inplace=True)"
   ]
  },
  {
   "cell_type": "markdown",
   "metadata": {},
   "source": [
    "## df sentimientos a parquet"
   ]
  },
  {
   "cell_type": "code",
   "execution_count": 129,
   "metadata": {},
   "outputs": [],
   "source": [
    "df_sentimientos.to_parquet(r\"../app/processed_data/reviews_dict.parquet\")"
   ]
  },
  {
   "cell_type": "markdown",
   "metadata": {},
   "source": [
    "----------------------------------------------------------"
   ]
  },
  {
   "cell_type": "markdown",
   "metadata": {},
   "source": [
    "# volviendo a trabajar en user_reviews"
   ]
  },
  {
   "cell_type": "markdown",
   "metadata": {},
   "source": [
    "    ahora que separamos en un df aparte lo que nos interesaba podemos borrar la columna reviews de este df y solo quedarian columnas que hacen referencia aa identificadores de usuario que conservaremos en un nuevo archivo"
   ]
  },
  {
   "cell_type": "code",
   "execution_count": 131,
   "metadata": {},
   "outputs": [
    {
     "data": {
      "text/plain": [
       "0        [{'funny': '', 'posted': 'Posted November 5, 2...\n",
       "1        [{'funny': '', 'posted': 'Posted June 24, 2014...\n",
       "2        [{'funny': '', 'posted': 'Posted February 3.',...\n",
       "3        [{'funny': '', 'posted': 'Posted October 14, 2...\n",
       "4        [{'funny': '3 people found this review funny',...\n",
       "                               ...                        \n",
       "25794    [{'funny': '', 'posted': 'Posted May 31.', 'la...\n",
       "25795    [{'funny': '', 'posted': 'Posted June 17.', 'l...\n",
       "25796    [{'funny': '1 person found this review funny',...\n",
       "25797    [{'funny': '', 'posted': 'Posted July 21.', 'l...\n",
       "25798    [{'funny': '1 person found this review funny',...\n",
       "Name: reviews, Length: 25799, dtype: object"
      ]
     },
     "execution_count": 131,
     "metadata": {},
     "output_type": "execute_result"
    }
   ],
   "source": [
    "df_ur[\"reviews\"]"
   ]
  },
  {
   "cell_type": "code",
   "execution_count": 132,
   "metadata": {},
   "outputs": [],
   "source": [
    "del df_ur[\"reviews\"]"
   ]
  },
  {
   "cell_type": "code",
   "execution_count": 133,
   "metadata": {},
   "outputs": [
    {
     "name": "stdout",
     "output_type": "stream",
     "text": [
      "\n",
      "Total rows:  25799\n",
      "\n",
      "Total full null rows:  0\n",
      "\n",
      "Total duplicated rows: 314\n"
     ]
    },
    {
     "data": {
      "text/html": [
       "<div>\n",
       "<style scoped>\n",
       "    .dataframe tbody tr th:only-of-type {\n",
       "        vertical-align: middle;\n",
       "    }\n",
       "\n",
       "    .dataframe tbody tr th {\n",
       "        vertical-align: top;\n",
       "    }\n",
       "\n",
       "    .dataframe thead th {\n",
       "        text-align: right;\n",
       "    }\n",
       "</style>\n",
       "<table border=\"1\" class=\"dataframe\">\n",
       "  <thead>\n",
       "    <tr style=\"text-align: right;\">\n",
       "      <th></th>\n",
       "      <th>Column</th>\n",
       "      <th>dType</th>\n",
       "      <th>No_Null_%</th>\n",
       "      <th>No_Null_Qty</th>\n",
       "      <th>Null_%</th>\n",
       "      <th>Null_Qty</th>\n",
       "    </tr>\n",
       "  </thead>\n",
       "  <tbody>\n",
       "    <tr>\n",
       "      <th>0</th>\n",
       "      <td>user_id</td>\n",
       "      <td>[&lt;class 'str'&gt;]</td>\n",
       "      <td>100.0</td>\n",
       "      <td>25799</td>\n",
       "      <td>0.0</td>\n",
       "      <td>0</td>\n",
       "    </tr>\n",
       "    <tr>\n",
       "      <th>1</th>\n",
       "      <td>user_url</td>\n",
       "      <td>[&lt;class 'str'&gt;]</td>\n",
       "      <td>100.0</td>\n",
       "      <td>25799</td>\n",
       "      <td>0.0</td>\n",
       "      <td>0</td>\n",
       "    </tr>\n",
       "  </tbody>\n",
       "</table>\n",
       "</div>"
      ],
      "text/plain": [
       "     Column            dType  No_Null_%  No_Null_Qty  Null_%  Null_Qty\n",
       "0   user_id  [<class 'str'>]      100.0        25799     0.0         0\n",
       "1  user_url  [<class 'str'>]      100.0        25799     0.0         0"
      ]
     },
     "execution_count": 133,
     "metadata": {},
     "output_type": "execute_result"
    }
   ],
   "source": [
    "etf.data_review(df_ur)"
   ]
  },
  {
   "cell_type": "markdown",
   "metadata": {},
   "source": [
    "## valores duplicados"
   ]
  },
  {
   "cell_type": "code",
   "execution_count": 134,
   "metadata": {},
   "outputs": [],
   "source": [
    "df_ur.drop_duplicates(inplace=True)"
   ]
  },
  {
   "cell_type": "markdown",
   "metadata": {},
   "source": [
    "## dataframe resultante\n",
    "|columna |tipo|\n",
    "|--------|----|\n",
    "|user_id | str|\n",
    "|user_url| str|"
   ]
  },
  {
   "cell_type": "markdown",
   "metadata": {},
   "source": [
    "## guardando el df procesado en un archivo parquet"
   ]
  },
  {
   "cell_type": "code",
   "execution_count": 135,
   "metadata": {},
   "outputs": [],
   "source": [
    "df_ur.to_parquet(r\"../app/processed_data/user_data.parquet\")#dentro de la carpeta de la api"
   ]
  },
  {
   "cell_type": "markdown",
   "metadata": {},
   "source": [
    "<hr>"
   ]
  },
  {
   "cell_type": "markdown",
   "metadata": {},
   "source": [
    "#  users_items.json"
   ]
  },
  {
   "cell_type": "code",
   "execution_count": 4,
   "metadata": {},
   "outputs": [],
   "source": [
    "items = []\n",
    "\n",
    "with open(r'../Datasets/users_items.json/australian_users_items.json', 'r', encoding='utf-8') as f:\n",
    "    for line in f.readlines():\n",
    "        items.append(ast.literal_eval(line))\n",
    "df_ui = pd.DataFrame(items)"
   ]
  },
  {
   "cell_type": "code",
   "execution_count": null,
   "metadata": {},
   "outputs": [],
   "source": [
    "df_ui[\"items\"] = df_ui[\"items\"].astype(str)#convertirmos a str para poder verificar duplicados"
   ]
  },
  {
   "cell_type": "code",
   "execution_count": null,
   "metadata": {},
   "outputs": [],
   "source": [
    "etf.data_review(df_ui)"
   ]
  },
  {
   "cell_type": "code",
   "execution_count": null,
   "metadata": {},
   "outputs": [],
   "source": [
    "### valores nulos"
   ]
  },
  {
   "cell_type": "markdown",
   "metadata": {},
   "source": [
    "### valores nulos"
   ]
  },
  {
   "cell_type": "code",
   "execution_count": null,
   "metadata": {},
   "outputs": [],
   "source": [
    "vacia = df_ui['items'].apply(len) == 0 #filtro que vamos a usar para borrar estas listas vacias"
   ]
  },
  {
   "cell_type": "code",
   "execution_count": null,
   "metadata": {},
   "outputs": [],
   "source": [
    "df_ui = df_ui[~vacia]#borramos los las listas vacias"
   ]
  },
  {
   "cell_type": "markdown",
   "metadata": {},
   "source": [
    "### valores duplicados"
   ]
  },
  {
   "cell_type": "code",
   "execution_count": null,
   "metadata": {},
   "outputs": [],
   "source": [
    "df_ui.drop_duplicates(inplace=True)"
   ]
  },
  {
   "cell_type": "markdown",
   "metadata": {},
   "source": [
    "## dataframe resultante\n",
    "\n",
    "|columna|tipo|\n",
    "|-------|----|\n",
    "|user_id|str|\n",
    "|item_counts|int|\n",
    "|steam_id|int|\n",
    "|user_url|str|\n",
    "|item|list|"
   ]
  },
  {
   "cell_type": "markdown",
   "metadata": {},
   "source": [
    "## guardando el df procesado en un archivo parquet"
   ]
  },
  {
   "cell_type": "code",
   "execution_count": null,
   "metadata": {},
   "outputs": [],
   "source": [
    "df_ui.to_parquet(r\"../app/processed_data/users_items.parquet\")#dentro de la carpeta de la api #  se pasa  el peso permitido por git hub por 16 mb pesando 116"
   ]
  }
 ],
 "metadata": {
  "kernelspec": {
   "display_name": "Python 3",
   "language": "python",
   "name": "python3"
  },
  "language_info": {
   "codemirror_mode": {
    "name": "ipython",
    "version": 3
   },
   "file_extension": ".py",
   "mimetype": "text/x-python",
   "name": "python",
   "nbconvert_exporter": "python",
   "pygments_lexer": "ipython3",
   "version": "3.11.5"
  }
 },
 "nbformat": 4,
 "nbformat_minor": 2
}
