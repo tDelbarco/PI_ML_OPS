{
 "cells": [
  {
   "cell_type": "code",
   "execution_count": 51,
   "metadata": {},
   "outputs": [],
   "source": [
    "import ETL_functions as etf\n",
    "import numpy as np\n",
    "import pandas as pd\n",
    "import ast"
   ]
  },
  {
   "cell_type": "markdown",
   "metadata": {},
   "source": [
    "## esto borra las columnas que no tengan ni app_name ni title\n",
    "    ya que aunque se podria rellenar con datos de user_items solo son 2 registros por lo que no me tomare el trabajo de normalizar"
   ]
  },
  {
   "cell_type": "code",
   "execution_count": 62,
   "metadata": {},
   "outputs": [],
   "source": [
    "mask = ((df_sg[\"title\"] == \"None\") & (df_sg[\"app_name\"] == \"None\")) #filtro donde title y app_name tengan el valor de \"None\" (es una string debido a que los transforme anterior mente)\n",
    "df_sg = df_sg[~mask]# ~ obtenemos la parte contraria de el filtro ,y los seteamos al dataframe simulando un dropeo"
   ]
  },
  {
   "cell_type": "markdown",
   "metadata": {},
   "source": [
    "    esto solo borro 2 registros que no tenian utilidad ya que una app que no tiene ningun nombre no se puede recomendar"
   ]
  },
  {
   "cell_type": "markdown",
   "metadata": {},
   "source": [
    "## esto borra las filas que no tengan genres ni tags\n",
    "    ya que si tienen aunque si no cuenta con valor en genres no podre reemplazar los datos por los de tags que forman parte de genres"
   ]
  },
  {
   "cell_type": "code",
   "execution_count": 63,
   "metadata": {},
   "outputs": [],
   "source": [
    "mask = (df_sg[\"genres\"] == \"None\") & (df_sg[\"tags\"] == \"None\")# #filtro donde genres y tags tengan el valor de \"None\" (es una string debido a que los transforme anterior mente)\n",
    "df_sg = df_sg[~mask]# invertimos el resultado de el filtro para obtener las que no tiene valor == \"None\""
   ]
  },
  {
   "cell_type": "markdown",
   "metadata": {},
   "source": [
    "    esto borro 7 registros que no tenian ningun tipo de etiqueta o genero por el cual se pudieran recomendar.por lo que me parecio correcto borrar (en EDA conclui que hay algunos tags que forman parte de genero y que specs no)"
   ]
  },
  {
   "cell_type": "markdown",
   "metadata": {},
   "source": [
    "    la siguiente linea borra los corchetes las comillas y los espacios entre los valores volviendolos un str separado por , que forman parte del string"
   ]
  },
  {
   "cell_type": "code",
   "execution_count": 68,
   "metadata": {},
   "outputs": [
    {
     "data": {
      "text/plain": [
       "88310         Action,Casual,Indie,Simulation,Strategy\n",
       "88311                 Free to Play,Indie,RPG,Strategy\n",
       "88312     Casual,Free to Play,Indie,Simulation,Sports\n",
       "88313                         Action,Adventure,Casual\n",
       "88314                                            None\n",
       "                             ...                     \n",
       "120440               Casual,Indie,Simulation,Strategy\n",
       "120441                          Casual,Indie,Strategy\n",
       "120442                        Indie,Racing,Simulation\n",
       "120443                                   Casual,Indie\n",
       "120444                                           None\n",
       "Name: genres, Length: 31995, dtype: object"
      ]
     },
     "execution_count": 68,
     "metadata": {},
     "output_type": "execute_result"
    }
   ],
   "source": [
    "df_sg[\"genres\"] = df_sg[\"genres\"].str.strip(\"[]\").str.replace(\" '\",\"\").str.replace(\"'\",\"\")\n",
    "\n",
    "df_sg[\"genres\"]"
   ]
  },
  {
   "cell_type": "markdown",
   "metadata": {},
   "source": [
    "    hacemos lo mismo con tags"
   ]
  },
  {
   "cell_type": "code",
   "execution_count": 69,
   "metadata": {},
   "outputs": [
    {
     "data": {
      "text/plain": [
       "88310               Strategy,Action,Indie,Casual,Simulation\n",
       "88311     Free to Play,Strategy,Indie,RPG,Card Game,Trad...\n",
       "88312     Free to Play,Simulation,Sports,Casual,Indie,Mu...\n",
       "88313                               Action,Adventure,Casual\n",
       "88314                            Action,Indie,Casual,Sports\n",
       "                                ...                        \n",
       "120440                     Strategy,Indie,Casual,Simulation\n",
       "120441                                Strategy,Indie,Casual\n",
       "120442                              Indie,Simulation,Racing\n",
       "120443    Indie,Casual,Puzzle,Singleplayer,Atmospheric,R...\n",
       "120444    Early Access,Adventure,Indie,Action,Simulation,VR\n",
       "Name: tags, Length: 31995, dtype: object"
      ]
     },
     "execution_count": 69,
     "metadata": {},
     "output_type": "execute_result"
    }
   ],
   "source": [
    "df_sg[\"tags\"] = df_sg[\"tags\"].str.strip(\"[]\").str.replace(\" '\",\"\").str.replace(\"'\",\"\")\n",
    "\n",
    "df_sg[\"tags\"]"
   ]
  },
  {
   "cell_type": "markdown",
   "metadata": {},
   "source": [
    "    usamos la funcion creada en el archivo ETL_functions para sacar los elementos unicos de estas columnas"
   ]
  },
  {
   "cell_type": "code",
   "execution_count": 70,
   "metadata": {},
   "outputs": [
    {
     "data": {
      "text/plain": [
       "['Indie',\n",
       " 'Video Production',\n",
       " 'Software Training',\n",
       " 'Adventure',\n",
       " 'Utilities',\n",
       " 'Audio Production',\n",
       " 'None',\n",
       " 'Photo Editing',\n",
       " 'Action',\n",
       " 'Web Publishing',\n",
       " 'Racing',\n",
       " 'Massively Multiplayer',\n",
       " 'Early Access',\n",
       " 'Free to Play',\n",
       " 'Casual',\n",
       " 'RPG',\n",
       " 'Sports',\n",
       " 'Simulation',\n",
       " 'Strategy',\n",
       " 'Education']"
      ]
     },
     "execution_count": 70,
     "metadata": {},
     "output_type": "execute_result"
    }
   ],
   "source": [
    "generos = etf.valores_lista(df_sg,\"genres\") #obtengo todos los valores unicos de genres\n",
    "tags = etf.valores_lista(df_sg,\"tags\")      #obtengo todos  los valores unicos de tags\n",
    "elementos_comunes = list(set(generos) & set(tags)) #obtengo la interseccion entre esos valores\n",
    "\n",
    "elementos_comunes#esta es la lista de los valores que sabemos que estan en genero que tambien forman parte de tags"
   ]
  },
  {
   "cell_type": "markdown",
   "metadata": {},
   "source": [
    "    estos son los valores que comparten tanto generos como tags podemos notar que se encuentra el valor None(lo borraremos) y algunos valores que podrian no considerarse generos pero los dejaremos ya que podria ser que dentro de laa plataforma si se consideren como generos"
   ]
  },
  {
   "cell_type": "code",
   "execution_count": 71,
   "metadata": {},
   "outputs": [],
   "source": [
    "elementos_comunes.remove('None')# removemos None de esta lista de elementos en comun"
   ]
  },
  {
   "cell_type": "code",
   "execution_count": 72,
   "metadata": {},
   "outputs": [
    {
     "data": {
      "text/plain": [
       "['Indie',\n",
       " 'Video Production',\n",
       " 'Software Training',\n",
       " 'Adventure',\n",
       " 'Utilities',\n",
       " 'Audio Production',\n",
       " 'Photo Editing',\n",
       " 'Action',\n",
       " 'Web Publishing',\n",
       " 'Racing',\n",
       " 'Massively Multiplayer',\n",
       " 'Early Access',\n",
       " 'Free to Play',\n",
       " 'Casual',\n",
       " 'RPG',\n",
       " 'Sports',\n",
       " 'Simulation',\n",
       " 'Strategy',\n",
       " 'Education']"
      ]
     },
     "execution_count": 72,
     "metadata": {},
     "output_type": "execute_result"
    }
   ],
   "source": [
    "elementos_comunes"
   ]
  },
  {
   "cell_type": "markdown",
   "metadata": {},
   "source": [
    "### antes de rellenar genres"
   ]
  },
  {
   "cell_type": "code",
   "execution_count": 73,
   "metadata": {},
   "outputs": [
    {
     "data": {
      "text/plain": [
       "88310         Action,Casual,Indie,Simulation,Strategy\n",
       "88311                 Free to Play,Indie,RPG,Strategy\n",
       "88312     Casual,Free to Play,Indie,Simulation,Sports\n",
       "88313                         Action,Adventure,Casual\n",
       "88314                                            None\n",
       "                             ...                     \n",
       "120440               Casual,Indie,Simulation,Strategy\n",
       "120441                          Casual,Indie,Strategy\n",
       "120442                        Indie,Racing,Simulation\n",
       "120443                                   Casual,Indie\n",
       "120444                                           None\n",
       "Name: genres, Length: 31995, dtype: object"
      ]
     },
     "execution_count": 73,
     "metadata": {},
     "output_type": "execute_result"
    }
   ],
   "source": [
    "df_sg[\"genres\"]"
   ]
  },
  {
   "cell_type": "markdown",
   "metadata": {},
   "source": [
    "    rellenamos genres"
   ]
  },
  {
   "cell_type": "code",
   "execution_count": 74,
   "metadata": {},
   "outputs": [
    {
     "data": {
      "text/plain": [
       "'fin de ejecucion'"
      ]
     },
     "execution_count": 74,
     "metadata": {},
     "output_type": "execute_result"
    }
   ],
   "source": [
    "etf.rellenar_comunes(df_sg,\"genres\",df_sg,\"tags\",elementos_comunes)\n",
    "\n"
   ]
  },
  {
   "cell_type": "markdown",
   "metadata": {},
   "source": [
    "### despues de rellenar genres"
   ]
  },
  {
   "cell_type": "code",
   "execution_count": 75,
   "metadata": {},
   "outputs": [
    {
     "data": {
      "text/plain": [
       "88310            Action,Casual,Indie,Simulation,Strategy\n",
       "88311                    Free to Play,Indie,RPG,Strategy\n",
       "88312        Casual,Free to Play,Indie,Simulation,Sports\n",
       "88313                            Action,Adventure,Casual\n",
       "88314                         Casual,Action,Sports,Indie\n",
       "                               ...                      \n",
       "120440                  Casual,Indie,Simulation,Strategy\n",
       "120441                             Casual,Indie,Strategy\n",
       "120442                           Indie,Racing,Simulation\n",
       "120443                                      Casual,Indie\n",
       "120444    Indie,Simulation,Action,Early Access,Adventure\n",
       "Name: genres, Length: 31995, dtype: object"
      ]
     },
     "execution_count": 75,
     "metadata": {},
     "output_type": "execute_result"
    }
   ],
   "source": [
    "df_sg[\"genres\"]"
   ]
  },
  {
   "cell_type": "markdown",
   "metadata": {},
   "source": [
    "--"
   ]
  },
  {
   "cell_type": "markdown",
   "metadata": {},
   "source": [
    "    ahora podemos borrar la columna tags ya que el unico motivo por el que la conservaba era para rellenar genres"
   ]
  },
  {
   "cell_type": "code",
   "execution_count": 76,
   "metadata": {},
   "outputs": [],
   "source": [
    "del df_sg[\"tags\"]"
   ]
  },
  {
   "cell_type": "code",
   "execution_count": 77,
   "metadata": {},
   "outputs": [
    {
     "name": "stdout",
     "output_type": "stream",
     "text": [
      "\n",
      "Total rows:  31995\n",
      "\n",
      "Total full null rows:  0\n",
      "\n",
      "Total duplicated rows: 0\n"
     ]
    },
    {
     "data": {
      "text/html": [
       "<div>\n",
       "<style scoped>\n",
       "    .dataframe tbody tr th:only-of-type {\n",
       "        vertical-align: middle;\n",
       "    }\n",
       "\n",
       "    .dataframe tbody tr th {\n",
       "        vertical-align: top;\n",
       "    }\n",
       "\n",
       "    .dataframe thead th {\n",
       "        text-align: right;\n",
       "    }\n",
       "</style>\n",
       "<table border=\"1\" class=\"dataframe\">\n",
       "  <thead>\n",
       "    <tr style=\"text-align: right;\">\n",
       "      <th></th>\n",
       "      <th>Column</th>\n",
       "      <th>dType</th>\n",
       "      <th>No_Null_%</th>\n",
       "      <th>No_Null_Qty</th>\n",
       "      <th>Null_%</th>\n",
       "      <th>Null_Qty</th>\n",
       "    </tr>\n",
       "  </thead>\n",
       "  <tbody>\n",
       "    <tr>\n",
       "      <th>0</th>\n",
       "      <td>genres</td>\n",
       "      <td>[&lt;class 'str'&gt;]</td>\n",
       "      <td>100.00</td>\n",
       "      <td>31995</td>\n",
       "      <td>0.00</td>\n",
       "      <td>0</td>\n",
       "    </tr>\n",
       "    <tr>\n",
       "      <th>1</th>\n",
       "      <td>app_name</td>\n",
       "      <td>[&lt;class 'str'&gt;]</td>\n",
       "      <td>100.00</td>\n",
       "      <td>31995</td>\n",
       "      <td>0.00</td>\n",
       "      <td>0</td>\n",
       "    </tr>\n",
       "    <tr>\n",
       "      <th>2</th>\n",
       "      <td>title</td>\n",
       "      <td>[&lt;class 'str'&gt;]</td>\n",
       "      <td>100.00</td>\n",
       "      <td>31995</td>\n",
       "      <td>0.00</td>\n",
       "      <td>0</td>\n",
       "    </tr>\n",
       "    <tr>\n",
       "      <th>3</th>\n",
       "      <td>url</td>\n",
       "      <td>[&lt;class 'str'&gt;]</td>\n",
       "      <td>100.00</td>\n",
       "      <td>31995</td>\n",
       "      <td>0.00</td>\n",
       "      <td>0</td>\n",
       "    </tr>\n",
       "    <tr>\n",
       "      <th>4</th>\n",
       "      <td>release_date</td>\n",
       "      <td>[&lt;class 'str'&gt;, &lt;class 'NoneType'&gt;]</td>\n",
       "      <td>93.55</td>\n",
       "      <td>29930</td>\n",
       "      <td>6.45</td>\n",
       "      <td>2065</td>\n",
       "    </tr>\n",
       "    <tr>\n",
       "      <th>5</th>\n",
       "      <td>reviews_url</td>\n",
       "      <td>[&lt;class 'str'&gt;, &lt;class 'NoneType'&gt;]</td>\n",
       "      <td>100.00</td>\n",
       "      <td>31994</td>\n",
       "      <td>0.00</td>\n",
       "      <td>1</td>\n",
       "    </tr>\n",
       "    <tr>\n",
       "      <th>6</th>\n",
       "      <td>price</td>\n",
       "      <td>[&lt;class 'float'&gt;, &lt;class 'str'&gt;, &lt;class 'NoneT...</td>\n",
       "      <td>95.76</td>\n",
       "      <td>30640</td>\n",
       "      <td>4.24</td>\n",
       "      <td>1355</td>\n",
       "    </tr>\n",
       "    <tr>\n",
       "      <th>7</th>\n",
       "      <td>early_access</td>\n",
       "      <td>[&lt;class 'float'&gt;]</td>\n",
       "      <td>100.00</td>\n",
       "      <td>31995</td>\n",
       "      <td>0.00</td>\n",
       "      <td>0</td>\n",
       "    </tr>\n",
       "    <tr>\n",
       "      <th>8</th>\n",
       "      <td>id</td>\n",
       "      <td>[&lt;class 'float'&gt;]</td>\n",
       "      <td>100.00</td>\n",
       "      <td>31994</td>\n",
       "      <td>0.00</td>\n",
       "      <td>1</td>\n",
       "    </tr>\n",
       "    <tr>\n",
       "      <th>9</th>\n",
       "      <td>developer</td>\n",
       "      <td>[&lt;class 'str'&gt;, &lt;class 'NoneType'&gt;]</td>\n",
       "      <td>89.78</td>\n",
       "      <td>28725</td>\n",
       "      <td>10.22</td>\n",
       "      <td>3270</td>\n",
       "    </tr>\n",
       "  </tbody>\n",
       "</table>\n",
       "</div>"
      ],
      "text/plain": [
       "         Column                                              dType  No_Null_%  \\\n",
       "0        genres                                    [<class 'str'>]     100.00   \n",
       "1      app_name                                    [<class 'str'>]     100.00   \n",
       "2         title                                    [<class 'str'>]     100.00   \n",
       "3           url                                    [<class 'str'>]     100.00   \n",
       "4  release_date                [<class 'str'>, <class 'NoneType'>]      93.55   \n",
       "5   reviews_url                [<class 'str'>, <class 'NoneType'>]     100.00   \n",
       "6         price  [<class 'float'>, <class 'str'>, <class 'NoneT...      95.76   \n",
       "7  early_access                                  [<class 'float'>]     100.00   \n",
       "8            id                                  [<class 'float'>]     100.00   \n",
       "9     developer                [<class 'str'>, <class 'NoneType'>]      89.78   \n",
       "\n",
       "   No_Null_Qty  Null_%  Null_Qty  \n",
       "0        31995    0.00         0  \n",
       "1        31995    0.00         0  \n",
       "2        31995    0.00         0  \n",
       "3        31995    0.00         0  \n",
       "4        29930    6.45      2065  \n",
       "5        31994    0.00         1  \n",
       "6        30640    4.24      1355  \n",
       "7        31995    0.00         0  \n",
       "8        31994    0.00         1  \n",
       "9        28725   10.22      3270  "
      ]
     },
     "execution_count": 77,
     "metadata": {},
     "output_type": "execute_result"
    }
   ],
   "source": [
    "etf.data_review(df_sg)"
   ]
  },
  {
   "cell_type": "markdown",
   "metadata": {},
   "source": [
    "    ya contamos con 0 nulls en genres"
   ]
  },
  {
   "cell_type": "markdown",
   "metadata": {},
   "source": [
    "##   rellenar app_name con title"
   ]
  },
  {
   "cell_type": "markdown",
   "metadata": {},
   "source": [
    "    esto habia que hacerlo pero con el borrado de los duplicados se borraron casi todos y con el borrar los que no tenian valores en ninguna de las 2 columnas no quedo ni uno pero la funcion ya la hice"
   ]
  },
  {
   "cell_type": "code",
   "execution_count": 78,
   "metadata": {},
   "outputs": [],
   "source": [
    "# reemplazar los valores de app_name con los valores de title cuando app_name es igual a \"None\"\n",
    "df_sg[\"app_name\"] = np.where(df_sg[\"app_name\"] == \"None\", df_sg[\"title\"], df_sg[\"app_name\"])"
   ]
  },
  {
   "cell_type": "code",
   "execution_count": 79,
   "metadata": {},
   "outputs": [
    {
     "data": {
      "text/plain": [
       "90873                    The Journey Down: Chapter Two\n",
       "100151            Deadbeat Heroes: Collector's Upgrade\n",
       "116872                       DW8XLCE - BASE THEME PACK\n",
       "94981           Car Mechanic Simulator 2015 - Maserati\n",
       "115181                               Reboot Soundtrack\n",
       "99430     Fantasy Grounds - Fifth Edition Options (5E)\n",
       "99264                                    Dimension 404\n",
       "91088                                        TesserAct\n",
       "100008             Duel of Summoners - Collectors Pack\n",
       "91829                               Lovely Planet Demo\n",
       "105697                           Steve Byrne: Champion\n",
       "96278               Creeper World: Anniversary Edition\n",
       "110739                                   Dead End Road\n",
       "89067                                 The Sims™ 3 Pets\n",
       "99630                                       Find this!\n",
       "Name: app_name, dtype: object"
      ]
     },
     "execution_count": 79,
     "metadata": {},
     "output_type": "execute_result"
    }
   ],
   "source": [
    "df_sg[\"app_name\"].sample(15)"
   ]
  },
  {
   "cell_type": "markdown",
   "metadata": {},
   "source": [
    "##  ahora podemos dropear title"
   ]
  },
  {
   "cell_type": "code",
   "execution_count": 80,
   "metadata": {},
   "outputs": [],
   "source": [
    "del df_sg[\"title\"]"
   ]
  },
  {
   "cell_type": "markdown",
   "metadata": {},
   "source": [
    "    ya que ya la utilizamos para obtener los valores que queriamos"
   ]
  },
  {
   "cell_type": "markdown",
   "metadata": {},
   "source": [
    "## ahora asignaremos lo dtype correspondientes a cada campo"
   ]
  },
  {
   "cell_type": "markdown",
   "metadata": {},
   "source": [
    "### \"price\" str a float"
   ]
  },
  {
   "cell_type": "code",
   "execution_count": 84,
   "metadata": {},
   "outputs": [],
   "source": [
    "df_sg[\"price\"] = df_sg[\"price\"].astype(str)"
   ]
  },
  {
   "cell_type": "code",
   "execution_count": 85,
   "metadata": {},
   "outputs": [
    {
     "name": "stdout",
     "output_type": "stream",
     "text": [
      "['Free To Play', 'Free to Play', 'None', 'Free', 'Free Demo', 'Play for Free!', 'Install Now', 'Play WARMACHINE: Tactics Demo', 'Free Mod', 'Install Theme', 'Third-party', 'Play Now', 'Free HITMAN™ Holiday Pack', 'Play the Demo', 'Starting at $499.00', 'Starting at $449.00', 'Free to Try', 'Free Movie', 'Free to Use']\n"
     ]
    }
   ],
   "source": [
    "lista = etf.valores_no_numericos(df_sg[\"price\"])# esta funcion la hice en ETL_funciones\n",
    "print(lista) #lista con todos los valores que no pueden ser transformados a numericos"
   ]
  },
  {
   "cell_type": "code",
   "execution_count": 86,
   "metadata": {},
   "outputs": [],
   "source": [
    "#quito de la lista estos 2 valores que no se podian convertir a numerico pero contiene su precio numerico en la cadena\n",
    "lista.remove(\"Starting at $499.00\")\n",
    "lista.remove('Starting at $449.00')"
   ]
  },
  {
   "cell_type": "code",
   "execution_count": 87,
   "metadata": {},
   "outputs": [],
   "source": [
    "#remplazo estas 2 cadenas por sus valores numericos\n",
    "df_sg[\"price\"] = df_sg[\"price\"].replace(\"Starting at $499.00\",\"499\") \n",
    "df_sg[\"price\"] = df_sg[\"price\"].replace(\"Starting at $449.00\",\"449\") "
   ]
  },
  {
   "cell_type": "code",
   "execution_count": 88,
   "metadata": {},
   "outputs": [
    {
     "data": {
      "text/plain": [
       "['Free To Play',\n",
       " 'Free to Play',\n",
       " 'None',\n",
       " 'Free',\n",
       " 'Free Demo',\n",
       " 'Play for Free!',\n",
       " 'Install Now',\n",
       " 'Play WARMACHINE: Tactics Demo',\n",
       " 'Free Mod',\n",
       " 'Install Theme',\n",
       " 'Third-party',\n",
       " 'Play Now',\n",
       " 'Free HITMAN™ Holiday Pack',\n",
       " 'Play the Demo',\n",
       " 'Free to Try',\n",
       " 'Free Movie',\n",
       " 'Free to Use']"
      ]
     },
     "execution_count": 88,
     "metadata": {},
     "output_type": "execute_result"
    }
   ],
   "source": [
    "lista #ahora la lista solo contiene valores que podria reemplazar por precio 0"
   ]
  },
  {
   "cell_type": "markdown",
   "metadata": {},
   "source": [
    "    yo asumi que todos estos valores hacer referencia a un precio 0 aunque \"Third-party\"  podria ser una excepecion"
   ]
  },
  {
   "cell_type": "code",
   "execution_count": 89,
   "metadata": {},
   "outputs": [],
   "source": [
    "df_sg[\"price\"] = df_sg[\"price\"].replace(lista,\"0\")#cambio los valores string que equivalen a precio 0 por \"0\""
   ]
  },
  {
   "cell_type": "code",
   "execution_count": 90,
   "metadata": {},
   "outputs": [],
   "source": [
    "df_sg[\"price\"] = df_sg[\"price\"].astype(float)#cambiando el dtype a float"
   ]
  },
  {
   "cell_type": "code",
   "execution_count": 91,
   "metadata": {},
   "outputs": [
    {
     "name": "stdout",
     "output_type": "stream",
     "text": [
      "\n",
      "Total rows:  31995\n",
      "\n",
      "Total full null rows:  0\n",
      "\n",
      "Total duplicated rows: 0\n"
     ]
    },
    {
     "data": {
      "text/html": [
       "<div>\n",
       "<style scoped>\n",
       "    .dataframe tbody tr th:only-of-type {\n",
       "        vertical-align: middle;\n",
       "    }\n",
       "\n",
       "    .dataframe tbody tr th {\n",
       "        vertical-align: top;\n",
       "    }\n",
       "\n",
       "    .dataframe thead th {\n",
       "        text-align: right;\n",
       "    }\n",
       "</style>\n",
       "<table border=\"1\" class=\"dataframe\">\n",
       "  <thead>\n",
       "    <tr style=\"text-align: right;\">\n",
       "      <th></th>\n",
       "      <th>Column</th>\n",
       "      <th>dType</th>\n",
       "      <th>No_Null_%</th>\n",
       "      <th>No_Null_Qty</th>\n",
       "      <th>Null_%</th>\n",
       "      <th>Null_Qty</th>\n",
       "    </tr>\n",
       "  </thead>\n",
       "  <tbody>\n",
       "    <tr>\n",
       "      <th>0</th>\n",
       "      <td>genres</td>\n",
       "      <td>[&lt;class 'str'&gt;]</td>\n",
       "      <td>100.00</td>\n",
       "      <td>31995</td>\n",
       "      <td>0.00</td>\n",
       "      <td>0</td>\n",
       "    </tr>\n",
       "    <tr>\n",
       "      <th>1</th>\n",
       "      <td>app_name</td>\n",
       "      <td>[&lt;class 'str'&gt;]</td>\n",
       "      <td>100.00</td>\n",
       "      <td>31995</td>\n",
       "      <td>0.00</td>\n",
       "      <td>0</td>\n",
       "    </tr>\n",
       "    <tr>\n",
       "      <th>2</th>\n",
       "      <td>url</td>\n",
       "      <td>[&lt;class 'str'&gt;]</td>\n",
       "      <td>100.00</td>\n",
       "      <td>31995</td>\n",
       "      <td>0.00</td>\n",
       "      <td>0</td>\n",
       "    </tr>\n",
       "    <tr>\n",
       "      <th>3</th>\n",
       "      <td>release_date</td>\n",
       "      <td>[&lt;class 'str'&gt;, &lt;class 'NoneType'&gt;]</td>\n",
       "      <td>93.55</td>\n",
       "      <td>29930</td>\n",
       "      <td>6.45</td>\n",
       "      <td>2065</td>\n",
       "    </tr>\n",
       "    <tr>\n",
       "      <th>4</th>\n",
       "      <td>reviews_url</td>\n",
       "      <td>[&lt;class 'str'&gt;, &lt;class 'NoneType'&gt;]</td>\n",
       "      <td>100.00</td>\n",
       "      <td>31994</td>\n",
       "      <td>0.00</td>\n",
       "      <td>1</td>\n",
       "    </tr>\n",
       "    <tr>\n",
       "      <th>5</th>\n",
       "      <td>price</td>\n",
       "      <td>[&lt;class 'float'&gt;]</td>\n",
       "      <td>100.00</td>\n",
       "      <td>31995</td>\n",
       "      <td>0.00</td>\n",
       "      <td>0</td>\n",
       "    </tr>\n",
       "    <tr>\n",
       "      <th>6</th>\n",
       "      <td>early_access</td>\n",
       "      <td>[&lt;class 'float'&gt;]</td>\n",
       "      <td>100.00</td>\n",
       "      <td>31995</td>\n",
       "      <td>0.00</td>\n",
       "      <td>0</td>\n",
       "    </tr>\n",
       "    <tr>\n",
       "      <th>7</th>\n",
       "      <td>id</td>\n",
       "      <td>[&lt;class 'float'&gt;]</td>\n",
       "      <td>100.00</td>\n",
       "      <td>31994</td>\n",
       "      <td>0.00</td>\n",
       "      <td>1</td>\n",
       "    </tr>\n",
       "    <tr>\n",
       "      <th>8</th>\n",
       "      <td>developer</td>\n",
       "      <td>[&lt;class 'str'&gt;, &lt;class 'NoneType'&gt;]</td>\n",
       "      <td>89.78</td>\n",
       "      <td>28725</td>\n",
       "      <td>10.22</td>\n",
       "      <td>3270</td>\n",
       "    </tr>\n",
       "  </tbody>\n",
       "</table>\n",
       "</div>"
      ],
      "text/plain": [
       "         Column                                dType  No_Null_%  No_Null_Qty  \\\n",
       "0        genres                      [<class 'str'>]     100.00        31995   \n",
       "1      app_name                      [<class 'str'>]     100.00        31995   \n",
       "2           url                      [<class 'str'>]     100.00        31995   \n",
       "3  release_date  [<class 'str'>, <class 'NoneType'>]      93.55        29930   \n",
       "4   reviews_url  [<class 'str'>, <class 'NoneType'>]     100.00        31994   \n",
       "5         price                    [<class 'float'>]     100.00        31995   \n",
       "6  early_access                    [<class 'float'>]     100.00        31995   \n",
       "7            id                    [<class 'float'>]     100.00        31994   \n",
       "8     developer  [<class 'str'>, <class 'NoneType'>]      89.78        28725   \n",
       "\n",
       "   Null_%  Null_Qty  \n",
       "0    0.00         0  \n",
       "1    0.00         0  \n",
       "2    0.00         0  \n",
       "3    6.45      2065  \n",
       "4    0.00         1  \n",
       "5    0.00         0  \n",
       "6    0.00         0  \n",
       "7    0.00         1  \n",
       "8   10.22      3270  "
      ]
     },
     "execution_count": 91,
     "metadata": {},
     "output_type": "execute_result"
    }
   ],
   "source": [
    "etf.data_review(df_sg)"
   ]
  },
  {
   "cell_type": "markdown",
   "metadata": {},
   "source": [
    "    ahora nos dice 0 valores nulos y como pudimos hacer las conversiones de tipo de dato podemos estar seguros"
   ]
  },
  {
   "cell_type": "code",
   "execution_count": 92,
   "metadata": {},
   "outputs": [
    {
     "data": {
      "text/html": [
       "<div>\n",
       "<style scoped>\n",
       "    .dataframe tbody tr th:only-of-type {\n",
       "        vertical-align: middle;\n",
       "    }\n",
       "\n",
       "    .dataframe tbody tr th {\n",
       "        vertical-align: top;\n",
       "    }\n",
       "\n",
       "    .dataframe thead th {\n",
       "        text-align: right;\n",
       "    }\n",
       "</style>\n",
       "<table border=\"1\" class=\"dataframe\">\n",
       "  <thead>\n",
       "    <tr style=\"text-align: right;\">\n",
       "      <th></th>\n",
       "      <th>genres</th>\n",
       "      <th>app_name</th>\n",
       "      <th>url</th>\n",
       "      <th>release_date</th>\n",
       "      <th>reviews_url</th>\n",
       "      <th>price</th>\n",
       "      <th>early_access</th>\n",
       "      <th>id</th>\n",
       "      <th>developer</th>\n",
       "    </tr>\n",
       "  </thead>\n",
       "  <tbody>\n",
       "    <tr>\n",
       "      <th>103750</th>\n",
       "      <td>Indie,RPG,Strategy</td>\n",
       "      <td>Fantasy Grounds - Islands of Plunder: Scourge ...</td>\n",
       "      <td>http://store.steampowered.com/app/718390/Fanta...</td>\n",
       "      <td>2017-09-25</td>\n",
       "      <td>http://steamcommunity.com/app/718390/reviews/?...</td>\n",
       "      <td>5.99</td>\n",
       "      <td>0.0</td>\n",
       "      <td>718390.0</td>\n",
       "      <td>SmiteWorks USA, LLC</td>\n",
       "    </tr>\n",
       "    <tr>\n",
       "      <th>113281</th>\n",
       "      <td>Adventure,Indie</td>\n",
       "      <td>Quatro Luzes</td>\n",
       "      <td>http://store.steampowered.com/app/415980/Quatr...</td>\n",
       "      <td>2015-11-15</td>\n",
       "      <td>http://steamcommunity.com/app/415980/reviews/?...</td>\n",
       "      <td>5.99</td>\n",
       "      <td>0.0</td>\n",
       "      <td>415980.0</td>\n",
       "      <td>Jardel Elias</td>\n",
       "    </tr>\n",
       "    <tr>\n",
       "      <th>102541</th>\n",
       "      <td>Adventure,RPG,Strategy</td>\n",
       "      <td>幽冥路（The Way to Nether）</td>\n",
       "      <td>http://store.steampowered.com/app/709060/The_W...</td>\n",
       "      <td>2017-11-09</td>\n",
       "      <td>http://steamcommunity.com/app/709060/reviews/?...</td>\n",
       "      <td>0.00</td>\n",
       "      <td>0.0</td>\n",
       "      <td>709060.0</td>\n",
       "      <td>Heluo Studio</td>\n",
       "    </tr>\n",
       "    <tr>\n",
       "      <th>88408</th>\n",
       "      <td>Strategy</td>\n",
       "      <td>Warhammer® 40,000: Dawn of War® - Dark Crusade</td>\n",
       "      <td>http://store.steampowered.com/app/4580/Warhamm...</td>\n",
       "      <td>2006-10-09</td>\n",
       "      <td>http://steamcommunity.com/app/4580/reviews/?br...</td>\n",
       "      <td>12.99</td>\n",
       "      <td>0.0</td>\n",
       "      <td>4580.0</td>\n",
       "      <td>Relic Entertainment</td>\n",
       "    </tr>\n",
       "    <tr>\n",
       "      <th>111162</th>\n",
       "      <td>Indie,RPG</td>\n",
       "      <td>Celestian Tales: Old North - Howl of the Ravager</td>\n",
       "      <td>http://store.steampowered.com/app/462610/Celes...</td>\n",
       "      <td>2016-06-06</td>\n",
       "      <td>http://steamcommunity.com/app/462610/reviews/?...</td>\n",
       "      <td>4.99</td>\n",
       "      <td>0.0</td>\n",
       "      <td>462610.0</td>\n",
       "      <td>Ekuator Games</td>\n",
       "    </tr>\n",
       "    <tr>\n",
       "      <th>110305</th>\n",
       "      <td>Action,Adventure,Casual,Indie,Strategy</td>\n",
       "      <td>Genius Greedy Mouse</td>\n",
       "      <td>http://store.steampowered.com/app/485640/Geniu...</td>\n",
       "      <td>2016-08-12</td>\n",
       "      <td>http://steamcommunity.com/app/485640/reviews/?...</td>\n",
       "      <td>4.99</td>\n",
       "      <td>0.0</td>\n",
       "      <td>485640.0</td>\n",
       "      <td>Space Fractal,TempleTiger</td>\n",
       "    </tr>\n",
       "    <tr>\n",
       "      <th>91527</th>\n",
       "      <td>Action,Adventure</td>\n",
       "      <td>Raid Mode: Throwback Map Pack</td>\n",
       "      <td>http://store.steampowered.com/app/320372/Raid_...</td>\n",
       "      <td>2015-02-24</td>\n",
       "      <td>http://steamcommunity.com/app/320372/reviews/?...</td>\n",
       "      <td>4.99</td>\n",
       "      <td>0.0</td>\n",
       "      <td>320372.0</td>\n",
       "      <td>Capcom</td>\n",
       "    </tr>\n",
       "    <tr>\n",
       "      <th>92059</th>\n",
       "      <td>RPG,Simulation,Strategy</td>\n",
       "      <td>Tropico 5 - Espionage</td>\n",
       "      <td>http://store.steampowered.com/app/284441/Tropi...</td>\n",
       "      <td>2015-05-28</td>\n",
       "      <td>http://steamcommunity.com/app/284441/reviews/?...</td>\n",
       "      <td>7.99</td>\n",
       "      <td>0.0</td>\n",
       "      <td>284441.0</td>\n",
       "      <td>Haemimont Games</td>\n",
       "    </tr>\n",
       "    <tr>\n",
       "      <th>104292</th>\n",
       "      <td>Indie,RPG,Strategy</td>\n",
       "      <td>Fantasy Grounds - The Malefactor Class: Revise...</td>\n",
       "      <td>http://store.steampowered.com/app/704620/Fanta...</td>\n",
       "      <td>2017-08-30</td>\n",
       "      <td>http://steamcommunity.com/app/704620/reviews/?...</td>\n",
       "      <td>3.99</td>\n",
       "      <td>0.0</td>\n",
       "      <td>704620.0</td>\n",
       "      <td>SmiteWorks USA, LLC</td>\n",
       "    </tr>\n",
       "    <tr>\n",
       "      <th>96373</th>\n",
       "      <td>Animation &amp;amp; Modeling,Design &amp;amp; Illustra...</td>\n",
       "      <td>Marmoset Toolbag 3</td>\n",
       "      <td>http://store.steampowered.com/app/550060/Marmo...</td>\n",
       "      <td>2016-11-25</td>\n",
       "      <td>http://steamcommunity.com/app/550060/reviews/?...</td>\n",
       "      <td>189.00</td>\n",
       "      <td>0.0</td>\n",
       "      <td>550060.0</td>\n",
       "      <td>Marmoset LLC</td>\n",
       "    </tr>\n",
       "  </tbody>\n",
       "</table>\n",
       "</div>"
      ],
      "text/plain": [
       "                                                   genres  \\\n",
       "103750                                 Indie,RPG,Strategy   \n",
       "113281                                    Adventure,Indie   \n",
       "102541                             Adventure,RPG,Strategy   \n",
       "88408                                            Strategy   \n",
       "111162                                          Indie,RPG   \n",
       "110305             Action,Adventure,Casual,Indie,Strategy   \n",
       "91527                                    Action,Adventure   \n",
       "92059                             RPG,Simulation,Strategy   \n",
       "104292                                 Indie,RPG,Strategy   \n",
       "96373   Animation &amp; Modeling,Design &amp; Illustra...   \n",
       "\n",
       "                                                 app_name  \\\n",
       "103750  Fantasy Grounds - Islands of Plunder: Scourge ...   \n",
       "113281                                       Quatro Luzes   \n",
       "102541                             幽冥路（The Way to Nether）   \n",
       "88408      Warhammer® 40,000: Dawn of War® - Dark Crusade   \n",
       "111162   Celestian Tales: Old North - Howl of the Ravager   \n",
       "110305                                Genius Greedy Mouse   \n",
       "91527                       Raid Mode: Throwback Map Pack   \n",
       "92059                               Tropico 5 - Espionage   \n",
       "104292  Fantasy Grounds - The Malefactor Class: Revise...   \n",
       "96373                                  Marmoset Toolbag 3   \n",
       "\n",
       "                                                      url release_date  \\\n",
       "103750  http://store.steampowered.com/app/718390/Fanta...   2017-09-25   \n",
       "113281  http://store.steampowered.com/app/415980/Quatr...   2015-11-15   \n",
       "102541  http://store.steampowered.com/app/709060/The_W...   2017-11-09   \n",
       "88408   http://store.steampowered.com/app/4580/Warhamm...   2006-10-09   \n",
       "111162  http://store.steampowered.com/app/462610/Celes...   2016-06-06   \n",
       "110305  http://store.steampowered.com/app/485640/Geniu...   2016-08-12   \n",
       "91527   http://store.steampowered.com/app/320372/Raid_...   2015-02-24   \n",
       "92059   http://store.steampowered.com/app/284441/Tropi...   2015-05-28   \n",
       "104292  http://store.steampowered.com/app/704620/Fanta...   2017-08-30   \n",
       "96373   http://store.steampowered.com/app/550060/Marmo...   2016-11-25   \n",
       "\n",
       "                                              reviews_url   price  \\\n",
       "103750  http://steamcommunity.com/app/718390/reviews/?...    5.99   \n",
       "113281  http://steamcommunity.com/app/415980/reviews/?...    5.99   \n",
       "102541  http://steamcommunity.com/app/709060/reviews/?...    0.00   \n",
       "88408   http://steamcommunity.com/app/4580/reviews/?br...   12.99   \n",
       "111162  http://steamcommunity.com/app/462610/reviews/?...    4.99   \n",
       "110305  http://steamcommunity.com/app/485640/reviews/?...    4.99   \n",
       "91527   http://steamcommunity.com/app/320372/reviews/?...    4.99   \n",
       "92059   http://steamcommunity.com/app/284441/reviews/?...    7.99   \n",
       "104292  http://steamcommunity.com/app/704620/reviews/?...    3.99   \n",
       "96373   http://steamcommunity.com/app/550060/reviews/?...  189.00   \n",
       "\n",
       "        early_access        id                  developer  \n",
       "103750           0.0  718390.0        SmiteWorks USA, LLC  \n",
       "113281           0.0  415980.0               Jardel Elias  \n",
       "102541           0.0  709060.0               Heluo Studio  \n",
       "88408            0.0    4580.0        Relic Entertainment  \n",
       "111162           0.0  462610.0              Ekuator Games  \n",
       "110305           0.0  485640.0  Space Fractal,TempleTiger  \n",
       "91527            0.0  320372.0                     Capcom  \n",
       "92059            0.0  284441.0            Haemimont Games  \n",
       "104292           0.0  704620.0        SmiteWorks USA, LLC  \n",
       "96373            0.0  550060.0               Marmoset LLC  "
      ]
     },
     "execution_count": 92,
     "metadata": {},
     "output_type": "execute_result"
    }
   ],
   "source": [
    "df_sg.sample(10) #ejecute varias veces por si acaso"
   ]
  },
  {
   "cell_type": "code",
   "execution_count": 99,
   "metadata": {},
   "outputs": [
    {
     "name": "stdout",
     "output_type": "stream",
     "text": [
      "\n",
      "Total rows:  31994\n",
      "\n",
      "Total full null rows:  0\n",
      "\n",
      "Total duplicated rows: 0\n"
     ]
    },
    {
     "data": {
      "text/html": [
       "<div>\n",
       "<style scoped>\n",
       "    .dataframe tbody tr th:only-of-type {\n",
       "        vertical-align: middle;\n",
       "    }\n",
       "\n",
       "    .dataframe tbody tr th {\n",
       "        vertical-align: top;\n",
       "    }\n",
       "\n",
       "    .dataframe thead th {\n",
       "        text-align: right;\n",
       "    }\n",
       "</style>\n",
       "<table border=\"1\" class=\"dataframe\">\n",
       "  <thead>\n",
       "    <tr style=\"text-align: right;\">\n",
       "      <th></th>\n",
       "      <th>Column</th>\n",
       "      <th>dType</th>\n",
       "      <th>No_Null_%</th>\n",
       "      <th>No_Null_Qty</th>\n",
       "      <th>Null_%</th>\n",
       "      <th>Null_Qty</th>\n",
       "    </tr>\n",
       "  </thead>\n",
       "  <tbody>\n",
       "    <tr>\n",
       "      <th>0</th>\n",
       "      <td>genres</td>\n",
       "      <td>[&lt;class 'str'&gt;]</td>\n",
       "      <td>100.00</td>\n",
       "      <td>31994</td>\n",
       "      <td>0.00</td>\n",
       "      <td>0</td>\n",
       "    </tr>\n",
       "    <tr>\n",
       "      <th>1</th>\n",
       "      <td>app_name</td>\n",
       "      <td>[&lt;class 'str'&gt;]</td>\n",
       "      <td>100.00</td>\n",
       "      <td>31994</td>\n",
       "      <td>0.00</td>\n",
       "      <td>0</td>\n",
       "    </tr>\n",
       "    <tr>\n",
       "      <th>2</th>\n",
       "      <td>url</td>\n",
       "      <td>[&lt;class 'str'&gt;]</td>\n",
       "      <td>100.00</td>\n",
       "      <td>31994</td>\n",
       "      <td>0.00</td>\n",
       "      <td>0</td>\n",
       "    </tr>\n",
       "    <tr>\n",
       "      <th>3</th>\n",
       "      <td>release_date</td>\n",
       "      <td>[&lt;class 'str'&gt;, &lt;class 'NoneType'&gt;]</td>\n",
       "      <td>93.55</td>\n",
       "      <td>29929</td>\n",
       "      <td>6.45</td>\n",
       "      <td>2065</td>\n",
       "    </tr>\n",
       "    <tr>\n",
       "      <th>4</th>\n",
       "      <td>reviews_url</td>\n",
       "      <td>[&lt;class 'str'&gt;]</td>\n",
       "      <td>100.00</td>\n",
       "      <td>31994</td>\n",
       "      <td>0.00</td>\n",
       "      <td>0</td>\n",
       "    </tr>\n",
       "    <tr>\n",
       "      <th>5</th>\n",
       "      <td>price</td>\n",
       "      <td>[&lt;class 'float'&gt;]</td>\n",
       "      <td>100.00</td>\n",
       "      <td>31994</td>\n",
       "      <td>0.00</td>\n",
       "      <td>0</td>\n",
       "    </tr>\n",
       "    <tr>\n",
       "      <th>6</th>\n",
       "      <td>early_access</td>\n",
       "      <td>[&lt;class 'float'&gt;]</td>\n",
       "      <td>100.00</td>\n",
       "      <td>31994</td>\n",
       "      <td>0.00</td>\n",
       "      <td>0</td>\n",
       "    </tr>\n",
       "    <tr>\n",
       "      <th>7</th>\n",
       "      <td>id</td>\n",
       "      <td>[&lt;class 'str'&gt;]</td>\n",
       "      <td>100.00</td>\n",
       "      <td>31994</td>\n",
       "      <td>0.00</td>\n",
       "      <td>0</td>\n",
       "    </tr>\n",
       "    <tr>\n",
       "      <th>8</th>\n",
       "      <td>developer</td>\n",
       "      <td>[&lt;class 'str'&gt;, &lt;class 'NoneType'&gt;]</td>\n",
       "      <td>89.78</td>\n",
       "      <td>28724</td>\n",
       "      <td>10.22</td>\n",
       "      <td>3270</td>\n",
       "    </tr>\n",
       "  </tbody>\n",
       "</table>\n",
       "</div>"
      ],
      "text/plain": [
       "         Column                                dType  No_Null_%  No_Null_Qty  \\\n",
       "0        genres                      [<class 'str'>]     100.00        31994   \n",
       "1      app_name                      [<class 'str'>]     100.00        31994   \n",
       "2           url                      [<class 'str'>]     100.00        31994   \n",
       "3  release_date  [<class 'str'>, <class 'NoneType'>]      93.55        29929   \n",
       "4   reviews_url                      [<class 'str'>]     100.00        31994   \n",
       "5         price                    [<class 'float'>]     100.00        31994   \n",
       "6  early_access                    [<class 'float'>]     100.00        31994   \n",
       "7            id                      [<class 'str'>]     100.00        31994   \n",
       "8     developer  [<class 'str'>, <class 'NoneType'>]      89.78        28724   \n",
       "\n",
       "   Null_%  Null_Qty  \n",
       "0    0.00         0  \n",
       "1    0.00         0  \n",
       "2    0.00         0  \n",
       "3    6.45      2065  \n",
       "4    0.00         0  \n",
       "5    0.00         0  \n",
       "6    0.00         0  \n",
       "7    0.00         0  \n",
       "8   10.22      3270  "
      ]
     },
     "execution_count": 99,
     "metadata": {},
     "output_type": "execute_result"
    }
   ],
   "source": [
    "etf.data_review(df_sg)"
   ]
  },
  {
   "cell_type": "markdown",
   "metadata": {},
   "source": [
    "    habia un solo un nulo en id el cual borre ya que es una cantidad muy pequeña para dedicar tiempo a cooregirla y puede no afectar mucho a los resultados"
   ]
  },
  {
   "cell_type": "code",
   "execution_count": 102,
   "metadata": {},
   "outputs": [
    {
     "name": "stdout",
     "output_type": "stream",
     "text": [
      "\n",
      "Total rows:  31994\n",
      "\n",
      "Total full null rows:  0\n",
      "\n",
      "Total duplicated rows: 0\n"
     ]
    },
    {
     "data": {
      "text/html": [
       "<div>\n",
       "<style scoped>\n",
       "    .dataframe tbody tr th:only-of-type {\n",
       "        vertical-align: middle;\n",
       "    }\n",
       "\n",
       "    .dataframe tbody tr th {\n",
       "        vertical-align: top;\n",
       "    }\n",
       "\n",
       "    .dataframe thead th {\n",
       "        text-align: right;\n",
       "    }\n",
       "</style>\n",
       "<table border=\"1\" class=\"dataframe\">\n",
       "  <thead>\n",
       "    <tr style=\"text-align: right;\">\n",
       "      <th></th>\n",
       "      <th>Column</th>\n",
       "      <th>dType</th>\n",
       "      <th>No_Null_%</th>\n",
       "      <th>No_Null_Qty</th>\n",
       "      <th>Null_%</th>\n",
       "      <th>Null_Qty</th>\n",
       "    </tr>\n",
       "  </thead>\n",
       "  <tbody>\n",
       "    <tr>\n",
       "      <th>0</th>\n",
       "      <td>genres</td>\n",
       "      <td>[&lt;class 'str'&gt;]</td>\n",
       "      <td>100.00</td>\n",
       "      <td>31994</td>\n",
       "      <td>0.00</td>\n",
       "      <td>0</td>\n",
       "    </tr>\n",
       "    <tr>\n",
       "      <th>1</th>\n",
       "      <td>app_name</td>\n",
       "      <td>[&lt;class 'str'&gt;]</td>\n",
       "      <td>100.00</td>\n",
       "      <td>31994</td>\n",
       "      <td>0.00</td>\n",
       "      <td>0</td>\n",
       "    </tr>\n",
       "    <tr>\n",
       "      <th>2</th>\n",
       "      <td>url</td>\n",
       "      <td>[&lt;class 'str'&gt;]</td>\n",
       "      <td>100.00</td>\n",
       "      <td>31994</td>\n",
       "      <td>0.00</td>\n",
       "      <td>0</td>\n",
       "    </tr>\n",
       "    <tr>\n",
       "      <th>3</th>\n",
       "      <td>release_date</td>\n",
       "      <td>[&lt;class 'str'&gt;, &lt;class 'NoneType'&gt;]</td>\n",
       "      <td>93.55</td>\n",
       "      <td>29929</td>\n",
       "      <td>6.45</td>\n",
       "      <td>2065</td>\n",
       "    </tr>\n",
       "    <tr>\n",
       "      <th>4</th>\n",
       "      <td>reviews_url</td>\n",
       "      <td>[&lt;class 'str'&gt;]</td>\n",
       "      <td>100.00</td>\n",
       "      <td>31994</td>\n",
       "      <td>0.00</td>\n",
       "      <td>0</td>\n",
       "    </tr>\n",
       "    <tr>\n",
       "      <th>5</th>\n",
       "      <td>price</td>\n",
       "      <td>[&lt;class 'float'&gt;]</td>\n",
       "      <td>100.00</td>\n",
       "      <td>31994</td>\n",
       "      <td>0.00</td>\n",
       "      <td>0</td>\n",
       "    </tr>\n",
       "    <tr>\n",
       "      <th>6</th>\n",
       "      <td>id</td>\n",
       "      <td>[&lt;class 'str'&gt;]</td>\n",
       "      <td>100.00</td>\n",
       "      <td>31994</td>\n",
       "      <td>0.00</td>\n",
       "      <td>0</td>\n",
       "    </tr>\n",
       "    <tr>\n",
       "      <th>7</th>\n",
       "      <td>developer</td>\n",
       "      <td>[&lt;class 'str'&gt;, &lt;class 'NoneType'&gt;]</td>\n",
       "      <td>89.78</td>\n",
       "      <td>28724</td>\n",
       "      <td>10.22</td>\n",
       "      <td>3270</td>\n",
       "    </tr>\n",
       "  </tbody>\n",
       "</table>\n",
       "</div>"
      ],
      "text/plain": [
       "         Column                                dType  No_Null_%  No_Null_Qty  \\\n",
       "0        genres                      [<class 'str'>]     100.00        31994   \n",
       "1      app_name                      [<class 'str'>]     100.00        31994   \n",
       "2           url                      [<class 'str'>]     100.00        31994   \n",
       "3  release_date  [<class 'str'>, <class 'NoneType'>]      93.55        29929   \n",
       "4   reviews_url                      [<class 'str'>]     100.00        31994   \n",
       "5         price                    [<class 'float'>]     100.00        31994   \n",
       "6            id                      [<class 'str'>]     100.00        31994   \n",
       "7     developer  [<class 'str'>, <class 'NoneType'>]      89.78        28724   \n",
       "\n",
       "   Null_%  Null_Qty  \n",
       "0    0.00         0  \n",
       "1    0.00         0  \n",
       "2    0.00         0  \n",
       "3    6.45      2065  \n",
       "4    0.00         0  \n",
       "5    0.00         0  \n",
       "6    0.00         0  \n",
       "7   10.22      3270  "
      ]
     },
     "execution_count": 102,
     "metadata": {},
     "output_type": "execute_result"
    }
   ],
   "source": [
    "etf.data_review(df_sg)"
   ]
  },
  {
   "cell_type": "markdown",
   "metadata": {},
   "source": [
    "## Dataframe resultante\n",
    "|columna|tipo|\n",
    "|-------|----|\n",
    "|publisher     | fue borrada|\n",
    "|genres        | str(list)|\n",
    "|app_name      | str|\n",
    "|title         | str|\n",
    "|url           | str|\n",
    "|release_date  | str|\n",
    "|tags          | fue borrada|\n",
    "|reviews_url   | str|\n",
    "|specs         | fue borrada|\n",
    "|price         | float|\n",
    "|early_access  | fue borrada|\n",
    "|id            | str|\n",
    "|developer |str|"
   ]
  },
  {
   "cell_type": "markdown",
   "metadata": {},
   "source": [
    "## guardando el df procesado en un archivo parquet"
   ]
  },
  {
   "cell_type": "code",
   "execution_count": 111,
   "metadata": {},
   "outputs": [],
   "source": [
    "df_sg.to_parquet(r\"../app/steam_games.parquet\")#dentro de la carpeta de la api"
   ]
  }
 ],
 "metadata": {
  "kernelspec": {
   "display_name": "Python 3",
   "language": "python",
   "name": "python3"
  },
  "language_info": {
   "codemirror_mode": {
    "name": "ipython",
    "version": 3
   },
   "file_extension": ".py",
   "mimetype": "text/x-python",
   "name": "python",
   "nbconvert_exporter": "python",
   "pygments_lexer": "ipython3",
   "version": "3.11.5"
  }
 },
 "nbformat": 4,
 "nbformat_minor": 2
}
