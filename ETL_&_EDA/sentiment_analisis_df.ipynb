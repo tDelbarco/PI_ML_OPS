{
 "cells": [
  {
   "cell_type": "code",
   "execution_count": 2,
   "metadata": {},
   "outputs": [],
   "source": [
    "import pandas as pd\n",
    "import numpy as np\n",
    "import ETL_functions as etf\n",
    "import ast\n"
   ]
  },
  {
   "cell_type": "code",
   "execution_count": 3,
   "metadata": {},
   "outputs": [],
   "source": [
    "df_sg = pd.read_json(r\"../Datasets/steam_games.json/output_steam_games.json\" ,lines=True) #archivo steam_games"
   ]
  },
  {
   "cell_type": "markdown",
   "metadata": {},
   "source": [
    "    transformo las siguientes columnas a tipo str ya que es dificil manejar listas y tira errores en bastantes metodos de pandas"
   ]
  },
  {
   "cell_type": "code",
   "execution_count": 4,
   "metadata": {},
   "outputs": [],
   "source": [
    "df_sg[\"genres\"] = df_sg[\"genres\"].astype(str)\n",
    "df_sg[\"tags\"] = df_sg[\"tags\"].astype(str)\n",
    "df_sg[\"specs\"] = df_sg[\"specs\"].astype(str)"
   ]
  },
  {
   "cell_type": "code",
   "execution_count": 5,
   "metadata": {},
   "outputs": [
    {
     "name": "stdout",
     "output_type": "stream",
     "text": [
      "\n",
      "Total rows:  120445\n",
      "\n",
      "Total full null rows:  0\n",
      "\n",
      "Total duplicated rows: 88309\n"
     ]
    },
    {
     "data": {
      "text/html": [
       "<div>\n",
       "<style scoped>\n",
       "    .dataframe tbody tr th:only-of-type {\n",
       "        vertical-align: middle;\n",
       "    }\n",
       "\n",
       "    .dataframe tbody tr th {\n",
       "        vertical-align: top;\n",
       "    }\n",
       "\n",
       "    .dataframe thead th {\n",
       "        text-align: right;\n",
       "    }\n",
       "</style>\n",
       "<table border=\"1\" class=\"dataframe\">\n",
       "  <thead>\n",
       "    <tr style=\"text-align: right;\">\n",
       "      <th></th>\n",
       "      <th>Column</th>\n",
       "      <th>dType</th>\n",
       "      <th>No_Null_%</th>\n",
       "      <th>No_Null_Qty</th>\n",
       "      <th>Null_%</th>\n",
       "      <th>Null_Qty</th>\n",
       "    </tr>\n",
       "  </thead>\n",
       "  <tbody>\n",
       "    <tr>\n",
       "      <th>0</th>\n",
       "      <td>publisher</td>\n",
       "      <td>[&lt;class 'NoneType'&gt;, &lt;class 'str'&gt;]</td>\n",
       "      <td>20.00</td>\n",
       "      <td>24083</td>\n",
       "      <td>80.00</td>\n",
       "      <td>96362</td>\n",
       "    </tr>\n",
       "    <tr>\n",
       "      <th>1</th>\n",
       "      <td>genres</td>\n",
       "      <td>[&lt;class 'str'&gt;]</td>\n",
       "      <td>100.00</td>\n",
       "      <td>120445</td>\n",
       "      <td>0.00</td>\n",
       "      <td>0</td>\n",
       "    </tr>\n",
       "    <tr>\n",
       "      <th>2</th>\n",
       "      <td>app_name</td>\n",
       "      <td>[&lt;class 'NoneType'&gt;, &lt;class 'str'&gt;]</td>\n",
       "      <td>26.68</td>\n",
       "      <td>32133</td>\n",
       "      <td>73.32</td>\n",
       "      <td>88312</td>\n",
       "    </tr>\n",
       "    <tr>\n",
       "      <th>3</th>\n",
       "      <td>title</td>\n",
       "      <td>[&lt;class 'NoneType'&gt;, &lt;class 'str'&gt;]</td>\n",
       "      <td>24.98</td>\n",
       "      <td>30085</td>\n",
       "      <td>75.02</td>\n",
       "      <td>90360</td>\n",
       "    </tr>\n",
       "    <tr>\n",
       "      <th>4</th>\n",
       "      <td>url</td>\n",
       "      <td>[&lt;class 'NoneType'&gt;, &lt;class 'str'&gt;]</td>\n",
       "      <td>26.68</td>\n",
       "      <td>32135</td>\n",
       "      <td>73.32</td>\n",
       "      <td>88310</td>\n",
       "    </tr>\n",
       "    <tr>\n",
       "      <th>5</th>\n",
       "      <td>release_date</td>\n",
       "      <td>[&lt;class 'NoneType'&gt;, &lt;class 'str'&gt;]</td>\n",
       "      <td>24.96</td>\n",
       "      <td>30068</td>\n",
       "      <td>75.04</td>\n",
       "      <td>90377</td>\n",
       "    </tr>\n",
       "    <tr>\n",
       "      <th>6</th>\n",
       "      <td>tags</td>\n",
       "      <td>[&lt;class 'str'&gt;]</td>\n",
       "      <td>100.00</td>\n",
       "      <td>120445</td>\n",
       "      <td>0.00</td>\n",
       "      <td>0</td>\n",
       "    </tr>\n",
       "    <tr>\n",
       "      <th>7</th>\n",
       "      <td>reviews_url</td>\n",
       "      <td>[&lt;class 'NoneType'&gt;, &lt;class 'str'&gt;]</td>\n",
       "      <td>26.68</td>\n",
       "      <td>32133</td>\n",
       "      <td>73.32</td>\n",
       "      <td>88312</td>\n",
       "    </tr>\n",
       "    <tr>\n",
       "      <th>8</th>\n",
       "      <td>specs</td>\n",
       "      <td>[&lt;class 'str'&gt;]</td>\n",
       "      <td>100.00</td>\n",
       "      <td>120445</td>\n",
       "      <td>0.00</td>\n",
       "      <td>0</td>\n",
       "    </tr>\n",
       "    <tr>\n",
       "      <th>9</th>\n",
       "      <td>price</td>\n",
       "      <td>[&lt;class 'NoneType'&gt;, &lt;class 'float'&gt;, &lt;class '...</td>\n",
       "      <td>25.54</td>\n",
       "      <td>30758</td>\n",
       "      <td>74.46</td>\n",
       "      <td>89687</td>\n",
       "    </tr>\n",
       "    <tr>\n",
       "      <th>10</th>\n",
       "      <td>early_access</td>\n",
       "      <td>[&lt;class 'float'&gt;]</td>\n",
       "      <td>26.68</td>\n",
       "      <td>32135</td>\n",
       "      <td>73.32</td>\n",
       "      <td>88310</td>\n",
       "    </tr>\n",
       "    <tr>\n",
       "      <th>11</th>\n",
       "      <td>id</td>\n",
       "      <td>[&lt;class 'float'&gt;]</td>\n",
       "      <td>26.68</td>\n",
       "      <td>32133</td>\n",
       "      <td>73.32</td>\n",
       "      <td>88312</td>\n",
       "    </tr>\n",
       "    <tr>\n",
       "      <th>12</th>\n",
       "      <td>developer</td>\n",
       "      <td>[&lt;class 'NoneType'&gt;, &lt;class 'str'&gt;]</td>\n",
       "      <td>23.94</td>\n",
       "      <td>28836</td>\n",
       "      <td>76.06</td>\n",
       "      <td>91609</td>\n",
       "    </tr>\n",
       "  </tbody>\n",
       "</table>\n",
       "</div>"
      ],
      "text/plain": [
       "          Column                                              dType  \\\n",
       "0      publisher                [<class 'NoneType'>, <class 'str'>]   \n",
       "1         genres                                    [<class 'str'>]   \n",
       "2       app_name                [<class 'NoneType'>, <class 'str'>]   \n",
       "3          title                [<class 'NoneType'>, <class 'str'>]   \n",
       "4            url                [<class 'NoneType'>, <class 'str'>]   \n",
       "5   release_date                [<class 'NoneType'>, <class 'str'>]   \n",
       "6           tags                                    [<class 'str'>]   \n",
       "7    reviews_url                [<class 'NoneType'>, <class 'str'>]   \n",
       "8          specs                                    [<class 'str'>]   \n",
       "9          price  [<class 'NoneType'>, <class 'float'>, <class '...   \n",
       "10  early_access                                  [<class 'float'>]   \n",
       "11            id                                  [<class 'float'>]   \n",
       "12     developer                [<class 'NoneType'>, <class 'str'>]   \n",
       "\n",
       "    No_Null_%  No_Null_Qty  Null_%  Null_Qty  \n",
       "0       20.00        24083   80.00     96362  \n",
       "1      100.00       120445    0.00         0  \n",
       "2       26.68        32133   73.32     88312  \n",
       "3       24.98        30085   75.02     90360  \n",
       "4       26.68        32135   73.32     88310  \n",
       "5       24.96        30068   75.04     90377  \n",
       "6      100.00       120445    0.00         0  \n",
       "7       26.68        32133   73.32     88312  \n",
       "8      100.00       120445    0.00         0  \n",
       "9       25.54        30758   74.46     89687  \n",
       "10      26.68        32135   73.32     88310  \n",
       "11      26.68        32133   73.32     88312  \n",
       "12      23.94        28836   76.06     91609  "
      ]
     },
     "execution_count": 5,
     "metadata": {},
     "output_type": "execute_result"
    }
   ],
   "source": [
    "etf.data_review(df_sg)"
   ]
  },
  {
   "cell_type": "markdown",
   "metadata": {},
   "source": [
    "    para esta funcion solo utilizaremos(en este df):\n",
    "* id(para relacionar con la review)\n",
    "* developer(va a ser por lo que vamos a filtrar/el dato que se pasa a la funcion)\n",
    "\n",
    "se podria usar pero no la usare:\n",
    "* publisher(en caso de no tener developer podria devolver esto como publisher y no como developer) #pero la funcion pide developer asi que no la usare"
   ]
  },
  {
   "cell_type": "code",
   "execution_count": 6,
   "metadata": {},
   "outputs": [],
   "source": [
    "del df_sg[\"genres\"]\n",
    "del df_sg[\"app_name\"]\n",
    "del df_sg[\"title\"]\n",
    "del df_sg[\"url\"]\n",
    "del df_sg[\"release_date\"]\n",
    "del df_sg[\"tags\"]\n",
    "del df_sg[\"reviews_url\"]\n",
    "del df_sg[\"specs\"]\n",
    "del df_sg[\"price\"]\n",
    "del df_sg[\"early_access\"]\n",
    "del df_sg[\"publisher\"]"
   ]
  },
  {
   "cell_type": "markdown",
   "metadata": {},
   "source": [
    "    borramos todas estas columnas que no vamos a utilizar"
   ]
  },
  {
   "cell_type": "markdown",
   "metadata": {},
   "source": [
    "## este es nuestro dataframe ahora\n",
    "contiene las columnas que utilizare ,\n",
    "pero sigue teniendo filas que no nos sirven"
   ]
  },
  {
   "cell_type": "code",
   "execution_count": 20,
   "metadata": {},
   "outputs": [
    {
     "data": {
      "text/html": [
       "<div>\n",
       "<style scoped>\n",
       "    .dataframe tbody tr th:only-of-type {\n",
       "        vertical-align: middle;\n",
       "    }\n",
       "\n",
       "    .dataframe tbody tr th {\n",
       "        vertical-align: top;\n",
       "    }\n",
       "\n",
       "    .dataframe thead th {\n",
       "        text-align: right;\n",
       "    }\n",
       "</style>\n",
       "<table border=\"1\" class=\"dataframe\">\n",
       "  <thead>\n",
       "    <tr style=\"text-align: right;\">\n",
       "      <th></th>\n",
       "      <th>id</th>\n",
       "      <th>developer</th>\n",
       "    </tr>\n",
       "  </thead>\n",
       "  <tbody>\n",
       "    <tr>\n",
       "      <th>88310</th>\n",
       "      <td>761140.0</td>\n",
       "      <td>Kotoshiro</td>\n",
       "    </tr>\n",
       "    <tr>\n",
       "      <th>88311</th>\n",
       "      <td>643980.0</td>\n",
       "      <td>Secret Level SRL</td>\n",
       "    </tr>\n",
       "    <tr>\n",
       "      <th>88312</th>\n",
       "      <td>670290.0</td>\n",
       "      <td>Poolians.com</td>\n",
       "    </tr>\n",
       "    <tr>\n",
       "      <th>88313</th>\n",
       "      <td>767400.0</td>\n",
       "      <td>彼岸领域</td>\n",
       "    </tr>\n",
       "    <tr>\n",
       "      <th>88314</th>\n",
       "      <td>773570.0</td>\n",
       "      <td>None</td>\n",
       "    </tr>\n",
       "    <tr>\n",
       "      <th>...</th>\n",
       "      <td>...</td>\n",
       "      <td>...</td>\n",
       "    </tr>\n",
       "    <tr>\n",
       "      <th>120440</th>\n",
       "      <td>773640.0</td>\n",
       "      <td>Nikita \"Ghost_RUS\"</td>\n",
       "    </tr>\n",
       "    <tr>\n",
       "      <th>120441</th>\n",
       "      <td>733530.0</td>\n",
       "      <td>Sacada</td>\n",
       "    </tr>\n",
       "    <tr>\n",
       "      <th>120442</th>\n",
       "      <td>610660.0</td>\n",
       "      <td>Laush Dmitriy Sergeevich</td>\n",
       "    </tr>\n",
       "    <tr>\n",
       "      <th>120443</th>\n",
       "      <td>658870.0</td>\n",
       "      <td>xropi,stev3ns</td>\n",
       "    </tr>\n",
       "    <tr>\n",
       "      <th>120444</th>\n",
       "      <td>681550.0</td>\n",
       "      <td>None</td>\n",
       "    </tr>\n",
       "  </tbody>\n",
       "</table>\n",
       "<p>32133 rows × 2 columns</p>\n",
       "</div>"
      ],
      "text/plain": [
       "              id                 developer\n",
       "88310   761140.0                 Kotoshiro\n",
       "88311   643980.0          Secret Level SRL\n",
       "88312   670290.0              Poolians.com\n",
       "88313   767400.0                      彼岸领域\n",
       "88314   773570.0                      None\n",
       "...          ...                       ...\n",
       "120440  773640.0        Nikita \"Ghost_RUS\"\n",
       "120441  733530.0                    Sacada\n",
       "120442  610660.0  Laush Dmitriy Sergeevich\n",
       "120443  658870.0             xropi,stev3ns\n",
       "120444  681550.0                      None\n",
       "\n",
       "[32133 rows x 2 columns]"
      ]
     },
     "execution_count": 20,
     "metadata": {},
     "output_type": "execute_result"
    }
   ],
   "source": [
    "df_sg"
   ]
  },
  {
   "cell_type": "code",
   "execution_count": 21,
   "metadata": {},
   "outputs": [
    {
     "name": "stdout",
     "output_type": "stream",
     "text": [
      "\n",
      "Total rows:  32133\n",
      "\n",
      "Total full null rows:  0\n",
      "\n",
      "Total duplicated rows: 0\n"
     ]
    },
    {
     "data": {
      "text/html": [
       "<div>\n",
       "<style scoped>\n",
       "    .dataframe tbody tr th:only-of-type {\n",
       "        vertical-align: middle;\n",
       "    }\n",
       "\n",
       "    .dataframe tbody tr th {\n",
       "        vertical-align: top;\n",
       "    }\n",
       "\n",
       "    .dataframe thead th {\n",
       "        text-align: right;\n",
       "    }\n",
       "</style>\n",
       "<table border=\"1\" class=\"dataframe\">\n",
       "  <thead>\n",
       "    <tr style=\"text-align: right;\">\n",
       "      <th></th>\n",
       "      <th>Column</th>\n",
       "      <th>dType</th>\n",
       "      <th>No_Null_%</th>\n",
       "      <th>No_Null_Qty</th>\n",
       "      <th>Null_%</th>\n",
       "      <th>Null_Qty</th>\n",
       "    </tr>\n",
       "  </thead>\n",
       "  <tbody>\n",
       "    <tr>\n",
       "      <th>0</th>\n",
       "      <td>id</td>\n",
       "      <td>[&lt;class 'float'&gt;]</td>\n",
       "      <td>100.00</td>\n",
       "      <td>32132</td>\n",
       "      <td>0.00</td>\n",
       "      <td>1</td>\n",
       "    </tr>\n",
       "    <tr>\n",
       "      <th>1</th>\n",
       "      <td>developer</td>\n",
       "      <td>[&lt;class 'str'&gt;, &lt;class 'NoneType'&gt;]</td>\n",
       "      <td>89.74</td>\n",
       "      <td>28835</td>\n",
       "      <td>10.26</td>\n",
       "      <td>3298</td>\n",
       "    </tr>\n",
       "  </tbody>\n",
       "</table>\n",
       "</div>"
      ],
      "text/plain": [
       "      Column                                dType  No_Null_%  No_Null_Qty  \\\n",
       "0         id                    [<class 'float'>]     100.00        32132   \n",
       "1  developer  [<class 'str'>, <class 'NoneType'>]      89.74        28835   \n",
       "\n",
       "   Null_%  Null_Qty  \n",
       "0    0.00         1  \n",
       "1   10.26      3298  "
      ]
     },
     "execution_count": 21,
     "metadata": {},
     "output_type": "execute_result"
    }
   ],
   "source": [
    "etf.data_review(df_sg)"
   ]
  },
  {
   "cell_type": "markdown",
   "metadata": {},
   "source": [
    "    con esto podemos ver la cantidad de null y filas duplicadas que en este caso son las mismas cantidades"
   ]
  },
  {
   "cell_type": "markdown",
   "metadata": {},
   "source": [
    "## eliminacion de duplicados"
   ]
  },
  {
   "cell_type": "markdown",
   "metadata": {},
   "source": [
    "    cualquier registro duplicado no resulta importante debido a que los datos ya se encuentran en el dataset \n",
    "    (en especial en este caso que tenemos muchas columnas que tienen todas la columnas en null)"
   ]
  },
  {
   "cell_type": "code",
   "execution_count": 9,
   "metadata": {},
   "outputs": [],
   "source": [
    "df_sg.drop_duplicates(inplace=True)#elimino todos los duplicados dejando solo registros unicos y con ellos una columna llena de valores null que removere en la siguiente instruccion"
   ]
  },
  {
   "cell_type": "markdown",
   "metadata": {},
   "source": [
    "    al dropear duplicados nos dejo con cada registro unico incluyendo  una de las lineas con todos sus valores nulos "
   ]
  },
  {
   "cell_type": "code",
   "execution_count": 22,
   "metadata": {},
   "outputs": [
    {
     "data": {
      "text/html": [
       "<div>\n",
       "<style scoped>\n",
       "    .dataframe tbody tr th:only-of-type {\n",
       "        vertical-align: middle;\n",
       "    }\n",
       "\n",
       "    .dataframe tbody tr th {\n",
       "        vertical-align: top;\n",
       "    }\n",
       "\n",
       "    .dataframe thead th {\n",
       "        text-align: right;\n",
       "    }\n",
       "</style>\n",
       "<table border=\"1\" class=\"dataframe\">\n",
       "  <thead>\n",
       "    <tr style=\"text-align: right;\">\n",
       "      <th></th>\n",
       "      <th>id</th>\n",
       "      <th>developer</th>\n",
       "    </tr>\n",
       "  </thead>\n",
       "  <tbody>\n",
       "    <tr>\n",
       "      <th>88310</th>\n",
       "      <td>761140.0</td>\n",
       "      <td>Kotoshiro</td>\n",
       "    </tr>\n",
       "    <tr>\n",
       "      <th>88311</th>\n",
       "      <td>643980.0</td>\n",
       "      <td>Secret Level SRL</td>\n",
       "    </tr>\n",
       "    <tr>\n",
       "      <th>88312</th>\n",
       "      <td>670290.0</td>\n",
       "      <td>Poolians.com</td>\n",
       "    </tr>\n",
       "  </tbody>\n",
       "</table>\n",
       "</div>"
      ],
      "text/plain": [
       "             id         developer\n",
       "88310  761140.0         Kotoshiro\n",
       "88311  643980.0  Secret Level SRL\n",
       "88312  670290.0      Poolians.com"
      ]
     },
     "execution_count": 22,
     "metadata": {},
     "output_type": "execute_result"
    }
   ],
   "source": [
    "df_sg.head(3)"
   ]
  },
  {
   "cell_type": "markdown",
   "metadata": {},
   "source": [
    "    como en este caso quedo en la primera linea la dropeare indicando el indice"
   ]
  },
  {
   "cell_type": "code",
   "execution_count": 12,
   "metadata": {},
   "outputs": [],
   "source": [
    "df_sg.drop(0,inplace=True)#borramos la unica columna que no poseia datos que quedaba"
   ]
  },
  {
   "cell_type": "code",
   "execution_count": 23,
   "metadata": {},
   "outputs": [
    {
     "data": {
      "text/html": [
       "<div>\n",
       "<style scoped>\n",
       "    .dataframe tbody tr th:only-of-type {\n",
       "        vertical-align: middle;\n",
       "    }\n",
       "\n",
       "    .dataframe tbody tr th {\n",
       "        vertical-align: top;\n",
       "    }\n",
       "\n",
       "    .dataframe thead th {\n",
       "        text-align: right;\n",
       "    }\n",
       "</style>\n",
       "<table border=\"1\" class=\"dataframe\">\n",
       "  <thead>\n",
       "    <tr style=\"text-align: right;\">\n",
       "      <th></th>\n",
       "      <th>id</th>\n",
       "      <th>developer</th>\n",
       "    </tr>\n",
       "  </thead>\n",
       "  <tbody>\n",
       "    <tr>\n",
       "      <th>88310</th>\n",
       "      <td>761140.0</td>\n",
       "      <td>Kotoshiro</td>\n",
       "    </tr>\n",
       "    <tr>\n",
       "      <th>88311</th>\n",
       "      <td>643980.0</td>\n",
       "      <td>Secret Level SRL</td>\n",
       "    </tr>\n",
       "    <tr>\n",
       "      <th>88312</th>\n",
       "      <td>670290.0</td>\n",
       "      <td>Poolians.com</td>\n",
       "    </tr>\n",
       "    <tr>\n",
       "      <th>88313</th>\n",
       "      <td>767400.0</td>\n",
       "      <td>彼岸领域</td>\n",
       "    </tr>\n",
       "    <tr>\n",
       "      <th>88314</th>\n",
       "      <td>773570.0</td>\n",
       "      <td>None</td>\n",
       "    </tr>\n",
       "  </tbody>\n",
       "</table>\n",
       "</div>"
      ],
      "text/plain": [
       "             id         developer\n",
       "88310  761140.0         Kotoshiro\n",
       "88311  643980.0  Secret Level SRL\n",
       "88312  670290.0      Poolians.com\n",
       "88313  767400.0              彼岸领域\n",
       "88314  773570.0              None"
      ]
     },
     "execution_count": 23,
     "metadata": {},
     "output_type": "execute_result"
    }
   ],
   "source": [
    "df_sg.head()"
   ]
  },
  {
   "cell_type": "code",
   "execution_count": 24,
   "metadata": {},
   "outputs": [
    {
     "name": "stdout",
     "output_type": "stream",
     "text": [
      "\n",
      "Total rows:  32133\n",
      "\n",
      "Total full null rows:  0\n",
      "\n",
      "Total duplicated rows: 0\n"
     ]
    },
    {
     "data": {
      "text/html": [
       "<div>\n",
       "<style scoped>\n",
       "    .dataframe tbody tr th:only-of-type {\n",
       "        vertical-align: middle;\n",
       "    }\n",
       "\n",
       "    .dataframe tbody tr th {\n",
       "        vertical-align: top;\n",
       "    }\n",
       "\n",
       "    .dataframe thead th {\n",
       "        text-align: right;\n",
       "    }\n",
       "</style>\n",
       "<table border=\"1\" class=\"dataframe\">\n",
       "  <thead>\n",
       "    <tr style=\"text-align: right;\">\n",
       "      <th></th>\n",
       "      <th>Column</th>\n",
       "      <th>dType</th>\n",
       "      <th>No_Null_%</th>\n",
       "      <th>No_Null_Qty</th>\n",
       "      <th>Null_%</th>\n",
       "      <th>Null_Qty</th>\n",
       "    </tr>\n",
       "  </thead>\n",
       "  <tbody>\n",
       "    <tr>\n",
       "      <th>0</th>\n",
       "      <td>id</td>\n",
       "      <td>[&lt;class 'float'&gt;]</td>\n",
       "      <td>100.00</td>\n",
       "      <td>32132</td>\n",
       "      <td>0.00</td>\n",
       "      <td>1</td>\n",
       "    </tr>\n",
       "    <tr>\n",
       "      <th>1</th>\n",
       "      <td>developer</td>\n",
       "      <td>[&lt;class 'str'&gt;, &lt;class 'NoneType'&gt;]</td>\n",
       "      <td>89.74</td>\n",
       "      <td>28835</td>\n",
       "      <td>10.26</td>\n",
       "      <td>3298</td>\n",
       "    </tr>\n",
       "  </tbody>\n",
       "</table>\n",
       "</div>"
      ],
      "text/plain": [
       "      Column                                dType  No_Null_%  No_Null_Qty  \\\n",
       "0         id                    [<class 'float'>]     100.00        32132   \n",
       "1  developer  [<class 'str'>, <class 'NoneType'>]      89.74        28835   \n",
       "\n",
       "   Null_%  Null_Qty  \n",
       "0    0.00         1  \n",
       "1   10.26      3298  "
      ]
     },
     "execution_count": 24,
     "metadata": {},
     "output_type": "execute_result"
    }
   ],
   "source": [
    "etf.data_review(df_sg)"
   ]
  },
  {
   "cell_type": "markdown",
   "metadata": {},
   "source": [
    "    ahora ya no tenemos filas completas con nulos o filas duplicadas lo que no quiere decir que no haya nulos\n",
    "    como podemos comprobar en la ultima columna de el retorno de etf.data_review donde nos dice\n",
    "|columna|cantidad de nulos|\n",
    "|-------|-----------------|\n",
    "|id| 1\n",
    "|developer| 3298"
   ]
  },
  {
   "cell_type": "markdown",
   "metadata": {},
   "source": [
    "## eliminacion de nulos"
   ]
  },
  {
   "cell_type": "markdown",
   "metadata": {},
   "source": [
    "    borrare cualquier nulo en developer"
   ]
  },
  {
   "cell_type": "code",
   "execution_count": 25,
   "metadata": {},
   "outputs": [],
   "source": [
    "mask = df_sg[\"developer\"].isna() #"
   ]
  },
  {
   "cell_type": "code",
   "execution_count": 27,
   "metadata": {},
   "outputs": [],
   "source": [
    "df_sg = df_sg[~mask] # uso ~ para invertir la condicion de el  filtro lo que traera todos los que developer no es nulo"
   ]
  },
  {
   "cell_type": "markdown",
   "metadata": {},
   "source": [
    "    ahora tratare el nulo de id"
   ]
  },
  {
   "cell_type": "code",
   "execution_count": 29,
   "metadata": {},
   "outputs": [
    {
     "data": {
      "text/plain": [
       "id           1\n",
       "developer    0\n",
       "dtype: int64"
      ]
     },
     "execution_count": 29,
     "metadata": {},
     "output_type": "execute_result"
    }
   ],
   "source": [
    "df_sg.isna().sum()"
   ]
  },
  {
   "cell_type": "code",
   "execution_count": 30,
   "metadata": {},
   "outputs": [
    {
     "name": "stderr",
     "output_type": "stream",
     "text": [
      "C:\\Users\\delba\\AppData\\Local\\Temp\\ipykernel_7124\\2810401005.py:1: SettingWithCopyWarning: \n",
      "A value is trying to be set on a copy of a slice from a DataFrame\n",
      "\n",
      "See the caveats in the documentation: https://pandas.pydata.org/pandas-docs/stable/user_guide/indexing.html#returning-a-view-versus-a-copy\n",
      "  df_sg.dropna(inplace=True)\n"
     ]
    }
   ],
   "source": [
    "df_sg.dropna(inplace=True)"
   ]
  },
  {
   "cell_type": "code",
   "execution_count": 32,
   "metadata": {},
   "outputs": [
    {
     "name": "stdout",
     "output_type": "stream",
     "text": [
      "\n",
      "Total rows:  28834\n",
      "\n",
      "Total full null rows:  0\n",
      "\n",
      "Total duplicated rows: 0\n"
     ]
    },
    {
     "data": {
      "text/html": [
       "<div>\n",
       "<style scoped>\n",
       "    .dataframe tbody tr th:only-of-type {\n",
       "        vertical-align: middle;\n",
       "    }\n",
       "\n",
       "    .dataframe tbody tr th {\n",
       "        vertical-align: top;\n",
       "    }\n",
       "\n",
       "    .dataframe thead th {\n",
       "        text-align: right;\n",
       "    }\n",
       "</style>\n",
       "<table border=\"1\" class=\"dataframe\">\n",
       "  <thead>\n",
       "    <tr style=\"text-align: right;\">\n",
       "      <th></th>\n",
       "      <th>Column</th>\n",
       "      <th>dType</th>\n",
       "      <th>No_Null_%</th>\n",
       "      <th>No_Null_Qty</th>\n",
       "      <th>Null_%</th>\n",
       "      <th>Null_Qty</th>\n",
       "    </tr>\n",
       "  </thead>\n",
       "  <tbody>\n",
       "    <tr>\n",
       "      <th>0</th>\n",
       "      <td>id</td>\n",
       "      <td>[&lt;class 'float'&gt;]</td>\n",
       "      <td>100.0</td>\n",
       "      <td>28834</td>\n",
       "      <td>0.0</td>\n",
       "      <td>0</td>\n",
       "    </tr>\n",
       "    <tr>\n",
       "      <th>1</th>\n",
       "      <td>developer</td>\n",
       "      <td>[&lt;class 'str'&gt;]</td>\n",
       "      <td>100.0</td>\n",
       "      <td>28834</td>\n",
       "      <td>0.0</td>\n",
       "      <td>0</td>\n",
       "    </tr>\n",
       "  </tbody>\n",
       "</table>\n",
       "</div>"
      ],
      "text/plain": [
       "      Column              dType  No_Null_%  No_Null_Qty  Null_%  Null_Qty\n",
       "0         id  [<class 'float'>]      100.0        28834     0.0         0\n",
       "1  developer    [<class 'str'>]      100.0        28834     0.0         0"
      ]
     },
     "execution_count": 32,
     "metadata": {},
     "output_type": "execute_result"
    }
   ],
   "source": [
    "etf.data_review(df_sg)"
   ]
  },
  {
   "cell_type": "markdown",
   "metadata": {},
   "source": [
    "    paso id a int paraa perder la parte decimal"
   ]
  },
  {
   "cell_type": "code",
   "execution_count": 41,
   "metadata": {},
   "outputs": [
    {
     "name": "stderr",
     "output_type": "stream",
     "text": [
      "C:\\Users\\delba\\AppData\\Local\\Temp\\ipykernel_7124\\2301839919.py:1: SettingWithCopyWarning: \n",
      "A value is trying to be set on a copy of a slice from a DataFrame.\n",
      "Try using .loc[row_indexer,col_indexer] = value instead\n",
      "\n",
      "See the caveats in the documentation: https://pandas.pydata.org/pandas-docs/stable/user_guide/indexing.html#returning-a-view-versus-a-copy\n",
      "  df_sg[\"id\"] = df_sg[\"id\"].astype(int)\n"
     ]
    }
   ],
   "source": [
    "df_sg[\"id\"] = df_sg[\"id\"].astype(int)"
   ]
  },
  {
   "cell_type": "code",
   "execution_count": 58,
   "metadata": {},
   "outputs": [
    {
     "data": {
      "text/html": [
       "<div>\n",
       "<style scoped>\n",
       "    .dataframe tbody tr th:only-of-type {\n",
       "        vertical-align: middle;\n",
       "    }\n",
       "\n",
       "    .dataframe tbody tr th {\n",
       "        vertical-align: top;\n",
       "    }\n",
       "\n",
       "    .dataframe thead th {\n",
       "        text-align: right;\n",
       "    }\n",
       "</style>\n",
       "<table border=\"1\" class=\"dataframe\">\n",
       "  <thead>\n",
       "    <tr style=\"text-align: right;\">\n",
       "      <th></th>\n",
       "      <th>id</th>\n",
       "      <th>developer</th>\n",
       "    </tr>\n",
       "  </thead>\n",
       "  <tbody>\n",
       "    <tr>\n",
       "      <th>88310</th>\n",
       "      <td>761140</td>\n",
       "      <td>Kotoshiro</td>\n",
       "    </tr>\n",
       "    <tr>\n",
       "      <th>88311</th>\n",
       "      <td>643980</td>\n",
       "      <td>Secret Level SRL</td>\n",
       "    </tr>\n",
       "    <tr>\n",
       "      <th>88312</th>\n",
       "      <td>670290</td>\n",
       "      <td>Poolians.com</td>\n",
       "    </tr>\n",
       "    <tr>\n",
       "      <th>88313</th>\n",
       "      <td>767400</td>\n",
       "      <td>彼岸领域</td>\n",
       "    </tr>\n",
       "    <tr>\n",
       "      <th>88315</th>\n",
       "      <td>772540</td>\n",
       "      <td>Trickjump Games Ltd</td>\n",
       "    </tr>\n",
       "    <tr>\n",
       "      <th>...</th>\n",
       "      <td>...</td>\n",
       "      <td>...</td>\n",
       "    </tr>\n",
       "    <tr>\n",
       "      <th>120439</th>\n",
       "      <td>745400</td>\n",
       "      <td>Bidoniera Games</td>\n",
       "    </tr>\n",
       "    <tr>\n",
       "      <th>120440</th>\n",
       "      <td>773640</td>\n",
       "      <td>Nikita \"Ghost_RUS\"</td>\n",
       "    </tr>\n",
       "    <tr>\n",
       "      <th>120441</th>\n",
       "      <td>733530</td>\n",
       "      <td>Sacada</td>\n",
       "    </tr>\n",
       "    <tr>\n",
       "      <th>120442</th>\n",
       "      <td>610660</td>\n",
       "      <td>Laush Dmitriy Sergeevich</td>\n",
       "    </tr>\n",
       "    <tr>\n",
       "      <th>120443</th>\n",
       "      <td>658870</td>\n",
       "      <td>xropi,stev3ns</td>\n",
       "    </tr>\n",
       "  </tbody>\n",
       "</table>\n",
       "<p>28834 rows × 2 columns</p>\n",
       "</div>"
      ],
      "text/plain": [
       "            id                 developer\n",
       "88310   761140                 Kotoshiro\n",
       "88311   643980          Secret Level SRL\n",
       "88312   670290              Poolians.com\n",
       "88313   767400                      彼岸领域\n",
       "88315   772540       Trickjump Games Ltd\n",
       "...        ...                       ...\n",
       "120439  745400           Bidoniera Games\n",
       "120440  773640        Nikita \"Ghost_RUS\"\n",
       "120441  733530                    Sacada\n",
       "120442  610660  Laush Dmitriy Sergeevich\n",
       "120443  658870             xropi,stev3ns\n",
       "\n",
       "[28834 rows x 2 columns]"
      ]
     },
     "execution_count": 58,
     "metadata": {},
     "output_type": "execute_result"
    }
   ],
   "source": [
    "df_sg[\"id\"] = df_sg[\"id\"].astype(str)"
   ]
  },
  {
   "cell_type": "markdown",
   "metadata": {},
   "source": [
    "    paso id a str para realizar  el merge"
   ]
  },
  {
   "cell_type": "code",
   "execution_count": 57,
   "metadata": {},
   "outputs": [
    {
     "name": "stderr",
     "output_type": "stream",
     "text": [
      "C:\\Users\\delba\\AppData\\Local\\Temp\\ipykernel_7124\\2447768868.py:1: SettingWithCopyWarning: \n",
      "A value is trying to be set on a copy of a slice from a DataFrame.\n",
      "Try using .loc[row_indexer,col_indexer] = value instead\n",
      "\n",
      "See the caveats in the documentation: https://pandas.pydata.org/pandas-docs/stable/user_guide/indexing.html#returning-a-view-versus-a-copy\n",
      "  df_sg[\"id\"] = df_sg[\"id\"].astype(str)\n"
     ]
    }
   ],
   "source": [
    "df_sg[\"id\"] = df_sg[\"id\"].astype(str)"
   ]
  },
  {
   "cell_type": "markdown",
   "metadata": {},
   "source": [
    "<hr>"
   ]
  },
  {
   "cell_type": "code",
   "execution_count": 35,
   "metadata": {},
   "outputs": [],
   "source": [
    "df_rd = pd.read_parquet(\"../app/reviews_dict.parquet\") #este archivo contiene las reviews y analisis de sentimiento"
   ]
  },
  {
   "cell_type": "code",
   "execution_count": 36,
   "metadata": {},
   "outputs": [
    {
     "data": {
      "text/html": [
       "<div>\n",
       "<style scoped>\n",
       "    .dataframe tbody tr th:only-of-type {\n",
       "        vertical-align: middle;\n",
       "    }\n",
       "\n",
       "    .dataframe tbody tr th {\n",
       "        vertical-align: top;\n",
       "    }\n",
       "\n",
       "    .dataframe thead th {\n",
       "        text-align: right;\n",
       "    }\n",
       "</style>\n",
       "<table border=\"1\" class=\"dataframe\">\n",
       "  <thead>\n",
       "    <tr style=\"text-align: right;\">\n",
       "      <th></th>\n",
       "      <th>posted</th>\n",
       "      <th>item_id</th>\n",
       "      <th>recommend</th>\n",
       "      <th>review</th>\n",
       "      <th>sentimiento</th>\n",
       "    </tr>\n",
       "  </thead>\n",
       "  <tbody>\n",
       "    <tr>\n",
       "      <th>0</th>\n",
       "      <td>Posted November 5, 2011.</td>\n",
       "      <td>1250</td>\n",
       "      <td>True</td>\n",
       "      <td>Simple yet with great replayability. In my opi...</td>\n",
       "      <td>2</td>\n",
       "    </tr>\n",
       "    <tr>\n",
       "      <th>1</th>\n",
       "      <td>Posted July 15, 2011.</td>\n",
       "      <td>22200</td>\n",
       "      <td>True</td>\n",
       "      <td>It's unique and worth a playthrough.</td>\n",
       "      <td>2</td>\n",
       "    </tr>\n",
       "    <tr>\n",
       "      <th>2</th>\n",
       "      <td>Posted April 21, 2011.</td>\n",
       "      <td>43110</td>\n",
       "      <td>True</td>\n",
       "      <td>Great atmosphere. The gunplay can be a bit chu...</td>\n",
       "      <td>2</td>\n",
       "    </tr>\n",
       "    <tr>\n",
       "      <th>0</th>\n",
       "      <td>Posted June 24, 2014.</td>\n",
       "      <td>251610</td>\n",
       "      <td>True</td>\n",
       "      <td>I know what you think when you see this title ...</td>\n",
       "      <td>2</td>\n",
       "    </tr>\n",
       "    <tr>\n",
       "      <th>1</th>\n",
       "      <td>Posted September 8, 2013.</td>\n",
       "      <td>227300</td>\n",
       "      <td>True</td>\n",
       "      <td>For a simple (it's actually not all that simpl...</td>\n",
       "      <td>0</td>\n",
       "    </tr>\n",
       "    <tr>\n",
       "      <th>...</th>\n",
       "      <td>...</td>\n",
       "      <td>...</td>\n",
       "      <td>...</td>\n",
       "      <td>...</td>\n",
       "      <td>...</td>\n",
       "    </tr>\n",
       "    <tr>\n",
       "      <th>2</th>\n",
       "      <td>Posted July 10.</td>\n",
       "      <td>70</td>\n",
       "      <td>True</td>\n",
       "      <td>a must have classic from steam definitely wort...</td>\n",
       "      <td>2</td>\n",
       "    </tr>\n",
       "    <tr>\n",
       "      <th>3</th>\n",
       "      <td>Posted July 8.</td>\n",
       "      <td>362890</td>\n",
       "      <td>True</td>\n",
       "      <td>this game is a perfect remake of the original ...</td>\n",
       "      <td>2</td>\n",
       "    </tr>\n",
       "    <tr>\n",
       "      <th>0</th>\n",
       "      <td>Posted July 3.</td>\n",
       "      <td>273110</td>\n",
       "      <td>True</td>\n",
       "      <td>had so much fun plaing this and collecting res...</td>\n",
       "      <td>2</td>\n",
       "    </tr>\n",
       "    <tr>\n",
       "      <th>1</th>\n",
       "      <td>Posted July 20.</td>\n",
       "      <td>730</td>\n",
       "      <td>True</td>\n",
       "      <td>:D</td>\n",
       "      <td>2</td>\n",
       "    </tr>\n",
       "    <tr>\n",
       "      <th>2</th>\n",
       "      <td>Posted July 2.</td>\n",
       "      <td>440</td>\n",
       "      <td>True</td>\n",
       "      <td>so much fun :D</td>\n",
       "      <td>2</td>\n",
       "    </tr>\n",
       "  </tbody>\n",
       "</table>\n",
       "<p>58424 rows × 5 columns</p>\n",
       "</div>"
      ],
      "text/plain": [
       "                       posted item_id  recommend  \\\n",
       "0    Posted November 5, 2011.    1250       True   \n",
       "1       Posted July 15, 2011.   22200       True   \n",
       "2      Posted April 21, 2011.   43110       True   \n",
       "0       Posted June 24, 2014.  251610       True   \n",
       "1   Posted September 8, 2013.  227300       True   \n",
       "..                        ...     ...        ...   \n",
       "2             Posted July 10.      70       True   \n",
       "3              Posted July 8.  362890       True   \n",
       "0              Posted July 3.  273110       True   \n",
       "1             Posted July 20.     730       True   \n",
       "2              Posted July 2.     440       True   \n",
       "\n",
       "                                               review  sentimiento  \n",
       "0   Simple yet with great replayability. In my opi...            2  \n",
       "1                It's unique and worth a playthrough.            2  \n",
       "2   Great atmosphere. The gunplay can be a bit chu...            2  \n",
       "0   I know what you think when you see this title ...            2  \n",
       "1   For a simple (it's actually not all that simpl...            0  \n",
       "..                                                ...          ...  \n",
       "2   a must have classic from steam definitely wort...            2  \n",
       "3   this game is a perfect remake of the original ...            2  \n",
       "0   had so much fun plaing this and collecting res...            2  \n",
       "1                                                  :D            2  \n",
       "2                                      so much fun :D            2  \n",
       "\n",
       "[58424 rows x 5 columns]"
      ]
     },
     "execution_count": 36,
     "metadata": {},
     "output_type": "execute_result"
    }
   ],
   "source": [
    "df_rd"
   ]
  },
  {
   "cell_type": "markdown",
   "metadata": {},
   "source": [
    "    en este caso solo usarenos dos columnas:\n",
    "* item_id(para relacionarlo con id)\n",
    "* sentimiento(para sacar las cantidades)"
   ]
  },
  {
   "cell_type": "code",
   "execution_count": 38,
   "metadata": {},
   "outputs": [],
   "source": [
    "del df_rd[\"posted\"]\n",
    "del df_rd[\"recommend\"]\n",
    "del df_rd[\"review\"]"
   ]
  },
  {
   "cell_type": "markdown",
   "metadata": {},
   "source": [
    "    pasamos item_id a str para poder hacer el merge"
   ]
  },
  {
   "cell_type": "code",
   "execution_count": 50,
   "metadata": {},
   "outputs": [],
   "source": [
    "df_rd[\"item_id\"] = df_rd[\"item_id\"].astype(str)"
   ]
  },
  {
   "cell_type": "code",
   "execution_count": 39,
   "metadata": {},
   "outputs": [
    {
     "data": {
      "text/html": [
       "<div>\n",
       "<style scoped>\n",
       "    .dataframe tbody tr th:only-of-type {\n",
       "        vertical-align: middle;\n",
       "    }\n",
       "\n",
       "    .dataframe tbody tr th {\n",
       "        vertical-align: top;\n",
       "    }\n",
       "\n",
       "    .dataframe thead th {\n",
       "        text-align: right;\n",
       "    }\n",
       "</style>\n",
       "<table border=\"1\" class=\"dataframe\">\n",
       "  <thead>\n",
       "    <tr style=\"text-align: right;\">\n",
       "      <th></th>\n",
       "      <th>item_id</th>\n",
       "      <th>sentimiento</th>\n",
       "    </tr>\n",
       "  </thead>\n",
       "  <tbody>\n",
       "    <tr>\n",
       "      <th>0</th>\n",
       "      <td>1250</td>\n",
       "      <td>2</td>\n",
       "    </tr>\n",
       "    <tr>\n",
       "      <th>1</th>\n",
       "      <td>22200</td>\n",
       "      <td>2</td>\n",
       "    </tr>\n",
       "    <tr>\n",
       "      <th>2</th>\n",
       "      <td>43110</td>\n",
       "      <td>2</td>\n",
       "    </tr>\n",
       "    <tr>\n",
       "      <th>0</th>\n",
       "      <td>251610</td>\n",
       "      <td>2</td>\n",
       "    </tr>\n",
       "    <tr>\n",
       "      <th>1</th>\n",
       "      <td>227300</td>\n",
       "      <td>0</td>\n",
       "    </tr>\n",
       "    <tr>\n",
       "      <th>...</th>\n",
       "      <td>...</td>\n",
       "      <td>...</td>\n",
       "    </tr>\n",
       "    <tr>\n",
       "      <th>2</th>\n",
       "      <td>70</td>\n",
       "      <td>2</td>\n",
       "    </tr>\n",
       "    <tr>\n",
       "      <th>3</th>\n",
       "      <td>362890</td>\n",
       "      <td>2</td>\n",
       "    </tr>\n",
       "    <tr>\n",
       "      <th>0</th>\n",
       "      <td>273110</td>\n",
       "      <td>2</td>\n",
       "    </tr>\n",
       "    <tr>\n",
       "      <th>1</th>\n",
       "      <td>730</td>\n",
       "      <td>2</td>\n",
       "    </tr>\n",
       "    <tr>\n",
       "      <th>2</th>\n",
       "      <td>440</td>\n",
       "      <td>2</td>\n",
       "    </tr>\n",
       "  </tbody>\n",
       "</table>\n",
       "<p>58424 rows × 2 columns</p>\n",
       "</div>"
      ],
      "text/plain": [
       "   item_id  sentimiento\n",
       "0     1250            2\n",
       "1    22200            2\n",
       "2    43110            2\n",
       "0   251610            2\n",
       "1   227300            0\n",
       "..     ...          ...\n",
       "2       70            2\n",
       "3   362890            2\n",
       "0   273110            2\n",
       "1      730            2\n",
       "2      440            2\n",
       "\n",
       "[58424 rows x 2 columns]"
      ]
     },
     "execution_count": 39,
     "metadata": {},
     "output_type": "execute_result"
    }
   ],
   "source": [
    "df_rd"
   ]
  },
  {
   "cell_type": "markdown",
   "metadata": {},
   "source": [
    "    con esto conservamos las columnas que necesitamos"
   ]
  },
  {
   "cell_type": "code",
   "execution_count": 44,
   "metadata": {},
   "outputs": [
    {
     "name": "stdout",
     "output_type": "stream",
     "text": [
      "\n",
      "Total rows:  58424\n",
      "\n",
      "Total full null rows:  0\n",
      "\n",
      "Total duplicated rows: 51959\n"
     ]
    },
    {
     "data": {
      "text/html": [
       "<div>\n",
       "<style scoped>\n",
       "    .dataframe tbody tr th:only-of-type {\n",
       "        vertical-align: middle;\n",
       "    }\n",
       "\n",
       "    .dataframe tbody tr th {\n",
       "        vertical-align: top;\n",
       "    }\n",
       "\n",
       "    .dataframe thead th {\n",
       "        text-align: right;\n",
       "    }\n",
       "</style>\n",
       "<table border=\"1\" class=\"dataframe\">\n",
       "  <thead>\n",
       "    <tr style=\"text-align: right;\">\n",
       "      <th></th>\n",
       "      <th>Column</th>\n",
       "      <th>dType</th>\n",
       "      <th>No_Null_%</th>\n",
       "      <th>No_Null_Qty</th>\n",
       "      <th>Null_%</th>\n",
       "      <th>Null_Qty</th>\n",
       "    </tr>\n",
       "  </thead>\n",
       "  <tbody>\n",
       "    <tr>\n",
       "      <th>0</th>\n",
       "      <td>item_id</td>\n",
       "      <td>[&lt;class 'str'&gt;]</td>\n",
       "      <td>100.0</td>\n",
       "      <td>58424</td>\n",
       "      <td>0.0</td>\n",
       "      <td>0</td>\n",
       "    </tr>\n",
       "    <tr>\n",
       "      <th>1</th>\n",
       "      <td>sentimiento</td>\n",
       "      <td>[&lt;class 'int'&gt;]</td>\n",
       "      <td>100.0</td>\n",
       "      <td>58424</td>\n",
       "      <td>0.0</td>\n",
       "      <td>0</td>\n",
       "    </tr>\n",
       "  </tbody>\n",
       "</table>\n",
       "</div>"
      ],
      "text/plain": [
       "        Column            dType  No_Null_%  No_Null_Qty  Null_%  Null_Qty\n",
       "0      item_id  [<class 'str'>]      100.0        58424     0.0         0\n",
       "1  sentimiento  [<class 'int'>]      100.0        58424     0.0         0"
      ]
     },
     "execution_count": 44,
     "metadata": {},
     "output_type": "execute_result"
    }
   ],
   "source": [
    "etf.data_review(df_rd)"
   ]
  },
  {
   "cell_type": "markdown",
   "metadata": {},
   "source": [
    "    podemos notar  que esta perfectamente limpio esto debido a que el archivo review_dict es un archivo ya procesado que obtuvimos de user_reviews"
   ]
  },
  {
   "cell_type": "markdown",
   "metadata": {},
   "source": [
    "<hr>"
   ]
  },
  {
   "cell_type": "code",
   "execution_count": 52,
   "metadata": {},
   "outputs": [],
   "source": [
    "merge = df_rd.merge(df_sg,how=\"inner\",left_on=\"item_id\",right_on=\"id\")"
   ]
  },
  {
   "cell_type": "code",
   "execution_count": 53,
   "metadata": {},
   "outputs": [
    {
     "data": {
      "text/html": [
       "<div>\n",
       "<style scoped>\n",
       "    .dataframe tbody tr th:only-of-type {\n",
       "        vertical-align: middle;\n",
       "    }\n",
       "\n",
       "    .dataframe tbody tr th {\n",
       "        vertical-align: top;\n",
       "    }\n",
       "\n",
       "    .dataframe thead th {\n",
       "        text-align: right;\n",
       "    }\n",
       "</style>\n",
       "<table border=\"1\" class=\"dataframe\">\n",
       "  <thead>\n",
       "    <tr style=\"text-align: right;\">\n",
       "      <th></th>\n",
       "      <th>item_id</th>\n",
       "      <th>sentimiento</th>\n",
       "      <th>id</th>\n",
       "      <th>developer</th>\n",
       "    </tr>\n",
       "  </thead>\n",
       "  <tbody>\n",
       "    <tr>\n",
       "      <th>0</th>\n",
       "      <td>1250</td>\n",
       "      <td>2</td>\n",
       "      <td>1250</td>\n",
       "      <td>Tripwire Interactive</td>\n",
       "    </tr>\n",
       "    <tr>\n",
       "      <th>1</th>\n",
       "      <td>1250</td>\n",
       "      <td>2</td>\n",
       "      <td>1250</td>\n",
       "      <td>Tripwire Interactive</td>\n",
       "    </tr>\n",
       "    <tr>\n",
       "      <th>2</th>\n",
       "      <td>1250</td>\n",
       "      <td>2</td>\n",
       "      <td>1250</td>\n",
       "      <td>Tripwire Interactive</td>\n",
       "    </tr>\n",
       "    <tr>\n",
       "      <th>3</th>\n",
       "      <td>1250</td>\n",
       "      <td>1</td>\n",
       "      <td>1250</td>\n",
       "      <td>Tripwire Interactive</td>\n",
       "    </tr>\n",
       "    <tr>\n",
       "      <th>4</th>\n",
       "      <td>1250</td>\n",
       "      <td>1</td>\n",
       "      <td>1250</td>\n",
       "      <td>Tripwire Interactive</td>\n",
       "    </tr>\n",
       "    <tr>\n",
       "      <th>...</th>\n",
       "      <td>...</td>\n",
       "      <td>...</td>\n",
       "      <td>...</td>\n",
       "      <td>...</td>\n",
       "    </tr>\n",
       "    <tr>\n",
       "      <th>49614</th>\n",
       "      <td>307130</td>\n",
       "      <td>2</td>\n",
       "      <td>307130</td>\n",
       "      <td>Legend Studio</td>\n",
       "    </tr>\n",
       "    <tr>\n",
       "      <th>49615</th>\n",
       "      <td>209120</td>\n",
       "      <td>0</td>\n",
       "      <td>209120</td>\n",
       "      <td>Capcom U.S.A., Inc.</td>\n",
       "    </tr>\n",
       "    <tr>\n",
       "      <th>49616</th>\n",
       "      <td>220090</td>\n",
       "      <td>0</td>\n",
       "      <td>220090</td>\n",
       "      <td>SkyGoblin</td>\n",
       "    </tr>\n",
       "    <tr>\n",
       "      <th>49617</th>\n",
       "      <td>262850</td>\n",
       "      <td>0</td>\n",
       "      <td>262850</td>\n",
       "      <td>SkyGoblin</td>\n",
       "    </tr>\n",
       "    <tr>\n",
       "      <th>49618</th>\n",
       "      <td>431510</td>\n",
       "      <td>2</td>\n",
       "      <td>431510</td>\n",
       "      <td>Aeon Dream Studios</td>\n",
       "    </tr>\n",
       "  </tbody>\n",
       "</table>\n",
       "<p>49619 rows × 4 columns</p>\n",
       "</div>"
      ],
      "text/plain": [
       "      item_id  sentimiento      id             developer\n",
       "0        1250            2    1250  Tripwire Interactive\n",
       "1        1250            2    1250  Tripwire Interactive\n",
       "2        1250            2    1250  Tripwire Interactive\n",
       "3        1250            1    1250  Tripwire Interactive\n",
       "4        1250            1    1250  Tripwire Interactive\n",
       "...       ...          ...     ...                   ...\n",
       "49614  307130            2  307130         Legend Studio\n",
       "49615  209120            0  209120   Capcom U.S.A., Inc.\n",
       "49616  220090            0  220090             SkyGoblin\n",
       "49617  262850            0  262850             SkyGoblin\n",
       "49618  431510            2  431510    Aeon Dream Studios\n",
       "\n",
       "[49619 rows x 4 columns]"
      ]
     },
     "execution_count": 53,
     "metadata": {},
     "output_type": "execute_result"
    }
   ],
   "source": [
    "merge"
   ]
  },
  {
   "cell_type": "code",
   "execution_count": 54,
   "metadata": {},
   "outputs": [],
   "source": [
    "merge.to_parquet(r\"../app/df_sentimientos.parquet\")"
   ]
  },
  {
   "cell_type": "markdown",
   "metadata": {},
   "source": [
    "<hr>"
   ]
  },
  {
   "cell_type": "markdown",
   "metadata": {},
   "source": [
    "## funcion"
   ]
  },
  {
   "cell_type": "code",
   "execution_count": 59,
   "metadata": {},
   "outputs": [
    {
     "name": "stdout",
     "output_type": "stream",
     "text": [
      "{'sentimiento_0': 115, 'sentimiento_1': 148, 'sentimiento_2': 303}\n"
     ]
    }
   ],
   "source": [
    "def contar_sentimientos_por_desarrollador(developer):\n",
    "    # Filtra el DataFrame para obtener solo las filas correspondientes al desarrollador dado\n",
    "    #carga el df sentiment analisis\n",
    "\n",
    "    df_temporal = merge[merge['developer'] == developer]#filtra el df donde las columnas correspondan al input\n",
    "\n",
    "    # Cuenta la cantidad de sentimientos 0, 1 y 2\n",
    "    count_sentimiento_0 = df_temporal[df_temporal['sentimiento'] == 0].count()\n",
    "    count_sentimiento_1 = df_temporal[df_temporal['sentimiento'] == 1].count()\n",
    "    count_sentimiento_2 = df_temporal[df_temporal['sentimiento'] == 2].count()\n",
    "\n",
    "    # Devuelve los resultados\n",
    "    return {\n",
    "        'sentimiento_0': count_sentimiento_0.values[0],\n",
    "        'sentimiento_1': count_sentimiento_1.values[0],\n",
    "        'sentimiento_2': count_sentimiento_2.values[0]\n",
    "    }\n",
    "\n",
    "# Ejemplo de uso\n",
    "developer_stats = contar_sentimientos_por_desarrollador('Tripwire Interactive')\n",
    "print(developer_stats)"
   ]
  },
  {
   "cell_type": "code",
   "execution_count": 60,
   "metadata": {},
   "outputs": [
    {
     "data": {
      "text/plain": [
       "dict"
      ]
     },
     "execution_count": 60,
     "metadata": {},
     "output_type": "execute_result"
    }
   ],
   "source": [
    "type(developer_stats)"
   ]
  },
  {
   "cell_type": "code",
   "execution_count": null,
   "metadata": {},
   "outputs": [],
   "source": [
    "@app.get(\"/sentiment_analysis\")\n",
    "async def sentiment_analysis( empresa_desarrolladora : str ): #Según la empresa desarrolladora, se devuelve un diccionario con el nombre de la desarrolladora como llave y una lista con la cantidad total de registros de reseñas de usuarios que se encuentren categorizados con un análisis de sentimiento como valor.\n",
    "    # Filtra el DataFrame para obtener solo las filas correspondientes al desarrollador dado\n",
    "    #carga el df sentiment analisis\n",
    "\n",
    "    df_temporal = df_sentimientos[df_sentimientos['developer'] == empresa_desarrolladora]#filtra el df donde las columnas correspondan al input\n",
    "\n",
    "    # Cuenta la cantidad de sentimientos 0, 1 y 2\n",
    "    count_sentimiento_0 = df_temporal[df_temporal['sentimiento'] == 0].count()\n",
    "    count_sentimiento_1 = df_temporal[df_temporal['sentimiento'] == 1].count()\n",
    "    count_sentimiento_2 = df_temporal[df_temporal['sentimiento'] == 2].count()\n",
    "\n",
    "\n",
    "    # Devuelve los resultados\n",
    "    return {'sentimiento_0': count_sentimiento_0.values[0],'sentimiento_1': count_sentimiento_1.values[0],'sentimiento_2': count_sentimiento_2.values[0]}"
   ]
  }
 ],
 "metadata": {
  "kernelspec": {
   "display_name": "Python 3",
   "language": "python",
   "name": "python3"
  },
  "language_info": {
   "codemirror_mode": {
    "name": "ipython",
    "version": 3
   },
   "file_extension": ".py",
   "mimetype": "text/x-python",
   "name": "python",
   "nbconvert_exporter": "python",
   "pygments_lexer": "ipython3",
   "version": "3.11.5"
  }
 },
 "nbformat": 4,
 "nbformat_minor": 2
}
