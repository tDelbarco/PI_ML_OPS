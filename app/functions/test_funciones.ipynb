{
 "cells": [
  {
   "cell_type": "code",
   "execution_count": 1,
   "metadata": {},
   "outputs": [],
   "source": [
    "import numpy as np \n",
    "import pandas as pd"
   ]
  },
  {
   "cell_type": "code",
   "execution_count": 2,
   "metadata": {},
   "outputs": [],
   "source": [
    "df_sg = pd.read_parquet(r\"../steam_games.parquet\")\n",
    "\n",
    "df_ud = pd.read_parquet(r\"../user_data.parquet\")\n",
    "df_ur = pd.read_parquet(r\"../reviews_dict.parquet\")\n",
    "\n",
    "df_ui = pd.read_parquet(r\"../users_items.parquet\")\n",
    "df_dict_ui = pd.read_parquet(r\"../uitems.parquet\")"
   ]
  },
  {
   "cell_type": "markdown",
   "metadata": {},
   "source": [
    "def PlayTimeGenre( genero : str ): #Debe devolver año con mas horas jugadas para dicho género.\n",
    "    for row in user_items\n",
    "        if(user_items[\"app_name\"] is in steam_games[\"app_name\"]):\n",
    "        horas_jugadas= \n",
    "    \n",
    "    return {}#Ejemplo de retorno: {\"Año de lanzamiento con más horas jugadas para Género X\" : 2013}\n",
    "\n",
    "#steam_games = genres[Action, Adventure, Racing, Simulation, Strategy],app_name, id que puede que este relacionado con item_id\n",
    "\n",
    "\n",
    "#user_items= tiene todo esto dentro de la columna items( (id item) ,  app_name/title , playtime_forever) "
   ]
  },
  {
   "cell_type": "code",
   "execution_count": null,
   "metadata": {},
   "outputs": [],
   "source": []
  }
 ],
 "metadata": {
  "kernelspec": {
   "display_name": "Python 3",
   "language": "python",
   "name": "python3"
  },
  "language_info": {
   "codemirror_mode": {
    "name": "ipython",
    "version": 3
   },
   "file_extension": ".py",
   "mimetype": "text/x-python",
   "name": "python",
   "nbconvert_exporter": "python",
   "pygments_lexer": "ipython3",
   "version": "3.11.5"
  }
 },
 "nbformat": 4,
 "nbformat_minor": 2
}
