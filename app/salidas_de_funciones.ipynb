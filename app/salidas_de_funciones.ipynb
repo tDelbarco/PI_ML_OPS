{
 "cells": [
  {
   "cell_type": "code",
   "execution_count": 1,
   "metadata": {},
   "outputs": [],
   "source": [
    "import functions.funciones as f"
   ]
  },
  {
   "cell_type": "code",
   "execution_count": 2,
   "metadata": {},
   "outputs": [],
   "source": [
    "import pandas as pd"
   ]
  },
  {
   "cell_type": "code",
   "execution_count": 18,
   "metadata": {},
   "outputs": [
    {
     "data": {
      "text/plain": [
       "{'sentimiento_0': 115, 'sentimiento_1': 148, 'sentimiento_2': 303}"
      ]
     },
     "execution_count": 18,
     "metadata": {},
     "output_type": "execute_result"
    }
   ],
   "source": [
    "f.contar_sentimientos_por_desarrollador(\"Tripwire Interactive\")"
   ]
  },
  {
   "cell_type": "code",
   "execution_count": 2,
   "metadata": {},
   "outputs": [
    {
     "data": {
      "text/plain": [
       "\"{'Negative': 1597, 'Neutral': 2558, 'Positive': 5425}\""
      ]
     },
     "execution_count": 2,
     "metadata": {},
     "output_type": "execute_result"
    }
   ],
   "source": [
    "f.contar_sentimientos_por_desarrollador(\"Valve\")"
   ]
  },
  {
   "cell_type": "code",
   "execution_count": 8,
   "metadata": {},
   "outputs": [
    {
     "data": {
      "text/plain": [
       "\"{'Negative': 32, 'Neutral': 17, 'Positive': 50}\""
      ]
     },
     "execution_count": 8,
     "metadata": {},
     "output_type": "execute_result"
    }
   ],
   "source": [
    "f.contar_sentimientos_por_desarrollador(\"Infinity Ward\")"
   ]
  },
  {
   "cell_type": "markdown",
   "metadata": {},
   "source": [
    "<hr>"
   ]
  },
  {
   "cell_type": "code",
   "execution_count": 6,
   "metadata": {},
   "outputs": [
    {
     "data": {
      "text/plain": [
       "[{'Puesto 1': '440'}, {'Puesto 2': '4000'}, {'Puesto 3': '550'}]"
      ]
     },
     "execution_count": 6,
     "metadata": {},
     "output_type": "execute_result"
    }
   ],
   "source": [
    "f.usersbestdeveloper(2013)"
   ]
  },
  {
   "cell_type": "markdown",
   "metadata": {},
   "source": [
    "<hr>"
   ]
  },
  {
   "cell_type": "code",
   "execution_count": 7,
   "metadata": {},
   "outputs": [
    {
     "data": {
      "text/plain": [
       "[{'Puesto 1': 'Valve'},\n",
       " {'Puesto 2': 'Infinity Ward'},\n",
       " {'Puesto 3': 'Jagex Limited'}]"
      ]
     },
     "execution_count": 7,
     "metadata": {},
     "output_type": "execute_result"
    }
   ],
   "source": [
    "f.usersworstdeveloper(2013)"
   ]
  },
  {
   "cell_type": "markdown",
   "metadata": {},
   "source": [
    "<hr>"
   ]
  },
  {
   "cell_type": "code",
   "execution_count": 2,
   "metadata": {},
   "outputs": [],
   "source": [
    "df_recommend = pd.read_parquet(r\"df_recommend.parquet\")"
   ]
  },
  {
   "cell_type": "code",
   "execution_count": 3,
   "metadata": {},
   "outputs": [],
   "source": [
    "anio = 2015"
   ]
  },
  {
   "cell_type": "code",
   "execution_count": 4,
   "metadata": {},
   "outputs": [],
   "source": [
    "\n",
    "df_f = df_recommend[df_recommend['posted'].str.contains(str(anio))] #filtro el df al año\n",
    "df_f = df_f[(df_f['sentimiento'] == 2) | (df_f['recommend'] == True)]#filtro el df a los que al menos poseen uno de las 2 cosas que vamos a contar\n",
    "\n",
    "conteo_sentimiento = df_f[df_f['sentimiento'] == 2].groupby('item_id')['sentimiento'].count()\n",
    "conteo_recommend = df_f[df_f['recommend'] == True].groupby('item_id')['recommend'].count()\n",
    "\n",
    "conteo_df = pd.merge( conteo_recommend,conteo_sentimiento, on='item_id', how='inner')\n",
    "\n",
    "df_f = df_f.merge(conteo_df,how=\"inner\",left_on=\"id\",right_on=\"item_id\")\n",
    "\n",
    "df_f = df_f.drop_duplicates(subset=['item_id'])\n",
    "\n",
    "df_f = df_f.sort_values(by=['recommend_y','sentimiento_y'], ascending=[False, False])\n",
    "\n",
    "result_list = [{\"Puesto \" + str(i + 1): app_name} for i, app_name in enumerate(df_f['app_name'][:3])]\n",
    "\n",
    "result_list"
   ]
  },
  {
   "cell_type": "code",
   "execution_count": 7,
   "metadata": {},
   "outputs": [
    {
     "data": {
      "text/html": [
       "<div>\n",
       "<style scoped>\n",
       "    .dataframe tbody tr th:only-of-type {\n",
       "        vertical-align: middle;\n",
       "    }\n",
       "\n",
       "    .dataframe tbody tr th {\n",
       "        vertical-align: top;\n",
       "    }\n",
       "\n",
       "    .dataframe thead th {\n",
       "        text-align: right;\n",
       "    }\n",
       "</style>\n",
       "<table border=\"1\" class=\"dataframe\">\n",
       "  <thead>\n",
       "    <tr style=\"text-align: right;\">\n",
       "      <th></th>\n",
       "      <th>posted</th>\n",
       "      <th>item_id</th>\n",
       "      <th>recommend_x</th>\n",
       "      <th>sentimiento_x</th>\n",
       "      <th>app_name</th>\n",
       "      <th>id</th>\n",
       "      <th>developer</th>\n",
       "      <th>recommend_y</th>\n",
       "      <th>sentimiento_y</th>\n",
       "    </tr>\n",
       "  </thead>\n",
       "  <tbody>\n",
       "    <tr>\n",
       "      <th>253</th>\n",
       "      <td>Posted June 19, 2015.</td>\n",
       "      <td>730.0</td>\n",
       "      <td>True</td>\n",
       "      <td>2</td>\n",
       "      <td>Counter-Strike: Global Offensive</td>\n",
       "      <td>730.0</td>\n",
       "      <td>Valve</td>\n",
       "      <td>1527</td>\n",
       "      <td>869</td>\n",
       "    </tr>\n",
       "    <tr>\n",
       "      <th>2019</th>\n",
       "      <td>Posted March 12, 2015.</td>\n",
       "      <td>440.0</td>\n",
       "      <td>True</td>\n",
       "      <td>2</td>\n",
       "      <td>Team Fortress 2</td>\n",
       "      <td>440.0</td>\n",
       "      <td>Valve</td>\n",
       "      <td>634</td>\n",
       "      <td>391</td>\n",
       "    </tr>\n",
       "    <tr>\n",
       "      <th>3078</th>\n",
       "      <td>Posted March 29, 2015.</td>\n",
       "      <td>4000.0</td>\n",
       "      <td>True</td>\n",
       "      <td>0</td>\n",
       "      <td>Garry's Mod</td>\n",
       "      <td>4000.0</td>\n",
       "      <td>Facepunch Studios</td>\n",
       "      <td>357</td>\n",
       "      <td>191</td>\n",
       "    </tr>\n",
       "    <tr>\n",
       "      <th>3546</th>\n",
       "      <td>Posted September 11, 2015.</td>\n",
       "      <td>570.0</td>\n",
       "      <td>True</td>\n",
       "      <td>2</td>\n",
       "      <td>Dota 2</td>\n",
       "      <td>570.0</td>\n",
       "      <td>None</td>\n",
       "      <td>318</td>\n",
       "      <td>168</td>\n",
       "    </tr>\n",
       "    <tr>\n",
       "      <th>3876</th>\n",
       "      <td>Posted July 20, 2015.</td>\n",
       "      <td>218620.0</td>\n",
       "      <td>True</td>\n",
       "      <td>2</td>\n",
       "      <td>PAYDAY 2</td>\n",
       "      <td>218620.0</td>\n",
       "      <td>None</td>\n",
       "      <td>291</td>\n",
       "      <td>226</td>\n",
       "    </tr>\n",
       "    <tr>\n",
       "      <th>...</th>\n",
       "      <td>...</td>\n",
       "      <td>...</td>\n",
       "      <td>...</td>\n",
       "      <td>...</td>\n",
       "      <td>...</td>\n",
       "      <td>...</td>\n",
       "      <td>...</td>\n",
       "      <td>...</td>\n",
       "      <td>...</td>\n",
       "    </tr>\n",
       "    <tr>\n",
       "      <th>14698</th>\n",
       "      <td>Posted August 29, 2015.</td>\n",
       "      <td>385630.0</td>\n",
       "      <td>True</td>\n",
       "      <td>2</td>\n",
       "      <td>Cosmic Rocket Defender</td>\n",
       "      <td>385630.0</td>\n",
       "      <td>Alien Sync Interactive</td>\n",
       "      <td>1</td>\n",
       "      <td>1</td>\n",
       "    </tr>\n",
       "    <tr>\n",
       "      <th>14699</th>\n",
       "      <td>Posted August 29, 2015.</td>\n",
       "      <td>385980.0</td>\n",
       "      <td>True</td>\n",
       "      <td>2</td>\n",
       "      <td>Scott in Space</td>\n",
       "      <td>385980.0</td>\n",
       "      <td>Ragiva Games e.K.</td>\n",
       "      <td>1</td>\n",
       "      <td>1</td>\n",
       "    </tr>\n",
       "    <tr>\n",
       "      <th>14700</th>\n",
       "      <td>Posted August 29, 2015.</td>\n",
       "      <td>369000.0</td>\n",
       "      <td>True</td>\n",
       "      <td>2</td>\n",
       "      <td>Pongo</td>\n",
       "      <td>369000.0</td>\n",
       "      <td>Drixy Games</td>\n",
       "      <td>1</td>\n",
       "      <td>1</td>\n",
       "    </tr>\n",
       "    <tr>\n",
       "      <th>14703</th>\n",
       "      <td>Posted August 11, 2015.</td>\n",
       "      <td>306040.0</td>\n",
       "      <td>True</td>\n",
       "      <td>2</td>\n",
       "      <td>The Howler</td>\n",
       "      <td>306040.0</td>\n",
       "      <td>Antanas Marcelionis,Renė Petrulienė</td>\n",
       "      <td>1</td>\n",
       "      <td>1</td>\n",
       "    </tr>\n",
       "    <tr>\n",
       "      <th>14704</th>\n",
       "      <td>Posted October 29, 2015.</td>\n",
       "      <td>307130.0</td>\n",
       "      <td>True</td>\n",
       "      <td>2</td>\n",
       "      <td>Asteria</td>\n",
       "      <td>307130.0</td>\n",
       "      <td>Legend Studio</td>\n",
       "      <td>1</td>\n",
       "      <td>1</td>\n",
       "    </tr>\n",
       "  </tbody>\n",
       "</table>\n",
       "<p>1381 rows × 9 columns</p>\n",
       "</div>"
      ],
      "text/plain": [
       "                           posted   item_id  recommend_x  sentimiento_x  \\\n",
       "253         Posted June 19, 2015.     730.0         True              2   \n",
       "2019       Posted March 12, 2015.     440.0         True              2   \n",
       "3078       Posted March 29, 2015.    4000.0         True              0   \n",
       "3546   Posted September 11, 2015.     570.0         True              2   \n",
       "3876        Posted July 20, 2015.  218620.0         True              2   \n",
       "...                           ...       ...          ...            ...   \n",
       "14698     Posted August 29, 2015.  385630.0         True              2   \n",
       "14699     Posted August 29, 2015.  385980.0         True              2   \n",
       "14700     Posted August 29, 2015.  369000.0         True              2   \n",
       "14703     Posted August 11, 2015.  306040.0         True              2   \n",
       "14704    Posted October 29, 2015.  307130.0         True              2   \n",
       "\n",
       "                               app_name        id  \\\n",
       "253    Counter-Strike: Global Offensive     730.0   \n",
       "2019                    Team Fortress 2     440.0   \n",
       "3078                        Garry's Mod    4000.0   \n",
       "3546                             Dota 2     570.0   \n",
       "3876                           PAYDAY 2  218620.0   \n",
       "...                                 ...       ...   \n",
       "14698            Cosmic Rocket Defender  385630.0   \n",
       "14699                    Scott in Space  385980.0   \n",
       "14700                             Pongo  369000.0   \n",
       "14703                        The Howler  306040.0   \n",
       "14704                           Asteria  307130.0   \n",
       "\n",
       "                                 developer  recommend_y  sentimiento_y  \n",
       "253                                  Valve         1527            869  \n",
       "2019                                 Valve          634            391  \n",
       "3078                     Facepunch Studios          357            191  \n",
       "3546                                  None          318            168  \n",
       "3876                                  None          291            226  \n",
       "...                                    ...          ...            ...  \n",
       "14698               Alien Sync Interactive            1              1  \n",
       "14699                    Ragiva Games e.K.            1              1  \n",
       "14700                          Drixy Games            1              1  \n",
       "14703  Antanas Marcelionis,Renė Petrulienė            1              1  \n",
       "14704                        Legend Studio            1              1  \n",
       "\n",
       "[1381 rows x 9 columns]"
      ]
     },
     "execution_count": 7,
     "metadata": {},
     "output_type": "execute_result"
    }
   ],
   "source": [
    "df_f"
   ]
  },
  {
   "cell_type": "code",
   "execution_count": 10,
   "metadata": {},
   "outputs": [
    {
     "data": {
      "text/plain": [
       "[{'Puesto 1': 'Counter-Strike: Global Offensive'},\n",
       " {'Puesto 2': 'Team Fortress 2'},\n",
       " {'Puesto 3': \"Garry's Mod\"}]"
      ]
     },
     "execution_count": 10,
     "metadata": {},
     "output_type": "execute_result"
    }
   ],
   "source": [
    "f.juegos_mas_recomendados(2015)"
   ]
  },
  {
   "cell_type": "markdown",
   "metadata": {},
   "source": []
  },
  {
   "cell_type": "code",
   "execution_count": 2,
   "metadata": {},
   "outputs": [
    {
     "data": {
      "text/plain": [
       "{'Año de lanzamiento con más horas jugadas para Género': 'Action',\n",
       " 'Año más jugado': 2012}"
      ]
     },
     "execution_count": 2,
     "metadata": {},
     "output_type": "execute_result"
    }
   ],
   "source": [
    "f.horas_año_genero(\"Action\")"
   ]
  }
 ],
 "metadata": {
  "kernelspec": {
   "display_name": "Python 3",
   "language": "python",
   "name": "python3"
  },
  "language_info": {
   "codemirror_mode": {
    "name": "ipython",
    "version": 3
   },
   "file_extension": ".py",
   "mimetype": "text/x-python",
   "name": "python",
   "nbconvert_exporter": "python",
   "pygments_lexer": "ipython3",
   "version": "3.11.5"
  }
 },
 "nbformat": 4,
 "nbformat_minor": 2
}
