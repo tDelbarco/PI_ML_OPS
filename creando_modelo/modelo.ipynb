{
 "cells": [
  {
   "cell_type": "markdown",
   "metadata": {},
   "source": [
    "# en este archivo cree el sistema de recomendacion pero despues de hacer ciertos cambios no me funciona correrlo aqui pero aun funciona en el archivo que se llama por la api"
   ]
  },
  {
   "cell_type": "code",
   "execution_count": 1,
   "metadata": {},
   "outputs": [],
   "source": [
    "import pandas as pd\n",
    "from sklearn.feature_extraction.text import TfidfVectorizer\n",
    "from sklearn.metrics.pairwise import linear_kernel # calcular la similitud coseno entre los juegos"
   ]
  },
  {
   "cell_type": "markdown",
   "metadata": {},
   "source": [
    "## cargamos el dataframe con item_id y genres"
   ]
  },
  {
   "cell_type": "code",
   "execution_count": 3,
   "metadata": {},
   "outputs": [],
   "source": [
    "df_juegos = pd.read_parquet(r\"../app/df_modelo.parquet\")"
   ]
  },
  {
   "cell_type": "markdown",
   "metadata": {},
   "source": [
    "    vemos que se me pasaron 2 nulos que removere para empezar con el medelo"
   ]
  },
  {
   "cell_type": "code",
   "execution_count": 4,
   "metadata": {},
   "outputs": [
    {
     "data": {
      "text/plain": [
       "genres      0\n",
       "app_name    1\n",
       "id          1\n",
       "dtype: int64"
      ]
     },
     "execution_count": 4,
     "metadata": {},
     "output_type": "execute_result"
    }
   ],
   "source": [
    "df_juegos.isna().sum()"
   ]
  },
  {
   "cell_type": "code",
   "execution_count": 5,
   "metadata": {},
   "outputs": [],
   "source": [
    "df_juegos.dropna(inplace=True)"
   ]
  },
  {
   "cell_type": "code",
   "execution_count": 6,
   "metadata": {},
   "outputs": [
    {
     "data": {
      "text/plain": [
       "genres      0\n",
       "app_name    0\n",
       "id          0\n",
       "dtype: int64"
      ]
     },
     "execution_count": 6,
     "metadata": {},
     "output_type": "execute_result"
    }
   ],
   "source": [
    "df_juegos.isna().sum()"
   ]
  },
  {
   "cell_type": "markdown",
   "metadata": {},
   "source": [
    "    visuaalisamos el df_juegos"
   ]
  },
  {
   "cell_type": "code",
   "execution_count": 7,
   "metadata": {},
   "outputs": [
    {
     "data": {
      "text/html": [
       "<div>\n",
       "<style scoped>\n",
       "    .dataframe tbody tr th:only-of-type {\n",
       "        vertical-align: middle;\n",
       "    }\n",
       "\n",
       "    .dataframe tbody tr th {\n",
       "        vertical-align: top;\n",
       "    }\n",
       "\n",
       "    .dataframe thead th {\n",
       "        text-align: right;\n",
       "    }\n",
       "</style>\n",
       "<table border=\"1\" class=\"dataframe\">\n",
       "  <thead>\n",
       "    <tr style=\"text-align: right;\">\n",
       "      <th></th>\n",
       "      <th>genres</th>\n",
       "      <th>app_name</th>\n",
       "      <th>id</th>\n",
       "    </tr>\n",
       "  </thead>\n",
       "  <tbody>\n",
       "    <tr>\n",
       "      <th>88310</th>\n",
       "      <td>Action Casual Indie Simulation Strategy</td>\n",
       "      <td>Lost Summoner Kitty</td>\n",
       "      <td>761140.0</td>\n",
       "    </tr>\n",
       "    <tr>\n",
       "      <th>88311</th>\n",
       "      <td>Free to Play Indie RPG Strategy</td>\n",
       "      <td>Ironbound</td>\n",
       "      <td>643980.0</td>\n",
       "    </tr>\n",
       "    <tr>\n",
       "      <th>88312</th>\n",
       "      <td>Casual Free to Play Indie Simulation Sports</td>\n",
       "      <td>Real Pool 3D - Poolians</td>\n",
       "      <td>670290.0</td>\n",
       "    </tr>\n",
       "    <tr>\n",
       "      <th>88313</th>\n",
       "      <td>Action Adventure Casual</td>\n",
       "      <td>弹炸人2222</td>\n",
       "      <td>767400.0</td>\n",
       "    </tr>\n",
       "    <tr>\n",
       "      <th>88314</th>\n",
       "      <td>Indie Sports Casual Action</td>\n",
       "      <td>Log Challenge</td>\n",
       "      <td>773570.0</td>\n",
       "    </tr>\n",
       "    <tr>\n",
       "      <th>...</th>\n",
       "      <td>...</td>\n",
       "      <td>...</td>\n",
       "      <td>...</td>\n",
       "    </tr>\n",
       "    <tr>\n",
       "      <th>120440</th>\n",
       "      <td>Casual Indie Simulation Strategy</td>\n",
       "      <td>Colony On Mars</td>\n",
       "      <td>773640.0</td>\n",
       "    </tr>\n",
       "    <tr>\n",
       "      <th>120441</th>\n",
       "      <td>Casual Indie Strategy</td>\n",
       "      <td>LOGistICAL: South Africa</td>\n",
       "      <td>733530.0</td>\n",
       "    </tr>\n",
       "    <tr>\n",
       "      <th>120442</th>\n",
       "      <td>Indie Racing Simulation</td>\n",
       "      <td>Russian Roads</td>\n",
       "      <td>610660.0</td>\n",
       "    </tr>\n",
       "    <tr>\n",
       "      <th>120443</th>\n",
       "      <td>Casual Indie</td>\n",
       "      <td>EXIT 2 - Directions</td>\n",
       "      <td>658870.0</td>\n",
       "    </tr>\n",
       "    <tr>\n",
       "      <th>120444</th>\n",
       "      <td>Simulation Action Indie Early Access Adventure</td>\n",
       "      <td>Maze Run VR</td>\n",
       "      <td>681550.0</td>\n",
       "    </tr>\n",
       "  </tbody>\n",
       "</table>\n",
       "<p>32131 rows × 3 columns</p>\n",
       "</div>"
      ],
      "text/plain": [
       "                                                genres  \\\n",
       "88310          Action Casual Indie Simulation Strategy   \n",
       "88311                  Free to Play Indie RPG Strategy   \n",
       "88312      Casual Free to Play Indie Simulation Sports   \n",
       "88313                          Action Adventure Casual   \n",
       "88314                       Indie Sports Casual Action   \n",
       "...                                                ...   \n",
       "120440                Casual Indie Simulation Strategy   \n",
       "120441                           Casual Indie Strategy   \n",
       "120442                         Indie Racing Simulation   \n",
       "120443                                    Casual Indie   \n",
       "120444  Simulation Action Indie Early Access Adventure   \n",
       "\n",
       "                        app_name        id  \n",
       "88310        Lost Summoner Kitty  761140.0  \n",
       "88311                  Ironbound  643980.0  \n",
       "88312    Real Pool 3D - Poolians  670290.0  \n",
       "88313                    弹炸人2222  767400.0  \n",
       "88314              Log Challenge  773570.0  \n",
       "...                          ...       ...  \n",
       "120440            Colony On Mars  773640.0  \n",
       "120441  LOGistICAL: South Africa  733530.0  \n",
       "120442             Russian Roads  610660.0  \n",
       "120443       EXIT 2 - Directions  658870.0  \n",
       "120444               Maze Run VR  681550.0  \n",
       "\n",
       "[32131 rows x 3 columns]"
      ]
     },
     "execution_count": 7,
     "metadata": {},
     "output_type": "execute_result"
    }
   ],
   "source": [
    "df_juegos\n",
    "#el archivo tiene 32k de filas y es muy pesado para pasarle todos los datos"
   ]
  },
  {
   "cell_type": "markdown",
   "metadata": {},
   "source": [
    "    incializacion  de objeto tfidfvectorizer"
   ]
  },
  {
   "cell_type": "code",
   "execution_count": 8,
   "metadata": {},
   "outputs": [],
   "source": [
    "vectorizer = TfidfVectorizer(stop_words='english',max_features=5000)\n",
    "#stop_words parametro paraque ignore las palabras comunes de el ingles como (and,the,to) ya que el tfid vectorizer va a sacar el peso de cada palabra individual y tenemos algunos como free to play y pueden haber mas \n",
    "#max_features fue mi primer intento de reducir el espacio en memoria que ocupaba la matriz #redujo casi 3/4 de lo que ocupaba de memoria"
   ]
  },
  {
   "cell_type": "markdown",
   "metadata": {},
   "source": [
    "    tomo una muestra aleatoria de los datos"
   ]
  },
  {
   "cell_type": "code",
   "execution_count": 9,
   "metadata": {},
   "outputs": [],
   "source": [
    "df_muestra = df_juegos.sample(frac=0.1,random_state=42)#tomo una muestra de 10 % de el dataframe"
   ]
  },
  {
   "cell_type": "code",
   "execution_count": 10,
   "metadata": {},
   "outputs": [
    {
     "data": {
      "text/html": [
       "<div>\n",
       "<style scoped>\n",
       "    .dataframe tbody tr th:only-of-type {\n",
       "        vertical-align: middle;\n",
       "    }\n",
       "\n",
       "    .dataframe tbody tr th {\n",
       "        vertical-align: top;\n",
       "    }\n",
       "\n",
       "    .dataframe thead th {\n",
       "        text-align: right;\n",
       "    }\n",
       "</style>\n",
       "<table border=\"1\" class=\"dataframe\">\n",
       "  <thead>\n",
       "    <tr style=\"text-align: right;\">\n",
       "      <th></th>\n",
       "      <th>genres</th>\n",
       "      <th>app_name</th>\n",
       "      <th>id</th>\n",
       "    </tr>\n",
       "  </thead>\n",
       "  <tbody>\n",
       "    <tr>\n",
       "      <th>112656</th>\n",
       "      <td>Strategy</td>\n",
       "      <td>Deserts of Kharak Expedition Guide</td>\n",
       "      <td>433240.0</td>\n",
       "    </tr>\n",
       "    <tr>\n",
       "      <th>107608</th>\n",
       "      <td>Education</td>\n",
       "      <td>Air Rage</td>\n",
       "      <td>583510.0</td>\n",
       "    </tr>\n",
       "    <tr>\n",
       "      <th>94843</th>\n",
       "      <td>Action</td>\n",
       "      <td>Furi</td>\n",
       "      <td>423230.0</td>\n",
       "    </tr>\n",
       "    <tr>\n",
       "      <th>113560</th>\n",
       "      <td>Action Indie Strategy</td>\n",
       "      <td>Awesomenauts - Wicked Coco Skin</td>\n",
       "      <td>410100.0</td>\n",
       "    </tr>\n",
       "    <tr>\n",
       "      <th>119404</th>\n",
       "      <td>Action Indie Simulation</td>\n",
       "      <td>SOL: Exodus</td>\n",
       "      <td>200410.0</td>\n",
       "    </tr>\n",
       "    <tr>\n",
       "      <th>...</th>\n",
       "      <td>...</td>\n",
       "      <td>...</td>\n",
       "      <td>...</td>\n",
       "    </tr>\n",
       "    <tr>\n",
       "      <th>110438</th>\n",
       "      <td>Adventure Indie</td>\n",
       "      <td>Rising Islands</td>\n",
       "      <td>452450.0</td>\n",
       "    </tr>\n",
       "    <tr>\n",
       "      <th>107010</th>\n",
       "      <td>Indie RPG Strategy Early Access</td>\n",
       "      <td>Wizards and Warlords</td>\n",
       "      <td>567080.0</td>\n",
       "    </tr>\n",
       "    <tr>\n",
       "      <th>101572</th>\n",
       "      <td>Action Adventure Simulation Early Access</td>\n",
       "      <td>Live And Learn</td>\n",
       "      <td>757900.0</td>\n",
       "    </tr>\n",
       "    <tr>\n",
       "      <th>110748</th>\n",
       "      <td>Casual</td>\n",
       "      <td>Evolution Planet: Gold Edition</td>\n",
       "      <td>495090.0</td>\n",
       "    </tr>\n",
       "    <tr>\n",
       "      <th>113962</th>\n",
       "      <td>Strategy</td>\n",
       "      <td>Company of Heroes 2 - The British Forces</td>\n",
       "      <td>365820.0</td>\n",
       "    </tr>\n",
       "  </tbody>\n",
       "</table>\n",
       "<p>3213 rows × 3 columns</p>\n",
       "</div>"
      ],
      "text/plain": [
       "                                          genres  \\\n",
       "112656                                  Strategy   \n",
       "107608                                 Education   \n",
       "94843                                     Action   \n",
       "113560                     Action Indie Strategy   \n",
       "119404                   Action Indie Simulation   \n",
       "...                                          ...   \n",
       "110438                           Adventure Indie   \n",
       "107010           Indie RPG Strategy Early Access   \n",
       "101572  Action Adventure Simulation Early Access   \n",
       "110748                                    Casual   \n",
       "113962                                  Strategy   \n",
       "\n",
       "                                        app_name        id  \n",
       "112656        Deserts of Kharak Expedition Guide  433240.0  \n",
       "107608                                  Air Rage  583510.0  \n",
       "94843                                       Furi  423230.0  \n",
       "113560           Awesomenauts - Wicked Coco Skin  410100.0  \n",
       "119404                               SOL: Exodus  200410.0  \n",
       "...                                          ...       ...  \n",
       "110438                            Rising Islands  452450.0  \n",
       "107010                      Wizards and Warlords  567080.0  \n",
       "101572                            Live And Learn  757900.0  \n",
       "110748            Evolution Planet: Gold Edition  495090.0  \n",
       "113962  Company of Heroes 2 - The British Forces  365820.0  \n",
       "\n",
       "[3213 rows x 3 columns]"
      ]
     },
     "execution_count": 10,
     "metadata": {},
     "output_type": "execute_result"
    }
   ],
   "source": [
    "df_muestra"
   ]
  },
  {
   "cell_type": "markdown",
   "metadata": {},
   "source": [
    "    vuelvo a crear los indices"
   ]
  },
  {
   "cell_type": "code",
   "execution_count": 11,
   "metadata": {},
   "outputs": [],
   "source": [
    "df_muestra = df_muestra.reset_index(drop=True)"
   ]
  },
  {
   "cell_type": "code",
   "execution_count": 12,
   "metadata": {},
   "outputs": [
    {
     "data": {
      "text/html": [
       "<div>\n",
       "<style scoped>\n",
       "    .dataframe tbody tr th:only-of-type {\n",
       "        vertical-align: middle;\n",
       "    }\n",
       "\n",
       "    .dataframe tbody tr th {\n",
       "        vertical-align: top;\n",
       "    }\n",
       "\n",
       "    .dataframe thead th {\n",
       "        text-align: right;\n",
       "    }\n",
       "</style>\n",
       "<table border=\"1\" class=\"dataframe\">\n",
       "  <thead>\n",
       "    <tr style=\"text-align: right;\">\n",
       "      <th></th>\n",
       "      <th>genres</th>\n",
       "      <th>app_name</th>\n",
       "      <th>id</th>\n",
       "    </tr>\n",
       "  </thead>\n",
       "  <tbody>\n",
       "    <tr>\n",
       "      <th>0</th>\n",
       "      <td>Strategy</td>\n",
       "      <td>Deserts of Kharak Expedition Guide</td>\n",
       "      <td>433240.0</td>\n",
       "    </tr>\n",
       "    <tr>\n",
       "      <th>1</th>\n",
       "      <td>Education</td>\n",
       "      <td>Air Rage</td>\n",
       "      <td>583510.0</td>\n",
       "    </tr>\n",
       "    <tr>\n",
       "      <th>2</th>\n",
       "      <td>Action</td>\n",
       "      <td>Furi</td>\n",
       "      <td>423230.0</td>\n",
       "    </tr>\n",
       "    <tr>\n",
       "      <th>3</th>\n",
       "      <td>Action Indie Strategy</td>\n",
       "      <td>Awesomenauts - Wicked Coco Skin</td>\n",
       "      <td>410100.0</td>\n",
       "    </tr>\n",
       "    <tr>\n",
       "      <th>4</th>\n",
       "      <td>Action Indie Simulation</td>\n",
       "      <td>SOL: Exodus</td>\n",
       "      <td>200410.0</td>\n",
       "    </tr>\n",
       "    <tr>\n",
       "      <th>...</th>\n",
       "      <td>...</td>\n",
       "      <td>...</td>\n",
       "      <td>...</td>\n",
       "    </tr>\n",
       "    <tr>\n",
       "      <th>3208</th>\n",
       "      <td>Adventure Indie</td>\n",
       "      <td>Rising Islands</td>\n",
       "      <td>452450.0</td>\n",
       "    </tr>\n",
       "    <tr>\n",
       "      <th>3209</th>\n",
       "      <td>Indie RPG Strategy Early Access</td>\n",
       "      <td>Wizards and Warlords</td>\n",
       "      <td>567080.0</td>\n",
       "    </tr>\n",
       "    <tr>\n",
       "      <th>3210</th>\n",
       "      <td>Action Adventure Simulation Early Access</td>\n",
       "      <td>Live And Learn</td>\n",
       "      <td>757900.0</td>\n",
       "    </tr>\n",
       "    <tr>\n",
       "      <th>3211</th>\n",
       "      <td>Casual</td>\n",
       "      <td>Evolution Planet: Gold Edition</td>\n",
       "      <td>495090.0</td>\n",
       "    </tr>\n",
       "    <tr>\n",
       "      <th>3212</th>\n",
       "      <td>Strategy</td>\n",
       "      <td>Company of Heroes 2 - The British Forces</td>\n",
       "      <td>365820.0</td>\n",
       "    </tr>\n",
       "  </tbody>\n",
       "</table>\n",
       "<p>3213 rows × 3 columns</p>\n",
       "</div>"
      ],
      "text/plain": [
       "                                        genres  \\\n",
       "0                                     Strategy   \n",
       "1                                    Education   \n",
       "2                                       Action   \n",
       "3                        Action Indie Strategy   \n",
       "4                      Action Indie Simulation   \n",
       "...                                        ...   \n",
       "3208                           Adventure Indie   \n",
       "3209           Indie RPG Strategy Early Access   \n",
       "3210  Action Adventure Simulation Early Access   \n",
       "3211                                    Casual   \n",
       "3212                                  Strategy   \n",
       "\n",
       "                                      app_name        id  \n",
       "0           Deserts of Kharak Expedition Guide  433240.0  \n",
       "1                                     Air Rage  583510.0  \n",
       "2                                         Furi  423230.0  \n",
       "3              Awesomenauts - Wicked Coco Skin  410100.0  \n",
       "4                                  SOL: Exodus  200410.0  \n",
       "...                                        ...       ...  \n",
       "3208                            Rising Islands  452450.0  \n",
       "3209                      Wizards and Warlords  567080.0  \n",
       "3210                            Live And Learn  757900.0  \n",
       "3211            Evolution Planet: Gold Edition  495090.0  \n",
       "3212  Company of Heroes 2 - The British Forces  365820.0  \n",
       "\n",
       "[3213 rows x 3 columns]"
      ]
     },
     "execution_count": 12,
     "metadata": {},
     "output_type": "execute_result"
    }
   ],
   "source": [
    "df_muestra"
   ]
  },
  {
   "cell_type": "markdown",
   "metadata": {},
   "source": [
    "<hr>"
   ]
  },
  {
   "cell_type": "markdown",
   "metadata": {},
   "source": [
    "    creando matriz_tfidf con la columna genres(generos) de la muestra"
   ]
  },
  {
   "cell_type": "code",
   "execution_count": 13,
   "metadata": {},
   "outputs": [],
   "source": [
    "matriz_tfidf = vectorizer.fit_transform(df_muestra[\"genres\"])"
   ]
  },
  {
   "cell_type": "markdown",
   "metadata": {},
   "source": [
    "    calculando la similitud entre todas las columnas de la matriz de generos"
   ]
  },
  {
   "cell_type": "code",
   "execution_count": 14,
   "metadata": {},
   "outputs": [],
   "source": [
    "similitud_juegos = linear_kernel(matriz_tfidf, matriz_tfidf) #calcula la similitud entre los juegos a partir de la matriz tfidf"
   ]
  },
  {
   "cell_type": "markdown",
   "metadata": {},
   "source": [
    "    funcion para obtener recomendaciones"
   ]
  },
  {
   "cell_type": "code",
   "execution_count": 26,
   "metadata": {},
   "outputs": [],
   "source": [
    "def obtener_recomendaciones(item_id_ingresado, n=5):\n",
    "    try:\n",
    "        item_id_ingresado = float(item_id_ingresado)\n",
    "        indice_juego_ingresado = df_muestra[df_muestra['id'] == item_id_ingresado].index[0]\n",
    "    except IndexError:\n",
    "        return f\"El juego con ID {int(item_id_ingresado)} no está en el conjunto de datos de entrenamiento.\"\n",
    "\n",
    "    similitudes = similitud_juegos[indice_juego_ingresado]\n",
    "\n",
    "    # Obtener los índices de los juegos más similares\n",
    "    indices_similares = similitudes.argsort()[::-1][1:n+1]\n",
    "\n",
    "    # Obtener los item_id de los juegos recomendados\n",
    "    juegos_recomendados = df_muestra.loc[indices_similares, 'app_name'].tolist()\n",
    "\n",
    "    return str({\"recomendaciones\": juegos_recomendados})"
   ]
  },
  {
   "cell_type": "code",
   "execution_count": 50,
   "metadata": {},
   "outputs": [],
   "source": [
    "#intento de lograr que cuando se le pase un item que no se encuentra en la muestra se busque en el dataframe completo(df_juegos) y si se encuentra se agrege a la muestra  para volver a crear la matriz tfidf y volver a calcular la similitud con linear kernel\n",
    "#pero al parecer no solo no funciona si no que tambien vacia los dataframe que estamos usando y hay que volver a cargar todo\n",
    "#no voy a intentar seguir con  esto por que eh de seguir completando el eda e intentar hacer laa recomendacion de  usuario pero esta vez de una manera distinta \n",
    "\n",
    "#def obtener_recomendaciones(item_id_ingresado, n=5):\n",
    "#    try:\n",
    "#        item_id_ingresado = float(item_id_ingresado)\n",
    "#        indice_juego_ingresado = df_muestra[df_muestra['id'] == item_id_ingresado].index[0]\n",
    "#\n",
    "#    except IndexError:\n",
    "#        nuevo_item = df_juegos[df_juegos[\"id\"] == item_id_ingresado]\n",
    "#\n",
    "#\n",
    "#        if not nuevo_item.empty:\n",
    "#            df_muestra = pd.concat([df_muestra, nuevo_item], ignore_index=True)\n",
    "#\n",
    "#            matriz_tfidf = vectorizer.fit_transform(df_muestra[\"genres\"])\n",
    "#\n",
    "#            try:\n",
    "#                indice_juego_ingresado = df_muestra[df_muestra['id'] == item_id_ingresado].index[0]\n",
    "#\n",
    "#                similitud_juegos = linear_kernel(matriz_tfidf, matriz_tfidf) #calcula la similitud entre los juegos a partir de la nueva matriz tfidf\n",
    "#                similitudes = similitud_juegos[indice_juego_ingresado]\n",
    "#\n",
    "#                # Obtener los índices de los juegos más similares\n",
    "#                indices_similares = similitudes.argsort()[::-1][1:n+1]#empieza desde el 1 hastas el 6 sin incluirlo\n",
    "#\n",
    "#                # Obtener los item_id de los juegos recomendados\n",
    "#                juegos_recomendados = df_muestra.loc[indices_similares, 'app_name'].tolist()\n",
    "#\n",
    "#                return juegos_recomendados\n",
    "#            except IndexError:\n",
    "#                return f\"El juego con ID {int(item_id_ingresado)} no existe en el datasets de steam.\"\n",
    "#\n",
    "#    similitudes = similitud_juegos[indice_juego_ingresado]\n",
    "#\n",
    "#    # Obtener los índices de los juegos más similares\n",
    "#    indices_similares = similitudes.argsort()[::-1][1:n+1]#empieza desde el 1 hastas el 6 sin incluirlo\n",
    "#\n",
    "#    # Obtener los item_id de los juegos recomendados\n",
    "#    juegos_recomendados = df_muestra.loc[indices_similares, 'app_name'].tolist()\n",
    "#\n",
    "#    return juegos_recomendados"
   ]
  },
  {
   "cell_type": "code",
   "execution_count": 27,
   "metadata": {},
   "outputs": [
    {
     "name": "stdout",
     "output_type": "stream",
     "text": [
      "El juego con ID 295201 no está en el conjunto de datos de entrenamiento.\n"
     ]
    }
   ],
   "source": [
    "recomendaciones = obtener_recomendaciones(295201, n=5)\n",
    "print(recomendaciones)"
   ]
  },
  {
   "cell_type": "code",
   "execution_count": 25,
   "metadata": {},
   "outputs": [
    {
     "data": {
      "text/plain": [
       "'El juego con ID 355250 no está en el conjunto de datos de entrenamiento.'"
      ]
     },
     "execution_count": 25,
     "metadata": {},
     "output_type": "execute_result"
    }
   ],
   "source": [
    "obtener_recomendaciones(355250, n=5) #  star wars"
   ]
  },
  {
   "cell_type": "markdown",
   "metadata": {},
   "source": [
    "    #el juego que ingresamos es star wars\n",
    "    nos recomienda naruto shippuden juego de accion trata sobre la 4 guerra ninja\n",
    "    golden kagura pigtail juego de accion\n",
    "    psychonauts juego de accion y aventura\n",
    "    call of duty  un juego de accion ,disparos ,guerra\n",
    "    the little war juego de guerra por lo que se lee en el nombre"
   ]
  },
  {
   "cell_type": "markdown",
   "metadata": {},
   "source": [
    "<hr>"
   ]
  },
  {
   "cell_type": "code",
   "execution_count": 126,
   "metadata": {},
   "outputs": [
    {
     "data": {
      "text/html": [
       "<div>\n",
       "<style scoped>\n",
       "    .dataframe tbody tr th:only-of-type {\n",
       "        vertical-align: middle;\n",
       "    }\n",
       "\n",
       "    .dataframe tbody tr th {\n",
       "        vertical-align: top;\n",
       "    }\n",
       "\n",
       "    .dataframe thead th {\n",
       "        text-align: right;\n",
       "    }\n",
       "</style>\n",
       "<table border=\"1\" class=\"dataframe\">\n",
       "  <thead>\n",
       "    <tr style=\"text-align: right;\">\n",
       "      <th></th>\n",
       "      <th>genres</th>\n",
       "      <th>app_name</th>\n",
       "      <th>id</th>\n",
       "    </tr>\n",
       "  </thead>\n",
       "  <tbody>\n",
       "    <tr>\n",
       "      <th>115227</th>\n",
       "      <td>Action</td>\n",
       "      <td>STAR WARS™: TIE Fighter Special Edition</td>\n",
       "      <td>355250.0</td>\n",
       "    </tr>\n",
       "  </tbody>\n",
       "</table>\n",
       "</div>"
      ],
      "text/plain": [
       "        genres                                 app_name        id\n",
       "115227  Action  STAR WARS™: TIE Fighter Special Edition  355250.0"
      ]
     },
     "execution_count": 126,
     "metadata": {},
     "output_type": "execute_result"
    }
   ],
   "source": [
    "df_juegos[df_juegos[\"id\"] == 355250]\n"
   ]
  },
  {
   "cell_type": "code",
   "execution_count": null,
   "metadata": {},
   "outputs": [],
   "source": [
    "df_muestra.aa"
   ]
  }
 ],
 "metadata": {
  "kernelspec": {
   "display_name": "Python 3",
   "language": "python",
   "name": "python3"
  },
  "language_info": {
   "codemirror_mode": {
    "name": "ipython",
    "version": 3
   },
   "file_extension": ".py",
   "mimetype": "text/x-python",
   "name": "python",
   "nbconvert_exporter": "python",
   "pygments_lexer": "ipython3",
   "version": "3.11.5"
  }
 },
 "nbformat": 4,
 "nbformat_minor": 2
}
